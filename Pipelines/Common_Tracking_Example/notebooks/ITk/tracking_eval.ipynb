{
 "cells": [
  {
   "cell_type": "code",
   "execution_count": 1,
   "id": "f5ecf8bd-297c-45d1-878c-8baea8d924f0",
   "metadata": {},
   "outputs": [],
   "source": [
    "import cuml\n",
    "import cugraph\n",
    "import cudf\n",
    "import os\n",
    "import torch\n",
    "import cupy as cp\n",
    "from onetrack import TrackingData \n",
    "from onetrack.file_utils import list_files"
   ]
  },
  {
   "cell_type": "markdown",
   "id": "fee90545-9f37-4919-bc13-a9154359ef5d",
   "metadata": {},
   "source": [
    "## Normal Tracking Performance"
   ]
  },
  {
   "cell_type": "code",
   "execution_count": 47,
   "id": "3386dddf-57f2-47d8-acff-80c8a81c53c0",
   "metadata": {},
   "outputs": [],
   "source": [
    "event_path = \"/global/cfs/cdirs/m3443/data/ITk-upgrade/processed/hetero_gnn_processed/0GeV_v3/\""
   ]
  },
  {
   "cell_type": "code",
   "execution_count": 48,
   "id": "1f247bfa-7255-4cd7-86ce-0f67f26b1c20",
   "metadata": {},
   "outputs": [],
   "source": [
    "file_list = list_files(os.path.join(event_path, \"test\"))[:100]"
   ]
  },
  {
   "cell_type": "code",
   "execution_count": 49,
   "id": "9845c8c4-a192-4bb6-8db9-e8996ec7b0c0",
   "metadata": {},
   "outputs": [
    {
     "data": {
      "application/vnd.jupyter.widget-view+json": {
       "model_id": "f049beddd4c343e1a83faf112c3a5e92",
       "version_major": 2,
       "version_minor": 0
      },
      "text/plain": [
       "  0%|          | 0/10 [00:00<?, ?it/s]"
      ]
     },
     "metadata": {},
     "output_type": "display_data"
    },
    {
     "data": {
      "application/vnd.jupyter.widget-view+json": {
       "model_id": "a0109e18f721409ebfda05e0d3732323",
       "version_major": 2,
       "version_minor": 0
      },
      "text/plain": [
       "  0%|          | 0/10 [00:00<?, ?it/s]"
      ]
     },
     "metadata": {},
     "output_type": "display_data"
    },
    {
     "data": {
      "application/vnd.jupyter.widget-view+json": {
       "model_id": "a27bc8bd60224bc2adf52cddfe658f19",
       "version_major": 2,
       "version_minor": 0
      },
      "text/plain": [
       "  0%|          | 0/10 [00:00<?, ?it/s]"
      ]
     },
     "metadata": {},
     "output_type": "display_data"
    }
   ],
   "source": [
    "tracking_data = TrackingData(file_list)\n",
    "tracking_data.build_candidates(building_method=\"CC\", sanity_check=False, score_cut = 0.01)"
   ]
  },
  {
   "cell_type": "code",
   "execution_count": 50,
   "id": "6d1c83f1-11e5-4b0a-94cf-3aef55392dd4",
   "metadata": {},
   "outputs": [
    {
     "data": {
      "application/vnd.jupyter.widget-view+json": {
       "model_id": "0b6c6d3b0d65491abffd8ecad32be3a3",
       "version_major": 2,
       "version_minor": 0
      },
      "text/plain": [
       "  0%|          | 0/10 [00:00<?, ?it/s]"
      ]
     },
     "metadata": {},
     "output_type": "display_data"
    },
    {
     "name": "stdout",
     "output_type": "stream",
     "text": [
      "{'building_method': 'CC', 'evaluation_method': 'matching', 'eff': 0.5713027393640447, 'single_eff': 0.8028714877124989, 'fr': 0.27385870820395697, 'dup': 0.025456131797069466}\n",
      "n_true_tracks: 11353, n_reco_tracks: 38969, n_matched_particles: 6486, n_matched_tracks: 28297, n_duplicated_tracks: 992\n"
     ]
    }
   ],
   "source": [
    "matching_config = {\n",
    "    \"min_hits_truth\": 9,\n",
    "    \"min_hits_reco\": 5,\n",
    "    \"frac_reco_matched\": 0.5,\n",
    "    \"frac_truth_matched\": 0.5,\n",
    "}\n",
    "tracking_data.evaluate_candidates(evaluation_method=\"matching\", **matching_config)"
   ]
  },
  {
   "cell_type": "markdown",
   "id": "63f327b7-30c0-4f84-8ec9-3280fe86a2d7",
   "metadata": {
    "tags": []
   },
   "source": [
    "## Generate Maximum Spanning Trees"
   ]
  },
  {
   "cell_type": "code",
   "execution_count": null,
   "id": "0b1867ee-4d52-4aa4-a0d9-bc2a4a994822",
   "metadata": {},
   "outputs": [],
   "source": [
    "for i, file in enumerate(file_list):\n",
    "    event = torch.load(file)\n",
    "    data_frame = cudf.DataFrame()\n",
    "    data_frame['src'] = cp.asarray(event.edge_index[0])\n",
    "    data_frame['dst'] = cp.asarray(event.edge_index[1])\n",
    "    data_frame['weight'] = cp.asarray(1 - event.scores)\n",
    "    G = cugraph.Graph()\n",
    "    G.from_cudf_edgelist(data_frame, source='src', destination='dst', edge_attr='weight', renumber=False)\n",
    "    G = cugraph.tree.minimum_spanning_tree(G, algorithm='boruvka')\n",
    "    df = G.view_edge_list()\n",
    "    event.edge_index = torch.tensor(cp.vstack([df['src'].to_cupy(), df['dst'].to_cupy()])).long()\n",
    "    event.scores = torch.tensor(1 - df['weights'].to_cupy()).float()\n",
    "    torch.save(event, \"/global/cfs/cdirs/m3443/usr/ryanliu/tracking_eff/minimum_spanning_tree/test/{}\".format(i))"
   ]
  },
  {
   "cell_type": "markdown",
   "id": "9c5371ad-0a3a-499d-9b64-ab0ba7b31d3b",
   "metadata": {
    "tags": []
   },
   "source": [
    "## Compute Performance"
   ]
  },
  {
   "cell_type": "code",
   "execution_count": 51,
   "id": "225bd4b4-b246-487d-99c9-9c29575d7544",
   "metadata": {},
   "outputs": [],
   "source": [
    "event_path = \"/global/cfs/cdirs/m3443/usr/ryanliu/tracking_eff/minimum_spanning_tree/\""
   ]
  },
  {
   "cell_type": "code",
   "execution_count": 52,
   "id": "eccd143e-eceb-4094-8a40-618832b22132",
   "metadata": {},
   "outputs": [],
   "source": [
    "file_list = list_files(os.path.join(event_path, \"test\"))[:100]"
   ]
  },
  {
   "cell_type": "code",
   "execution_count": 53,
   "id": "255aea85-3b28-4607-b63a-0a2f78c810d9",
   "metadata": {},
   "outputs": [
    {
     "data": {
      "application/vnd.jupyter.widget-view+json": {
       "model_id": "37c829c90add4ed791181f7e8f8cbcc9",
       "version_major": 2,
       "version_minor": 0
      },
      "text/plain": [
       "  0%|          | 0/10 [00:00<?, ?it/s]"
      ]
     },
     "metadata": {},
     "output_type": "display_data"
    },
    {
     "data": {
      "application/vnd.jupyter.widget-view+json": {
       "model_id": "f086cd6086354940b36cbc59f259258f",
       "version_major": 2,
       "version_minor": 0
      },
      "text/plain": [
       "  0%|          | 0/10 [00:00<?, ?it/s]"
      ]
     },
     "metadata": {},
     "output_type": "display_data"
    },
    {
     "data": {
      "application/vnd.jupyter.widget-view+json": {
       "model_id": "5bf6f60283e748218100e542917d5f93",
       "version_major": 2,
       "version_minor": 0
      },
      "text/plain": [
       "  0%|          | 0/10 [00:00<?, ?it/s]"
      ]
     },
     "metadata": {},
     "output_type": "display_data"
    }
   ],
   "source": [
    "tracking_data = TrackingData(file_list)\n",
    "tracking_data.build_candidates(building_method=\"CC\", sanity_check=False, score_cut = 0.01)"
   ]
  },
  {
   "cell_type": "code",
   "execution_count": 54,
   "id": "3f90229e-12f6-45bd-9940-6dd3f1b2fc02",
   "metadata": {},
   "outputs": [
    {
     "data": {
      "application/vnd.jupyter.widget-view+json": {
       "model_id": "47cb9a9de59242b0a07d08b6197f646c",
       "version_major": 2,
       "version_minor": 0
      },
      "text/plain": [
       "  0%|          | 0/10 [00:00<?, ?it/s]"
      ]
     },
     "metadata": {},
     "output_type": "display_data"
    },
    {
     "name": "stdout",
     "output_type": "stream",
     "text": [
      "{'building_method': 'CC', 'evaluation_method': 'matching', 'eff': 0.5713027393640447, 'single_eff': 0.8032238174931736, 'fr': 0.27389597392933207, 'dup': 0.025454825382977084}\n",
      "n_true_tracks: 11353, n_reco_tracks: 38971, n_matched_particles: 6486, n_matched_tracks: 28297, n_duplicated_tracks: 992\n"
     ]
    }
   ],
   "source": [
    "matching_config = {\n",
    "    \"min_hits_truth\": 9,\n",
    "    \"min_hits_reco\": 5,\n",
    "    \"frac_reco_matched\": 0.5,\n",
    "    \"frac_truth_matched\": 0.5,\n",
    "}\n",
    "tracking_data.evaluate_candidates(evaluation_method=\"matching\", **matching_config)"
   ]
  },
  {
   "cell_type": "code",
   "execution_count": null,
   "id": "17e8a41f-48fc-4db6-aa69-427f67f563f9",
   "metadata": {},
   "outputs": [],
   "source": []
  }
 ],
 "metadata": {
  "kernelspec": {
   "display_name": "RAPIDs",
   "language": "python",
   "name": "rapids"
  },
  "language_info": {
   "codemirror_mode": {
    "name": "ipython",
    "version": 3
   },
   "file_extension": ".py",
   "mimetype": "text/x-python",
   "name": "python",
   "nbconvert_exporter": "python",
   "pygments_lexer": "ipython3",
   "version": "3.8.13"
  }
 },
 "nbformat": 4,
 "nbformat_minor": 5
}
