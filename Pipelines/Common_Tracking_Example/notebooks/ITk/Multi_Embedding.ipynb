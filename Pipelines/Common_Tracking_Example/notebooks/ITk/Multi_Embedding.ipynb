{
 "cells": [
  {
   "cell_type": "markdown",
   "metadata": {},
   "source": [
    "# Example of Metric Learning in Embedded Space"
   ]
  },
  {
   "cell_type": "code",
   "execution_count": 1,
   "metadata": {},
   "outputs": [],
   "source": [
    "%load_ext autoreload\n",
    "%autoreload 2"
   ]
  },
  {
   "cell_type": "code",
   "execution_count": 2,
   "metadata": {},
   "outputs": [],
   "source": [
    "# System imports\n",
    "import os\n",
    "import sys\n",
    "import yaml\n",
    "\n",
    "# External imports\n",
    "import matplotlib.pyplot as plt\n",
    "import scipy as sp\n",
    "from sklearn.decomposition import PCA\n",
    "from sklearn.metrics import auc\n",
    "import numpy as np\n",
    "import pandas as pd\n",
    "import seaborn as sns\n",
    "import torch\n",
    "from pytorch_lightning.loggers import TensorBoardLogger, WandbLogger\n",
    "from pytorch_lightning import Trainer\n",
    "import frnn\n",
    "\n",
    "sys.path.append('../..')\n",
    "\n",
    "from LightningModules.Embedding.Models.multi_layerless_embedding import MultiLayerlessEmbedding\n",
    "import copy\n",
    "from LightningModules.Embedding.utils import multi_build_edges, graph_intersection\n",
    "\n",
    "device = \"cuda\" if torch.cuda.is_available() else \"cpu\""
   ]
  },
  {
   "cell_type": "markdown",
   "metadata": {},
   "source": [
    "## Pytorch Lightning Model"
   ]
  },
  {
   "cell_type": "markdown",
   "metadata": {},
   "source": [
    "In this example notebook, we will use an approach to ML called Pytorch Lightning. Pytorch is a library like Tensorflow, which is very popular in ML engineering. It's main appeal is foolproof tracking of gradients for backpropagation, and very easy manipulation of tensors on and off GPUs. \n",
    "\n",
    "Pytorch Lightning is an extension of Pytorch that makes some decisions about the best-practices for training. Instead of you writing the training loop yourself, and moving things on and off a GPU, it handles much of this for you. You write all the data loading logic, the loss functions, etc. into a `LightningModule` and then hand this module to a `Trainer`. Together, the module and trainer are the two objects that allow training and inference. "
   ]
  },
  {
   "cell_type": "markdown",
   "metadata": {},
   "source": [
    "So we start by importing a class that we have written ourselves, in this case a LightningModule that is in charge of loading TrackML (Codalab) data, and training and validating an embedding/metric learning model. "
   ]
  },
  {
   "cell_type": "markdown",
   "metadata": {},
   "source": [
    "### Construct PyLightning model"
   ]
  },
  {
   "cell_type": "markdown",
   "metadata": {},
   "source": [
    "An ML model typically has many knobs to turn, as well as locations of data, some training preferences, and so on. For convenience, let's put all of these parameters into a YAML file and load it."
   ]
  },
  {
   "cell_type": "code",
   "execution_count": 3,
   "metadata": {},
   "outputs": [],
   "source": [
    "with open(\"Multi_embedding.yaml\") as f:\n",
    "        hparams = yaml.load(f, Loader=yaml.FullLoader)"
   ]
  },
  {
   "cell_type": "markdown",
   "metadata": {},
   "source": [
    "We plug these parameters into a constructor of the `LayerlessEmbedding` Lightning Module. This doesn't **do** anything yet - merely creates the object."
   ]
  },
  {
   "cell_type": "code",
   "execution_count": 4,
   "metadata": {},
   "outputs": [],
   "source": [
    "model = MultiLayerlessEmbedding(hparams)"
   ]
  },
  {
   "cell_type": "markdown",
   "metadata": {},
   "source": [
    "## Metric Learning"
   ]
  },
  {
   "cell_type": "markdown",
   "metadata": {},
   "source": [
    "### Train embedding"
   ]
  },
  {
   "cell_type": "markdown",
   "metadata": {},
   "source": [
    "Finally! Let's train! We instantiate a `Trainer` class that knows things like which hardware to work with, how long to train for, and a **bunch** of default options that we ignore here. Check out the Trainer class docs in Pytorch Lightning. Suffice it to say that it clears away much repetitive boilerplate in training code."
   ]
  },
  {
   "cell_type": "code",
   "execution_count": 5,
   "metadata": {},
   "outputs": [],
   "source": [
    "from pytorch_lightning.callbacks import ModelCheckpoint\n",
    "\n",
    "checkpoint_callback = ModelCheckpoint(\n",
    "    monitor='eff@1.0',\n",
    "    mode=\"max\",\n",
    "    save_top_k=2,\n",
    "    save_last=True)"
   ]
  },
  {
   "cell_type": "code",
   "execution_count": 6,
   "metadata": {
    "scrolled": true
   },
   "outputs": [
    {
     "name": "stderr",
     "output_type": "stream",
     "text": [
      "GPU available: True, used: True\n",
      "TPU available: False, using: 0 TPU cores\n",
      "IPU available: False, using: 0 IPUs\n",
      "LOCAL_RANK: 0 - CUDA_VISIBLE_DEVICES: [0]\n",
      "Failed to detect the name of this notebook, you can set it manually with the WANDB_NOTEBOOK_NAME environment variable to enable code saving.\n",
      "\u001b[34m\u001b[1mwandb\u001b[0m: Currently logged in as: \u001b[33mexatrkx\u001b[0m (use `wandb login --relogin` to force relogin)\n"
     ]
    },
    {
     "data": {
      "text/html": [
       "\n",
       "                    Syncing run <strong><a href=\"https://wandb.ai/exatrkx/ITk_0.5GeV/runs/22r0ts5c\" target=\"_blank\">flowing-butterfly-84</a></strong> to <a href=\"https://wandb.ai/exatrkx/ITk_0.5GeV\" target=\"_blank\">Weights & Biases</a> (<a href=\"https://docs.wandb.com/integrations/jupyter.html\" target=\"_blank\">docs</a>).<br/>\n",
       "\n",
       "                "
      ],
      "text/plain": [
       "<IPython.core.display.HTML object>"
      ]
     },
     "metadata": {},
     "output_type": "display_data"
    },
    {
     "name": "stderr",
     "output_type": "stream",
     "text": [
      "\n",
      "  | Name            | Type       | Params\n",
      "-----------------------------------------------\n",
      "0 | layers          | ModuleList | 4.2 M \n",
      "1 | n_spaces_layers | ModuleList | 8.2 K \n",
      "2 | act             | GELU       | 0     \n",
      "-----------------------------------------------\n",
      "4.2 M     Trainable params\n",
      "0         Non-trainable params\n",
      "4.2 M     Total params\n",
      "16.876    Total estimated model params size (MB)\n"
     ]
    },
    {
     "name": "stdout",
     "output_type": "stream",
     "text": [
      "Validation sanity check:   0%|          | 0/2 [00:00<?, ?it/s]"
     ]
    },
    {
     "name": "stderr",
     "output_type": "stream",
     "text": [
      "/global/homes/r/ryanliu/.conda/envs/gnn/lib/python3.8/site-packages/pytorch_lightning/trainer/data_loading.py:116: UserWarning: The dataloader, val_dataloader 0, does not have many workers which may be a bottleneck. Consider increasing the value of the `num_workers` argument` (try 256 which is the number of cpus on this machine) in the `DataLoader` init to improve performance.\n",
      "  rank_zero_warn(\n"
     ]
    },
    {
     "name": "stdout",
     "output_type": "stream",
     "text": [
      "tensor([1., 1., 1.], device='cuda:0')\n",
      "Validation sanity check:  50%|█████     | 1/2 [00:06<00:06,  6.85s/it]"
     ]
    },
    {
     "name": "stderr",
     "output_type": "stream",
     "text": [
      "/global/u2/r/ryanliu/Tracking-ML-Exa.TrkX/Pipelines/Common_Tracking_Example/notebooks/ITk/../../LightningModules/Embedding/multi_embedding_base.py:285: UserWarning: To copy construct from a tensor, it is recommended to use sourceTensor.clone().detach() or sourceTensor.clone().detach().requires_grad_(True), rather than torch.tensor(sourceTensor).\n",
      "  eff = torch.tensor(cluster_true_positive / cluster_true)\n",
      "/global/u2/r/ryanliu/Tracking-ML-Exa.TrkX/Pipelines/Common_Tracking_Example/notebooks/ITk/../../LightningModules/Embedding/multi_embedding_base.py:286: UserWarning: To copy construct from a tensor, it is recommended to use sourceTensor.clone().detach() or sourceTensor.clone().detach().requires_grad_(True), rather than torch.tensor(sourceTensor).\n",
      "  pur = torch.tensor(cluster_true_positive / cluster_positive)\n",
      "/global/homes/r/ryanliu/.conda/envs/gnn/lib/python3.8/site-packages/pytorch_lightning/utilities/data.py:59: UserWarning: Trying to infer the `batch_size` from an ambiguous collection. The batch size we found is 5. To avoid any miscalculations, use `self.log(..., batch_size=batch_size)`.\n",
      "  warning_cache.warn(\n"
     ]
    },
    {
     "name": "stdout",
     "output_type": "stream",
     "text": [
      "tensor([1., 1., 1.], device='cuda:0')\n",
      "                                                                      "
     ]
    },
    {
     "name": "stderr",
     "output_type": "stream",
     "text": [
      "/global/homes/r/ryanliu/.conda/envs/gnn/lib/python3.8/site-packages/pytorch_lightning/trainer/data_loading.py:116: UserWarning: The dataloader, train_dataloader, does not have many workers which may be a bottleneck. Consider increasing the value of the `num_workers` argument` (try 256 which is the number of cpus on this machine) in the `DataLoader` init to improve performance.\n",
      "  rank_zero_warn(\n"
     ]
    },
    {
     "name": "stdout",
     "output_type": "stream",
     "text": [
      "Epoch 0:   0%|          | 0/1020 [00:00<?, ?it/s] tensor([1., 1., 1.], device='cuda:0')\n",
      "Epoch 0:   0%|          | 1/1020 [00:00<13:38,  1.24it/s, loss=0.929, v_num=ts5c]tensor([1., 1., 1.], device='cuda:0')\n",
      "Epoch 0:   0%|          | 2/1020 [00:01<08:54,  1.90it/s, loss=0.934, v_num=ts5c]tensor([1., 1., 1.], device='cuda:0')\n",
      "Epoch 0:   0%|          | 3/1020 [00:01<07:33,  2.24it/s, loss=0.934, v_num=ts5c]tensor([1., 1., 1.], device='cuda:0')\n",
      "Epoch 0:   0%|          | 4/1020 [00:01<06:41,  2.53it/s, loss=0.935, v_num=ts5c]tensor([1., 1., 1.], device='cuda:0')\n",
      "Epoch 0:   0%|          | 5/1020 [00:01<06:13,  2.72it/s, loss=0.936, v_num=ts5c]tensor([1., 1., 1.], device='cuda:0')\n",
      "Epoch 0:   1%|          | 6/1020 [00:02<05:49,  2.90it/s, loss=0.936, v_num=ts5c]tensor([1., 1., 1.], device='cuda:0')\n",
      "Epoch 0:   1%|          | 7/1020 [00:02<05:41,  2.97it/s, loss=0.936, v_num=ts5c]tensor([1., 1., 1.], device='cuda:0')\n",
      "Epoch 0:   1%|          | 8/1020 [00:02<05:35,  3.01it/s, loss=0.936, v_num=ts5c]tensor([1., 1., 1.], device='cuda:0')\n",
      "Epoch 0:   1%|          | 9/1020 [00:02<05:23,  3.12it/s, loss=0.936, v_num=ts5c]tensor([1., 1., 1.], device='cuda:0')\n",
      "Epoch 0:   1%|          | 10/1020 [00:03<05:14,  3.21it/s, loss=0.936, v_num=ts5c]tensor([1., 1., 1.], device='cuda:0')\n",
      "Epoch 0:   1%|          | 11/1020 [00:03<05:12,  3.22it/s, loss=0.936, v_num=ts5c]tensor([1., 1., 1.], device='cuda:0')\n",
      "Epoch 0:   1%|          | 12/1020 [00:03<05:12,  3.23it/s, loss=0.935, v_num=ts5c]tensor([1., 1., 1.], device='cuda:0')\n",
      "Epoch 0:   1%|▏         | 13/1020 [00:03<05:08,  3.26it/s, loss=0.935, v_num=ts5c]tensor([1., 1., 1.], device='cuda:0')\n",
      "Epoch 0:   1%|▏         | 14/1020 [00:04<05:03,  3.32it/s, loss=0.935, v_num=ts5c]tensor([1., 1., 1.], device='cuda:0')\n",
      "Epoch 0:   1%|▏         | 15/1020 [00:04<05:04,  3.30it/s, loss=0.934, v_num=ts5c]tensor([1., 1., 1.], device='cuda:0')\n",
      "Epoch 0:   2%|▏         | 16/1020 [00:04<05:04,  3.30it/s, loss=0.934, v_num=ts5c]tensor([1., 1., 1.], device='cuda:0')\n",
      "Epoch 0:   2%|▏         | 17/1020 [00:05<05:00,  3.34it/s, loss=0.934, v_num=ts5c]tensor([1., 1., 1.], device='cuda:0')\n",
      "Epoch 0:   2%|▏         | 18/1020 [00:05<04:59,  3.34it/s, loss=0.934, v_num=ts5c]tensor([1., 1., 1.], device='cuda:0')\n",
      "Epoch 0:   2%|▏         | 19/1020 [00:05<04:58,  3.36it/s, loss=0.934, v_num=ts5c]tensor([1., 1., 1.], device='cuda:0')\n",
      "Epoch 0:   2%|▏         | 20/1020 [00:05<04:56,  3.37it/s, loss=0.934, v_num=ts5c]tensor([1., 1., 1.], device='cuda:0')\n",
      "Epoch 0:   2%|▏         | 21/1020 [00:06<04:55,  3.38it/s, loss=0.934, v_num=ts5c]tensor([1., 1., 1.], device='cuda:0')\n",
      "Epoch 0:   2%|▏         | 22/1020 [00:06<04:54,  3.39it/s, loss=0.934, v_num=ts5c]tensor([1., 1., 1.], device='cuda:0')\n",
      "Epoch 0:   2%|▏         | 23/1020 [00:06<04:52,  3.41it/s, loss=0.934, v_num=ts5c]tensor([1., 1., 1.], device='cuda:0')\n",
      "Epoch 0:   2%|▏         | 24/1020 [00:07<04:51,  3.42it/s, loss=0.934, v_num=ts5c]tensor([1., 1., 1.], device='cuda:0')\n",
      "Epoch 0:   2%|▏         | 25/1020 [00:07<04:51,  3.41it/s, loss=0.933, v_num=ts5c]tensor([1., 1., 1.], device='cuda:0')\n",
      "Epoch 0:   3%|▎         | 26/1020 [00:07<04:50,  3.42it/s, loss=0.933, v_num=ts5c]tensor([1., 1., 1.], device='cuda:0')\n",
      "Epoch 0:   3%|▎         | 27/1020 [00:07<04:49,  3.43it/s, loss=0.933, v_num=ts5c]tensor([1., 1., 1.], device='cuda:0')\n",
      "Epoch 0:   3%|▎         | 28/1020 [00:08<04:49,  3.43it/s, loss=0.933, v_num=ts5c]tensor([1., 1., 1.], device='cuda:0')\n",
      "Epoch 0:   3%|▎         | 29/1020 [00:08<04:47,  3.45it/s, loss=0.933, v_num=ts5c]tensor([1., 1., 1.], device='cuda:0')\n",
      "Epoch 0:   3%|▎         | 30/1020 [00:08<04:45,  3.46it/s, loss=0.933, v_num=ts5c]tensor([1., 1., 1.], device='cuda:0')\n",
      "Epoch 0:   3%|▎         | 31/1020 [00:08<04:45,  3.46it/s, loss=0.933, v_num=ts5c]tensor([1., 1., 1.], device='cuda:0')\n",
      "Epoch 0:   3%|▎         | 32/1020 [00:09<04:44,  3.47it/s, loss=0.933, v_num=ts5c]tensor([1., 1., 1.], device='cuda:0')\n",
      "Epoch 0:   3%|▎         | 33/1020 [00:09<04:44,  3.47it/s, loss=0.933, v_num=ts5c]tensor([1., 1., 1.], device='cuda:0')\n",
      "Epoch 0:   3%|▎         | 34/1020 [00:09<04:43,  3.48it/s, loss=0.933, v_num=ts5c]tensor([1., 1., 1.], device='cuda:0')\n",
      "Epoch 0:   3%|▎         | 35/1020 [00:10<04:42,  3.48it/s, loss=0.934, v_num=ts5c]tensor([1., 1., 1.], device='cuda:0')\n",
      "Epoch 0:   4%|▎         | 36/1020 [00:10<04:41,  3.50it/s, loss=0.934, v_num=ts5c]tensor([1., 1., 1.], device='cuda:0')\n",
      "Epoch 0:   4%|▎         | 37/1020 [00:10<04:41,  3.49it/s, loss=0.934, v_num=ts5c]tensor([1., 1., 1.], device='cuda:0')\n",
      "Epoch 0:   4%|▎         | 38/1020 [00:10<04:41,  3.49it/s, loss=0.934, v_num=ts5c]tensor([1., 1., 1.], device='cuda:0')\n",
      "Epoch 0:   4%|▍         | 39/1020 [00:11<04:40,  3.49it/s, loss=0.934, v_num=ts5c]tensor([1., 1., 1.], device='cuda:0')\n",
      "Epoch 0:   4%|▍         | 40/1020 [00:11<04:39,  3.51it/s, loss=0.934, v_num=ts5c]tensor([1., 1., 1.], device='cuda:0')\n",
      "Epoch 0:   4%|▍         | 41/1020 [00:11<04:38,  3.51it/s, loss=0.934, v_num=ts5c]tensor([1., 1., 1.], device='cuda:0')\n",
      "Epoch 0:   4%|▍         | 42/1020 [00:11<04:38,  3.51it/s, loss=0.934, v_num=ts5c]tensor([1., 1., 1.], device='cuda:0')\n",
      "Epoch 0:   4%|▍         | 43/1020 [00:12<04:39,  3.50it/s, loss=0.933, v_num=ts5c]tensor([1., 1., 1.], device='cuda:0')\n",
      "Epoch 0:   4%|▍         | 44/1020 [00:12<04:38,  3.51it/s, loss=0.934, v_num=ts5c]tensor([1., 1., 1.], device='cuda:0')\n",
      "Epoch 0:   4%|▍         | 45/1020 [00:12<04:37,  3.51it/s, loss=0.934, v_num=ts5c]tensor([1., 1., 1.], device='cuda:0')\n",
      "Epoch 0:   5%|▍         | 46/1020 [00:13<04:37,  3.51it/s, loss=0.934, v_num=ts5c]tensor([1., 1., 1.], device='cuda:0')\n",
      "Epoch 0:   5%|▍         | 47/1020 [00:13<04:36,  3.52it/s, loss=0.934, v_num=ts5c]tensor([1., 1., 1.], device='cuda:0')\n",
      "Epoch 0:   5%|▍         | 48/1020 [00:13<04:36,  3.51it/s, loss=0.934, v_num=ts5c]tensor([1., 1., 1.], device='cuda:0')\n",
      "Epoch 0:   5%|▍         | 49/1020 [00:13<04:36,  3.51it/s, loss=0.933, v_num=ts5c]tensor([1., 1., 1.], device='cuda:0')\n",
      "Epoch 0:   5%|▍         | 50/1020 [00:14<04:35,  3.51it/s, loss=0.933, v_num=ts5c]tensor([1., 1., 1.], device='cuda:0')\n",
      "Epoch 0:   5%|▌         | 51/1020 [00:14<04:35,  3.52it/s, loss=0.934, v_num=ts5c]tensor([1., 1., 1.], device='cuda:0')\n",
      "Epoch 0:   5%|▌         | 52/1020 [00:14<04:34,  3.52it/s, loss=0.933, v_num=ts5c]tensor([1., 1., 1.], device='cuda:0')\n",
      "Epoch 0:   5%|▌         | 53/1020 [00:15<04:34,  3.52it/s, loss=0.933, v_num=ts5c]tensor([1., 1., 1.], device='cuda:0')\n",
      "Epoch 0:   5%|▌         | 54/1020 [00:15<04:33,  3.53it/s, loss=0.933, v_num=ts5c]tensor([1., 1., 1.], device='cuda:0')\n",
      "Epoch 0:   5%|▌         | 55/1020 [00:15<04:33,  3.53it/s, loss=0.933, v_num=ts5c]tensor([1., 1., 1.], device='cuda:0')\n",
      "Epoch 0:   5%|▌         | 56/1020 [00:15<04:33,  3.53it/s, loss=0.933, v_num=ts5c]tensor([1., 1., 1.], device='cuda:0')\n",
      "Epoch 0:   6%|▌         | 57/1020 [00:16<04:32,  3.53it/s, loss=0.933, v_num=ts5c]tensor([1., 1., 1.], device='cuda:0')\n",
      "Epoch 0:   6%|▌         | 58/1020 [00:16<04:31,  3.54it/s, loss=0.933, v_num=ts5c]tensor([1., 1., 1.], device='cuda:0')\n",
      "Epoch 0:   6%|▌         | 59/1020 [00:16<04:30,  3.55it/s, loss=0.933, v_num=ts5c]tensor([1., 1., 1.], device='cuda:0')\n",
      "Epoch 0:   6%|▌         | 60/1020 [00:16<04:30,  3.55it/s, loss=0.933, v_num=ts5c]tensor([1., 1., 1.], device='cuda:0')\n",
      "Epoch 0:   6%|▌         | 61/1020 [00:17<04:29,  3.56it/s, loss=0.933, v_num=ts5c]tensor([1., 1., 1.], device='cuda:0')\n",
      "Epoch 0:   6%|▌         | 62/1020 [00:17<04:29,  3.55it/s, loss=0.933, v_num=ts5c]tensor([1., 1., 1.], device='cuda:0')\n",
      "Epoch 0:   6%|▌         | 63/1020 [00:17<04:29,  3.55it/s, loss=0.934, v_num=ts5c]tensor([1., 1., 1.], device='cuda:0')\n",
      "Epoch 0:   6%|▋         | 64/1020 [00:18<04:29,  3.55it/s, loss=0.934, v_num=ts5c]tensor([1., 1., 1.], device='cuda:0')\n",
      "Epoch 0:   6%|▋         | 65/1020 [00:18<04:29,  3.54it/s, loss=0.934, v_num=ts5c]tensor([1., 1., 1.], device='cuda:0')\n",
      "Epoch 0:   6%|▋         | 66/1020 [00:18<04:29,  3.54it/s, loss=0.934, v_num=ts5c]tensor([1., 1., 1.], device='cuda:0')\n",
      "Epoch 0:   7%|▋         | 67/1020 [00:19<04:30,  3.52it/s, loss=0.933, v_num=ts5c]tensor([1., 1., 1.], device='cuda:0')\n",
      "Epoch 0:   7%|▋         | 68/1020 [00:19<04:29,  3.53it/s, loss=0.933, v_num=ts5c]tensor([1., 1., 1.], device='cuda:0')\n",
      "Epoch 0:   7%|▋         | 69/1020 [00:19<04:29,  3.53it/s, loss=0.933, v_num=ts5c]tensor([1., 1., 1.], device='cuda:0')\n",
      "Epoch 0:   7%|▋         | 70/1020 [00:19<04:29,  3.53it/s, loss=0.933, v_num=ts5c]tensor([1., 1., 1.], device='cuda:0')\n",
      "Epoch 0:   7%|▋         | 71/1020 [00:20<04:28,  3.53it/s, loss=0.933, v_num=ts5c]tensor([1., 1., 1.], device='cuda:0')\n",
      "Epoch 0:   7%|▋         | 72/1020 [00:20<04:29,  3.52it/s, loss=0.933, v_num=ts5c]tensor([2., 1., 1.], device='cuda:0')\n",
      "Epoch 0:   7%|▋         | 73/1020 [00:20<04:28,  3.53it/s, loss=0.933, v_num=ts5c]tensor([2., 1., 1.], device='cuda:0')\n",
      "Epoch 0:   7%|▋         | 74/1020 [00:21<04:28,  3.52it/s, loss=0.932, v_num=ts5c]tensor([2., 1., 1.], device='cuda:0')\n",
      "Epoch 0:   7%|▋         | 75/1020 [00:21<04:28,  3.52it/s, loss=0.932, v_num=ts5c]tensor([2., 1., 1.], device='cuda:0')\n",
      "Epoch 0:   7%|▋         | 76/1020 [00:21<04:27,  3.52it/s, loss=0.932, v_num=ts5c]tensor([2., 1., 1.], device='cuda:0')\n",
      "Epoch 0:   8%|▊         | 77/1020 [00:21<04:27,  3.52it/s, loss=0.932, v_num=ts5c]tensor([3., 1., 1.], device='cuda:0')\n",
      "Epoch 0:   8%|▊         | 78/1020 [00:22<04:26,  3.53it/s, loss=0.932, v_num=ts5c]tensor([3., 1., 1.], device='cuda:0')\n",
      "Epoch 0:   8%|▊         | 79/1020 [00:22<04:26,  3.53it/s, loss=0.932, v_num=ts5c]tensor([3., 1., 1.], device='cuda:0')\n",
      "Epoch 0:   8%|▊         | 80/1020 [00:22<04:25,  3.54it/s, loss=0.932, v_num=ts5c]tensor([3., 1., 1.], device='cuda:0')\n",
      "Epoch 0:   8%|▊         | 81/1020 [00:22<04:24,  3.54it/s, loss=0.931, v_num=ts5c]tensor([3., 1., 1.], device='cuda:0')\n",
      "Epoch 0:   8%|▊         | 82/1020 [00:23<04:24,  3.54it/s, loss=0.931, v_num=ts5c]tensor([3., 1., 1.], device='cuda:0')\n",
      "Epoch 0:   8%|▊         | 83/1020 [00:23<04:24,  3.55it/s, loss=0.93, v_num=ts5c] tensor([3., 1., 1.], device='cuda:0')\n",
      "Epoch 0:   8%|▊         | 84/1020 [00:23<04:24,  3.55it/s, loss=0.93, v_num=ts5c]tensor([3., 1., 1.], device='cuda:0')\n",
      "Epoch 0:   8%|▊         | 85/1020 [00:23<04:23,  3.55it/s, loss=0.93, v_num=ts5c]tensor([3., 1., 1.], device='cuda:0')\n",
      "Epoch 0:   8%|▊         | 86/1020 [00:24<04:22,  3.56it/s, loss=0.929, v_num=ts5c]tensor([3., 1., 1.], device='cuda:0')\n",
      "Epoch 0:   9%|▊         | 87/1020 [00:24<04:22,  3.56it/s, loss=0.929, v_num=ts5c]tensor([4., 1., 1.], device='cuda:0')\n",
      "Epoch 0:   9%|▊         | 88/1020 [00:24<04:22,  3.55it/s, loss=0.928, v_num=ts5c]tensor([4., 1., 1.], device='cuda:0')\n",
      "Epoch 0:   9%|▊         | 89/1020 [00:25<04:21,  3.56it/s, loss=0.928, v_num=ts5c]tensor([4., 1., 1.], device='cuda:0')\n",
      "Epoch 0:   9%|▉         | 90/1020 [00:25<04:21,  3.55it/s, loss=0.927, v_num=ts5c]tensor([4., 1., 1.], device='cuda:0')\n",
      "Epoch 0:   9%|▉         | 91/1020 [00:25<04:21,  3.55it/s, loss=0.927, v_num=ts5c]tensor([4., 1., 1.], device='cuda:0')\n",
      "Epoch 0:   9%|▉         | 92/1020 [00:25<04:20,  3.56it/s, loss=0.927, v_num=ts5c]tensor([4., 1., 1.], device='cuda:0')\n",
      "Epoch 0:   9%|▉         | 93/1020 [00:26<04:19,  3.57it/s, loss=0.926, v_num=ts5c]tensor([4., 1., 1.], device='cuda:0')\n",
      "Epoch 0:   9%|▉         | 94/1020 [00:26<04:19,  3.57it/s, loss=0.926, v_num=ts5c]tensor([4., 1., 1.], device='cuda:0')\n",
      "Epoch 0:   9%|▉         | 95/1020 [00:26<04:19,  3.57it/s, loss=0.925, v_num=ts5c]tensor([4., 1., 1.], device='cuda:0')\n",
      "Epoch 0:   9%|▉         | 96/1020 [00:26<04:18,  3.57it/s, loss=0.925, v_num=ts5c]tensor([4., 1., 1.], device='cuda:0')\n",
      "Epoch 0:  10%|▉         | 97/1020 [00:27<04:18,  3.57it/s, loss=0.925, v_num=ts5c]tensor([4., 1., 1.], device='cuda:0')\n",
      "Epoch 0:  10%|▉         | 98/1020 [00:27<04:17,  3.58it/s, loss=0.924, v_num=ts5c]tensor([4., 1., 1.], device='cuda:0')\n",
      "Epoch 0:  10%|▉         | 99/1020 [00:27<04:17,  3.58it/s, loss=0.924, v_num=ts5c]tensor([4., 1., 1.], device='cuda:0')\n",
      "Epoch 0:  10%|▉         | 100/1020 [00:27<04:16,  3.58it/s, loss=0.924, v_num=ts5c]tensor([4., 1., 1.], device='cuda:0')\n",
      "Epoch 0:  10%|▉         | 101/1020 [00:28<04:16,  3.58it/s, loss=0.924, v_num=ts5c]tensor([4., 1., 1.], device='cuda:0')\n",
      "Epoch 0:  10%|█         | 102/1020 [00:28<04:15,  3.59it/s, loss=0.924, v_num=ts5c]tensor([4., 1., 1.], device='cuda:0')\n",
      "Epoch 0:  10%|█         | 103/1020 [00:28<04:15,  3.59it/s, loss=0.923, v_num=ts5c]tensor([4., 1., 1.], device='cuda:0')\n",
      "Epoch 0:  10%|█         | 104/1020 [00:29<04:15,  3.59it/s, loss=0.923, v_num=ts5c]tensor([4., 1., 1.], device='cuda:0')\n",
      "Epoch 0:  10%|█         | 105/1020 [00:29<04:15,  3.59it/s, loss=0.923, v_num=ts5c]tensor([4., 1., 1.], device='cuda:0')\n",
      "Epoch 0:  10%|█         | 106/1020 [00:29<04:14,  3.59it/s, loss=0.922, v_num=ts5c]tensor([4., 1., 1.], device='cuda:0')\n",
      "Epoch 0:  10%|█         | 107/1020 [00:29<04:14,  3.59it/s, loss=0.923, v_num=ts5c]tensor([4., 1., 1.], device='cuda:0')\n",
      "Epoch 0:  11%|█         | 108/1020 [00:30<04:13,  3.59it/s, loss=0.923, v_num=ts5c]tensor([4., 1., 1.], device='cuda:0')\n",
      "Epoch 0:  11%|█         | 109/1020 [00:30<04:12,  3.60it/s, loss=0.923, v_num=ts5c]tensor([4., 1., 1.], device='cuda:0')\n",
      "Epoch 0:  11%|█         | 110/1020 [00:30<04:12,  3.60it/s, loss=0.923, v_num=ts5c]tensor([4., 1., 1.], device='cuda:0')\n",
      "Epoch 0:  11%|█         | 111/1020 [00:30<04:12,  3.60it/s, loss=0.923, v_num=ts5c]tensor([4., 1., 1.], device='cuda:0')\n",
      "Epoch 0:  11%|█         | 112/1020 [00:31<04:12,  3.60it/s, loss=0.922, v_num=ts5c]tensor([4., 1., 1.], device='cuda:0')\n",
      "Epoch 0:  11%|█         | 113/1020 [00:31<04:11,  3.60it/s, loss=0.922, v_num=ts5c]tensor([4., 1., 1.], device='cuda:0')\n",
      "Epoch 0:  11%|█         | 114/1020 [00:31<04:11,  3.60it/s, loss=0.922, v_num=ts5c]tensor([4., 1., 1.], device='cuda:0')\n",
      "Epoch 0:  11%|█▏        | 115/1020 [00:31<04:11,  3.60it/s, loss=0.922, v_num=ts5c]tensor([4., 1., 1.], device='cuda:0')\n",
      "Epoch 0:  11%|█▏        | 116/1020 [00:32<04:11,  3.60it/s, loss=0.922, v_num=ts5c]tensor([4., 1., 1.], device='cuda:0')\n",
      "Epoch 0:  11%|█▏        | 117/1020 [00:32<04:11,  3.60it/s, loss=0.922, v_num=ts5c]tensor([4., 1., 1.], device='cuda:0')\n",
      "Epoch 0:  12%|█▏        | 118/1020 [00:32<04:11,  3.59it/s, loss=0.921, v_num=ts5c]tensor([4., 1., 1.], device='cuda:0')\n",
      "Epoch 0:  12%|█▏        | 119/1020 [00:33<04:10,  3.59it/s, loss=0.921, v_num=ts5c]tensor([4., 1., 1.], device='cuda:0')\n",
      "Epoch 0:  12%|█▏        | 120/1020 [00:33<04:10,  3.59it/s, loss=0.92, v_num=ts5c] tensor([4., 1., 1.], device='cuda:0')\n",
      "Epoch 0:  12%|█▏        | 121/1020 [00:33<04:10,  3.59it/s, loss=0.919, v_num=ts5c]tensor([4., 1., 1.], device='cuda:0')\n",
      "Epoch 0:  12%|█▏        | 122/1020 [00:33<04:10,  3.59it/s, loss=0.919, v_num=ts5c]tensor([4., 1., 1.], device='cuda:0')\n",
      "Epoch 0:  12%|█▏        | 123/1020 [00:34<04:09,  3.59it/s, loss=0.919, v_num=ts5c]tensor([4., 1., 1.], device='cuda:0')\n",
      "Epoch 0:  12%|█▏        | 124/1020 [00:34<04:09,  3.59it/s, loss=0.92, v_num=ts5c] tensor([4., 1., 1.], device='cuda:0')\n",
      "Epoch 0:  12%|█▏        | 125/1020 [00:34<04:09,  3.59it/s, loss=0.92, v_num=ts5c]tensor([4., 1., 1.], device='cuda:0')\n",
      "Epoch 0:  12%|█▏        | 126/1020 [00:35<04:08,  3.60it/s, loss=0.92, v_num=ts5c]tensor([4., 1., 1.], device='cuda:0')\n",
      "Epoch 0:  12%|█▏        | 127/1020 [00:35<04:08,  3.60it/s, loss=0.92, v_num=ts5c]tensor([4., 1., 1.], device='cuda:0')\n",
      "Epoch 0:  13%|█▎        | 128/1020 [00:35<04:07,  3.60it/s, loss=0.92, v_num=ts5c]tensor([4., 1., 1.], device='cuda:0')\n",
      "Epoch 0:  13%|█▎        | 129/1020 [00:35<04:07,  3.60it/s, loss=0.919, v_num=ts5c]tensor([4., 1., 1.], device='cuda:0')\n",
      "Epoch 0:  13%|█▎        | 130/1020 [00:36<04:07,  3.60it/s, loss=0.92, v_num=ts5c] tensor([4., 1., 1.], device='cuda:0')\n",
      "Epoch 0:  13%|█▎        | 131/1020 [00:36<04:06,  3.60it/s, loss=0.92, v_num=ts5c]tensor([4., 1., 1.], device='cuda:0')\n",
      "Epoch 0:  13%|█▎        | 132/1020 [00:36<04:06,  3.60it/s, loss=0.919, v_num=ts5c]tensor([4., 1., 1.], device='cuda:0')\n",
      "Epoch 0:  13%|█▎        | 133/1020 [00:36<04:06,  3.60it/s, loss=0.919, v_num=ts5c]tensor([4., 1., 1.], device='cuda:0')\n",
      "Epoch 0:  13%|█▎        | 134/1020 [00:37<04:06,  3.60it/s, loss=0.919, v_num=ts5c]tensor([4., 1., 1.], device='cuda:0')\n",
      "Epoch 0:  13%|█▎        | 135/1020 [00:37<04:05,  3.60it/s, loss=0.919, v_num=ts5c]tensor([4., 1., 1.], device='cuda:0')\n",
      "Epoch 0:  13%|█▎        | 136/1020 [00:37<04:05,  3.60it/s, loss=0.919, v_num=ts5c]tensor([4., 1., 1.], device='cuda:0')\n",
      "Epoch 0:  13%|█▎        | 137/1020 [00:38<04:05,  3.60it/s, loss=0.919, v_num=ts5c]tensor([4., 1., 1.], device='cuda:0')\n",
      "Epoch 0:  14%|█▎        | 138/1020 [00:38<04:05,  3.60it/s, loss=0.919, v_num=ts5c]tensor([4., 1., 1.], device='cuda:0')\n",
      "Epoch 0:  14%|█▎        | 139/1020 [00:38<04:04,  3.60it/s, loss=0.92, v_num=ts5c] tensor([4., 1., 1.], device='cuda:0')\n",
      "Epoch 0:  14%|█▎        | 140/1020 [00:38<04:04,  3.60it/s, loss=0.92, v_num=ts5c]tensor([4., 1., 1.], device='cuda:0')\n",
      "Epoch 0:  14%|█▍        | 141/1020 [00:39<04:04,  3.60it/s, loss=0.92, v_num=ts5c]tensor([4., 1., 1.], device='cuda:0')\n",
      "Epoch 0:  14%|█▍        | 142/1020 [00:39<04:04,  3.60it/s, loss=0.92, v_num=ts5c]tensor([4., 1., 1.], device='cuda:0')\n",
      "Epoch 0:  14%|█▍        | 143/1020 [00:39<04:03,  3.60it/s, loss=0.92, v_num=ts5c]tensor([4., 1., 1.], device='cuda:0')\n",
      "Epoch 0:  14%|█▍        | 144/1020 [00:40<04:03,  3.60it/s, loss=0.92, v_num=ts5c]tensor([4., 1., 1.], device='cuda:0')\n",
      "Epoch 0:  14%|█▍        | 145/1020 [00:40<04:03,  3.60it/s, loss=0.92, v_num=ts5c]tensor([4., 1., 1.], device='cuda:0')\n",
      "Epoch 0:  14%|█▍        | 146/1020 [00:40<04:02,  3.60it/s, loss=0.92, v_num=ts5c]tensor([4., 1., 1.], device='cuda:0')\n",
      "Epoch 0:  14%|█▍        | 147/1020 [00:40<04:01,  3.61it/s, loss=0.92, v_num=ts5c]tensor([4., 1., 1.], device='cuda:0')\n",
      "Epoch 0:  15%|█▍        | 148/1020 [00:40<04:01,  3.62it/s, loss=0.92, v_num=ts5c]tensor([4., 1., 1.], device='cuda:0')\n",
      "Epoch 0:  15%|█▍        | 149/1020 [00:41<04:01,  3.61it/s, loss=0.92, v_num=ts5c]tensor([4., 1., 1.], device='cuda:0')\n",
      "Epoch 0:  15%|█▍        | 150/1020 [00:41<04:00,  3.61it/s, loss=0.92, v_num=ts5c]tensor([4., 1., 1.], device='cuda:0')\n",
      "Epoch 0:  15%|█▍        | 151/1020 [00:41<04:00,  3.61it/s, loss=0.919, v_num=ts5c]tensor([4., 1., 1.], device='cuda:0')\n",
      "Epoch 0:  15%|█▍        | 152/1020 [00:42<04:00,  3.61it/s, loss=0.919, v_num=ts5c]tensor([4., 1., 1.], device='cuda:0')\n",
      "Epoch 0:  15%|█▌        | 153/1020 [00:42<04:00,  3.61it/s, loss=0.919, v_num=ts5c]tensor([4., 1., 1.], device='cuda:0')\n",
      "Epoch 0:  15%|█▌        | 154/1020 [00:42<03:59,  3.61it/s, loss=0.919, v_num=ts5c]tensor([4., 1., 1.], device='cuda:0')\n",
      "Epoch 0:  15%|█▌        | 155/1020 [00:42<03:59,  3.61it/s, loss=0.92, v_num=ts5c] tensor([4., 1., 1.], device='cuda:0')\n",
      "Epoch 0:  15%|█▌        | 156/1020 [00:43<03:59,  3.61it/s, loss=0.92, v_num=ts5c]tensor([4., 1., 1.], device='cuda:0')\n",
      "Epoch 0:  15%|█▌        | 157/1020 [00:43<03:58,  3.61it/s, loss=0.92, v_num=ts5c]tensor([4., 1., 1.], device='cuda:0')\n",
      "Epoch 0:  15%|█▌        | 158/1020 [00:43<03:58,  3.61it/s, loss=0.92, v_num=ts5c]tensor([4., 1., 1.], device='cuda:0')\n",
      "Epoch 0:  16%|█▌        | 159/1020 [00:43<03:58,  3.61it/s, loss=0.92, v_num=ts5c]tensor([4., 1., 1.], device='cuda:0')\n",
      "Epoch 0:  16%|█▌        | 160/1020 [00:44<03:57,  3.61it/s, loss=0.92, v_num=ts5c]tensor([4., 1., 1.], device='cuda:0')\n",
      "Epoch 0:  16%|█▌        | 161/1020 [00:44<03:57,  3.62it/s, loss=0.92, v_num=ts5c]tensor([4., 1., 1.], device='cuda:0')\n",
      "Epoch 0:  16%|█▌        | 162/1020 [00:44<03:57,  3.61it/s, loss=0.92, v_num=ts5c]tensor([4., 1., 1.], device='cuda:0')\n",
      "Epoch 0:  16%|█▌        | 163/1020 [00:45<03:56,  3.62it/s, loss=0.92, v_num=ts5c]tensor([4., 1., 1.], device='cuda:0')\n",
      "Epoch 0:  16%|█▌        | 164/1020 [00:45<03:56,  3.62it/s, loss=0.92, v_num=ts5c]tensor([4., 1., 1.], device='cuda:0')\n",
      "Epoch 0:  16%|█▌        | 165/1020 [00:45<03:56,  3.62it/s, loss=0.92, v_num=ts5c]tensor([4., 1., 1.], device='cuda:0')\n",
      "Epoch 0:  16%|█▋        | 166/1020 [00:45<03:56,  3.62it/s, loss=0.92, v_num=ts5c]tensor([4., 1., 1.], device='cuda:0')\n",
      "Epoch 0:  16%|█▋        | 167/1020 [00:46<03:55,  3.62it/s, loss=0.92, v_num=ts5c]tensor([4., 1., 1.], device='cuda:0')\n",
      "Epoch 0:  16%|█▋        | 168/1020 [00:46<03:55,  3.62it/s, loss=0.92, v_num=ts5c]tensor([4., 1., 1.], device='cuda:0')\n",
      "Epoch 0:  17%|█▋        | 169/1020 [00:46<03:54,  3.62it/s, loss=0.92, v_num=ts5c]tensor([4., 1., 1.], device='cuda:0')\n",
      "Epoch 0:  17%|█▋        | 170/1020 [00:46<03:54,  3.62it/s, loss=0.92, v_num=ts5c]tensor([4., 1., 1.], device='cuda:0')\n",
      "Epoch 0:  17%|█▋        | 171/1020 [00:47<03:54,  3.62it/s, loss=0.92, v_num=ts5c]tensor([4., 1., 1.], device='cuda:0')\n",
      "Epoch 0:  17%|█▋        | 172/1020 [00:47<03:53,  3.62it/s, loss=0.921, v_num=ts5c]tensor([4., 1., 1.], device='cuda:0')\n",
      "Epoch 0:  17%|█▋        | 173/1020 [00:47<03:53,  3.63it/s, loss=0.921, v_num=ts5c]tensor([4., 1., 1.], device='cuda:0')\n",
      "Epoch 0:  17%|█▋        | 174/1020 [00:47<03:53,  3.63it/s, loss=0.921, v_num=ts5c]tensor([4., 1., 1.], device='cuda:0')\n",
      "Epoch 0:  17%|█▋        | 175/1020 [00:48<03:52,  3.63it/s, loss=0.921, v_num=ts5c]tensor([4., 1., 1.], device='cuda:0')\n",
      "Epoch 0:  17%|█▋        | 176/1020 [00:48<03:52,  3.63it/s, loss=0.921, v_num=ts5c]tensor([4., 1., 1.], device='cuda:0')\n",
      "Epoch 0:  17%|█▋        | 177/1020 [00:48<03:52,  3.63it/s, loss=0.921, v_num=ts5c]tensor([4., 1., 1.], device='cuda:0')\n",
      "Epoch 0:  17%|█▋        | 178/1020 [00:49<03:52,  3.63it/s, loss=0.921, v_num=ts5c]tensor([4., 1., 1.], device='cuda:0')\n",
      "Epoch 0:  18%|█▊        | 179/1020 [00:49<03:52,  3.62it/s, loss=0.92, v_num=ts5c] tensor([4., 1., 1.], device='cuda:0')\n",
      "Epoch 0:  18%|█▊        | 180/1020 [00:49<03:51,  3.62it/s, loss=0.92, v_num=ts5c]tensor([4., 1., 1.], device='cuda:0')\n",
      "Epoch 0:  18%|█▊        | 181/1020 [00:49<03:51,  3.62it/s, loss=0.92, v_num=ts5c]tensor([4., 1., 1.], device='cuda:0')\n",
      "Epoch 0:  18%|█▊        | 182/1020 [00:50<03:51,  3.62it/s, loss=0.92, v_num=ts5c]tensor([4., 1., 1.], device='cuda:0')\n",
      "Epoch 0:  18%|█▊        | 183/1020 [00:50<03:50,  3.62it/s, loss=0.92, v_num=ts5c]tensor([4., 1., 1.], device='cuda:0')\n",
      "Epoch 0:  18%|█▊        | 184/1020 [00:50<03:50,  3.63it/s, loss=0.92, v_num=ts5c]tensor([4., 1., 1.], device='cuda:0')\n",
      "Epoch 0:  18%|█▊        | 185/1020 [00:50<03:50,  3.63it/s, loss=0.92, v_num=ts5c]tensor([4., 1., 1.], device='cuda:0')\n",
      "Epoch 0:  18%|█▊        | 186/1020 [00:51<03:49,  3.63it/s, loss=0.92, v_num=ts5c]tensor([4., 1., 1.], device='cuda:0')\n",
      "Epoch 0:  18%|█▊        | 187/1020 [00:51<03:49,  3.63it/s, loss=0.92, v_num=ts5c]tensor([4., 1., 1.], device='cuda:0')\n",
      "Epoch 0:  18%|█▊        | 188/1020 [00:51<03:49,  3.63it/s, loss=0.921, v_num=ts5c]tensor([4., 1., 1.], device='cuda:0')\n",
      "Epoch 0:  19%|█▊        | 189/1020 [00:51<03:48,  3.63it/s, loss=0.921, v_num=ts5c]tensor([4., 1., 1.], device='cuda:0')\n",
      "Epoch 0:  19%|█▊        | 190/1020 [00:52<03:48,  3.64it/s, loss=0.92, v_num=ts5c] tensor([4., 1., 1.], device='cuda:0')\n",
      "Epoch 0:  19%|█▊        | 191/1020 [00:52<03:48,  3.64it/s, loss=0.92, v_num=ts5c]tensor([4., 1., 1.], device='cuda:0')\n",
      "Epoch 0:  19%|█▉        | 192/1020 [00:52<03:47,  3.64it/s, loss=0.92, v_num=ts5c]tensor([4., 1., 1.], device='cuda:0')\n",
      "Epoch 0:  19%|█▉        | 193/1020 [00:53<03:47,  3.63it/s, loss=0.92, v_num=ts5c]tensor([4., 1., 1.], device='cuda:0')\n",
      "Epoch 0:  19%|█▉        | 194/1020 [00:53<03:47,  3.63it/s, loss=0.919, v_num=ts5c]tensor([4., 1., 1.], device='cuda:0')\n",
      "Epoch 0:  19%|█▉        | 195/1020 [00:53<03:46,  3.64it/s, loss=0.92, v_num=ts5c] tensor([4., 1., 1.], device='cuda:0')\n",
      "Epoch 0:  19%|█▉        | 196/1020 [00:53<03:46,  3.63it/s, loss=0.92, v_num=ts5c]tensor([4., 1., 1.], device='cuda:0')\n",
      "Epoch 0:  19%|█▉        | 197/1020 [00:54<03:46,  3.64it/s, loss=0.92, v_num=ts5c]tensor([4., 1., 1.], device='cuda:0')\n",
      "Epoch 0:  19%|█▉        | 198/1020 [00:54<03:45,  3.64it/s, loss=0.92, v_num=ts5c]tensor([4., 1., 1.], device='cuda:0')\n",
      "Epoch 0:  20%|█▉        | 199/1020 [00:54<03:45,  3.64it/s, loss=0.92, v_num=ts5c]tensor([4., 1., 1.], device='cuda:0')\n",
      "Epoch 0:  20%|█▉        | 200/1020 [00:54<03:45,  3.64it/s, loss=0.921, v_num=ts5c]tensor([4., 1., 1.], device='cuda:0')\n",
      "Epoch 0:  20%|█▉        | 201/1020 [00:55<03:44,  3.64it/s, loss=0.921, v_num=ts5c]tensor([4., 1., 1.], device='cuda:0')\n",
      "Epoch 0:  20%|█▉        | 202/1020 [00:55<03:44,  3.64it/s, loss=0.921, v_num=ts5c]tensor([4., 1., 1.], device='cuda:0')\n",
      "Epoch 0:  20%|█▉        | 203/1020 [00:55<03:44,  3.64it/s, loss=0.92, v_num=ts5c] tensor([4., 1., 1.], device='cuda:0')\n",
      "Epoch 0:  20%|██        | 204/1020 [00:56<03:44,  3.64it/s, loss=0.92, v_num=ts5c]tensor([4., 1., 1.], device='cuda:0')\n",
      "Epoch 0:  20%|██        | 205/1020 [00:56<03:43,  3.64it/s, loss=0.92, v_num=ts5c]tensor([4., 1., 1.], device='cuda:0')\n",
      "Epoch 0:  20%|██        | 206/1020 [00:56<03:43,  3.64it/s, loss=0.92, v_num=ts5c]tensor([4., 1., 1.], device='cuda:0')\n",
      "Epoch 0:  20%|██        | 207/1020 [00:56<03:43,  3.64it/s, loss=0.921, v_num=ts5c]tensor([4., 1., 1.], device='cuda:0')\n",
      "Epoch 0:  20%|██        | 208/1020 [00:57<03:42,  3.64it/s, loss=0.92, v_num=ts5c] tensor([4., 1., 1.], device='cuda:0')\n",
      "Epoch 0:  20%|██        | 209/1020 [00:57<03:42,  3.64it/s, loss=0.92, v_num=ts5c]tensor([4., 1., 1.], device='cuda:0')\n",
      "Epoch 0:  21%|██        | 210/1020 [00:57<03:42,  3.65it/s, loss=0.92, v_num=ts5c]tensor([4., 1., 1.], device='cuda:0')\n",
      "Epoch 0:  21%|██        | 211/1020 [00:57<03:41,  3.65it/s, loss=0.921, v_num=ts5c]tensor([4., 1., 1.], device='cuda:0')\n",
      "Epoch 0:  21%|██        | 212/1020 [00:58<03:41,  3.64it/s, loss=0.92, v_num=ts5c] tensor([4., 1., 1.], device='cuda:0')\n",
      "Epoch 0:  21%|██        | 213/1020 [00:58<03:41,  3.65it/s, loss=0.921, v_num=ts5c]tensor([4., 1., 1.], device='cuda:0')\n",
      "Epoch 0:  21%|██        | 214/1020 [00:58<03:41,  3.65it/s, loss=0.921, v_num=ts5c]tensor([4., 1., 1.], device='cuda:0')\n",
      "Epoch 0:  21%|██        | 215/1020 [00:58<03:40,  3.65it/s, loss=0.921, v_num=ts5c]tensor([4., 1., 1.], device='cuda:0')\n",
      "Epoch 0:  21%|██        | 216/1020 [00:59<03:40,  3.65it/s, loss=0.921, v_num=ts5c]tensor([4., 1., 1.], device='cuda:0')\n",
      "Epoch 0:  21%|██▏       | 217/1020 [00:59<03:40,  3.65it/s, loss=0.921, v_num=ts5c]tensor([4., 1., 1.], device='cuda:0')\n",
      "Epoch 0:  21%|██▏       | 218/1020 [00:59<03:39,  3.65it/s, loss=0.921, v_num=ts5c]tensor([4., 1., 1.], device='cuda:0')\n",
      "Epoch 0:  21%|██▏       | 219/1020 [01:00<03:39,  3.65it/s, loss=0.921, v_num=ts5c]tensor([4., 1., 1.], device='cuda:0')\n",
      "Epoch 0:  22%|██▏       | 220/1020 [01:00<03:39,  3.65it/s, loss=0.921, v_num=ts5c]tensor([4., 1., 1.], device='cuda:0')\n",
      "Epoch 0:  22%|██▏       | 221/1020 [01:00<03:38,  3.65it/s, loss=0.921, v_num=ts5c]tensor([4., 1., 1.], device='cuda:0')\n",
      "Epoch 0:  22%|██▏       | 222/1020 [01:00<03:38,  3.65it/s, loss=0.921, v_num=ts5c]tensor([4., 1., 1.], device='cuda:0')\n",
      "Epoch 0:  22%|██▏       | 223/1020 [01:01<03:38,  3.65it/s, loss=0.921, v_num=ts5c]tensor([4., 1., 1.], device='cuda:0')\n",
      "Epoch 0:  22%|██▏       | 224/1020 [01:01<03:38,  3.65it/s, loss=0.921, v_num=ts5c]tensor([4., 1., 1.], device='cuda:0')\n",
      "Epoch 0:  22%|██▏       | 225/1020 [01:01<03:37,  3.65it/s, loss=0.921, v_num=ts5c]tensor([4., 1., 1.], device='cuda:0')\n",
      "Epoch 0:  22%|██▏       | 226/1020 [01:01<03:37,  3.65it/s, loss=0.921, v_num=ts5c]tensor([4., 1., 1.], device='cuda:0')\n",
      "Epoch 0:  22%|██▏       | 227/1020 [01:02<03:37,  3.65it/s, loss=0.921, v_num=ts5c]tensor([4., 1., 1.], device='cuda:0')\n",
      "Epoch 0:  22%|██▏       | 228/1020 [01:02<03:36,  3.65it/s, loss=0.921, v_num=ts5c]tensor([4., 1., 1.], device='cuda:0')\n",
      "Epoch 0:  22%|██▏       | 229/1020 [01:02<03:36,  3.65it/s, loss=0.921, v_num=ts5c]tensor([4., 1., 1.], device='cuda:0')\n",
      "Epoch 0:  23%|██▎       | 230/1020 [01:02<03:36,  3.65it/s, loss=0.921, v_num=ts5c]tensor([4., 1., 1.], device='cuda:0')\n",
      "Epoch 0:  23%|██▎       | 231/1020 [01:03<03:36,  3.65it/s, loss=0.92, v_num=ts5c] tensor([4., 1., 1.], device='cuda:0')\n",
      "Epoch 0:  23%|██▎       | 232/1020 [01:03<03:35,  3.65it/s, loss=0.921, v_num=ts5c]tensor([4., 1., 1.], device='cuda:0')\n",
      "Epoch 0:  23%|██▎       | 233/1020 [01:03<03:35,  3.65it/s, loss=0.921, v_num=ts5c]tensor([4., 1., 1.], device='cuda:0')\n",
      "Epoch 0:  23%|██▎       | 234/1020 [01:04<03:35,  3.65it/s, loss=0.921, v_num=ts5c]tensor([4., 1., 1.], device='cuda:0')\n",
      "Epoch 0:  23%|██▎       | 235/1020 [01:04<03:34,  3.65it/s, loss=0.921, v_num=ts5c]tensor([4., 1., 1.], device='cuda:0')\n",
      "Epoch 0:  23%|██▎       | 236/1020 [01:04<03:34,  3.66it/s, loss=0.921, v_num=ts5c]tensor([4., 1., 1.], device='cuda:0')\n",
      "Epoch 0:  23%|██▎       | 237/1020 [01:04<03:34,  3.66it/s, loss=0.921, v_num=ts5c]tensor([4., 1., 1.], device='cuda:0')\n",
      "Epoch 0:  23%|██▎       | 238/1020 [01:05<03:33,  3.66it/s, loss=0.921, v_num=ts5c]tensor([4., 1., 1.], device='cuda:0')\n",
      "Epoch 0:  23%|██▎       | 239/1020 [01:05<03:33,  3.66it/s, loss=0.921, v_num=ts5c]tensor([4., 1., 1.], device='cuda:0')\n",
      "Epoch 0:  24%|██▎       | 240/1020 [01:05<03:33,  3.66it/s, loss=0.921, v_num=ts5c]tensor([4., 1., 1.], device='cuda:0')\n",
      "Epoch 0:  24%|██▎       | 241/1020 [01:05<03:32,  3.66it/s, loss=0.921, v_num=ts5c]tensor([4., 1., 1.], device='cuda:0')\n",
      "Epoch 0:  24%|██▎       | 242/1020 [01:06<03:32,  3.66it/s, loss=0.921, v_num=ts5c]tensor([4., 1., 1.], device='cuda:0')\n",
      "Epoch 0:  24%|██▍       | 243/1020 [01:06<03:32,  3.66it/s, loss=0.921, v_num=ts5c]tensor([4., 1., 1.], device='cuda:0')\n",
      "Epoch 0:  24%|██▍       | 244/1020 [01:06<03:31,  3.66it/s, loss=0.921, v_num=ts5c]tensor([4., 1., 1.], device='cuda:0')\n",
      "Epoch 0:  24%|██▍       | 245/1020 [01:06<03:31,  3.66it/s, loss=0.921, v_num=ts5c]tensor([4., 1., 1.], device='cuda:0')\n",
      "Epoch 0:  24%|██▍       | 246/1020 [01:07<03:31,  3.66it/s, loss=0.921, v_num=ts5c]tensor([4., 1., 1.], device='cuda:0')\n",
      "Epoch 0:  24%|██▍       | 247/1020 [01:07<03:31,  3.66it/s, loss=0.921, v_num=ts5c]tensor([4., 1., 1.], device='cuda:0')\n",
      "Epoch 0:  24%|██▍       | 248/1020 [01:07<03:30,  3.66it/s, loss=0.921, v_num=ts5c]tensor([4., 1., 1.], device='cuda:0')\n",
      "Epoch 0:  24%|██▍       | 249/1020 [01:08<03:30,  3.66it/s, loss=0.92, v_num=ts5c] tensor([4., 1., 1.], device='cuda:0')\n",
      "Epoch 0:  25%|██▍       | 250/1020 [01:08<03:30,  3.66it/s, loss=0.92, v_num=ts5c]tensor([4., 1., 1.], device='cuda:0')\n",
      "Epoch 0:  25%|██▍       | 251/1020 [01:08<03:30,  3.66it/s, loss=0.92, v_num=ts5c]tensor([4., 1., 1.], device='cuda:0')\n",
      "Epoch 0:  25%|██▍       | 252/1020 [01:08<03:29,  3.66it/s, loss=0.92, v_num=ts5c]tensor([4., 1., 1.], device='cuda:0')\n",
      "Epoch 0:  25%|██▍       | 253/1020 [01:09<03:29,  3.66it/s, loss=0.92, v_num=ts5c]tensor([4., 1., 1.], device='cuda:0')\n",
      "Epoch 0:  25%|██▍       | 254/1020 [01:09<03:29,  3.66it/s, loss=0.92, v_num=ts5c]tensor([4., 1., 1.], device='cuda:0')\n",
      "Epoch 0:  25%|██▌       | 255/1020 [01:09<03:28,  3.66it/s, loss=0.92, v_num=ts5c]tensor([4., 1., 1.], device='cuda:0')\n",
      "Epoch 0:  25%|██▌       | 256/1020 [01:09<03:28,  3.66it/s, loss=0.92, v_num=ts5c]tensor([4., 1., 1.], device='cuda:0')\n",
      "Epoch 0:  25%|██▌       | 257/1020 [01:10<03:28,  3.66it/s, loss=0.92, v_num=ts5c]tensor([4., 1., 1.], device='cuda:0')\n",
      "Epoch 0:  25%|██▌       | 258/1020 [01:10<03:28,  3.66it/s, loss=0.919, v_num=ts5c]tensor([4., 1., 1.], device='cuda:0')\n",
      "Epoch 0:  25%|██▌       | 259/1020 [01:10<03:27,  3.66it/s, loss=0.919, v_num=ts5c]tensor([4., 1., 1.], device='cuda:0')\n",
      "Epoch 0:  25%|██▌       | 260/1020 [01:10<03:27,  3.66it/s, loss=0.919, v_num=ts5c]tensor([4., 1., 1.], device='cuda:0')\n",
      "Epoch 0:  26%|██▌       | 261/1020 [01:11<03:27,  3.66it/s, loss=0.919, v_num=ts5c]tensor([4., 1., 1.], device='cuda:0')\n",
      "Epoch 0:  26%|██▌       | 262/1020 [01:11<03:26,  3.66it/s, loss=0.919, v_num=ts5c]tensor([4., 1., 1.], device='cuda:0')\n",
      "Epoch 0:  26%|██▌       | 263/1020 [01:11<03:26,  3.66it/s, loss=0.919, v_num=ts5c]tensor([4., 1., 1.], device='cuda:0')\n",
      "Epoch 0:  26%|██▌       | 264/1020 [01:12<03:26,  3.66it/s, loss=0.919, v_num=ts5c]tensor([4., 1., 1.], device='cuda:0')\n",
      "Epoch 0:  26%|██▌       | 265/1020 [01:12<03:26,  3.66it/s, loss=0.919, v_num=ts5c]tensor([4., 1., 1.], device='cuda:0')\n",
      "Epoch 0:  26%|██▌       | 266/1020 [01:12<03:25,  3.66it/s, loss=0.919, v_num=ts5c]tensor([4., 1., 1.], device='cuda:0')\n",
      "Epoch 0:  26%|██▌       | 267/1020 [01:12<03:25,  3.66it/s, loss=0.919, v_num=ts5c]tensor([4., 1., 1.], device='cuda:0')\n",
      "Epoch 0:  26%|██▋       | 268/1020 [01:13<03:25,  3.66it/s, loss=0.919, v_num=ts5c]tensor([4., 1., 1.], device='cuda:0')\n",
      "Epoch 0:  26%|██▋       | 269/1020 [01:13<03:24,  3.67it/s, loss=0.92, v_num=ts5c] tensor([4., 1., 1.], device='cuda:0')\n",
      "Epoch 0:  26%|██▋       | 270/1020 [01:13<03:24,  3.67it/s, loss=0.92, v_num=ts5c]tensor([4., 1., 1.], device='cuda:0')\n",
      "Epoch 0:  27%|██▋       | 271/1020 [01:13<03:24,  3.67it/s, loss=0.92, v_num=ts5c]tensor([4., 1., 1.], device='cuda:0')\n",
      "Epoch 0:  27%|██▋       | 272/1020 [01:14<03:24,  3.66it/s, loss=0.92, v_num=ts5c]tensor([4., 1., 1.], device='cuda:0')\n",
      "Epoch 0:  27%|██▋       | 273/1020 [01:14<03:23,  3.67it/s, loss=0.92, v_num=ts5c]tensor([4., 1., 1.], device='cuda:0')\n",
      "Epoch 0:  27%|██▋       | 274/1020 [01:14<03:23,  3.67it/s, loss=0.92, v_num=ts5c]tensor([4., 1., 1.], device='cuda:0')\n",
      "Epoch 0:  27%|██▋       | 275/1020 [01:15<03:23,  3.67it/s, loss=0.92, v_num=ts5c]tensor([4., 1., 1.], device='cuda:0')\n",
      "Epoch 0:  27%|██▋       | 276/1020 [01:15<03:22,  3.67it/s, loss=0.92, v_num=ts5c]tensor([4., 1., 1.], device='cuda:0')\n",
      "Epoch 0:  27%|██▋       | 277/1020 [01:15<03:22,  3.67it/s, loss=0.92, v_num=ts5c]tensor([4., 1., 1.], device='cuda:0')\n",
      "Epoch 0:  27%|██▋       | 278/1020 [01:15<03:22,  3.67it/s, loss=0.921, v_num=ts5c]tensor([4., 1., 1.], device='cuda:0')\n",
      "Epoch 0:  27%|██▋       | 279/1020 [01:16<03:22,  3.67it/s, loss=0.921, v_num=ts5c]tensor([4., 1., 1.], device='cuda:0')\n",
      "Epoch 0:  27%|██▋       | 280/1020 [01:16<03:21,  3.67it/s, loss=0.921, v_num=ts5c]tensor([4., 1., 1.], device='cuda:0')\n",
      "Epoch 0:  28%|██▊       | 281/1020 [01:16<03:21,  3.67it/s, loss=0.921, v_num=ts5c]tensor([4., 1., 1.], device='cuda:0')\n",
      "Epoch 0:  28%|██▊       | 282/1020 [01:16<03:21,  3.67it/s, loss=0.921, v_num=ts5c]tensor([4., 1., 1.], device='cuda:0')\n",
      "Epoch 0:  28%|██▊       | 283/1020 [01:17<03:20,  3.67it/s, loss=0.92, v_num=ts5c] tensor([4., 1., 1.], device='cuda:0')\n",
      "Epoch 0:  28%|██▊       | 284/1020 [01:17<03:20,  3.67it/s, loss=0.921, v_num=ts5c]tensor([4., 1., 1.], device='cuda:0')\n",
      "Epoch 0:  28%|██▊       | 285/1020 [01:17<03:20,  3.67it/s, loss=0.921, v_num=ts5c]tensor([4., 1., 1.], device='cuda:0')\n",
      "Epoch 0:  28%|██▊       | 286/1020 [01:17<03:20,  3.67it/s, loss=0.921, v_num=ts5c]tensor([4., 1., 1.], device='cuda:0')\n",
      "Epoch 0:  28%|██▊       | 287/1020 [01:18<03:19,  3.67it/s, loss=0.921, v_num=ts5c]tensor([4., 1., 1.], device='cuda:0')\n",
      "Epoch 0:  28%|██▊       | 288/1020 [01:18<03:19,  3.67it/s, loss=0.921, v_num=ts5c]tensor([4., 1., 1.], device='cuda:0')\n",
      "Epoch 0:  28%|██▊       | 289/1020 [01:18<03:19,  3.67it/s, loss=0.921, v_num=ts5c]tensor([4., 1., 1.], device='cuda:0')\n",
      "Epoch 0:  28%|██▊       | 290/1020 [01:19<03:18,  3.67it/s, loss=0.92, v_num=ts5c] tensor([4., 1., 1.], device='cuda:0')\n",
      "Epoch 0:  29%|██▊       | 291/1020 [01:19<03:18,  3.67it/s, loss=0.921, v_num=ts5c]tensor([4., 1., 1.], device='cuda:0')\n",
      "Epoch 0:  29%|██▊       | 292/1020 [01:19<03:18,  3.67it/s, loss=0.921, v_num=ts5c]tensor([4., 1., 1.], device='cuda:0')\n",
      "Epoch 0:  29%|██▊       | 293/1020 [01:19<03:18,  3.67it/s, loss=0.92, v_num=ts5c] tensor([4., 1., 1.], device='cuda:0')\n",
      "Epoch 0:  29%|██▉       | 294/1020 [01:20<03:17,  3.67it/s, loss=0.92, v_num=ts5c]tensor([4., 1., 1.], device='cuda:0')\n",
      "Epoch 0:  29%|██▉       | 295/1020 [01:20<03:17,  3.67it/s, loss=0.92, v_num=ts5c]tensor([4., 1., 1.], device='cuda:0')\n",
      "Epoch 0:  29%|██▉       | 296/1020 [01:20<03:17,  3.67it/s, loss=0.92, v_num=ts5c]tensor([4., 1., 1.], device='cuda:0')\n",
      "Epoch 0:  29%|██▉       | 297/1020 [01:21<03:17,  3.67it/s, loss=0.92, v_num=ts5c]tensor([4., 1., 1.], device='cuda:0')\n",
      "Epoch 0:  29%|██▉       | 298/1020 [01:21<03:16,  3.67it/s, loss=0.92, v_num=ts5c]tensor([4., 1., 1.], device='cuda:0')\n",
      "Epoch 0:  29%|██▉       | 299/1020 [01:21<03:16,  3.67it/s, loss=0.919, v_num=ts5c]tensor([4., 1., 1.], device='cuda:0')\n",
      "Epoch 0:  29%|██▉       | 300/1020 [01:21<03:16,  3.66it/s, loss=0.919, v_num=ts5c]tensor([4., 1., 1.], device='cuda:0')\n",
      "Epoch 0:  30%|██▉       | 301/1020 [01:22<03:16,  3.66it/s, loss=0.919, v_num=ts5c]tensor([4., 1., 1.], device='cuda:0')\n",
      "Epoch 0:  30%|██▉       | 302/1020 [01:22<03:15,  3.66it/s, loss=0.919, v_num=ts5c]tensor([4., 1., 1.], device='cuda:0')\n",
      "Epoch 0:  30%|██▉       | 303/1020 [01:22<03:15,  3.66it/s, loss=0.919, v_num=ts5c]tensor([4., 1., 1.], device='cuda:0')\n",
      "Epoch 0:  30%|██▉       | 304/1020 [01:23<03:15,  3.66it/s, loss=0.919, v_num=ts5c]tensor([4., 1., 1.], device='cuda:0')\n",
      "Epoch 0:  30%|██▉       | 305/1020 [01:23<03:15,  3.66it/s, loss=0.919, v_num=ts5c]tensor([4., 1., 1.], device='cuda:0')\n",
      "Epoch 0:  30%|███       | 306/1020 [01:23<03:14,  3.66it/s, loss=0.919, v_num=ts5c]tensor([4., 1., 1.], device='cuda:0')\n",
      "Epoch 0:  30%|███       | 307/1020 [01:23<03:14,  3.67it/s, loss=0.919, v_num=ts5c]tensor([4., 1., 1.], device='cuda:0')\n",
      "Epoch 0:  30%|███       | 308/1020 [01:24<03:14,  3.66it/s, loss=0.918, v_num=ts5c]tensor([4., 1., 1.], device='cuda:0')\n",
      "Epoch 0:  30%|███       | 309/1020 [01:24<03:14,  3.66it/s, loss=0.918, v_num=ts5c]tensor([4., 1., 1.], device='cuda:0')\n",
      "Epoch 0:  30%|███       | 310/1020 [01:24<03:13,  3.66it/s, loss=0.919, v_num=ts5c]tensor([4., 1., 1.], device='cuda:0')\n",
      "Epoch 0:  30%|███       | 311/1020 [01:24<03:13,  3.67it/s, loss=0.919, v_num=ts5c]tensor([4., 1., 1.], device='cuda:0')\n",
      "Epoch 0:  31%|███       | 312/1020 [01:25<03:13,  3.67it/s, loss=0.919, v_num=ts5c]tensor([4., 1., 1.], device='cuda:0')\n",
      "Epoch 0:  31%|███       | 313/1020 [01:25<03:12,  3.67it/s, loss=0.919, v_num=ts5c]tensor([4., 1., 1.], device='cuda:0')\n",
      "Epoch 0:  31%|███       | 314/1020 [01:25<03:12,  3.67it/s, loss=0.919, v_num=ts5c]tensor([4., 1., 1.], device='cuda:0')\n",
      "Epoch 0:  31%|███       | 315/1020 [01:25<03:12,  3.67it/s, loss=0.919, v_num=ts5c]tensor([4., 1., 1.], device='cuda:0')\n",
      "Epoch 0:  31%|███       | 316/1020 [01:26<03:12,  3.67it/s, loss=0.919, v_num=ts5c]tensor([4., 1., 1.], device='cuda:0')\n",
      "Epoch 0:  31%|███       | 317/1020 [01:26<03:11,  3.67it/s, loss=0.919, v_num=ts5c]tensor([4., 1., 1.], device='cuda:0')\n",
      "Epoch 0:  31%|███       | 318/1020 [01:26<03:11,  3.67it/s, loss=0.919, v_num=ts5c]tensor([4., 1., 1.], device='cuda:0')\n",
      "Epoch 0:  31%|███▏      | 319/1020 [01:27<03:11,  3.67it/s, loss=0.919, v_num=ts5c]tensor([4., 1., 1.], device='cuda:0')\n",
      "Epoch 0:  31%|███▏      | 320/1020 [01:27<03:10,  3.67it/s, loss=0.92, v_num=ts5c] tensor([4., 1., 1.], device='cuda:0')\n",
      "Epoch 0:  31%|███▏      | 321/1020 [01:27<03:10,  3.67it/s, loss=0.919, v_num=ts5c]tensor([4., 1., 1.], device='cuda:0')\n",
      "Epoch 0:  32%|███▏      | 322/1020 [01:27<03:10,  3.67it/s, loss=0.919, v_num=ts5c]tensor([4., 1., 1.], device='cuda:0')\n",
      "Epoch 0:  32%|███▏      | 323/1020 [01:28<03:10,  3.67it/s, loss=0.919, v_num=ts5c]tensor([4., 1., 1.], device='cuda:0')\n",
      "Epoch 0:  32%|███▏      | 324/1020 [01:28<03:09,  3.67it/s, loss=0.92, v_num=ts5c] tensor([4., 1., 1.], device='cuda:0')\n",
      "Epoch 0:  32%|███▏      | 325/1020 [01:28<03:09,  3.67it/s, loss=0.919, v_num=ts5c]tensor([4., 1., 1.], device='cuda:0')\n",
      "Epoch 0:  32%|███▏      | 326/1020 [01:28<03:09,  3.67it/s, loss=0.919, v_num=ts5c]tensor([4., 1., 1.], device='cuda:0')\n",
      "Epoch 0:  32%|███▏      | 327/1020 [01:29<03:08,  3.67it/s, loss=0.919, v_num=ts5c]tensor([4., 1., 1.], device='cuda:0')\n",
      "Epoch 0:  32%|███▏      | 328/1020 [01:29<03:08,  3.67it/s, loss=0.92, v_num=ts5c] tensor([4., 1., 1.], device='cuda:0')\n",
      "Epoch 0:  32%|███▏      | 329/1020 [01:29<03:08,  3.67it/s, loss=0.919, v_num=ts5c]tensor([4., 1., 1.], device='cuda:0')\n",
      "Epoch 0:  32%|███▏      | 330/1020 [01:29<03:08,  3.67it/s, loss=0.92, v_num=ts5c] tensor([4., 1., 1.], device='cuda:0')\n",
      "Epoch 0:  32%|███▏      | 331/1020 [01:30<03:07,  3.67it/s, loss=0.919, v_num=ts5c]tensor([4., 1., 1.], device='cuda:0')\n",
      "Epoch 0:  33%|███▎      | 332/1020 [01:30<03:07,  3.67it/s, loss=0.919, v_num=ts5c]tensor([4., 1., 1.], device='cuda:0')\n",
      "Epoch 0:  33%|███▎      | 333/1020 [01:30<03:07,  3.67it/s, loss=0.919, v_num=ts5c]tensor([4., 1., 1.], device='cuda:0')\n",
      "Epoch 0:  33%|███▎      | 334/1020 [01:31<03:07,  3.67it/s, loss=0.919, v_num=ts5c]tensor([4., 1., 1.], device='cuda:0')\n",
      "Epoch 0:  33%|███▎      | 335/1020 [01:31<03:06,  3.67it/s, loss=0.919, v_num=ts5c]tensor([4., 1., 1.], device='cuda:0')\n",
      "Epoch 0:  33%|███▎      | 336/1020 [01:31<03:06,  3.67it/s, loss=0.919, v_num=ts5c]tensor([4., 1., 1.], device='cuda:0')\n",
      "Epoch 0:  33%|███▎      | 337/1020 [01:31<03:06,  3.67it/s, loss=0.919, v_num=ts5c]tensor([4., 1., 1.], device='cuda:0')\n",
      "Epoch 0:  33%|███▎      | 338/1020 [01:32<03:06,  3.67it/s, loss=0.919, v_num=ts5c]tensor([4., 1., 1.], device='cuda:0')\n",
      "Epoch 0:  33%|███▎      | 339/1020 [01:32<03:05,  3.67it/s, loss=0.919, v_num=ts5c]tensor([4., 1., 1.], device='cuda:0')\n",
      "Epoch 0:  33%|███▎      | 340/1020 [01:32<03:05,  3.67it/s, loss=0.919, v_num=ts5c]tensor([4., 1., 1.], device='cuda:0')\n",
      "Epoch 0:  33%|███▎      | 341/1020 [01:33<03:05,  3.67it/s, loss=0.919, v_num=ts5c]tensor([4., 1., 1.], device='cuda:0')\n",
      "Epoch 0:  34%|███▎      | 342/1020 [01:33<03:04,  3.67it/s, loss=0.919, v_num=ts5c]tensor([4., 1., 1.], device='cuda:0')\n",
      "Epoch 0:  34%|███▎      | 343/1020 [01:33<03:04,  3.67it/s, loss=0.919, v_num=ts5c]tensor([4., 1., 1.], device='cuda:0')\n",
      "Epoch 0:  34%|███▎      | 344/1020 [01:33<03:04,  3.67it/s, loss=0.919, v_num=ts5c]tensor([4., 1., 1.], device='cuda:0')\n",
      "Epoch 0:  34%|███▍      | 345/1020 [01:34<03:04,  3.67it/s, loss=0.92, v_num=ts5c] tensor([4., 1., 1.], device='cuda:0')\n",
      "Epoch 0:  34%|███▍      | 346/1020 [01:34<03:03,  3.67it/s, loss=0.919, v_num=ts5c]tensor([4., 1., 1.], device='cuda:0')\n",
      "Epoch 0:  34%|███▍      | 347/1020 [01:34<03:03,  3.67it/s, loss=0.919, v_num=ts5c]tensor([4., 1., 1.], device='cuda:0')\n",
      "Epoch 0:  34%|███▍      | 348/1020 [01:34<03:03,  3.67it/s, loss=0.919, v_num=ts5c]tensor([4., 1., 1.], device='cuda:0')\n",
      "Epoch 0:  34%|███▍      | 349/1020 [01:35<03:02,  3.67it/s, loss=0.919, v_num=ts5c]tensor([4., 1., 1.], device='cuda:0')\n",
      "Epoch 0:  34%|███▍      | 350/1020 [01:35<03:02,  3.67it/s, loss=0.919, v_num=ts5c]tensor([4., 1., 1.], device='cuda:0')\n",
      "Epoch 0:  34%|███▍      | 351/1020 [01:35<03:02,  3.67it/s, loss=0.92, v_num=ts5c] tensor([4., 1., 1.], device='cuda:0')\n",
      "Epoch 0:  35%|███▍      | 352/1020 [01:35<03:02,  3.67it/s, loss=0.92, v_num=ts5c]tensor([4., 1., 1.], device='cuda:0')\n",
      "Epoch 0:  35%|███▍      | 353/1020 [01:36<03:01,  3.67it/s, loss=0.92, v_num=ts5c]tensor([4., 1., 1.], device='cuda:0')\n",
      "Epoch 0:  35%|███▍      | 354/1020 [01:36<03:01,  3.67it/s, loss=0.92, v_num=ts5c]tensor([4., 1., 1.], device='cuda:0')\n",
      "Epoch 0:  35%|███▍      | 355/1020 [01:36<03:01,  3.67it/s, loss=0.92, v_num=ts5c]tensor([4., 1., 1.], device='cuda:0')\n",
      "Epoch 0:  35%|███▍      | 356/1020 [01:37<03:00,  3.67it/s, loss=0.92, v_num=ts5c]tensor([4., 1., 1.], device='cuda:0')\n",
      "Epoch 0:  35%|███▌      | 357/1020 [01:37<03:00,  3.67it/s, loss=0.92, v_num=ts5c]tensor([4., 1., 1.], device='cuda:0')\n",
      "Epoch 0:  35%|███▌      | 358/1020 [01:37<03:00,  3.67it/s, loss=0.919, v_num=ts5c]tensor([4., 1., 1.], device='cuda:0')\n",
      "Epoch 0:  35%|███▌      | 359/1020 [01:37<03:00,  3.67it/s, loss=0.919, v_num=ts5c]tensor([4., 1., 1.], device='cuda:0')\n",
      "Epoch 0:  35%|███▌      | 360/1020 [01:38<02:59,  3.67it/s, loss=0.919, v_num=ts5c]tensor([4., 1., 1.], device='cuda:0')\n",
      "Epoch 0:  35%|███▌      | 361/1020 [01:38<02:59,  3.67it/s, loss=0.919, v_num=ts5c]tensor([4., 1., 1.], device='cuda:0')\n",
      "Epoch 0:  35%|███▌      | 362/1020 [01:38<02:59,  3.67it/s, loss=0.919, v_num=ts5c]tensor([4., 1., 1.], device='cuda:0')\n",
      "Epoch 0:  36%|███▌      | 363/1020 [01:38<02:59,  3.67it/s, loss=0.919, v_num=ts5c]tensor([4., 1., 1.], device='cuda:0')\n",
      "Epoch 0:  36%|███▌      | 364/1020 [01:39<02:58,  3.67it/s, loss=0.918, v_num=ts5c]tensor([4., 1., 1.], device='cuda:0')\n",
      "Epoch 0:  36%|███▌      | 365/1020 [01:39<02:58,  3.67it/s, loss=0.919, v_num=ts5c]tensor([4., 1., 1.], device='cuda:0')\n",
      "Epoch 0:  36%|███▌      | 366/1020 [01:39<02:58,  3.67it/s, loss=0.919, v_num=ts5c]tensor([4., 1., 1.], device='cuda:0')\n",
      "Epoch 0:  36%|███▌      | 367/1020 [01:40<02:57,  3.67it/s, loss=0.919, v_num=ts5c]tensor([4., 1., 1.], device='cuda:0')\n",
      "Epoch 0:  36%|███▌      | 368/1020 [01:40<02:57,  3.67it/s, loss=0.919, v_num=ts5c]tensor([4., 1., 1.], device='cuda:0')\n",
      "Epoch 0:  36%|███▌      | 369/1020 [01:40<02:57,  3.67it/s, loss=0.919, v_num=ts5c]tensor([4., 1., 1.], device='cuda:0')\n",
      "Epoch 0:  36%|███▋      | 370/1020 [01:40<02:57,  3.67it/s, loss=0.919, v_num=ts5c]tensor([4., 1., 1.], device='cuda:0')\n",
      "Epoch 0:  36%|███▋      | 371/1020 [01:41<02:56,  3.67it/s, loss=0.919, v_num=ts5c]tensor([4., 1., 1.], device='cuda:0')\n",
      "Epoch 0:  36%|███▋      | 372/1020 [01:41<02:56,  3.67it/s, loss=0.919, v_num=ts5c]tensor([4., 1., 1.], device='cuda:0')\n",
      "Epoch 0:  37%|███▋      | 373/1020 [01:41<02:56,  3.67it/s, loss=0.919, v_num=ts5c]tensor([4., 1., 1.], device='cuda:0')\n",
      "Epoch 0:  37%|███▋      | 374/1020 [01:41<02:55,  3.67it/s, loss=0.919, v_num=ts5c]tensor([4., 1., 1.], device='cuda:0')\n",
      "Epoch 0:  37%|███▋      | 375/1020 [01:42<02:55,  3.67it/s, loss=0.919, v_num=ts5c]tensor([4., 1., 1.], device='cuda:0')\n",
      "Epoch 0:  37%|███▋      | 376/1020 [01:42<02:55,  3.67it/s, loss=0.919, v_num=ts5c]tensor([4., 1., 1.], device='cuda:0')\n",
      "Epoch 0:  37%|███▋      | 377/1020 [01:42<02:55,  3.67it/s, loss=0.919, v_num=ts5c]tensor([4., 1., 1.], device='cuda:0')\n",
      "Epoch 0:  37%|███▋      | 378/1020 [01:42<02:54,  3.67it/s, loss=0.92, v_num=ts5c] tensor([4., 1., 1.], device='cuda:0')\n",
      "Epoch 0:  37%|███▋      | 379/1020 [01:43<02:54,  3.67it/s, loss=0.92, v_num=ts5c]tensor([4., 1., 1.], device='cuda:0')\n",
      "Epoch 0:  37%|███▋      | 380/1020 [01:43<02:54,  3.67it/s, loss=0.92, v_num=ts5c]tensor([4., 1., 1.], device='cuda:0')\n",
      "Epoch 0:  37%|███▋      | 381/1020 [01:43<02:54,  3.67it/s, loss=0.92, v_num=ts5c]tensor([4., 1., 1.], device='cuda:0')\n",
      "Epoch 0:  37%|███▋      | 382/1020 [01:44<02:53,  3.67it/s, loss=0.92, v_num=ts5c]tensor([4., 1., 1.], device='cuda:0')\n",
      "Epoch 0:  38%|███▊      | 383/1020 [01:44<02:53,  3.67it/s, loss=0.92, v_num=ts5c]tensor([4., 1., 1.], device='cuda:0')\n",
      "Epoch 0:  38%|███▊      | 384/1020 [01:44<02:53,  3.67it/s, loss=0.92, v_num=ts5c]tensor([4., 1., 1.], device='cuda:0')\n",
      "Epoch 0:  38%|███▊      | 385/1020 [01:44<02:52,  3.67it/s, loss=0.92, v_num=ts5c]tensor([4., 1., 1.], device='cuda:0')\n",
      "Epoch 0:  38%|███▊      | 386/1020 [01:45<02:52,  3.67it/s, loss=0.919, v_num=ts5c]tensor([4., 1., 1.], device='cuda:0')\n",
      "Epoch 0:  38%|███▊      | 387/1020 [01:45<02:52,  3.67it/s, loss=0.919, v_num=ts5c]tensor([4., 1., 1.], device='cuda:0')\n",
      "Epoch 0:  38%|███▊      | 388/1020 [01:45<02:52,  3.67it/s, loss=0.919, v_num=ts5c]tensor([4., 1., 1.], device='cuda:0')\n",
      "Epoch 0:  38%|███▊      | 389/1020 [01:45<02:51,  3.67it/s, loss=0.919, v_num=ts5c]tensor([4., 1., 1.], device='cuda:0')\n",
      "Epoch 0:  38%|███▊      | 390/1020 [01:46<02:51,  3.67it/s, loss=0.919, v_num=ts5c]tensor([4., 1., 1.], device='cuda:0')\n",
      "Epoch 0:  38%|███▊      | 391/1020 [01:46<02:51,  3.67it/s, loss=0.919, v_num=ts5c]tensor([4., 1., 1.], device='cuda:0')\n",
      "Epoch 0:  38%|███▊      | 392/1020 [01:46<02:51,  3.67it/s, loss=0.919, v_num=ts5c]tensor([4., 1., 1.], device='cuda:0')\n",
      "Epoch 0:  39%|███▊      | 393/1020 [01:47<02:50,  3.67it/s, loss=0.919, v_num=ts5c]tensor([4., 1., 1.], device='cuda:0')\n",
      "Epoch 0:  39%|███▊      | 394/1020 [01:47<02:50,  3.67it/s, loss=0.919, v_num=ts5c]tensor([4., 1., 1.], device='cuda:0')\n",
      "Epoch 0:  39%|███▊      | 395/1020 [01:47<02:50,  3.67it/s, loss=0.918, v_num=ts5c]tensor([4., 1., 1.], device='cuda:0')\n",
      "Epoch 0:  39%|███▉      | 396/1020 [01:47<02:49,  3.67it/s, loss=0.919, v_num=ts5c]tensor([4., 1., 1.], device='cuda:0')\n",
      "Epoch 0:  39%|███▉      | 397/1020 [01:48<02:49,  3.67it/s, loss=0.919, v_num=ts5c]tensor([4., 1., 1.], device='cuda:0')\n",
      "Epoch 0:  39%|███▉      | 398/1020 [01:48<02:49,  3.67it/s, loss=0.918, v_num=ts5c]tensor([4., 1., 1.], device='cuda:0')\n",
      "Epoch 0:  39%|███▉      | 399/1020 [01:48<02:49,  3.67it/s, loss=0.918, v_num=ts5c]tensor([4., 1., 1.], device='cuda:0')\n",
      "Epoch 0:  39%|███▉      | 400/1020 [01:48<02:48,  3.67it/s, loss=0.918, v_num=ts5c]tensor([4., 1., 1.], device='cuda:0')\n",
      "Epoch 0:  39%|███▉      | 401/1020 [01:49<02:48,  3.67it/s, loss=0.919, v_num=ts5c]tensor([4., 1., 1.], device='cuda:0')\n",
      "Epoch 0:  39%|███▉      | 402/1020 [01:49<02:48,  3.67it/s, loss=0.919, v_num=ts5c]tensor([4., 1., 1.], device='cuda:0')\n",
      "Epoch 0:  40%|███▉      | 403/1020 [01:49<02:48,  3.67it/s, loss=0.918, v_num=ts5c]tensor([4., 1., 1.], device='cuda:0')\n",
      "Epoch 0:  40%|███▉      | 404/1020 [01:50<02:47,  3.67it/s, loss=0.918, v_num=ts5c]tensor([4., 1., 1.], device='cuda:0')\n",
      "Epoch 0:  40%|███▉      | 405/1020 [01:50<02:47,  3.67it/s, loss=0.918, v_num=ts5c]tensor([4., 1., 1.], device='cuda:0')\n",
      "Epoch 0:  40%|███▉      | 406/1020 [01:50<02:47,  3.67it/s, loss=0.918, v_num=ts5c]tensor([4., 1., 1.], device='cuda:0')\n",
      "Epoch 0:  40%|███▉      | 407/1020 [01:50<02:47,  3.67it/s, loss=0.918, v_num=ts5c]tensor([4., 1., 1.], device='cuda:0')\n",
      "Epoch 0:  40%|████      | 408/1020 [01:51<02:46,  3.67it/s, loss=0.918, v_num=ts5c]tensor([4., 1., 1.], device='cuda:0')\n",
      "Epoch 0:  40%|████      | 409/1020 [01:51<02:46,  3.67it/s, loss=0.918, v_num=ts5c]tensor([4., 1., 1.], device='cuda:0')\n",
      "Epoch 0:  40%|████      | 410/1020 [01:51<02:46,  3.67it/s, loss=0.918, v_num=ts5c]tensor([4., 1., 1.], device='cuda:0')\n",
      "Epoch 0:  40%|████      | 411/1020 [01:52<02:46,  3.67it/s, loss=0.918, v_num=ts5c]tensor([4., 1., 1.], device='cuda:0')\n",
      "Epoch 0:  40%|████      | 412/1020 [01:52<02:45,  3.67it/s, loss=0.918, v_num=ts5c]tensor([4., 1., 1.], device='cuda:0')\n",
      "Epoch 0:  40%|████      | 413/1020 [01:52<02:45,  3.67it/s, loss=0.918, v_num=ts5c]tensor([4., 1., 1.], device='cuda:0')\n",
      "Epoch 0:  41%|████      | 414/1020 [01:52<02:45,  3.67it/s, loss=0.918, v_num=ts5c]tensor([4., 1., 1.], device='cuda:0')\n",
      "Epoch 0:  41%|████      | 415/1020 [01:53<02:44,  3.67it/s, loss=0.918, v_num=ts5c]tensor([4., 1., 1.], device='cuda:0')\n",
      "Epoch 0:  41%|████      | 416/1020 [01:53<02:44,  3.67it/s, loss=0.918, v_num=ts5c]tensor([4., 1., 1.], device='cuda:0')\n",
      "Epoch 0:  41%|████      | 417/1020 [01:53<02:44,  3.67it/s, loss=0.918, v_num=ts5c]tensor([4., 1., 1.], device='cuda:0')\n",
      "Epoch 0:  41%|████      | 418/1020 [01:53<02:44,  3.67it/s, loss=0.918, v_num=ts5c]tensor([4., 1., 1.], device='cuda:0')\n",
      "Epoch 0:  41%|████      | 419/1020 [01:54<02:43,  3.67it/s, loss=0.918, v_num=ts5c]tensor([4., 1., 1.], device='cuda:0')\n",
      "Epoch 0:  41%|████      | 420/1020 [01:54<02:43,  3.67it/s, loss=0.919, v_num=ts5c]tensor([4., 1., 1.], device='cuda:0')\n",
      "Epoch 0:  41%|████▏     | 421/1020 [01:54<02:43,  3.67it/s, loss=0.918, v_num=ts5c]tensor([4., 1., 1.], device='cuda:0')\n",
      "Epoch 0:  41%|████▏     | 422/1020 [01:54<02:42,  3.67it/s, loss=0.919, v_num=ts5c]tensor([4., 1., 1.], device='cuda:0')\n",
      "Epoch 0:  41%|████▏     | 423/1020 [01:55<02:42,  3.67it/s, loss=0.919, v_num=ts5c]tensor([4., 1., 1.], device='cuda:0')\n",
      "Epoch 0:  42%|████▏     | 424/1020 [01:55<02:42,  3.67it/s, loss=0.919, v_num=ts5c]tensor([4., 1., 1.], device='cuda:0')\n",
      "Epoch 0:  42%|████▏     | 425/1020 [01:55<02:42,  3.67it/s, loss=0.92, v_num=ts5c] tensor([4., 1., 1.], device='cuda:0')\n",
      "Epoch 0:  42%|████▏     | 426/1020 [01:55<02:41,  3.67it/s, loss=0.92, v_num=ts5c]tensor([4., 1., 1.], device='cuda:0')\n",
      "Epoch 0:  42%|████▏     | 427/1020 [01:56<02:41,  3.67it/s, loss=0.92, v_num=ts5c]tensor([4., 1., 1.], device='cuda:0')\n",
      "Epoch 0:  42%|████▏     | 428/1020 [01:56<02:41,  3.67it/s, loss=0.92, v_num=ts5c]tensor([4., 1., 1.], device='cuda:0')\n",
      "Epoch 0:  42%|████▏     | 429/1020 [01:56<02:40,  3.67it/s, loss=0.92, v_num=ts5c]tensor([4., 1., 1.], device='cuda:0')\n",
      "Epoch 0:  42%|████▏     | 430/1020 [01:57<02:40,  3.67it/s, loss=0.92, v_num=ts5c]tensor([4., 2., 1.], device='cuda:0')\n",
      "Epoch 0:  42%|████▏     | 431/1020 [01:57<02:40,  3.67it/s, loss=0.92, v_num=ts5c]tensor([4., 2., 1.], device='cuda:0')\n",
      "Epoch 0:  42%|████▏     | 432/1020 [01:57<02:40,  3.67it/s, loss=0.92, v_num=ts5c]tensor([4., 2., 1.], device='cuda:0')\n",
      "Epoch 0:  42%|████▏     | 433/1020 [01:57<02:39,  3.67it/s, loss=0.92, v_num=ts5c]tensor([4., 2., 1.], device='cuda:0')\n",
      "Epoch 0:  43%|████▎     | 434/1020 [01:58<02:39,  3.67it/s, loss=0.92, v_num=ts5c]tensor([4., 2., 1.], device='cuda:0')\n",
      "Epoch 0:  43%|████▎     | 435/1020 [01:58<02:39,  3.67it/s, loss=0.919, v_num=ts5c]tensor([4., 2., 1.], device='cuda:0')\n",
      "Epoch 0:  43%|████▎     | 436/1020 [01:58<02:39,  3.67it/s, loss=0.919, v_num=ts5c]tensor([4., 1., 1.], device='cuda:0')\n",
      "Epoch 0:  43%|████▎     | 437/1020 [01:59<02:38,  3.67it/s, loss=0.919, v_num=ts5c]tensor([4., 1., 1.], device='cuda:0')\n",
      "Epoch 0:  43%|████▎     | 438/1020 [01:59<02:38,  3.67it/s, loss=0.919, v_num=ts5c]tensor([4., 1., 1.], device='cuda:0')\n",
      "Epoch 0:  43%|████▎     | 439/1020 [01:59<02:38,  3.67it/s, loss=0.919, v_num=ts5c]tensor([4., 1., 1.], device='cuda:0')\n",
      "Epoch 0:  43%|████▎     | 440/1020 [01:59<02:37,  3.67it/s, loss=0.919, v_num=ts5c]tensor([4., 1., 1.], device='cuda:0')\n",
      "Epoch 0:  43%|████▎     | 441/1020 [02:00<02:37,  3.67it/s, loss=0.919, v_num=ts5c]tensor([4., 1., 1.], device='cuda:0')\n",
      "Epoch 0:  43%|████▎     | 442/1020 [02:00<02:37,  3.67it/s, loss=0.919, v_num=ts5c]tensor([4., 1., 1.], device='cuda:0')\n",
      "Epoch 0:  43%|████▎     | 443/1020 [02:00<02:37,  3.67it/s, loss=0.918, v_num=ts5c]tensor([4., 1., 1.], device='cuda:0')\n",
      "Epoch 0:  44%|████▎     | 444/1020 [02:00<02:36,  3.67it/s, loss=0.918, v_num=ts5c]tensor([4., 1., 1.], device='cuda:0')\n",
      "Epoch 0:  44%|████▎     | 445/1020 [02:01<02:36,  3.67it/s, loss=0.918, v_num=ts5c]tensor([4., 2., 1.], device='cuda:0')\n",
      "Epoch 0:  44%|████▎     | 446/1020 [02:01<02:36,  3.67it/s, loss=0.918, v_num=ts5c]tensor([4., 1., 1.], device='cuda:0')\n",
      "Epoch 0:  44%|████▍     | 447/1020 [02:01<02:36,  3.67it/s, loss=0.918, v_num=ts5c]tensor([4., 1., 1.], device='cuda:0')\n",
      "Epoch 0:  44%|████▍     | 448/1020 [02:02<02:35,  3.67it/s, loss=0.918, v_num=ts5c]tensor([4., 1., 1.], device='cuda:0')\n",
      "Epoch 0:  44%|████▍     | 449/1020 [02:02<02:35,  3.67it/s, loss=0.917, v_num=ts5c]tensor([4., 2., 1.], device='cuda:0')\n",
      "Epoch 0:  44%|████▍     | 450/1020 [02:02<02:35,  3.67it/s, loss=0.917, v_num=ts5c]tensor([4., 2., 1.], device='cuda:0')\n",
      "Epoch 0:  44%|████▍     | 451/1020 [02:02<02:35,  3.67it/s, loss=0.917, v_num=ts5c]tensor([4., 1., 1.], device='cuda:0')\n",
      "Epoch 0:  44%|████▍     | 452/1020 [02:03<02:34,  3.67it/s, loss=0.918, v_num=ts5c]tensor([4., 2., 1.], device='cuda:0')\n",
      "Epoch 0:  44%|████▍     | 453/1020 [02:03<02:34,  3.67it/s, loss=0.917, v_num=ts5c]tensor([4., 2., 1.], device='cuda:0')\n",
      "Epoch 0:  45%|████▍     | 454/1020 [02:03<02:34,  3.67it/s, loss=0.918, v_num=ts5c]tensor([4., 2., 1.], device='cuda:0')\n",
      "Epoch 0:  45%|████▍     | 455/1020 [02:03<02:33,  3.67it/s, loss=0.918, v_num=ts5c]tensor([4., 2., 1.], device='cuda:0')\n",
      "Epoch 0:  45%|████▍     | 456/1020 [02:04<02:33,  3.67it/s, loss=0.918, v_num=ts5c]tensor([4., 2., 1.], device='cuda:0')\n",
      "Epoch 0:  45%|████▍     | 457/1020 [02:04<02:33,  3.67it/s, loss=0.918, v_num=ts5c]tensor([4., 2., 1.], device='cuda:0')\n",
      "Epoch 0:  45%|████▍     | 458/1020 [02:04<02:33,  3.67it/s, loss=0.918, v_num=ts5c]tensor([4., 2., 1.], device='cuda:0')\n",
      "Epoch 0:  45%|████▌     | 459/1020 [02:04<02:32,  3.67it/s, loss=0.918, v_num=ts5c]tensor([4., 2., 1.], device='cuda:0')\n",
      "Epoch 0:  45%|████▌     | 460/1020 [02:05<02:32,  3.67it/s, loss=0.918, v_num=ts5c]tensor([4., 2., 1.], device='cuda:0')\n",
      "Epoch 0:  45%|████▌     | 461/1020 [02:05<02:32,  3.67it/s, loss=0.918, v_num=ts5c]tensor([4., 2., 1.], device='cuda:0')\n",
      "Epoch 0:  45%|████▌     | 462/1020 [02:05<02:31,  3.67it/s, loss=0.918, v_num=ts5c]tensor([4., 2., 1.], device='cuda:0')\n",
      "Epoch 0:  45%|████▌     | 463/1020 [02:06<02:31,  3.67it/s, loss=0.918, v_num=ts5c]tensor([4., 2., 1.], device='cuda:0')\n",
      "Epoch 0:  45%|████▌     | 464/1020 [02:06<02:31,  3.67it/s, loss=0.918, v_num=ts5c]tensor([4., 2., 1.], device='cuda:0')\n",
      "Epoch 0:  46%|████▌     | 465/1020 [02:06<02:31,  3.67it/s, loss=0.918, v_num=ts5c]tensor([4., 2., 1.], device='cuda:0')\n",
      "Epoch 0:  46%|████▌     | 466/1020 [02:07<02:31,  3.67it/s, loss=0.917, v_num=ts5c]tensor([4., 1., 1.], device='cuda:0')\n",
      "Epoch 0:  46%|████▌     | 467/1020 [02:07<02:30,  3.67it/s, loss=0.917, v_num=ts5c]tensor([4., 2., 1.], device='cuda:0')\n",
      "Epoch 0:  46%|████▌     | 468/1020 [02:07<02:30,  3.67it/s, loss=0.917, v_num=ts5c]tensor([4., 2., 1.], device='cuda:0')\n",
      "Epoch 0:  46%|████▌     | 469/1020 [02:07<02:30,  3.67it/s, loss=0.918, v_num=ts5c]tensor([4., 2., 1.], device='cuda:0')\n",
      "Epoch 0:  46%|████▌     | 470/1020 [02:08<02:29,  3.67it/s, loss=0.918, v_num=ts5c]tensor([4., 2., 1.], device='cuda:0')\n",
      "Epoch 0:  46%|████▌     | 471/1020 [02:08<02:29,  3.67it/s, loss=0.918, v_num=ts5c]tensor([4., 2., 1.], device='cuda:0')\n",
      "Epoch 0:  46%|████▋     | 472/1020 [02:08<02:29,  3.67it/s, loss=0.918, v_num=ts5c]tensor([4., 2., 1.], device='cuda:0')\n",
      "Epoch 0:  46%|████▋     | 473/1020 [02:08<02:29,  3.67it/s, loss=0.917, v_num=ts5c]tensor([4., 2., 1.], device='cuda:0')\n",
      "Epoch 0:  46%|████▋     | 474/1020 [02:09<02:28,  3.67it/s, loss=0.917, v_num=ts5c]tensor([4., 2., 1.], device='cuda:0')\n",
      "Epoch 0:  47%|████▋     | 475/1020 [02:09<02:28,  3.67it/s, loss=0.918, v_num=ts5c]tensor([4., 2., 1.], device='cuda:0')\n",
      "Epoch 0:  47%|████▋     | 476/1020 [02:09<02:28,  3.67it/s, loss=0.917, v_num=ts5c]tensor([4., 2., 1.], device='cuda:0')\n",
      "Epoch 0:  47%|████▋     | 477/1020 [02:09<02:27,  3.67it/s, loss=0.917, v_num=ts5c]tensor([4., 2., 1.], device='cuda:0')\n",
      "Epoch 0:  47%|████▋     | 478/1020 [02:10<02:27,  3.67it/s, loss=0.917, v_num=ts5c]tensor([4., 2., 1.], device='cuda:0')\n",
      "Epoch 0:  47%|████▋     | 479/1020 [02:10<02:27,  3.67it/s, loss=0.917, v_num=ts5c]tensor([4., 2., 1.], device='cuda:0')\n",
      "Epoch 0:  47%|████▋     | 480/1020 [02:10<02:27,  3.67it/s, loss=0.917, v_num=ts5c]tensor([4., 2., 1.], device='cuda:0')\n",
      "Epoch 0:  47%|████▋     | 481/1020 [02:11<02:26,  3.67it/s, loss=0.917, v_num=ts5c]tensor([4., 2., 1.], device='cuda:0')\n",
      "Epoch 0:  47%|████▋     | 482/1020 [02:11<02:26,  3.67it/s, loss=0.917, v_num=ts5c]tensor([4., 2., 1.], device='cuda:0')\n",
      "Epoch 0:  47%|████▋     | 483/1020 [02:11<02:26,  3.67it/s, loss=0.917, v_num=ts5c]tensor([4., 2., 1.], device='cuda:0')\n",
      "Epoch 0:  47%|████▋     | 484/1020 [02:11<02:26,  3.67it/s, loss=0.917, v_num=ts5c]tensor([4., 2., 1.], device='cuda:0')\n",
      "Epoch 0:  48%|████▊     | 485/1020 [02:12<02:25,  3.67it/s, loss=0.917, v_num=ts5c]tensor([4., 2., 1.], device='cuda:0')\n",
      "Epoch 0:  48%|████▊     | 486/1020 [02:12<02:25,  3.67it/s, loss=0.918, v_num=ts5c]tensor([4., 2., 1.], device='cuda:0')\n",
      "Epoch 0:  48%|████▊     | 487/1020 [02:12<02:25,  3.67it/s, loss=0.918, v_num=ts5c]tensor([4., 2., 1.], device='cuda:0')\n",
      "Epoch 0:  48%|████▊     | 488/1020 [02:12<02:24,  3.67it/s, loss=0.918, v_num=ts5c]tensor([4., 2., 1.], device='cuda:0')\n",
      "Epoch 0:  48%|████▊     | 489/1020 [02:13<02:24,  3.67it/s, loss=0.917, v_num=ts5c]tensor([4., 2., 1.], device='cuda:0')\n",
      "Epoch 0:  48%|████▊     | 490/1020 [02:13<02:24,  3.67it/s, loss=0.917, v_num=ts5c]tensor([4., 2., 1.], device='cuda:0')\n",
      "Epoch 0:  48%|████▊     | 491/1020 [02:13<02:24,  3.67it/s, loss=0.917, v_num=ts5c]tensor([4., 2., 1.], device='cuda:0')\n",
      "Epoch 0:  48%|████▊     | 492/1020 [02:14<02:23,  3.67it/s, loss=0.917, v_num=ts5c]tensor([4., 2., 1.], device='cuda:0')\n",
      "Epoch 0:  48%|████▊     | 493/1020 [02:14<02:23,  3.67it/s, loss=0.917, v_num=ts5c]tensor([4., 2., 1.], device='cuda:0')\n",
      "Epoch 0:  48%|████▊     | 494/1020 [02:14<02:23,  3.67it/s, loss=0.917, v_num=ts5c]tensor([4., 2., 1.], device='cuda:0')\n",
      "Epoch 0:  49%|████▊     | 495/1020 [02:14<02:23,  3.67it/s, loss=0.917, v_num=ts5c]tensor([4., 2., 1.], device='cuda:0')\n",
      "Epoch 0:  49%|████▊     | 496/1020 [02:15<02:22,  3.67it/s, loss=0.917, v_num=ts5c]tensor([4., 2., 1.], device='cuda:0')\n",
      "Epoch 0:  49%|████▊     | 497/1020 [02:15<02:22,  3.67it/s, loss=0.917, v_num=ts5c]tensor([4., 2., 1.], device='cuda:0')\n",
      "Epoch 0:  49%|████▉     | 498/1020 [02:15<02:22,  3.67it/s, loss=0.917, v_num=ts5c]tensor([4., 2., 1.], device='cuda:0')\n",
      "Epoch 0:  49%|████▉     | 499/1020 [02:16<02:22,  3.67it/s, loss=0.917, v_num=ts5c]tensor([4., 2., 1.], device='cuda:0')\n",
      "Epoch 0:  49%|████▉     | 500/1020 [02:16<02:21,  3.67it/s, loss=0.917, v_num=ts5c]tensor([4., 2., 1.], device='cuda:0')\n",
      "Epoch 0:  49%|████▉     | 501/1020 [02:16<02:21,  3.67it/s, loss=0.916, v_num=ts5c]tensor([4., 2., 1.], device='cuda:0')\n",
      "Epoch 0:  49%|████▉     | 502/1020 [02:16<02:21,  3.67it/s, loss=0.917, v_num=ts5c]tensor([4., 2., 1.], device='cuda:0')\n",
      "Epoch 0:  49%|████▉     | 503/1020 [02:17<02:21,  3.67it/s, loss=0.917, v_num=ts5c]tensor([4., 2., 1.], device='cuda:0')\n",
      "Epoch 0:  49%|████▉     | 504/1020 [02:17<02:20,  3.67it/s, loss=0.917, v_num=ts5c]tensor([4., 2., 1.], device='cuda:0')\n",
      "Epoch 0:  50%|████▉     | 505/1020 [02:17<02:20,  3.67it/s, loss=0.917, v_num=ts5c]tensor([4., 2., 1.], device='cuda:0')\n",
      "Epoch 0:  50%|████▉     | 506/1020 [02:18<02:20,  3.67it/s, loss=0.916, v_num=ts5c]tensor([4., 2., 1.], device='cuda:0')\n",
      "Epoch 0:  50%|████▉     | 507/1020 [02:18<02:19,  3.67it/s, loss=0.916, v_num=ts5c]tensor([4., 2., 1.], device='cuda:0')\n",
      "Epoch 0:  50%|████▉     | 508/1020 [02:18<02:19,  3.67it/s, loss=0.916, v_num=ts5c]tensor([4., 2., 1.], device='cuda:0')\n",
      "Epoch 0:  50%|████▉     | 509/1020 [02:18<02:19,  3.67it/s, loss=0.917, v_num=ts5c]tensor([4., 2., 1.], device='cuda:0')\n",
      "Epoch 0:  50%|█████     | 510/1020 [02:19<02:19,  3.67it/s, loss=0.917, v_num=ts5c]tensor([4., 2., 1.], device='cuda:0')\n",
      "Epoch 0:  50%|█████     | 511/1020 [02:19<02:18,  3.67it/s, loss=0.917, v_num=ts5c]tensor([4., 2., 1.], device='cuda:0')\n",
      "Epoch 0:  50%|█████     | 512/1020 [02:19<02:18,  3.67it/s, loss=0.917, v_num=ts5c]tensor([4., 2., 1.], device='cuda:0')\n",
      "Epoch 0:  50%|█████     | 513/1020 [02:19<02:18,  3.67it/s, loss=0.917, v_num=ts5c]tensor([4., 2., 1.], device='cuda:0')\n",
      "Epoch 0:  50%|█████     | 514/1020 [02:20<02:17,  3.67it/s, loss=0.917, v_num=ts5c]tensor([4., 2., 1.], device='cuda:0')\n",
      "Epoch 0:  50%|█████     | 515/1020 [02:20<02:17,  3.67it/s, loss=0.917, v_num=ts5c]tensor([4., 2., 1.], device='cuda:0')\n",
      "Epoch 0:  51%|█████     | 516/1020 [02:20<02:17,  3.67it/s, loss=0.917, v_num=ts5c]tensor([4., 2., 1.], device='cuda:0')\n",
      "Epoch 0:  51%|█████     | 517/1020 [02:20<02:17,  3.67it/s, loss=0.917, v_num=ts5c]tensor([4., 2., 1.], device='cuda:0')\n",
      "Epoch 0:  51%|█████     | 518/1020 [02:21<02:16,  3.67it/s, loss=0.917, v_num=ts5c]tensor([4., 2., 1.], device='cuda:0')\n",
      "Epoch 0:  51%|█████     | 519/1020 [02:21<02:16,  3.67it/s, loss=0.917, v_num=ts5c]tensor([4., 2., 1.], device='cuda:0')\n",
      "Epoch 0:  51%|█████     | 520/1020 [02:21<02:16,  3.67it/s, loss=0.917, v_num=ts5c]tensor([4., 2., 1.], device='cuda:0')\n",
      "Epoch 0:  51%|█████     | 521/1020 [02:22<02:16,  3.67it/s, loss=0.917, v_num=ts5c]tensor([4., 2., 1.], device='cuda:0')\n",
      "Epoch 0:  51%|█████     | 522/1020 [02:22<02:15,  3.67it/s, loss=0.917, v_num=ts5c]tensor([4., 2., 1.], device='cuda:0')\n",
      "Epoch 0:  51%|█████▏    | 523/1020 [02:22<02:15,  3.67it/s, loss=0.917, v_num=ts5c]tensor([4., 2., 1.], device='cuda:0')\n",
      "Epoch 0:  51%|█████▏    | 524/1020 [02:22<02:15,  3.67it/s, loss=0.918, v_num=ts5c]tensor([4., 2., 1.], device='cuda:0')\n",
      "Epoch 0:  51%|█████▏    | 525/1020 [02:23<02:14,  3.67it/s, loss=0.918, v_num=ts5c]tensor([4., 2., 1.], device='cuda:0')\n",
      "Epoch 0:  52%|█████▏    | 526/1020 [02:23<02:14,  3.67it/s, loss=0.918, v_num=ts5c]tensor([4., 2., 1.], device='cuda:0')\n",
      "Epoch 0:  52%|█████▏    | 527/1020 [02:23<02:14,  3.67it/s, loss=0.918, v_num=ts5c]tensor([4., 2., 1.], device='cuda:0')\n",
      "Epoch 0:  52%|█████▏    | 528/1020 [02:23<02:14,  3.67it/s, loss=0.918, v_num=ts5c]tensor([4., 2., 1.], device='cuda:0')\n",
      "Epoch 0:  52%|█████▏    | 529/1020 [02:24<02:13,  3.67it/s, loss=0.918, v_num=ts5c]tensor([4., 2., 1.], device='cuda:0')\n",
      "Epoch 0:  52%|█████▏    | 530/1020 [02:24<02:13,  3.67it/s, loss=0.917, v_num=ts5c]tensor([4., 2., 1.], device='cuda:0')\n",
      "Epoch 0:  52%|█████▏    | 531/1020 [02:24<02:13,  3.67it/s, loss=0.917, v_num=ts5c]tensor([4., 2., 1.], device='cuda:0')\n",
      "Epoch 0:  52%|█████▏    | 532/1020 [02:24<02:12,  3.67it/s, loss=0.917, v_num=ts5c]tensor([4., 2., 1.], device='cuda:0')\n",
      "Epoch 0:  52%|█████▏    | 533/1020 [02:25<02:12,  3.67it/s, loss=0.917, v_num=ts5c]tensor([4., 2., 1.], device='cuda:0')\n",
      "Epoch 0:  52%|█████▏    | 534/1020 [02:25<02:12,  3.67it/s, loss=0.917, v_num=ts5c]tensor([4., 2., 1.], device='cuda:0')\n",
      "Epoch 0:  52%|█████▏    | 535/1020 [02:25<02:12,  3.67it/s, loss=0.917, v_num=ts5c]tensor([4., 2., 1.], device='cuda:0')\n",
      "Epoch 0:  53%|█████▎    | 536/1020 [02:26<02:11,  3.67it/s, loss=0.918, v_num=ts5c]tensor([4., 2., 1.], device='cuda:0')\n",
      "Epoch 0:  53%|█████▎    | 537/1020 [02:26<02:11,  3.67it/s, loss=0.918, v_num=ts5c]tensor([4., 2., 1.], device='cuda:0')\n",
      "Epoch 0:  53%|█████▎    | 538/1020 [02:26<02:11,  3.67it/s, loss=0.918, v_num=ts5c]tensor([4., 2., 1.], device='cuda:0')\n",
      "Epoch 0:  53%|█████▎    | 539/1020 [02:26<02:11,  3.67it/s, loss=0.918, v_num=ts5c]tensor([4., 2., 1.], device='cuda:0')\n",
      "Epoch 0:  53%|█████▎    | 540/1020 [02:27<02:10,  3.67it/s, loss=0.918, v_num=ts5c]tensor([4., 2., 1.], device='cuda:0')\n",
      "Epoch 0:  53%|█████▎    | 541/1020 [02:27<02:10,  3.67it/s, loss=0.918, v_num=ts5c]tensor([4., 2., 1.], device='cuda:0')\n",
      "Epoch 0:  53%|█████▎    | 542/1020 [02:27<02:10,  3.67it/s, loss=0.918, v_num=ts5c]tensor([4., 2., 1.], device='cuda:0')\n",
      "Epoch 0:  53%|█████▎    | 543/1020 [02:28<02:10,  3.67it/s, loss=0.918, v_num=ts5c]tensor([4., 2., 1.], device='cuda:0')\n",
      "Epoch 0:  53%|█████▎    | 544/1020 [02:28<02:09,  3.67it/s, loss=0.918, v_num=ts5c]tensor([4., 2., 1.], device='cuda:0')\n",
      "Epoch 0:  53%|█████▎    | 545/1020 [02:28<02:09,  3.67it/s, loss=0.918, v_num=ts5c]tensor([4., 2., 1.], device='cuda:0')\n",
      "Epoch 0:  54%|█████▎    | 546/1020 [02:28<02:09,  3.67it/s, loss=0.918, v_num=ts5c]tensor([4., 2., 1.], device='cuda:0')\n",
      "Epoch 0:  54%|█████▎    | 547/1020 [02:29<02:08,  3.67it/s, loss=0.918, v_num=ts5c]tensor([4., 2., 1.], device='cuda:0')\n",
      "Epoch 0:  54%|█████▎    | 548/1020 [02:29<02:08,  3.67it/s, loss=0.918, v_num=ts5c]tensor([4., 2., 1.], device='cuda:0')\n",
      "Epoch 0:  54%|█████▍    | 549/1020 [02:29<02:08,  3.67it/s, loss=0.918, v_num=ts5c]tensor([4., 2., 1.], device='cuda:0')\n",
      "Epoch 0:  54%|█████▍    | 550/1020 [02:29<02:08,  3.67it/s, loss=0.918, v_num=ts5c]tensor([4., 2., 1.], device='cuda:0')\n",
      "Epoch 0:  54%|█████▍    | 551/1020 [02:30<02:07,  3.67it/s, loss=0.918, v_num=ts5c]tensor([4., 2., 1.], device='cuda:0')\n",
      "Epoch 0:  54%|█████▍    | 552/1020 [02:30<02:07,  3.67it/s, loss=0.918, v_num=ts5c]tensor([4., 2., 1.], device='cuda:0')\n",
      "Epoch 0:  54%|█████▍    | 553/1020 [02:30<02:07,  3.67it/s, loss=0.918, v_num=ts5c]tensor([4., 2., 1.], device='cuda:0')\n",
      "Epoch 0:  54%|█████▍    | 554/1020 [02:30<02:06,  3.67it/s, loss=0.917, v_num=ts5c]tensor([4., 2., 1.], device='cuda:0')\n",
      "Epoch 0:  54%|█████▍    | 555/1020 [02:31<02:06,  3.67it/s, loss=0.917, v_num=ts5c]tensor([4., 2., 1.], device='cuda:0')\n",
      "Epoch 0:  55%|█████▍    | 556/1020 [02:31<02:06,  3.67it/s, loss=0.917, v_num=ts5c]tensor([4., 2., 1.], device='cuda:0')\n",
      "Epoch 0:  55%|█████▍    | 557/1020 [02:31<02:06,  3.67it/s, loss=0.917, v_num=ts5c]tensor([4., 2., 1.], device='cuda:0')\n",
      "Epoch 0:  55%|█████▍    | 558/1020 [02:31<02:05,  3.67it/s, loss=0.917, v_num=ts5c]tensor([4., 2., 1.], device='cuda:0')\n",
      "Epoch 0:  55%|█████▍    | 559/1020 [02:32<02:05,  3.67it/s, loss=0.918, v_num=ts5c]tensor([4., 2., 1.], device='cuda:0')\n",
      "Epoch 0:  55%|█████▍    | 560/1020 [02:32<02:05,  3.67it/s, loss=0.917, v_num=ts5c]tensor([4., 2., 1.], device='cuda:0')\n",
      "Epoch 0:  55%|█████▌    | 561/1020 [02:32<02:04,  3.67it/s, loss=0.917, v_num=ts5c]tensor([4., 2., 1.], device='cuda:0')\n",
      "Epoch 0:  55%|█████▌    | 562/1020 [02:32<02:04,  3.67it/s, loss=0.917, v_num=ts5c]tensor([4., 2., 1.], device='cuda:0')\n",
      "Epoch 0:  55%|█████▌    | 563/1020 [02:33<02:04,  3.67it/s, loss=0.917, v_num=ts5c]tensor([4., 2., 1.], device='cuda:0')\n",
      "Epoch 0:  55%|█████▌    | 564/1020 [02:33<02:04,  3.67it/s, loss=0.918, v_num=ts5c]tensor([4., 2., 1.], device='cuda:0')\n",
      "Epoch 0:  55%|█████▌    | 565/1020 [02:33<02:03,  3.68it/s, loss=0.918, v_num=ts5c]tensor([4., 2., 1.], device='cuda:0')\n",
      "Epoch 0:  55%|█████▌    | 566/1020 [02:33<02:03,  3.68it/s, loss=0.917, v_num=ts5c]tensor([4., 2., 1.], device='cuda:0')\n",
      "Epoch 0:  56%|█████▌    | 567/1020 [02:34<02:03,  3.67it/s, loss=0.917, v_num=ts5c]tensor([4., 2., 1.], device='cuda:0')\n",
      "Epoch 0:  56%|█████▌    | 568/1020 [02:34<02:02,  3.68it/s, loss=0.917, v_num=ts5c]tensor([4., 2., 1.], device='cuda:0')\n",
      "Epoch 0:  56%|█████▌    | 569/1020 [02:34<02:02,  3.68it/s, loss=0.917, v_num=ts5c]tensor([4., 2., 1.], device='cuda:0')\n",
      "Epoch 0:  56%|█████▌    | 570/1020 [02:35<02:02,  3.67it/s, loss=0.917, v_num=ts5c]tensor([4., 2., 1.], device='cuda:0')\n",
      "Epoch 0:  56%|█████▌    | 571/1020 [02:35<02:02,  3.68it/s, loss=0.917, v_num=ts5c]tensor([4., 2., 1.], device='cuda:0')\n",
      "Epoch 0:  56%|█████▌    | 572/1020 [02:35<02:01,  3.68it/s, loss=0.917, v_num=ts5c]tensor([4., 2., 1.], device='cuda:0')\n",
      "Epoch 0:  56%|█████▌    | 573/1020 [02:35<02:01,  3.68it/s, loss=0.917, v_num=ts5c]tensor([4., 2., 1.], device='cuda:0')\n",
      "Epoch 0:  56%|█████▋    | 574/1020 [02:36<02:01,  3.68it/s, loss=0.917, v_num=ts5c]tensor([4., 2., 1.], device='cuda:0')\n",
      "Epoch 0:  56%|█████▋    | 575/1020 [02:36<02:01,  3.68it/s, loss=0.917, v_num=ts5c]tensor([4., 2., 1.], device='cuda:0')\n",
      "Epoch 0:  56%|█████▋    | 576/1020 [02:36<02:00,  3.68it/s, loss=0.917, v_num=ts5c]tensor([4., 2., 1.], device='cuda:0')\n",
      "Epoch 0:  57%|█████▋    | 577/1020 [02:36<02:00,  3.68it/s, loss=0.917, v_num=ts5c]tensor([4., 2., 1.], device='cuda:0')\n",
      "Epoch 0:  57%|█████▋    | 578/1020 [02:37<02:00,  3.68it/s, loss=0.917, v_num=ts5c]tensor([4., 2., 1.], device='cuda:0')\n",
      "Epoch 0:  57%|█████▋    | 579/1020 [02:37<01:59,  3.68it/s, loss=0.917, v_num=ts5c]tensor([4., 2., 1.], device='cuda:0')\n",
      "Epoch 0:  57%|█████▋    | 580/1020 [02:37<01:59,  3.68it/s, loss=0.917, v_num=ts5c]tensor([4., 2., 1.], device='cuda:0')\n",
      "Epoch 0:  57%|█████▋    | 581/1020 [02:38<01:59,  3.68it/s, loss=0.917, v_num=ts5c]tensor([4., 2., 1.], device='cuda:0')\n",
      "Epoch 0:  57%|█████▋    | 582/1020 [02:38<01:59,  3.68it/s, loss=0.917, v_num=ts5c]tensor([4., 2., 1.], device='cuda:0')\n",
      "Epoch 0:  57%|█████▋    | 583/1020 [02:38<01:58,  3.68it/s, loss=0.917, v_num=ts5c]tensor([4., 2., 1.], device='cuda:0')\n",
      "Epoch 0:  57%|█████▋    | 584/1020 [02:38<01:58,  3.68it/s, loss=0.917, v_num=ts5c]tensor([4., 2., 1.], device='cuda:0')\n",
      "Epoch 0:  57%|█████▋    | 585/1020 [02:39<01:58,  3.68it/s, loss=0.916, v_num=ts5c]tensor([4., 2., 1.], device='cuda:0')\n",
      "Epoch 0:  57%|█████▋    | 586/1020 [02:39<01:57,  3.68it/s, loss=0.917, v_num=ts5c]tensor([4., 2., 1.], device='cuda:0')\n",
      "Epoch 0:  58%|█████▊    | 587/1020 [02:39<01:57,  3.68it/s, loss=0.917, v_num=ts5c]tensor([4., 2., 1.], device='cuda:0')\n",
      "Epoch 0:  58%|█████▊    | 588/1020 [02:39<01:57,  3.68it/s, loss=0.917, v_num=ts5c]tensor([4., 2., 1.], device='cuda:0')\n",
      "Epoch 0:  58%|█████▊    | 589/1020 [02:40<01:57,  3.68it/s, loss=0.917, v_num=ts5c]tensor([4., 2., 1.], device='cuda:0')\n",
      "Epoch 0:  58%|█████▊    | 590/1020 [02:40<01:56,  3.68it/s, loss=0.917, v_num=ts5c]tensor([4., 2., 1.], device='cuda:0')\n",
      "Epoch 0:  58%|█████▊    | 591/1020 [02:40<01:56,  3.68it/s, loss=0.917, v_num=ts5c]tensor([4., 2., 1.], device='cuda:0')\n",
      "Epoch 0:  58%|█████▊    | 592/1020 [02:40<01:56,  3.68it/s, loss=0.916, v_num=ts5c]tensor([4., 2., 1.], device='cuda:0')\n",
      "Epoch 0:  58%|█████▊    | 593/1020 [02:41<01:56,  3.68it/s, loss=0.916, v_num=ts5c]tensor([4., 2., 1.], device='cuda:0')\n",
      "Epoch 0:  58%|█████▊    | 594/1020 [02:41<01:55,  3.68it/s, loss=0.916, v_num=ts5c]tensor([4., 2., 1.], device='cuda:0')\n",
      "Epoch 0:  58%|█████▊    | 595/1020 [02:41<01:55,  3.68it/s, loss=0.916, v_num=ts5c]tensor([4., 2., 1.], device='cuda:0')\n",
      "Epoch 0:  58%|█████▊    | 596/1020 [02:41<01:55,  3.68it/s, loss=0.916, v_num=ts5c]tensor([4., 2., 1.], device='cuda:0')\n",
      "Epoch 0:  59%|█████▊    | 597/1020 [02:42<01:54,  3.68it/s, loss=0.916, v_num=ts5c]tensor([4., 2., 1.], device='cuda:0')\n",
      "Epoch 0:  59%|█████▊    | 598/1020 [02:42<01:54,  3.68it/s, loss=0.916, v_num=ts5c]tensor([4., 2., 1.], device='cuda:0')\n",
      "Epoch 0:  59%|█████▊    | 599/1020 [02:42<01:54,  3.68it/s, loss=0.916, v_num=ts5c]tensor([4., 2., 1.], device='cuda:0')\n",
      "Epoch 0:  59%|█████▉    | 600/1020 [02:43<01:54,  3.68it/s, loss=0.916, v_num=ts5c]tensor([4., 2., 1.], device='cuda:0')\n",
      "Epoch 0:  59%|█████▉    | 601/1020 [02:43<01:53,  3.68it/s, loss=0.917, v_num=ts5c]tensor([4., 2., 1.], device='cuda:0')\n",
      "Epoch 0:  59%|█████▉    | 602/1020 [02:43<01:53,  3.68it/s, loss=0.916, v_num=ts5c]tensor([4., 2., 1.], device='cuda:0')\n",
      "Epoch 0:  59%|█████▉    | 603/1020 [02:43<01:53,  3.68it/s, loss=0.916, v_num=ts5c]tensor([4., 2., 1.], device='cuda:0')\n",
      "Epoch 0:  59%|█████▉    | 604/1020 [02:44<01:52,  3.68it/s, loss=0.916, v_num=ts5c]tensor([4., 2., 1.], device='cuda:0')\n",
      "Epoch 0:  59%|█████▉    | 605/1020 [02:44<01:52,  3.68it/s, loss=0.916, v_num=ts5c]tensor([4., 2., 1.], device='cuda:0')\n",
      "Epoch 0:  59%|█████▉    | 606/1020 [02:44<01:52,  3.68it/s, loss=0.916, v_num=ts5c]tensor([4., 2., 1.], device='cuda:0')\n",
      "Epoch 0:  60%|█████▉    | 607/1020 [02:44<01:52,  3.68it/s, loss=0.916, v_num=ts5c]tensor([4., 2., 1.], device='cuda:0')\n",
      "Epoch 0:  60%|█████▉    | 608/1020 [02:45<01:51,  3.68it/s, loss=0.916, v_num=ts5c]tensor([4., 2., 1.], device='cuda:0')\n",
      "Epoch 0:  60%|█████▉    | 609/1020 [02:45<01:51,  3.68it/s, loss=0.916, v_num=ts5c]tensor([4., 2., 1.], device='cuda:0')\n",
      "Epoch 0:  60%|█████▉    | 610/1020 [02:45<01:51,  3.68it/s, loss=0.916, v_num=ts5c]tensor([4., 2., 1.], device='cuda:0')\n",
      "Epoch 0:  60%|█████▉    | 611/1020 [02:45<01:51,  3.68it/s, loss=0.917, v_num=ts5c]tensor([4., 2., 1.], device='cuda:0')\n",
      "Epoch 0:  60%|██████    | 612/1020 [02:46<01:50,  3.68it/s, loss=0.917, v_num=ts5c]tensor([4., 2., 1.], device='cuda:0')\n",
      "Epoch 0:  60%|██████    | 613/1020 [02:46<01:50,  3.69it/s, loss=0.917, v_num=ts5c]tensor([4., 2., 1.], device='cuda:0')\n",
      "Epoch 0:  60%|██████    | 614/1020 [02:46<01:50,  3.69it/s, loss=0.917, v_num=ts5c]tensor([4., 2., 1.], device='cuda:0')\n",
      "Epoch 0:  60%|██████    | 615/1020 [02:46<01:49,  3.69it/s, loss=0.917, v_num=ts5c]tensor([4., 2., 1.], device='cuda:0')\n",
      "Epoch 0:  60%|██████    | 616/1020 [02:47<01:49,  3.69it/s, loss=0.917, v_num=ts5c]tensor([4., 2., 1.], device='cuda:0')\n",
      "Epoch 0:  60%|██████    | 617/1020 [02:47<01:49,  3.68it/s, loss=0.916, v_num=ts5c]tensor([4., 2., 1.], device='cuda:0')\n",
      "Epoch 0:  61%|██████    | 618/1020 [02:47<01:49,  3.69it/s, loss=0.916, v_num=ts5c]tensor([4., 2., 1.], device='cuda:0')\n",
      "Epoch 0:  61%|██████    | 619/1020 [02:47<01:48,  3.69it/s, loss=0.916, v_num=ts5c]tensor([4., 2., 1.], device='cuda:0')\n",
      "Epoch 0:  61%|██████    | 620/1020 [02:48<01:48,  3.69it/s, loss=0.916, v_num=ts5c]tensor([4., 2., 1.], device='cuda:0')\n",
      "Epoch 0:  61%|██████    | 621/1020 [02:48<01:48,  3.69it/s, loss=0.916, v_num=ts5c]tensor([4., 2., 1.], device='cuda:0')\n",
      "Epoch 0:  61%|██████    | 622/1020 [02:48<01:48,  3.68it/s, loss=0.916, v_num=ts5c]tensor([4., 2., 1.], device='cuda:0')\n",
      "Epoch 0:  61%|██████    | 623/1020 [02:49<01:47,  3.69it/s, loss=0.916, v_num=ts5c]tensor([4., 2., 1.], device='cuda:0')\n",
      "Epoch 0:  61%|██████    | 624/1020 [02:49<01:47,  3.69it/s, loss=0.916, v_num=ts5c]tensor([4., 2., 1.], device='cuda:0')\n",
      "Epoch 0:  61%|██████▏   | 625/1020 [02:49<01:47,  3.69it/s, loss=0.916, v_num=ts5c]tensor([4., 2., 1.], device='cuda:0')\n",
      "Epoch 0:  61%|██████▏   | 626/1020 [02:50<01:47,  3.68it/s, loss=0.916, v_num=ts5c]tensor([4., 2., 1.], device='cuda:0')\n",
      "Epoch 0:  61%|██████▏   | 627/1020 [02:50<01:46,  3.68it/s, loss=0.916, v_num=ts5c]tensor([4., 2., 1.], device='cuda:0')\n",
      "Epoch 0:  62%|██████▏   | 628/1020 [02:50<01:46,  3.68it/s, loss=0.916, v_num=ts5c]tensor([4., 2., 1.], device='cuda:0')\n",
      "Epoch 0:  62%|██████▏   | 629/1020 [02:50<01:46,  3.68it/s, loss=0.915, v_num=ts5c]tensor([4., 2., 1.], device='cuda:0')\n",
      "Epoch 0:  62%|██████▏   | 630/1020 [02:51<01:45,  3.68it/s, loss=0.915, v_num=ts5c]tensor([4., 2., 1.], device='cuda:0')\n",
      "Epoch 0:  62%|██████▏   | 631/1020 [02:51<01:45,  3.68it/s, loss=0.915, v_num=ts5c]tensor([4., 2., 1.], device='cuda:0')\n",
      "Epoch 0:  62%|██████▏   | 632/1020 [02:51<01:45,  3.68it/s, loss=0.915, v_num=ts5c]tensor([4., 2., 1.], device='cuda:0')\n",
      "Epoch 0:  62%|██████▏   | 633/1020 [02:51<01:45,  3.68it/s, loss=0.915, v_num=ts5c]tensor([4., 2., 1.], device='cuda:0')\n",
      "Epoch 0:  62%|██████▏   | 634/1020 [02:52<01:44,  3.68it/s, loss=0.915, v_num=ts5c]tensor([4., 2., 1.], device='cuda:0')\n",
      "Epoch 0:  62%|██████▏   | 635/1020 [02:52<01:44,  3.68it/s, loss=0.915, v_num=ts5c]tensor([4., 2., 1.], device='cuda:0')\n",
      "Epoch 0:  62%|██████▏   | 636/1020 [02:52<01:44,  3.68it/s, loss=0.915, v_num=ts5c]tensor([4., 2., 1.], device='cuda:0')\n",
      "Epoch 0:  62%|██████▏   | 637/1020 [02:52<01:43,  3.69it/s, loss=0.915, v_num=ts5c]tensor([4., 2., 1.], device='cuda:0')\n",
      "Epoch 0:  63%|██████▎   | 638/1020 [02:53<01:43,  3.69it/s, loss=0.915, v_num=ts5c]tensor([4., 2., 1.], device='cuda:0')\n",
      "Epoch 0:  63%|██████▎   | 639/1020 [02:53<01:43,  3.69it/s, loss=0.915, v_num=ts5c]tensor([4., 2., 1.], device='cuda:0')\n",
      "Epoch 0:  63%|██████▎   | 640/1020 [02:53<01:43,  3.68it/s, loss=0.914, v_num=ts5c]tensor([4., 2., 1.], device='cuda:0')\n",
      "Epoch 0:  63%|██████▎   | 641/1020 [02:53<01:42,  3.68it/s, loss=0.914, v_num=ts5c]tensor([4., 2., 1.], device='cuda:0')\n",
      "Epoch 0:  63%|██████▎   | 642/1020 [02:54<01:42,  3.68it/s, loss=0.915, v_num=ts5c]tensor([4., 2., 1.], device='cuda:0')\n",
      "Epoch 0:  63%|██████▎   | 643/1020 [02:54<01:42,  3.68it/s, loss=0.914, v_num=ts5c]tensor([4., 2., 1.], device='cuda:0')\n",
      "Epoch 0:  63%|██████▎   | 644/1020 [02:54<01:42,  3.68it/s, loss=0.914, v_num=ts5c]tensor([4., 2., 1.], device='cuda:0')\n",
      "Epoch 0:  63%|██████▎   | 645/1020 [02:55<01:41,  3.68it/s, loss=0.914, v_num=ts5c]tensor([4., 2., 1.], device='cuda:0')\n",
      "Epoch 0:  63%|██████▎   | 646/1020 [02:55<01:41,  3.68it/s, loss=0.914, v_num=ts5c]tensor([4., 2., 1.], device='cuda:0')\n",
      "Epoch 0:  63%|██████▎   | 647/1020 [02:55<01:41,  3.68it/s, loss=0.914, v_num=ts5c]tensor([4., 2., 1.], device='cuda:0')\n",
      "Epoch 0:  64%|██████▎   | 648/1020 [02:55<01:41,  3.68it/s, loss=0.914, v_num=ts5c]tensor([4., 2., 1.], device='cuda:0')\n",
      "Epoch 0:  64%|██████▎   | 649/1020 [02:56<01:40,  3.68it/s, loss=0.914, v_num=ts5c]tensor([4., 2., 1.], device='cuda:0')\n",
      "Epoch 0:  64%|██████▎   | 650/1020 [02:56<01:40,  3.68it/s, loss=0.914, v_num=ts5c]tensor([4., 2., 1.], device='cuda:0')\n",
      "Epoch 0:  64%|██████▍   | 651/1020 [02:56<01:40,  3.68it/s, loss=0.914, v_num=ts5c]tensor([4., 2., 1.], device='cuda:0')\n",
      "Epoch 0:  64%|██████▍   | 652/1020 [02:57<01:39,  3.68it/s, loss=0.915, v_num=ts5c]tensor([4., 2., 1.], device='cuda:0')\n",
      "Epoch 0:  64%|██████▍   | 653/1020 [02:57<01:39,  3.68it/s, loss=0.914, v_num=ts5c]tensor([4., 2., 1.], device='cuda:0')\n",
      "Epoch 0:  64%|██████▍   | 654/1020 [02:57<01:39,  3.68it/s, loss=0.914, v_num=ts5c]tensor([4., 2., 1.], device='cuda:0')\n",
      "Epoch 0:  64%|██████▍   | 655/1020 [02:57<01:39,  3.68it/s, loss=0.914, v_num=ts5c]tensor([4., 2., 1.], device='cuda:0')\n",
      "Epoch 0:  64%|██████▍   | 656/1020 [02:58<01:38,  3.68it/s, loss=0.914, v_num=ts5c]tensor([4., 2., 1.], device='cuda:0')\n",
      "Epoch 0:  64%|██████▍   | 657/1020 [02:58<01:38,  3.68it/s, loss=0.913, v_num=ts5c]tensor([4., 2., 1.], device='cuda:0')\n",
      "Epoch 0:  65%|██████▍   | 658/1020 [02:58<01:38,  3.68it/s, loss=0.914, v_num=ts5c]tensor([4., 2., 1.], device='cuda:0')\n",
      "Epoch 0:  65%|██████▍   | 659/1020 [02:58<01:38,  3.68it/s, loss=0.913, v_num=ts5c]tensor([4., 2., 1.], device='cuda:0')\n",
      "Epoch 0:  65%|██████▍   | 660/1020 [02:59<01:37,  3.68it/s, loss=0.914, v_num=ts5c]tensor([4., 2., 1.], device='cuda:0')\n",
      "Epoch 0:  65%|██████▍   | 661/1020 [02:59<01:37,  3.68it/s, loss=0.914, v_num=ts5c]tensor([4., 2., 1.], device='cuda:0')\n",
      "Epoch 0:  65%|██████▍   | 662/1020 [02:59<01:37,  3.68it/s, loss=0.913, v_num=ts5c]tensor([4., 2., 1.], device='cuda:0')\n",
      "Epoch 0:  65%|██████▌   | 663/1020 [03:00<01:36,  3.68it/s, loss=0.913, v_num=ts5c]tensor([4., 2., 1.], device='cuda:0')\n",
      "Epoch 0:  65%|██████▌   | 664/1020 [03:00<01:36,  3.68it/s, loss=0.913, v_num=ts5c]tensor([4., 2., 1.], device='cuda:0')\n",
      "Epoch 0:  65%|██████▌   | 665/1020 [03:00<01:36,  3.68it/s, loss=0.913, v_num=ts5c]tensor([4., 2., 1.], device='cuda:0')\n",
      "Epoch 0:  65%|██████▌   | 666/1020 [03:00<01:36,  3.68it/s, loss=0.913, v_num=ts5c]tensor([4., 2., 1.], device='cuda:0')\n",
      "Epoch 0:  65%|██████▌   | 667/1020 [03:01<01:35,  3.68it/s, loss=0.913, v_num=ts5c]tensor([4., 2., 1.], device='cuda:0')\n",
      "Epoch 0:  65%|██████▌   | 668/1020 [03:01<01:35,  3.68it/s, loss=0.913, v_num=ts5c]tensor([4., 2., 1.], device='cuda:0')\n",
      "Epoch 0:  66%|██████▌   | 669/1020 [03:01<01:35,  3.68it/s, loss=0.913, v_num=ts5c]tensor([4., 2., 1.], device='cuda:0')\n",
      "Epoch 0:  66%|██████▌   | 670/1020 [03:01<01:35,  3.68it/s, loss=0.913, v_num=ts5c]tensor([4., 2., 1.], device='cuda:0')\n",
      "Epoch 0:  66%|██████▌   | 671/1020 [03:02<01:34,  3.68it/s, loss=0.913, v_num=ts5c]tensor([4., 2., 1.], device='cuda:0')\n",
      "Epoch 0:  66%|██████▌   | 672/1020 [03:02<01:34,  3.68it/s, loss=0.913, v_num=ts5c]tensor([4., 2., 1.], device='cuda:0')\n",
      "Epoch 0:  66%|██████▌   | 673/1020 [03:02<01:34,  3.68it/s, loss=0.913, v_num=ts5c]tensor([4., 2., 1.], device='cuda:0')\n",
      "Epoch 0:  66%|██████▌   | 674/1020 [03:03<01:33,  3.68it/s, loss=0.913, v_num=ts5c]tensor([4., 2., 1.], device='cuda:0')\n",
      "Epoch 0:  66%|██████▌   | 675/1020 [03:03<01:33,  3.68it/s, loss=0.912, v_num=ts5c]tensor([4., 2., 1.], device='cuda:0')\n",
      "Epoch 0:  66%|██████▋   | 676/1020 [03:03<01:33,  3.68it/s, loss=0.913, v_num=ts5c]tensor([4., 2., 1.], device='cuda:0')\n",
      "Epoch 0:  66%|██████▋   | 677/1020 [03:03<01:33,  3.68it/s, loss=0.913, v_num=ts5c]tensor([4., 2., 1.], device='cuda:0')\n",
      "Epoch 0:  66%|██████▋   | 678/1020 [03:04<01:32,  3.68it/s, loss=0.912, v_num=ts5c]tensor([4., 2., 1.], device='cuda:0')\n",
      "Epoch 0:  67%|██████▋   | 679/1020 [03:04<01:32,  3.68it/s, loss=0.912, v_num=ts5c]tensor([4., 2., 1.], device='cuda:0')\n",
      "Epoch 0:  67%|██████▋   | 680/1020 [03:04<01:32,  3.68it/s, loss=0.912, v_num=ts5c]tensor([4., 2., 1.], device='cuda:0')\n",
      "Epoch 0:  67%|██████▋   | 681/1020 [03:05<01:32,  3.68it/s, loss=0.912, v_num=ts5c]tensor([4., 2., 1.], device='cuda:0')\n",
      "Epoch 0:  67%|██████▋   | 682/1020 [03:05<01:31,  3.68it/s, loss=0.912, v_num=ts5c]tensor([4., 2., 1.], device='cuda:0')\n",
      "Epoch 0:  67%|██████▋   | 683/1020 [03:05<01:31,  3.68it/s, loss=0.913, v_num=ts5c]tensor([4., 2., 1.], device='cuda:0')\n",
      "Epoch 0:  67%|██████▋   | 684/1020 [03:05<01:31,  3.68it/s, loss=0.913, v_num=ts5c]tensor([4., 2., 1.], device='cuda:0')\n",
      "Epoch 0:  67%|██████▋   | 685/1020 [03:06<01:31,  3.68it/s, loss=0.912, v_num=ts5c]tensor([4., 2., 1.], device='cuda:0')\n",
      "Epoch 0:  67%|██████▋   | 686/1020 [03:06<01:30,  3.68it/s, loss=0.913, v_num=ts5c]tensor([4., 2., 1.], device='cuda:0')\n",
      "Epoch 0:  67%|██████▋   | 687/1020 [03:06<01:30,  3.68it/s, loss=0.913, v_num=ts5c]tensor([4., 2., 1.], device='cuda:0')\n",
      "Epoch 0:  67%|██████▋   | 688/1020 [03:06<01:30,  3.68it/s, loss=0.913, v_num=ts5c]tensor([4., 2., 1.], device='cuda:0')\n",
      "Epoch 0:  68%|██████▊   | 689/1020 [03:07<01:29,  3.68it/s, loss=0.913, v_num=ts5c]tensor([4., 2., 1.], device='cuda:0')\n",
      "Epoch 0:  68%|██████▊   | 690/1020 [03:07<01:29,  3.68it/s, loss=0.913, v_num=ts5c]tensor([4., 2., 1.], device='cuda:0')\n",
      "Epoch 0:  68%|██████▊   | 691/1020 [03:07<01:29,  3.68it/s, loss=0.913, v_num=ts5c]tensor([4., 2., 1.], device='cuda:0')\n",
      "Epoch 0:  68%|██████▊   | 692/1020 [03:07<01:29,  3.68it/s, loss=0.913, v_num=ts5c]tensor([4., 2., 1.], device='cuda:0')\n",
      "Epoch 0:  68%|██████▊   | 693/1020 [03:08<01:28,  3.68it/s, loss=0.913, v_num=ts5c]tensor([4., 2., 1.], device='cuda:0')\n",
      "Epoch 0:  68%|██████▊   | 694/1020 [03:08<01:28,  3.68it/s, loss=0.914, v_num=ts5c]tensor([4., 2., 1.], device='cuda:0')\n",
      "Epoch 0:  68%|██████▊   | 695/1020 [03:08<01:28,  3.68it/s, loss=0.914, v_num=ts5c]tensor([4., 2., 1.], device='cuda:0')\n",
      "Epoch 0:  68%|██████▊   | 696/1020 [03:08<01:27,  3.68it/s, loss=0.914, v_num=ts5c]tensor([4., 2., 1.], device='cuda:0')\n",
      "Epoch 0:  68%|██████▊   | 697/1020 [03:09<01:27,  3.68it/s, loss=0.914, v_num=ts5c]tensor([4., 2., 1.], device='cuda:0')\n",
      "Epoch 0:  68%|██████▊   | 698/1020 [03:09<01:27,  3.68it/s, loss=0.914, v_num=ts5c]tensor([4., 2., 1.], device='cuda:0')\n",
      "Epoch 0:  69%|██████▊   | 699/1020 [03:09<01:27,  3.68it/s, loss=0.914, v_num=ts5c]tensor([4., 2., 1.], device='cuda:0')\n",
      "Epoch 0:  69%|██████▊   | 700/1020 [03:10<01:26,  3.68it/s, loss=0.914, v_num=ts5c]tensor([4., 2., 1.], device='cuda:0')\n",
      "Epoch 0:  69%|██████▊   | 701/1020 [03:10<01:26,  3.68it/s, loss=0.914, v_num=ts5c]tensor([4., 2., 1.], device='cuda:0')\n",
      "Epoch 0:  69%|██████▉   | 702/1020 [03:10<01:26,  3.68it/s, loss=0.914, v_num=ts5c]tensor([4., 2., 1.], device='cuda:0')\n",
      "Epoch 0:  69%|██████▉   | 703/1020 [03:10<01:26,  3.68it/s, loss=0.914, v_num=ts5c]tensor([4., 2., 1.], device='cuda:0')\n",
      "Epoch 0:  69%|██████▉   | 704/1020 [03:11<01:25,  3.68it/s, loss=0.914, v_num=ts5c]tensor([4., 2., 1.], device='cuda:0')\n",
      "Epoch 0:  69%|██████▉   | 705/1020 [03:11<01:25,  3.68it/s, loss=0.914, v_num=ts5c]tensor([4., 2., 1.], device='cuda:0')\n",
      "Epoch 0:  69%|██████▉   | 706/1020 [03:11<01:25,  3.68it/s, loss=0.914, v_num=ts5c]tensor([4., 2., 1.], device='cuda:0')\n",
      "Epoch 0:  69%|██████▉   | 707/1020 [03:12<01:25,  3.68it/s, loss=0.914, v_num=ts5c]tensor([4., 2., 1.], device='cuda:0')\n",
      "Epoch 0:  69%|██████▉   | 708/1020 [03:12<01:24,  3.68it/s, loss=0.913, v_num=ts5c]tensor([4., 2., 1.], device='cuda:0')\n",
      "Epoch 0:  70%|██████▉   | 709/1020 [03:12<01:24,  3.68it/s, loss=0.913, v_num=ts5c]tensor([4., 2., 1.], device='cuda:0')\n",
      "Epoch 0:  70%|██████▉   | 710/1020 [03:12<01:24,  3.68it/s, loss=0.913, v_num=ts5c]tensor([4., 2., 1.], device='cuda:0')\n",
      "Epoch 0:  70%|██████▉   | 711/1020 [03:13<01:23,  3.68it/s, loss=0.913, v_num=ts5c]tensor([4., 2., 1.], device='cuda:0')\n",
      "Epoch 0:  70%|██████▉   | 712/1020 [03:13<01:23,  3.68it/s, loss=0.913, v_num=ts5c]tensor([4., 2., 1.], device='cuda:0')\n",
      "Epoch 0:  70%|██████▉   | 713/1020 [03:13<01:23,  3.68it/s, loss=0.913, v_num=ts5c]tensor([4., 2., 1.], device='cuda:0')\n",
      "Epoch 0:  70%|███████   | 714/1020 [03:13<01:23,  3.68it/s, loss=0.913, v_num=ts5c]tensor([4., 2., 1.], device='cuda:0')\n",
      "Epoch 0:  70%|███████   | 715/1020 [03:14<01:22,  3.68it/s, loss=0.913, v_num=ts5c]tensor([4., 2., 1.], device='cuda:0')\n",
      "Epoch 0:  70%|███████   | 716/1020 [03:14<01:22,  3.68it/s, loss=0.913, v_num=ts5c]tensor([4., 2., 1.], device='cuda:0')\n",
      "Epoch 0:  70%|███████   | 717/1020 [03:14<01:22,  3.68it/s, loss=0.912, v_num=ts5c]tensor([4., 2., 1.], device='cuda:0')\n",
      "Epoch 0:  70%|███████   | 718/1020 [03:14<01:22,  3.68it/s, loss=0.912, v_num=ts5c]tensor([4., 2., 1.], device='cuda:0')\n",
      "Epoch 0:  70%|███████   | 719/1020 [03:15<01:21,  3.68it/s, loss=0.913, v_num=ts5c]tensor([4., 2., 1.], device='cuda:0')\n",
      "Epoch 0:  71%|███████   | 720/1020 [03:15<01:21,  3.68it/s, loss=0.913, v_num=ts5c]tensor([4., 2., 1.], device='cuda:0')\n",
      "Epoch 0:  71%|███████   | 721/1020 [03:15<01:21,  3.68it/s, loss=0.913, v_num=ts5c]tensor([4., 2., 1.], device='cuda:0')\n",
      "Epoch 0:  71%|███████   | 722/1020 [03:16<01:20,  3.68it/s, loss=0.912, v_num=ts5c]tensor([4., 2., 1.], device='cuda:0')\n",
      "Epoch 0:  71%|███████   | 723/1020 [03:16<01:20,  3.68it/s, loss=0.913, v_num=ts5c]tensor([4., 2., 1.], device='cuda:0')\n",
      "Epoch 0:  71%|███████   | 724/1020 [03:16<01:20,  3.68it/s, loss=0.913, v_num=ts5c]tensor([4., 2., 1.], device='cuda:0')\n",
      "Epoch 0:  71%|███████   | 725/1020 [03:16<01:20,  3.68it/s, loss=0.913, v_num=ts5c]tensor([4., 2., 1.], device='cuda:0')\n",
      "Epoch 0:  71%|███████   | 726/1020 [03:17<01:19,  3.68it/s, loss=0.913, v_num=ts5c]tensor([4., 2., 1.], device='cuda:0')\n",
      "Epoch 0:  71%|███████▏  | 727/1020 [03:17<01:19,  3.68it/s, loss=0.913, v_num=ts5c]tensor([4., 2., 1.], device='cuda:0')\n",
      "Epoch 0:  71%|███████▏  | 728/1020 [03:17<01:19,  3.68it/s, loss=0.913, v_num=ts5c]tensor([4., 2., 1.], device='cuda:0')\n",
      "Epoch 0:  71%|███████▏  | 729/1020 [03:17<01:19,  3.68it/s, loss=0.913, v_num=ts5c]tensor([4., 2., 1.], device='cuda:0')\n",
      "Epoch 0:  72%|███████▏  | 730/1020 [03:18<01:18,  3.68it/s, loss=0.913, v_num=ts5c]tensor([4., 2., 1.], device='cuda:0')\n",
      "Epoch 0:  72%|███████▏  | 731/1020 [03:18<01:18,  3.68it/s, loss=0.913, v_num=ts5c]tensor([4., 2., 1.], device='cuda:0')\n",
      "Epoch 0:  72%|███████▏  | 732/1020 [03:18<01:18,  3.68it/s, loss=0.913, v_num=ts5c]tensor([4., 2., 1.], device='cuda:0')\n",
      "Epoch 0:  72%|███████▏  | 733/1020 [03:19<01:17,  3.68it/s, loss=0.913, v_num=ts5c]tensor([4., 2., 1.], device='cuda:0')\n",
      "Epoch 0:  72%|███████▏  | 734/1020 [03:19<01:17,  3.68it/s, loss=0.913, v_num=ts5c]tensor([4., 2., 1.], device='cuda:0')\n",
      "Epoch 0:  72%|███████▏  | 735/1020 [03:19<01:17,  3.68it/s, loss=0.913, v_num=ts5c]tensor([4., 2., 1.], device='cuda:0')\n",
      "Epoch 0:  72%|███████▏  | 736/1020 [03:19<01:17,  3.68it/s, loss=0.913, v_num=ts5c]tensor([4., 2., 1.], device='cuda:0')\n",
      "Epoch 0:  72%|███████▏  | 737/1020 [03:20<01:16,  3.68it/s, loss=0.913, v_num=ts5c]tensor([4., 2., 1.], device='cuda:0')\n",
      "Epoch 0:  72%|███████▏  | 738/1020 [03:20<01:16,  3.68it/s, loss=0.913, v_num=ts5c]tensor([4., 2., 1.], device='cuda:0')\n",
      "Epoch 0:  72%|███████▏  | 739/1020 [03:20<01:16,  3.68it/s, loss=0.913, v_num=ts5c]tensor([4., 2., 1.], device='cuda:0')\n",
      "Epoch 0:  73%|███████▎  | 740/1020 [03:20<01:16,  3.68it/s, loss=0.913, v_num=ts5c]tensor([4., 2., 1.], device='cuda:0')\n",
      "Epoch 0:  73%|███████▎  | 741/1020 [03:21<01:15,  3.68it/s, loss=0.913, v_num=ts5c]tensor([4., 2., 1.], device='cuda:0')\n",
      "Epoch 0:  73%|███████▎  | 742/1020 [03:21<01:15,  3.68it/s, loss=0.913, v_num=ts5c]tensor([4., 2., 1.], device='cuda:0')\n",
      "Epoch 0:  73%|███████▎  | 743/1020 [03:21<01:15,  3.68it/s, loss=0.913, v_num=ts5c]tensor([4., 2., 1.], device='cuda:0')\n",
      "Epoch 0:  73%|███████▎  | 744/1020 [03:22<01:14,  3.68it/s, loss=0.913, v_num=ts5c]tensor([4., 2., 1.], device='cuda:0')\n",
      "Epoch 0:  73%|███████▎  | 745/1020 [03:22<01:14,  3.68it/s, loss=0.913, v_num=ts5c]tensor([4., 2., 1.], device='cuda:0')\n",
      "Epoch 0:  73%|███████▎  | 746/1020 [03:22<01:14,  3.68it/s, loss=0.913, v_num=ts5c]tensor([4., 2., 1.], device='cuda:0')\n",
      "Epoch 0:  73%|███████▎  | 747/1020 [03:22<01:14,  3.68it/s, loss=0.913, v_num=ts5c]tensor([4., 2., 1.], device='cuda:0')\n",
      "Epoch 0:  73%|███████▎  | 748/1020 [03:23<01:13,  3.68it/s, loss=0.913, v_num=ts5c]tensor([4., 2., 1.], device='cuda:0')\n",
      "Epoch 0:  73%|███████▎  | 749/1020 [03:23<01:13,  3.68it/s, loss=0.913, v_num=ts5c]tensor([4., 2., 1.], device='cuda:0')\n",
      "Epoch 0:  74%|███████▎  | 750/1020 [03:23<01:13,  3.68it/s, loss=0.913, v_num=ts5c]tensor([4., 2., 1.], device='cuda:0')\n",
      "Epoch 0:  74%|███████▎  | 751/1020 [03:23<01:12,  3.69it/s, loss=0.913, v_num=ts5c]tensor([4., 2., 1.], device='cuda:0')\n",
      "Epoch 0:  74%|███████▎  | 752/1020 [03:24<01:12,  3.69it/s, loss=0.913, v_num=ts5c]tensor([4., 2., 1.], device='cuda:0')\n",
      "Epoch 0:  74%|███████▍  | 753/1020 [03:24<01:12,  3.69it/s, loss=0.913, v_num=ts5c]tensor([4., 2., 1.], device='cuda:0')\n",
      "Epoch 0:  74%|███████▍  | 754/1020 [03:24<01:12,  3.69it/s, loss=0.913, v_num=ts5c]tensor([4., 2., 1.], device='cuda:0')\n",
      "Epoch 0:  74%|███████▍  | 755/1020 [03:24<01:11,  3.69it/s, loss=0.913, v_num=ts5c]tensor([4., 2., 1.], device='cuda:0')\n",
      "Epoch 0:  74%|███████▍  | 756/1020 [03:25<01:11,  3.69it/s, loss=0.913, v_num=ts5c]tensor([4., 2., 1.], device='cuda:0')\n",
      "Epoch 0:  74%|███████▍  | 757/1020 [03:25<01:11,  3.69it/s, loss=0.913, v_num=ts5c]tensor([4., 2., 1.], device='cuda:0')\n",
      "Epoch 0:  74%|███████▍  | 758/1020 [03:25<01:11,  3.69it/s, loss=0.914, v_num=ts5c]tensor([4., 2., 1.], device='cuda:0')\n",
      "Epoch 0:  74%|███████▍  | 759/1020 [03:25<01:10,  3.69it/s, loss=0.914, v_num=ts5c]tensor([4., 2., 1.], device='cuda:0')\n",
      "Epoch 0:  75%|███████▍  | 760/1020 [03:26<01:10,  3.69it/s, loss=0.914, v_num=ts5c]tensor([4., 2., 1.], device='cuda:0')\n",
      "Epoch 0:  75%|███████▍  | 761/1020 [03:26<01:10,  3.69it/s, loss=0.914, v_num=ts5c]tensor([4., 2., 1.], device='cuda:0')\n",
      "Epoch 0:  75%|███████▍  | 762/1020 [03:26<01:09,  3.69it/s, loss=0.914, v_num=ts5c]tensor([4., 2., 1.], device='cuda:0')\n",
      "Epoch 0:  75%|███████▍  | 763/1020 [03:26<01:09,  3.69it/s, loss=0.914, v_num=ts5c]tensor([4., 2., 1.], device='cuda:0')\n",
      "Epoch 0:  75%|███████▍  | 764/1020 [03:27<01:09,  3.69it/s, loss=0.914, v_num=ts5c]tensor([4., 2., 1.], device='cuda:0')\n",
      "Epoch 0:  75%|███████▌  | 765/1020 [03:27<01:09,  3.69it/s, loss=0.914, v_num=ts5c]tensor([4., 2., 1.], device='cuda:0')\n",
      "Epoch 0:  75%|███████▌  | 766/1020 [03:27<01:08,  3.69it/s, loss=0.914, v_num=ts5c]tensor([4., 2., 1.], device='cuda:0')\n",
      "Epoch 0:  75%|███████▌  | 767/1020 [03:27<01:08,  3.69it/s, loss=0.914, v_num=ts5c]tensor([4., 2., 1.], device='cuda:0')\n",
      "Epoch 0:  75%|███████▌  | 768/1020 [03:28<01:08,  3.69it/s, loss=0.914, v_num=ts5c]tensor([4., 2., 1.], device='cuda:0')\n",
      "Epoch 0:  75%|███████▌  | 769/1020 [03:28<01:08,  3.69it/s, loss=0.914, v_num=ts5c]tensor([4., 2., 1.], device='cuda:0')\n",
      "Epoch 0:  75%|███████▌  | 770/1020 [03:28<01:07,  3.69it/s, loss=0.914, v_num=ts5c]tensor([4., 2., 1.], device='cuda:0')\n",
      "Epoch 0:  76%|███████▌  | 771/1020 [03:29<01:07,  3.69it/s, loss=0.914, v_num=ts5c]tensor([4., 2., 1.], device='cuda:0')\n",
      "Epoch 0:  76%|███████▌  | 772/1020 [03:29<01:07,  3.69it/s, loss=0.914, v_num=ts5c]tensor([4., 2., 1.], device='cuda:0')\n",
      "Epoch 0:  76%|███████▌  | 773/1020 [03:29<01:06,  3.69it/s, loss=0.914, v_num=ts5c]tensor([4., 2., 1.], device='cuda:0')\n",
      "Epoch 0:  76%|███████▌  | 774/1020 [03:29<01:06,  3.69it/s, loss=0.914, v_num=ts5c]tensor([4., 2., 1.], device='cuda:0')\n",
      "Epoch 0:  76%|███████▌  | 775/1020 [03:30<01:06,  3.69it/s, loss=0.914, v_num=ts5c]tensor([4., 2., 1.], device='cuda:0')\n",
      "Epoch 0:  76%|███████▌  | 776/1020 [03:30<01:06,  3.69it/s, loss=0.914, v_num=ts5c]tensor([4., 2., 1.], device='cuda:0')\n",
      "Epoch 0:  76%|███████▌  | 777/1020 [03:30<01:05,  3.69it/s, loss=0.913, v_num=ts5c]tensor([4., 2., 1.], device='cuda:0')\n",
      "Epoch 0:  76%|███████▋  | 778/1020 [03:30<01:05,  3.69it/s, loss=0.913, v_num=ts5c]tensor([4., 2., 1.], device='cuda:0')\n",
      "Epoch 0:  76%|███████▋  | 779/1020 [03:31<01:05,  3.69it/s, loss=0.913, v_num=ts5c]tensor([4., 2., 1.], device='cuda:0')\n",
      "Epoch 0:  76%|███████▋  | 780/1020 [03:31<01:05,  3.69it/s, loss=0.913, v_num=ts5c]tensor([4., 2., 1.], device='cuda:0')\n",
      "Epoch 0:  77%|███████▋  | 781/1020 [03:31<01:04,  3.69it/s, loss=0.913, v_num=ts5c]tensor([4., 2., 1.], device='cuda:0')\n",
      "Epoch 0:  77%|███████▋  | 782/1020 [03:32<01:04,  3.69it/s, loss=0.913, v_num=ts5c]tensor([4., 2., 1.], device='cuda:0')\n",
      "Epoch 0:  77%|███████▋  | 783/1020 [03:32<01:04,  3.69it/s, loss=0.913, v_num=ts5c]tensor([4., 2., 1.], device='cuda:0')\n",
      "Epoch 0:  77%|███████▋  | 784/1020 [03:32<01:03,  3.69it/s, loss=0.913, v_num=ts5c]tensor([4., 2., 1.], device='cuda:0')\n",
      "Epoch 0:  77%|███████▋  | 785/1020 [03:32<01:03,  3.69it/s, loss=0.913, v_num=ts5c]tensor([4., 2., 1.], device='cuda:0')\n",
      "Epoch 0:  77%|███████▋  | 786/1020 [03:33<01:03,  3.69it/s, loss=0.913, v_num=ts5c]tensor([4., 2., 1.], device='cuda:0')\n",
      "Epoch 0:  77%|███████▋  | 787/1020 [03:33<01:03,  3.69it/s, loss=0.913, v_num=ts5c]tensor([4., 2., 1.], device='cuda:0')\n",
      "Epoch 0:  77%|███████▋  | 788/1020 [03:33<01:02,  3.69it/s, loss=0.913, v_num=ts5c]tensor([4., 2., 1.], device='cuda:0')\n",
      "Epoch 0:  77%|███████▋  | 789/1020 [03:33<01:02,  3.69it/s, loss=0.913, v_num=ts5c]tensor([4., 2., 1.], device='cuda:0')\n",
      "Epoch 0:  77%|███████▋  | 790/1020 [03:34<01:02,  3.69it/s, loss=0.913, v_num=ts5c]tensor([4., 2., 1.], device='cuda:0')\n",
      "Epoch 0:  78%|███████▊  | 791/1020 [03:34<01:02,  3.69it/s, loss=0.913, v_num=ts5c]tensor([4., 2., 1.], device='cuda:0')\n",
      "Epoch 0:  78%|███████▊  | 792/1020 [03:34<01:01,  3.69it/s, loss=0.913, v_num=ts5c]tensor([4., 2., 1.], device='cuda:0')\n",
      "Epoch 0:  78%|███████▊  | 793/1020 [03:34<01:01,  3.69it/s, loss=0.913, v_num=ts5c]tensor([4., 2., 1.], device='cuda:0')\n",
      "Epoch 0:  78%|███████▊  | 794/1020 [03:35<01:01,  3.69it/s, loss=0.913, v_num=ts5c]tensor([4., 2., 1.], device='cuda:0')\n",
      "Epoch 0:  78%|███████▊  | 795/1020 [03:35<01:00,  3.69it/s, loss=0.912, v_num=ts5c]tensor([4., 2., 1.], device='cuda:0')\n",
      "Epoch 0:  78%|███████▊  | 796/1020 [03:35<01:00,  3.69it/s, loss=0.912, v_num=ts5c]tensor([4., 2., 1.], device='cuda:0')\n",
      "Epoch 0:  78%|███████▊  | 797/1020 [03:35<01:00,  3.69it/s, loss=0.912, v_num=ts5c]tensor([4., 2., 1.], device='cuda:0')\n",
      "Epoch 0:  78%|███████▊  | 798/1020 [03:36<01:00,  3.69it/s, loss=0.912, v_num=ts5c]tensor([4., 2., 1.], device='cuda:0')\n",
      "Epoch 0:  78%|███████▊  | 799/1020 [03:36<00:59,  3.69it/s, loss=0.912, v_num=ts5c]tensor([4., 2., 1.], device='cuda:0')\n",
      "Epoch 0:  78%|███████▊  | 800/1020 [03:36<00:59,  3.69it/s, loss=0.912, v_num=ts5c]tensor([4., 2., 1.], device='cuda:0')\n",
      "Epoch 0:  79%|███████▊  | 801/1020 [03:37<00:59,  3.69it/s, loss=0.912, v_num=ts5c]tensor([4., 2., 1.], device='cuda:0')\n",
      "Epoch 0:  79%|███████▊  | 802/1020 [03:37<00:59,  3.69it/s, loss=0.912, v_num=ts5c]tensor([4., 2., 1.], device='cuda:0')\n",
      "Epoch 0:  79%|███████▊  | 803/1020 [03:37<00:58,  3.69it/s, loss=0.912, v_num=ts5c]tensor([4., 2., 1.], device='cuda:0')\n",
      "Epoch 0:  79%|███████▉  | 804/1020 [03:37<00:58,  3.69it/s, loss=0.912, v_num=ts5c]tensor([4., 2., 1.], device='cuda:0')\n",
      "Epoch 0:  79%|███████▉  | 805/1020 [03:38<00:58,  3.69it/s, loss=0.912, v_num=ts5c]tensor([4., 2., 1.], device='cuda:0')\n",
      "Epoch 0:  79%|███████▉  | 806/1020 [03:38<00:57,  3.69it/s, loss=0.912, v_num=ts5c]tensor([4., 2., 1.], device='cuda:0')\n",
      "Epoch 0:  79%|███████▉  | 807/1020 [03:38<00:57,  3.69it/s, loss=0.912, v_num=ts5c]tensor([4., 2., 1.], device='cuda:0')\n",
      "Epoch 0:  79%|███████▉  | 808/1020 [03:38<00:57,  3.69it/s, loss=0.912, v_num=ts5c]tensor([4., 2., 1.], device='cuda:0')\n",
      "Epoch 0:  79%|███████▉  | 809/1020 [03:39<00:57,  3.69it/s, loss=0.912, v_num=ts5c]tensor([4., 2., 1.], device='cuda:0')\n",
      "Epoch 0:  79%|███████▉  | 810/1020 [03:39<00:56,  3.69it/s, loss=0.912, v_num=ts5c]tensor([4., 2., 1.], device='cuda:0')\n",
      "Epoch 0:  80%|███████▉  | 811/1020 [03:39<00:56,  3.69it/s, loss=0.912, v_num=ts5c]tensor([4., 2., 1.], device='cuda:0')\n",
      "Epoch 0:  80%|███████▉  | 812/1020 [03:39<00:56,  3.69it/s, loss=0.911, v_num=ts5c]tensor([4., 2., 1.], device='cuda:0')\n",
      "Epoch 0:  80%|███████▉  | 813/1020 [03:40<00:56,  3.69it/s, loss=0.912, v_num=ts5c]tensor([4., 2., 1.], device='cuda:0')\n",
      "Epoch 0:  80%|███████▉  | 814/1020 [03:40<00:55,  3.69it/s, loss=0.912, v_num=ts5c]tensor([4., 2., 1.], device='cuda:0')\n",
      "Epoch 0:  80%|███████▉  | 815/1020 [03:40<00:55,  3.69it/s, loss=0.912, v_num=ts5c]tensor([4., 2., 1.], device='cuda:0')\n",
      "Epoch 0:  80%|████████  | 816/1020 [03:40<00:55,  3.69it/s, loss=0.912, v_num=ts5c]tensor([4., 2., 1.], device='cuda:0')\n",
      "Epoch 0:  80%|████████  | 817/1020 [03:41<00:54,  3.69it/s, loss=0.911, v_num=ts5c]tensor([4., 2., 1.], device='cuda:0')\n",
      "Epoch 0:  80%|████████  | 818/1020 [03:41<00:54,  3.69it/s, loss=0.911, v_num=ts5c]tensor([4., 2., 1.], device='cuda:0')\n",
      "Epoch 0:  80%|████████  | 819/1020 [03:41<00:54,  3.69it/s, loss=0.911, v_num=ts5c]tensor([4., 2., 1.], device='cuda:0')\n",
      "Epoch 0:  80%|████████  | 820/1020 [03:42<00:54,  3.69it/s, loss=0.911, v_num=ts5c]tensor([4., 2., 1.], device='cuda:0')\n",
      "Epoch 0:  80%|████████  | 821/1020 [03:42<00:53,  3.69it/s, loss=0.911, v_num=ts5c]tensor([4., 2., 1.], device='cuda:0')\n",
      "Epoch 0:  81%|████████  | 822/1020 [03:42<00:53,  3.69it/s, loss=0.912, v_num=ts5c]tensor([4., 2., 1.], device='cuda:0')\n",
      "Epoch 0:  81%|████████  | 823/1020 [03:42<00:53,  3.69it/s, loss=0.911, v_num=ts5c]tensor([4., 2., 1.], device='cuda:0')\n",
      "Epoch 0:  81%|████████  | 824/1020 [03:43<00:53,  3.69it/s, loss=0.911, v_num=ts5c]tensor([4., 2., 1.], device='cuda:0')\n",
      "Epoch 0:  81%|████████  | 825/1020 [03:43<00:52,  3.69it/s, loss=0.911, v_num=ts5c]tensor([4., 2., 1.], device='cuda:0')\n",
      "Epoch 0:  81%|████████  | 826/1020 [03:43<00:52,  3.69it/s, loss=0.911, v_num=ts5c]tensor([4., 2., 1.], device='cuda:0')\n",
      "Epoch 0:  81%|████████  | 827/1020 [03:43<00:52,  3.69it/s, loss=0.911, v_num=ts5c]tensor([4., 2., 1.], device='cuda:0')\n",
      "Epoch 0:  81%|████████  | 828/1020 [03:44<00:51,  3.69it/s, loss=0.911, v_num=ts5c]tensor([4., 2., 1.], device='cuda:0')\n",
      "Epoch 0:  81%|████████▏ | 829/1020 [03:44<00:51,  3.69it/s, loss=0.911, v_num=ts5c]tensor([4., 2., 1.], device='cuda:0')\n",
      "Epoch 0:  81%|████████▏ | 830/1020 [03:44<00:51,  3.69it/s, loss=0.911, v_num=ts5c]tensor([4., 2., 1.], device='cuda:0')\n",
      "Epoch 0:  81%|████████▏ | 831/1020 [03:45<00:51,  3.69it/s, loss=0.911, v_num=ts5c]tensor([4., 2., 1.], device='cuda:0')\n",
      "Epoch 0:  82%|████████▏ | 832/1020 [03:45<00:50,  3.69it/s, loss=0.911, v_num=ts5c]tensor([4., 2., 1.], device='cuda:0')\n",
      "Epoch 0:  82%|████████▏ | 833/1020 [03:45<00:50,  3.69it/s, loss=0.911, v_num=ts5c]tensor([4., 2., 1.], device='cuda:0')\n",
      "Epoch 0:  82%|████████▏ | 834/1020 [03:45<00:50,  3.69it/s, loss=0.911, v_num=ts5c]tensor([4., 2., 1.], device='cuda:0')\n",
      "Epoch 0:  82%|████████▏ | 835/1020 [03:46<00:50,  3.69it/s, loss=0.911, v_num=ts5c]tensor([4., 2., 1.], device='cuda:0')\n",
      "Epoch 0:  82%|████████▏ | 836/1020 [03:46<00:49,  3.69it/s, loss=0.911, v_num=ts5c]tensor([4., 2., 1.], device='cuda:0')\n",
      "Epoch 0:  82%|████████▏ | 837/1020 [03:46<00:49,  3.69it/s, loss=0.911, v_num=ts5c]tensor([4., 2., 1.], device='cuda:0')\n",
      "Epoch 0:  82%|████████▏ | 838/1020 [03:46<00:49,  3.69it/s, loss=0.911, v_num=ts5c]tensor([4., 2., 1.], device='cuda:0')\n",
      "Epoch 0:  82%|████████▏ | 839/1020 [03:47<00:49,  3.69it/s, loss=0.911, v_num=ts5c]tensor([4., 2., 1.], device='cuda:0')\n",
      "Epoch 0:  82%|████████▏ | 840/1020 [03:47<00:48,  3.69it/s, loss=0.91, v_num=ts5c] tensor([4., 2., 1.], device='cuda:0')\n",
      "Epoch 0:  82%|████████▏ | 841/1020 [03:47<00:48,  3.69it/s, loss=0.91, v_num=ts5c]tensor([4., 2., 1.], device='cuda:0')\n",
      "Epoch 0:  83%|████████▎ | 842/1020 [03:48<00:48,  3.69it/s, loss=0.91, v_num=ts5c]tensor([4., 2., 1.], device='cuda:0')\n",
      "Epoch 0:  83%|████████▎ | 843/1020 [03:48<00:47,  3.69it/s, loss=0.911, v_num=ts5c]tensor([4., 2., 1.], device='cuda:0')\n",
      "Epoch 0:  83%|████████▎ | 844/1020 [03:48<00:47,  3.69it/s, loss=0.911, v_num=ts5c]tensor([4., 2., 1.], device='cuda:0')\n",
      "Epoch 0:  83%|████████▎ | 845/1020 [03:48<00:47,  3.69it/s, loss=0.911, v_num=ts5c]tensor([4., 2., 1.], device='cuda:0')\n",
      "Epoch 0:  83%|████████▎ | 846/1020 [03:49<00:47,  3.69it/s, loss=0.911, v_num=ts5c]tensor([4., 2., 1.], device='cuda:0')\n",
      "Epoch 0:  83%|████████▎ | 847/1020 [03:49<00:46,  3.69it/s, loss=0.911, v_num=ts5c]tensor([4., 2., 1.], device='cuda:0')\n",
      "Epoch 0:  83%|████████▎ | 848/1020 [03:49<00:46,  3.69it/s, loss=0.91, v_num=ts5c] tensor([4., 2., 1.], device='cuda:0')\n",
      "Epoch 0:  83%|████████▎ | 849/1020 [03:49<00:46,  3.69it/s, loss=0.91, v_num=ts5c]tensor([4., 2., 1.], device='cuda:0')\n",
      "Epoch 0:  83%|████████▎ | 850/1020 [03:50<00:46,  3.69it/s, loss=0.91, v_num=ts5c]tensor([4., 2., 1.], device='cuda:0')\n",
      "Epoch 0:  83%|████████▎ | 851/1020 [03:50<00:45,  3.69it/s, loss=0.91, v_num=ts5c]tensor([4., 2., 1.], device='cuda:0')\n",
      "Epoch 0:  84%|████████▎ | 852/1020 [03:50<00:45,  3.69it/s, loss=0.91, v_num=ts5c]tensor([4., 2., 1.], device='cuda:0')\n",
      "Epoch 0:  84%|████████▎ | 853/1020 [03:50<00:45,  3.69it/s, loss=0.91, v_num=ts5c]tensor([4., 2., 1.], device='cuda:0')\n",
      "Epoch 0:  84%|████████▎ | 854/1020 [03:51<00:44,  3.69it/s, loss=0.91, v_num=ts5c]tensor([4., 2., 1.], device='cuda:0')\n",
      "Epoch 0:  84%|████████▍ | 855/1020 [03:51<00:44,  3.69it/s, loss=0.91, v_num=ts5c]tensor([4., 2., 1.], device='cuda:0')\n",
      "Epoch 0:  84%|████████▍ | 856/1020 [03:51<00:44,  3.69it/s, loss=0.91, v_num=ts5c]tensor([4., 2., 1.], device='cuda:0')\n",
      "Epoch 0:  84%|████████▍ | 857/1020 [03:52<00:44,  3.69it/s, loss=0.91, v_num=ts5c]tensor([4., 2., 1.], device='cuda:0')\n",
      "Epoch 0:  84%|████████▍ | 858/1020 [03:52<00:43,  3.69it/s, loss=0.911, v_num=ts5c]tensor([4., 2., 1.], device='cuda:0')\n",
      "Epoch 0:  84%|████████▍ | 859/1020 [03:52<00:43,  3.69it/s, loss=0.911, v_num=ts5c]tensor([4., 2., 1.], device='cuda:0')\n",
      "Epoch 0:  84%|████████▍ | 860/1020 [03:52<00:43,  3.69it/s, loss=0.911, v_num=ts5c]tensor([4., 2., 1.], device='cuda:0')\n",
      "Epoch 0:  84%|████████▍ | 861/1020 [03:53<00:43,  3.70it/s, loss=0.912, v_num=ts5c]tensor([4., 2., 1.], device='cuda:0')\n",
      "Epoch 0:  85%|████████▍ | 862/1020 [03:53<00:42,  3.70it/s, loss=0.912, v_num=ts5c]tensor([4., 2., 1.], device='cuda:0')\n",
      "Epoch 0:  85%|████████▍ | 863/1020 [03:53<00:42,  3.70it/s, loss=0.912, v_num=ts5c]tensor([4., 2., 1.], device='cuda:0')\n",
      "Epoch 0:  85%|████████▍ | 864/1020 [03:53<00:42,  3.70it/s, loss=0.912, v_num=ts5c]tensor([4., 2., 1.], device='cuda:0')\n",
      "Epoch 0:  85%|████████▍ | 865/1020 [03:54<00:41,  3.70it/s, loss=0.912, v_num=ts5c]tensor([4., 2., 1.], device='cuda:0')\n",
      "Epoch 0:  85%|████████▍ | 866/1020 [03:54<00:41,  3.70it/s, loss=0.912, v_num=ts5c]tensor([4., 2., 1.], device='cuda:0')\n",
      "Epoch 0:  85%|████████▌ | 867/1020 [03:54<00:41,  3.70it/s, loss=0.912, v_num=ts5c]tensor([4., 2., 1.], device='cuda:0')\n",
      "Epoch 0:  85%|████████▌ | 868/1020 [03:54<00:41,  3.70it/s, loss=0.912, v_num=ts5c]tensor([4., 2., 1.], device='cuda:0')\n",
      "Epoch 0:  85%|████████▌ | 869/1020 [03:55<00:40,  3.70it/s, loss=0.913, v_num=ts5c]tensor([4., 2., 1.], device='cuda:0')\n",
      "Epoch 0:  85%|████████▌ | 870/1020 [03:55<00:40,  3.70it/s, loss=0.913, v_num=ts5c]tensor([4., 2., 1.], device='cuda:0')\n",
      "Epoch 0:  85%|████████▌ | 871/1020 [03:55<00:40,  3.70it/s, loss=0.912, v_num=ts5c]tensor([4., 2., 1.], device='cuda:0')\n",
      "Epoch 0:  85%|████████▌ | 872/1020 [03:55<00:40,  3.70it/s, loss=0.913, v_num=ts5c]tensor([4., 2., 1.], device='cuda:0')\n",
      "Epoch 0:  86%|████████▌ | 873/1020 [03:56<00:39,  3.70it/s, loss=0.913, v_num=ts5c]tensor([4., 2., 1.], device='cuda:0')\n",
      "Epoch 0:  86%|████████▌ | 874/1020 [03:56<00:39,  3.70it/s, loss=0.913, v_num=ts5c]tensor([4., 2., 1.], device='cuda:0')\n",
      "Epoch 0:  86%|████████▌ | 875/1020 [03:56<00:39,  3.70it/s, loss=0.913, v_num=ts5c]tensor([4., 2., 1.], device='cuda:0')\n",
      "Epoch 0:  86%|████████▌ | 876/1020 [03:57<00:38,  3.70it/s, loss=0.913, v_num=ts5c]tensor([4., 2., 1.], device='cuda:0')\n",
      "Epoch 0:  86%|████████▌ | 877/1020 [03:57<00:38,  3.70it/s, loss=0.913, v_num=ts5c]tensor([4., 2., 1.], device='cuda:0')\n",
      "Epoch 0:  86%|████████▌ | 878/1020 [03:57<00:38,  3.70it/s, loss=0.912, v_num=ts5c]tensor([4., 2., 1.], device='cuda:0')\n",
      "Epoch 0:  86%|████████▌ | 879/1020 [03:57<00:38,  3.70it/s, loss=0.912, v_num=ts5c]tensor([4., 2., 1.], device='cuda:0')\n",
      "Epoch 0:  86%|████████▋ | 880/1020 [03:58<00:37,  3.70it/s, loss=0.912, v_num=ts5c]tensor([4., 2., 1.], device='cuda:0')\n",
      "Epoch 0:  86%|████████▋ | 881/1020 [03:58<00:37,  3.70it/s, loss=0.911, v_num=ts5c]tensor([4., 2., 1.], device='cuda:0')\n",
      "Epoch 0:  86%|████████▋ | 882/1020 [03:58<00:37,  3.70it/s, loss=0.911, v_num=ts5c]tensor([4., 2., 1.], device='cuda:0')\n",
      "Epoch 0:  87%|████████▋ | 883/1020 [03:58<00:37,  3.70it/s, loss=0.911, v_num=ts5c]tensor([4., 2., 1.], device='cuda:0')\n",
      "Epoch 0:  87%|████████▋ | 884/1020 [03:59<00:36,  3.69it/s, loss=0.912, v_num=ts5c]tensor([4., 2., 1.], device='cuda:0')\n",
      "Epoch 0:  87%|████████▋ | 885/1020 [03:59<00:36,  3.69it/s, loss=0.912, v_num=ts5c]tensor([4., 2., 1.], device='cuda:0')\n",
      "Epoch 0:  87%|████████▋ | 886/1020 [03:59<00:36,  3.69it/s, loss=0.912, v_num=ts5c]tensor([4., 2., 1.], device='cuda:0')\n",
      "Epoch 0:  87%|████████▋ | 887/1020 [04:00<00:36,  3.69it/s, loss=0.912, v_num=ts5c]tensor([4., 2., 1.], device='cuda:0')\n",
      "Epoch 0:  87%|████████▋ | 888/1020 [04:00<00:35,  3.69it/s, loss=0.912, v_num=ts5c]tensor([4., 2., 1.], device='cuda:0')\n",
      "Epoch 0:  87%|████████▋ | 889/1020 [04:00<00:35,  3.69it/s, loss=0.912, v_num=ts5c]tensor([4., 2., 1.], device='cuda:0')\n",
      "Epoch 0:  87%|████████▋ | 890/1020 [04:00<00:35,  3.69it/s, loss=0.911, v_num=ts5c]tensor([4., 2., 1.], device='cuda:0')\n",
      "Epoch 0:  87%|████████▋ | 891/1020 [04:01<00:34,  3.69it/s, loss=0.911, v_num=ts5c]tensor([4., 2., 1.], device='cuda:0')\n",
      "Epoch 0:  87%|████████▋ | 892/1020 [04:01<00:34,  3.69it/s, loss=0.911, v_num=ts5c]tensor([4., 2., 1.], device='cuda:0')\n",
      "Epoch 0:  88%|████████▊ | 893/1020 [04:01<00:34,  3.69it/s, loss=0.911, v_num=ts5c]tensor([4., 2., 1.], device='cuda:0')\n",
      "Epoch 0:  88%|████████▊ | 894/1020 [04:02<00:34,  3.69it/s, loss=0.911, v_num=ts5c]tensor([4., 2., 1.], device='cuda:0')\n",
      "Epoch 0:  88%|████████▊ | 895/1020 [04:02<00:33,  3.69it/s, loss=0.911, v_num=ts5c]tensor([4., 2., 1.], device='cuda:0')\n",
      "Epoch 0:  88%|████████▊ | 896/1020 [04:02<00:33,  3.69it/s, loss=0.911, v_num=ts5c]tensor([4., 2., 1.], device='cuda:0')\n",
      "Epoch 0:  88%|████████▊ | 897/1020 [04:02<00:33,  3.69it/s, loss=0.911, v_num=ts5c]tensor([4., 2., 1.], device='cuda:0')\n",
      "Epoch 0:  88%|████████▊ | 898/1020 [04:03<00:33,  3.69it/s, loss=0.912, v_num=ts5c]tensor([4., 2., 1.], device='cuda:0')\n",
      "Epoch 0:  88%|████████▊ | 899/1020 [04:03<00:32,  3.69it/s, loss=0.911, v_num=ts5c]tensor([4., 2., 1.], device='cuda:0')\n",
      "Epoch 0:  88%|████████▊ | 900/1020 [04:03<00:32,  3.69it/s, loss=0.912, v_num=ts5c]tensor([4., 2., 1.], device='cuda:0')\n",
      "Epoch 0:  88%|████████▊ | 901/1020 [04:03<00:32,  3.69it/s, loss=0.912, v_num=ts5c]tensor([4., 2., 1.], device='cuda:0')\n",
      "Epoch 0:  88%|████████▊ | 902/1020 [04:04<00:31,  3.70it/s, loss=0.912, v_num=ts5c]tensor([4., 2., 1.], device='cuda:0')\n",
      "Epoch 0:  89%|████████▊ | 903/1020 [04:04<00:31,  3.69it/s, loss=0.911, v_num=ts5c]tensor([4., 2., 1.], device='cuda:0')\n",
      "Epoch 0:  89%|████████▊ | 904/1020 [04:04<00:31,  3.69it/s, loss=0.911, v_num=ts5c]tensor([4., 2., 1.], device='cuda:0')\n",
      "Epoch 0:  89%|████████▊ | 905/1020 [04:04<00:31,  3.70it/s, loss=0.911, v_num=ts5c]tensor([4., 2., 1.], device='cuda:0')\n",
      "Epoch 0:  89%|████████▉ | 906/1020 [04:05<00:30,  3.70it/s, loss=0.911, v_num=ts5c]tensor([4., 2., 1.], device='cuda:0')\n",
      "Epoch 0:  89%|████████▉ | 907/1020 [04:05<00:30,  3.70it/s, loss=0.911, v_num=ts5c]tensor([4., 2., 1.], device='cuda:0')\n",
      "Epoch 0:  89%|████████▉ | 908/1020 [04:05<00:30,  3.70it/s, loss=0.911, v_num=ts5c]tensor([4., 2., 1.], device='cuda:0')\n",
      "Epoch 0:  89%|████████▉ | 909/1020 [04:06<00:30,  3.70it/s, loss=0.91, v_num=ts5c] tensor([4., 2., 1.], device='cuda:0')\n",
      "Epoch 0:  89%|████████▉ | 910/1020 [04:06<00:29,  3.70it/s, loss=0.911, v_num=ts5c]tensor([4., 2., 1.], device='cuda:0')\n",
      "Epoch 0:  89%|████████▉ | 911/1020 [04:06<00:29,  3.70it/s, loss=0.911, v_num=ts5c]tensor([4., 2., 1.], device='cuda:0')\n",
      "Epoch 0:  89%|████████▉ | 912/1020 [04:06<00:29,  3.70it/s, loss=0.911, v_num=ts5c]tensor([4., 2., 1.], device='cuda:0')\n",
      "Epoch 0:  90%|████████▉ | 913/1020 [04:07<00:28,  3.70it/s, loss=0.91, v_num=ts5c] tensor([4., 2., 1.], device='cuda:0')\n",
      "Epoch 0:  90%|████████▉ | 914/1020 [04:07<00:28,  3.70it/s, loss=0.911, v_num=ts5c]tensor([4., 2., 1.], device='cuda:0')\n",
      "Epoch 0:  90%|████████▉ | 915/1020 [04:07<00:28,  3.70it/s, loss=0.91, v_num=ts5c] tensor([4., 2., 1.], device='cuda:0')\n",
      "Epoch 0:  90%|████████▉ | 916/1020 [04:07<00:28,  3.70it/s, loss=0.91, v_num=ts5c]tensor([4., 2., 1.], device='cuda:0')\n",
      "Epoch 0:  90%|████████▉ | 917/1020 [04:08<00:27,  3.70it/s, loss=0.91, v_num=ts5c]tensor([4., 2., 1.], device='cuda:0')\n",
      "Epoch 0:  90%|█████████ | 918/1020 [04:08<00:27,  3.70it/s, loss=0.91, v_num=ts5c]tensor([4., 2., 1.], device='cuda:0')\n",
      "Epoch 0:  90%|█████████ | 919/1020 [04:08<00:27,  3.70it/s, loss=0.91, v_num=ts5c]tensor([4., 2., 1.], device='cuda:0')\n",
      "Epoch 0:  90%|█████████ | 920/1020 [04:08<00:27,  3.70it/s, loss=0.91, v_num=ts5c]tensor([4., 2., 1.], device='cuda:0')\n",
      "Epoch 0:  90%|█████████ | 921/1020 [04:09<00:26,  3.70it/s, loss=0.909, v_num=ts5c]tensor([4., 2., 1.], device='cuda:0')\n",
      "Epoch 0:  90%|█████████ | 922/1020 [04:09<00:26,  3.70it/s, loss=0.909, v_num=ts5c]tensor([4., 2., 1.], device='cuda:0')\n",
      "Epoch 0:  90%|█████████ | 923/1020 [04:09<00:26,  3.70it/s, loss=0.909, v_num=ts5c]tensor([4., 2., 1.], device='cuda:0')\n",
      "Epoch 0:  91%|█████████ | 924/1020 [04:10<00:25,  3.70it/s, loss=0.909, v_num=ts5c]tensor([4., 2., 1.], device='cuda:0')\n",
      "Epoch 0:  91%|█████████ | 925/1020 [04:10<00:25,  3.70it/s, loss=0.909, v_num=ts5c]tensor([4., 2., 1.], device='cuda:0')\n",
      "Epoch 0:  91%|█████████ | 926/1020 [04:10<00:25,  3.69it/s, loss=0.909, v_num=ts5c]tensor([4., 2., 1.], device='cuda:0')\n",
      "Epoch 0:  91%|█████████ | 927/1020 [04:10<00:25,  3.69it/s, loss=0.909, v_num=ts5c]tensor([4., 2., 1.], device='cuda:0')\n",
      "Epoch 0:  91%|█████████ | 928/1020 [04:11<00:24,  3.70it/s, loss=0.909, v_num=ts5c]tensor([4., 2., 1.], device='cuda:0')\n",
      "Epoch 0:  91%|█████████ | 929/1020 [04:11<00:24,  3.70it/s, loss=0.909, v_num=ts5c]tensor([4., 2., 1.], device='cuda:0')\n",
      "Epoch 0:  91%|█████████ | 930/1020 [04:11<00:24,  3.70it/s, loss=0.909, v_num=ts5c]tensor([4., 2., 1.], device='cuda:0')\n",
      "Epoch 0:  91%|█████████▏| 931/1020 [04:11<00:24,  3.70it/s, loss=0.909, v_num=ts5c]tensor([4., 2., 1.], device='cuda:0')\n",
      "Epoch 0:  91%|█████████▏| 932/1020 [04:12<00:23,  3.70it/s, loss=0.909, v_num=ts5c]tensor([4., 2., 1.], device='cuda:0')\n",
      "Epoch 0:  91%|█████████▏| 933/1020 [04:12<00:23,  3.70it/s, loss=0.909, v_num=ts5c]tensor([4., 2., 1.], device='cuda:0')\n",
      "Epoch 0:  92%|█████████▏| 934/1020 [04:12<00:23,  3.70it/s, loss=0.909, v_num=ts5c]tensor([4., 2., 1.], device='cuda:0')\n",
      "Epoch 0:  92%|█████████▏| 935/1020 [04:13<00:23,  3.70it/s, loss=0.909, v_num=ts5c]tensor([4., 2., 1.], device='cuda:0')\n",
      "Epoch 0:  92%|█████████▏| 936/1020 [04:13<00:22,  3.70it/s, loss=0.909, v_num=ts5c]tensor([4., 2., 1.], device='cuda:0')\n",
      "Epoch 0:  92%|█████████▏| 937/1020 [04:13<00:22,  3.70it/s, loss=0.909, v_num=ts5c]tensor([4., 2., 1.], device='cuda:0')\n",
      "Epoch 0:  92%|█████████▏| 938/1020 [04:13<00:22,  3.70it/s, loss=0.909, v_num=ts5c]tensor([4., 2., 1.], device='cuda:0')\n",
      "Epoch 0:  92%|█████████▏| 939/1020 [04:14<00:21,  3.70it/s, loss=0.909, v_num=ts5c]tensor([4., 2., 1.], device='cuda:0')\n",
      "Epoch 0:  92%|█████████▏| 940/1020 [04:14<00:21,  3.70it/s, loss=0.909, v_num=ts5c]tensor([4., 2., 1.], device='cuda:0')\n",
      "Epoch 0:  92%|█████████▏| 941/1020 [04:14<00:21,  3.70it/s, loss=0.909, v_num=ts5c]tensor([4., 2., 1.], device='cuda:0')\n",
      "Epoch 0:  92%|█████████▏| 942/1020 [04:14<00:21,  3.70it/s, loss=0.909, v_num=ts5c]tensor([4., 2., 1.], device='cuda:0')\n",
      "Epoch 0:  92%|█████████▏| 943/1020 [04:15<00:20,  3.70it/s, loss=0.909, v_num=ts5c]tensor([4., 2., 1.], device='cuda:0')\n",
      "Epoch 0:  93%|█████████▎| 944/1020 [04:15<00:20,  3.70it/s, loss=0.909, v_num=ts5c]tensor([4., 2., 1.], device='cuda:0')\n",
      "Epoch 0:  93%|█████████▎| 945/1020 [04:15<00:20,  3.70it/s, loss=0.909, v_num=ts5c]tensor([4., 2., 1.], device='cuda:0')\n",
      "Epoch 0:  93%|█████████▎| 946/1020 [04:15<00:20,  3.70it/s, loss=0.909, v_num=ts5c]tensor([4., 2., 1.], device='cuda:0')\n",
      "Epoch 0:  93%|█████████▎| 947/1020 [04:16<00:19,  3.70it/s, loss=0.909, v_num=ts5c]tensor([4., 2., 1.], device='cuda:0')\n",
      "Epoch 0:  93%|█████████▎| 948/1020 [04:16<00:19,  3.70it/s, loss=0.908, v_num=ts5c]tensor([4., 2., 1.], device='cuda:0')\n",
      "Epoch 0:  93%|█████████▎| 949/1020 [04:16<00:19,  3.70it/s, loss=0.908, v_num=ts5c]tensor([4., 2., 1.], device='cuda:0')\n",
      "Epoch 0:  93%|█████████▎| 950/1020 [04:16<00:18,  3.70it/s, loss=0.909, v_num=ts5c]tensor([4., 2., 1.], device='cuda:0')\n",
      "Epoch 0:  93%|█████████▎| 951/1020 [04:17<00:18,  3.70it/s, loss=0.909, v_num=ts5c]tensor([4., 2., 1.], device='cuda:0')\n",
      "Epoch 0:  93%|█████████▎| 952/1020 [04:17<00:18,  3.70it/s, loss=0.909, v_num=ts5c]tensor([4., 2., 1.], device='cuda:0')\n",
      "Epoch 0:  93%|█████████▎| 953/1020 [04:17<00:18,  3.70it/s, loss=0.909, v_num=ts5c]tensor([4., 2., 1.], device='cuda:0')\n",
      "Epoch 0:  94%|█████████▎| 954/1020 [04:18<00:17,  3.70it/s, loss=0.909, v_num=ts5c]tensor([4., 2., 1.], device='cuda:0')\n",
      "Epoch 0:  94%|█████████▎| 955/1020 [04:18<00:17,  3.70it/s, loss=0.909, v_num=ts5c]tensor([4., 2., 1.], device='cuda:0')\n",
      "Epoch 0:  94%|█████████▎| 956/1020 [04:18<00:17,  3.70it/s, loss=0.909, v_num=ts5c]tensor([4., 2., 1.], device='cuda:0')\n",
      "Epoch 0:  94%|█████████▍| 957/1020 [04:18<00:17,  3.70it/s, loss=0.909, v_num=ts5c]tensor([4., 2., 1.], device='cuda:0')\n",
      "Epoch 0:  94%|█████████▍| 958/1020 [04:19<00:16,  3.70it/s, loss=0.909, v_num=ts5c]tensor([4., 2., 1.], device='cuda:0')\n",
      "Epoch 0:  94%|█████████▍| 959/1020 [04:19<00:16,  3.70it/s, loss=0.909, v_num=ts5c]tensor([4., 2., 1.], device='cuda:0')\n",
      "Epoch 0:  94%|█████████▍| 960/1020 [04:19<00:16,  3.70it/s, loss=0.909, v_num=ts5c]tensor([4., 2., 1.], device='cuda:0')\n",
      "Epoch 0:  94%|█████████▍| 961/1020 [04:19<00:15,  3.70it/s, loss=0.91, v_num=ts5c] tensor([4., 2., 1.], device='cuda:0')\n",
      "Epoch 0:  94%|█████████▍| 962/1020 [04:20<00:15,  3.70it/s, loss=0.91, v_num=ts5c]tensor([4., 2., 1.], device='cuda:0')\n",
      "Epoch 0:  94%|█████████▍| 963/1020 [04:20<00:15,  3.70it/s, loss=0.91, v_num=ts5c]tensor([4., 2., 1.], device='cuda:0')\n",
      "Epoch 0:  95%|█████████▍| 964/1020 [04:20<00:15,  3.70it/s, loss=0.911, v_num=ts5c]tensor([4., 2., 1.], device='cuda:0')\n",
      "Epoch 0:  95%|█████████▍| 965/1020 [04:20<00:14,  3.70it/s, loss=0.91, v_num=ts5c] tensor([4., 2., 1.], device='cuda:0')\n",
      "Epoch 0:  95%|█████████▍| 966/1020 [04:21<00:14,  3.70it/s, loss=0.911, v_num=ts5c]tensor([4., 2., 1.], device='cuda:0')\n",
      "Epoch 0:  95%|█████████▍| 967/1020 [04:21<00:14,  3.70it/s, loss=0.911, v_num=ts5c]tensor([4., 2., 1.], device='cuda:0')\n",
      "Epoch 0:  95%|█████████▍| 968/1020 [04:21<00:14,  3.70it/s, loss=0.912, v_num=ts5c]tensor([4., 2., 1.], device='cuda:0')\n",
      "Epoch 0:  95%|█████████▌| 969/1020 [04:21<00:13,  3.70it/s, loss=0.912, v_num=ts5c]tensor([4., 2., 1.], device='cuda:0')\n",
      "Epoch 0:  95%|█████████▌| 970/1020 [04:22<00:13,  3.70it/s, loss=0.912, v_num=ts5c]tensor([4., 2., 1.], device='cuda:0')\n",
      "Epoch 0:  95%|█████████▌| 971/1020 [04:22<00:13,  3.70it/s, loss=0.912, v_num=ts5c]tensor([4., 2., 1.], device='cuda:0')\n",
      "Epoch 0:  95%|█████████▌| 972/1020 [04:22<00:12,  3.70it/s, loss=0.912, v_num=ts5c]tensor([4., 2., 1.], device='cuda:0')\n",
      "Epoch 0:  95%|█████████▌| 973/1020 [04:22<00:12,  3.70it/s, loss=0.912, v_num=ts5c]tensor([4., 2., 1.], device='cuda:0')\n",
      "Epoch 0:  95%|█████████▌| 974/1020 [04:23<00:12,  3.70it/s, loss=0.912, v_num=ts5c]tensor([4., 2., 1.], device='cuda:0')\n",
      "Epoch 0:  96%|█████████▌| 975/1020 [04:23<00:12,  3.70it/s, loss=0.912, v_num=ts5c]tensor([4., 2., 1.], device='cuda:0')\n",
      "Epoch 0:  96%|█████████▌| 976/1020 [04:23<00:11,  3.70it/s, loss=0.912, v_num=ts5c]tensor([4., 2., 1.], device='cuda:0')\n",
      "Epoch 0:  96%|█████████▌| 977/1020 [04:23<00:11,  3.70it/s, loss=0.912, v_num=ts5c]tensor([4., 2., 1.], device='cuda:0')\n",
      "Epoch 0:  96%|█████████▌| 978/1020 [04:24<00:11,  3.70it/s, loss=0.911, v_num=ts5c]tensor([4., 2., 1.], device='cuda:0')\n",
      "Epoch 0:  96%|█████████▌| 979/1020 [04:24<00:11,  3.70it/s, loss=0.911, v_num=ts5c]tensor([4., 2., 1.], device='cuda:0')\n",
      "Epoch 0:  96%|█████████▌| 980/1020 [04:24<00:10,  3.70it/s, loss=0.911, v_num=ts5c]tensor([4., 2., 1.], device='cuda:0')\n",
      "Epoch 0:  96%|█████████▌| 981/1020 [04:25<00:10,  3.70it/s, loss=0.911, v_num=ts5c]tensor([4., 2., 1.], device='cuda:0')\n",
      "Epoch 0:  96%|█████████▋| 982/1020 [04:25<00:10,  3.70it/s, loss=0.91, v_num=ts5c] tensor([4., 2., 1.], device='cuda:0')\n",
      "Epoch 0:  96%|█████████▋| 983/1020 [04:25<00:10,  3.70it/s, loss=0.91, v_num=ts5c]tensor([4., 2., 1.], device='cuda:0')\n",
      "Epoch 0:  96%|█████████▋| 984/1020 [04:25<00:09,  3.70it/s, loss=0.909, v_num=ts5c]tensor([4., 2., 1.], device='cuda:0')\n",
      "Epoch 0:  97%|█████████▋| 985/1020 [04:26<00:09,  3.70it/s, loss=0.91, v_num=ts5c] tensor([4., 2., 1.], device='cuda:0')\n",
      "Epoch 0:  97%|█████████▋| 986/1020 [04:26<00:09,  3.70it/s, loss=0.91, v_num=ts5c]tensor([4., 2., 1.], device='cuda:0')\n",
      "Epoch 0:  97%|█████████▋| 987/1020 [04:26<00:08,  3.70it/s, loss=0.909, v_num=ts5c]tensor([4., 2., 1.], device='cuda:0')\n",
      "Epoch 0:  97%|█████████▋| 988/1020 [04:27<00:08,  3.70it/s, loss=0.909, v_num=ts5c]tensor([4., 2., 1.], device='cuda:0')\n",
      "Epoch 0:  97%|█████████▋| 989/1020 [04:27<00:08,  3.70it/s, loss=0.909, v_num=ts5c]tensor([4., 2., 1.], device='cuda:0')\n",
      "Epoch 0:  97%|█████████▋| 990/1020 [04:27<00:08,  3.70it/s, loss=0.909, v_num=ts5c]tensor([4., 2., 1.], device='cuda:0')\n",
      "Epoch 0:  97%|█████████▋| 991/1020 [04:27<00:07,  3.70it/s, loss=0.909, v_num=ts5c]tensor([4., 2., 1.], device='cuda:0')\n",
      "Epoch 0:  97%|█████████▋| 992/1020 [04:28<00:07,  3.70it/s, loss=0.909, v_num=ts5c]tensor([4., 2., 1.], device='cuda:0')\n",
      "Epoch 0:  97%|█████████▋| 993/1020 [04:28<00:07,  3.70it/s, loss=0.909, v_num=ts5c]tensor([4., 1., 1.], device='cuda:0')\n",
      "Epoch 0:  97%|█████████▋| 994/1020 [04:28<00:07,  3.70it/s, loss=0.909, v_num=ts5c]tensor([4., 2., 1.], device='cuda:0')\n",
      "Epoch 0:  98%|█████████▊| 995/1020 [04:29<00:06,  3.70it/s, loss=0.909, v_num=ts5c]tensor([4., 2., 1.], device='cuda:0')\n",
      "Epoch 0:  98%|█████████▊| 996/1020 [04:29<00:06,  3.70it/s, loss=0.909, v_num=ts5c]tensor([4., 2., 1.], device='cuda:0')\n",
      "Epoch 0:  98%|█████████▊| 997/1020 [04:29<00:06,  3.70it/s, loss=0.91, v_num=ts5c] tensor([4., 1., 1.], device='cuda:0')\n",
      "Epoch 0:  98%|█████████▊| 998/1020 [04:29<00:05,  3.70it/s, loss=0.91, v_num=ts5c]tensor([4., 1., 1.], device='cuda:0')\n",
      "Epoch 0:  98%|█████████▊| 999/1020 [04:30<00:05,  3.70it/s, loss=0.911, v_num=ts5c]tensor([4., 2., 2.], device='cuda:0')\n",
      "Epoch 0:  98%|█████████▊| 1000/1020 [04:30<00:05,  3.70it/s, loss=0.911, v_num=ts5c]\n",
      "Validating: 0it [00:00, ?it/s]\u001b[A\n",
      "Validating:   0%|          | 0/20 [00:00<?, ?it/s]\u001b[Atensor([4., 2., 2.], device='cuda:0')\n",
      "\n",
      "Epoch 0:  98%|█████████▊| 1002/1020 [04:36<00:04,  3.62it/s, loss=0.911, v_num=ts5c]tensor([4., 2., 2.], device='cuda:0')\n",
      "\n",
      "Validating:  10%|█         | 2/20 [00:11<01:47,  5.99s/it]\u001b[Atensor([4., 2., 2.], device='cuda:0')\n",
      "\n",
      "Epoch 0:  98%|█████████▊| 1004/1020 [04:48<00:04,  3.48it/s, loss=0.911, v_num=ts5c]tensor([4., 2., 2.], device='cuda:0')\n",
      "\n",
      "Epoch 0:  99%|█████████▊| 1005/1020 [04:53<00:04,  3.42it/s, loss=0.911, v_num=ts5c]tensor([4., 2., 2.], device='cuda:0')\n",
      "\n",
      "Epoch 0:  99%|█████████▊| 1006/1020 [04:59<00:04,  3.36it/s, loss=0.911, v_num=ts5c]tensor([4., 2., 2.], device='cuda:0')\n",
      "\n",
      "Epoch 0:  99%|█████████▊| 1007/1020 [05:05<00:03,  3.30it/s, loss=0.911, v_num=ts5c]tensor([4., 2., 2.], device='cuda:0')\n",
      "\n",
      "Epoch 0:  99%|█████████▉| 1008/1020 [05:11<00:03,  3.24it/s, loss=0.911, v_num=ts5c]tensor([4., 2., 2.], device='cuda:0')\n",
      "\n",
      "Epoch 0:  99%|█████████▉| 1009/1020 [05:17<00:03,  3.18it/s, loss=0.911, v_num=ts5c]tensor([4., 2., 2.], device='cuda:0')\n",
      "\n",
      "Epoch 0:  99%|█████████▉| 1010/1020 [05:21<00:03,  3.14it/s, loss=0.911, v_num=ts5c]tensor([4., 2., 2.], device='cuda:0')\n",
      "\n",
      "Epoch 0:  99%|█████████▉| 1011/1020 [05:26<00:02,  3.10it/s, loss=0.911, v_num=ts5c]tensor([4., 2., 2.], device='cuda:0')\n",
      "\n",
      "Epoch 0:  99%|█████████▉| 1012/1020 [05:31<00:02,  3.05it/s, loss=0.911, v_num=ts5c]tensor([4., 2., 2.], device='cuda:0')\n",
      "\n",
      "Epoch 0:  99%|█████████▉| 1013/1020 [05:36<00:02,  3.01it/s, loss=0.911, v_num=ts5c]tensor([4., 2., 2.], device='cuda:0')\n",
      "\n",
      "Epoch 0:  99%|█████████▉| 1014/1020 [05:42<00:02,  2.96it/s, loss=0.911, v_num=ts5c]tensor([4., 2., 2.], device='cuda:0')\n",
      "\n",
      "Epoch 0: 100%|█████████▉| 1015/1020 [05:46<00:01,  2.93it/s, loss=0.911, v_num=ts5c]tensor([4., 2., 2.], device='cuda:0')\n",
      "\n",
      "Epoch 0: 100%|█████████▉| 1016/1020 [05:50<00:01,  2.90it/s, loss=0.911, v_num=ts5c]tensor([4., 2., 2.], device='cuda:0')\n",
      "\n",
      "Epoch 0: 100%|█████████▉| 1017/1020 [05:54<00:01,  2.87it/s, loss=0.911, v_num=ts5c]tensor([4., 2., 2.], device='cuda:0')\n",
      "\n",
      "Epoch 0: 100%|█████████▉| 1018/1020 [05:59<00:00,  2.83it/s, loss=0.911, v_num=ts5c]tensor([4., 2., 2.], device='cuda:0')\n",
      "\n",
      "Epoch 0: 100%|█████████▉| 1019/1020 [06:03<00:00,  2.80it/s, loss=0.911, v_num=ts5c]tensor([4., 2., 2.], device='cuda:0')\n",
      "\n",
      "Epoch 0: 100%|██████████| 1020/1020 [06:09<00:00,  2.76it/s, loss=0.911, v_num=ts5c]tensor([4., 2., 2.], device='cuda:0')\n",
      "\n",
      "Epoch 0: 100%|██████████| 1020/1020 [06:14<00:00,  2.72it/s, loss=0.911, v_num=ts5c]\n",
      "Epoch 1:   0%|          | 0/1020 [00:00<?, ?it/s, loss=0.911, v_num=ts5c]           tensor([4., 2., 2.], device='cuda:0')\n",
      "Epoch 1:   0%|          | 1/1020 [00:00<11:40,  1.45it/s, loss=0.911, v_num=ts5c]tensor([4., 2., 2.], device='cuda:0')\n",
      "Epoch 1:   0%|          | 2/1020 [00:00<08:04,  2.10it/s, loss=0.911, v_num=ts5c]tensor([4., 2., 2.], device='cuda:0')\n",
      "Epoch 1:   0%|          | 3/1020 [00:01<07:06,  2.38it/s, loss=0.912, v_num=ts5c]tensor([4., 2., 1.], device='cuda:0')\n",
      "Epoch 1:   0%|          | 4/1020 [00:01<06:24,  2.64it/s, loss=0.912, v_num=ts5c]tensor([4., 2., 1.], device='cuda:0')\n",
      "Epoch 1:   0%|          | 5/1020 [00:01<06:01,  2.81it/s, loss=0.912, v_num=ts5c]tensor([4., 2., 2.], device='cuda:0')\n",
      "Epoch 1:   1%|          | 6/1020 [00:02<05:41,  2.97it/s, loss=0.912, v_num=ts5c]tensor([4., 2., 2.], device='cuda:0')\n",
      "Epoch 1:   1%|          | 7/1020 [00:02<05:33,  3.04it/s, loss=0.913, v_num=ts5c]tensor([4., 2., 2.], device='cuda:0')\n",
      "Epoch 1:   1%|          | 8/1020 [00:02<05:29,  3.07it/s, loss=0.913, v_num=ts5c]tensor([4., 2., 2.], device='cuda:0')\n",
      "Epoch 1:   1%|          | 9/1020 [00:02<05:19,  3.17it/s, loss=0.913, v_num=ts5c]tensor([4., 2., 2.], device='cuda:0')\n",
      "Epoch 1:   1%|          | 10/1020 [00:03<05:09,  3.26it/s, loss=0.913, v_num=ts5c]tensor([4., 2., 2.], device='cuda:0')\n",
      "Epoch 1:   1%|          | 11/1020 [00:03<05:08,  3.27it/s, loss=0.913, v_num=ts5c]tensor([4., 2., 2.], device='cuda:0')\n",
      "Epoch 1:   1%|          | 12/1020 [00:03<05:08,  3.27it/s, loss=0.913, v_num=ts5c]tensor([4., 2., 2.], device='cuda:0')\n",
      "Epoch 1:   1%|▏         | 13/1020 [00:03<05:05,  3.29it/s, loss=0.912, v_num=ts5c]tensor([4., 2., 2.], device='cuda:0')\n",
      "Epoch 1:   1%|▏         | 14/1020 [00:04<05:00,  3.35it/s, loss=0.913, v_num=ts5c]tensor([4., 2., 2.], device='cuda:0')\n",
      "Epoch 1:   1%|▏         | 15/1020 [00:04<05:01,  3.34it/s, loss=0.912, v_num=ts5c]tensor([4., 2., 2.], device='cuda:0')\n",
      "Epoch 1:   2%|▏         | 16/1020 [00:04<05:01,  3.33it/s, loss=0.912, v_num=ts5c]tensor([4., 2., 2.], device='cuda:0')\n",
      "Epoch 1:   2%|▏         | 17/1020 [00:05<04:58,  3.36it/s, loss=0.912, v_num=ts5c]tensor([4., 2., 2.], device='cuda:0')\n",
      "Epoch 1:   2%|▏         | 18/1020 [00:05<04:58,  3.36it/s, loss=0.911, v_num=ts5c]tensor([4., 2., 2.], device='cuda:0')\n",
      "Epoch 1:   2%|▏         | 19/1020 [00:05<04:56,  3.37it/s, loss=0.911, v_num=ts5c]tensor([4., 2., 2.], device='cuda:0')\n",
      "Epoch 1:   2%|▏         | 20/1020 [00:05<04:55,  3.38it/s, loss=0.911, v_num=ts5c]tensor([4., 2., 2.], device='cuda:0')\n",
      "Epoch 1:   2%|▏         | 21/1020 [00:06<04:55,  3.39it/s, loss=0.911, v_num=ts5c]tensor([4., 2., 2.], device='cuda:0')\n",
      "Epoch 1:   2%|▏         | 22/1020 [00:06<04:54,  3.39it/s, loss=0.911, v_num=ts5c]tensor([4., 2., 2.], device='cuda:0')\n",
      "Epoch 1:   2%|▏         | 23/1020 [00:06<04:53,  3.40it/s, loss=0.911, v_num=ts5c]tensor([4., 2., 2.], device='cuda:0')\n",
      "Epoch 1:   2%|▏         | 24/1020 [00:07<04:52,  3.40it/s, loss=0.911, v_num=ts5c]tensor([4., 2., 2.], device='cuda:0')\n",
      "Epoch 1:   2%|▏         | 25/1020 [00:07<04:52,  3.40it/s, loss=0.911, v_num=ts5c]tensor([4., 2., 2.], device='cuda:0')\n",
      "Epoch 1:   3%|▎         | 26/1020 [00:07<04:51,  3.41it/s, loss=0.91, v_num=ts5c] tensor([4., 2., 2.], device='cuda:0')\n",
      "Epoch 1:   3%|▎         | 27/1020 [00:07<04:50,  3.42it/s, loss=0.91, v_num=ts5c]tensor([4., 2., 2.], device='cuda:0')\n",
      "Epoch 1:   3%|▎         | 28/1020 [00:08<04:49,  3.42it/s, loss=0.91, v_num=ts5c]tensor([4., 2., 2.], device='cuda:0')\n",
      "Epoch 1:   3%|▎         | 29/1020 [00:08<04:47,  3.45it/s, loss=0.91, v_num=ts5c]tensor([4., 2., 2.], device='cuda:0')\n",
      "Epoch 1:   3%|▎         | 30/1020 [00:08<04:46,  3.46it/s, loss=0.91, v_num=ts5c]tensor([4., 2., 2.], device='cuda:0')\n",
      "Epoch 1:   3%|▎         | 31/1020 [00:08<04:45,  3.46it/s, loss=0.91, v_num=ts5c]tensor([4., 2., 2.], device='cuda:0')\n",
      "Epoch 1:   3%|▎         | 32/1020 [00:09<04:44,  3.47it/s, loss=0.91, v_num=ts5c]tensor([4., 2., 2.], device='cuda:0')\n",
      "Epoch 1:   3%|▎         | 33/1020 [00:09<04:44,  3.47it/s, loss=0.91, v_num=ts5c]tensor([4., 2., 2.], device='cuda:0')\n",
      "Epoch 1:   3%|▎         | 34/1020 [00:09<04:43,  3.48it/s, loss=0.91, v_num=ts5c]tensor([4., 2., 2.], device='cuda:0')\n",
      "Epoch 1:   3%|▎         | 35/1020 [00:10<04:43,  3.48it/s, loss=0.91, v_num=ts5c]tensor([4., 2., 2.], device='cuda:0')\n",
      "Epoch 1:   4%|▎         | 36/1020 [00:10<04:41,  3.49it/s, loss=0.91, v_num=ts5c]tensor([4., 2., 2.], device='cuda:0')\n",
      "Epoch 1:   4%|▎         | 37/1020 [00:10<04:41,  3.49it/s, loss=0.91, v_num=ts5c]tensor([4., 2., 2.], device='cuda:0')\n",
      "Epoch 1:   4%|▎         | 38/1020 [00:10<04:40,  3.50it/s, loss=0.91, v_num=ts5c]tensor([4., 2., 2.], device='cuda:0')\n",
      "Epoch 1:   4%|▍         | 39/1020 [00:11<04:40,  3.50it/s, loss=0.91, v_num=ts5c]tensor([4., 2., 2.], device='cuda:0')\n",
      "Epoch 1:   4%|▍         | 40/1020 [00:11<04:39,  3.51it/s, loss=0.91, v_num=ts5c]tensor([4., 2., 2.], device='cuda:0')\n",
      "Epoch 1:   4%|▍         | 41/1020 [00:11<04:38,  3.52it/s, loss=0.91, v_num=ts5c]tensor([4., 2., 1.], device='cuda:0')\n",
      "Epoch 1:   4%|▍         | 42/1020 [00:11<04:38,  3.52it/s, loss=0.91, v_num=ts5c]tensor([4., 2., 1.], device='cuda:0')\n",
      "Epoch 1:   4%|▍         | 43/1020 [00:12<04:38,  3.51it/s, loss=0.909, v_num=ts5c]tensor([4., 2., 1.], device='cuda:0')\n",
      "Epoch 1:   4%|▍         | 44/1020 [00:12<04:37,  3.52it/s, loss=0.909, v_num=ts5c]tensor([4., 2., 1.], device='cuda:0')\n",
      "Epoch 1:   4%|▍         | 45/1020 [00:12<04:37,  3.52it/s, loss=0.91, v_num=ts5c] tensor([4., 2., 1.], device='cuda:0')\n",
      "Epoch 1:   5%|▍         | 46/1020 [00:13<04:36,  3.52it/s, loss=0.91, v_num=ts5c]tensor([4., 2., 1.], device='cuda:0')\n",
      "Epoch 1:   5%|▍         | 47/1020 [00:13<04:35,  3.53it/s, loss=0.91, v_num=ts5c]tensor([4., 2., 1.], device='cuda:0')\n",
      "Epoch 1:   5%|▍         | 48/1020 [00:13<04:35,  3.53it/s, loss=0.91, v_num=ts5c]tensor([4., 2., 1.], device='cuda:0')\n",
      "Epoch 1:   5%|▍         | 49/1020 [00:13<04:35,  3.53it/s, loss=0.909, v_num=ts5c]tensor([4., 2., 1.], device='cuda:0')\n",
      "Epoch 1:   5%|▍         | 50/1020 [00:14<04:34,  3.53it/s, loss=0.909, v_num=ts5c]tensor([4., 2., 1.], device='cuda:0')\n",
      "Epoch 1:   5%|▌         | 51/1020 [00:14<04:33,  3.54it/s, loss=0.91, v_num=ts5c] tensor([4., 2., 1.], device='cuda:0')\n",
      "Epoch 1:   5%|▌         | 52/1020 [00:14<04:33,  3.54it/s, loss=0.91, v_num=ts5c]tensor([4., 2., 1.], device='cuda:0')\n",
      "Epoch 1:   5%|▌         | 53/1020 [00:14<04:33,  3.54it/s, loss=0.909, v_num=ts5c]tensor([4., 2., 1.], device='cuda:0')\n",
      "Epoch 1:   5%|▌         | 54/1020 [00:15<04:32,  3.55it/s, loss=0.91, v_num=ts5c] tensor([4., 2., 1.], device='cuda:0')\n",
      "Epoch 1:   5%|▌         | 55/1020 [00:15<04:32,  3.55it/s, loss=0.91, v_num=ts5c]tensor([4., 2., 1.], device='cuda:0')\n",
      "Epoch 1:   5%|▌         | 56/1020 [00:15<04:31,  3.55it/s, loss=0.909, v_num=ts5c]tensor([4., 2., 1.], device='cuda:0')\n",
      "Epoch 1:   6%|▌         | 57/1020 [00:16<04:31,  3.55it/s, loss=0.91, v_num=ts5c] tensor([4., 2., 1.], device='cuda:0')\n",
      "Epoch 1:   6%|▌         | 58/1020 [00:16<04:29,  3.56it/s, loss=0.91, v_num=ts5c]tensor([4., 2., 1.], device='cuda:0')\n",
      "Epoch 1:   6%|▌         | 59/1020 [00:16<04:29,  3.57it/s, loss=0.91, v_num=ts5c]tensor([4., 2., 1.], device='cuda:0')\n",
      "Epoch 1:   6%|▌         | 60/1020 [00:16<04:29,  3.57it/s, loss=0.909, v_num=ts5c]tensor([4., 2., 1.], device='cuda:0')\n",
      "Epoch 1:   6%|▌         | 61/1020 [00:17<04:28,  3.57it/s, loss=0.909, v_num=ts5c]tensor([4., 2., 1.], device='cuda:0')\n",
      "Epoch 1:   6%|▌         | 62/1020 [00:17<04:28,  3.57it/s, loss=0.91, v_num=ts5c] tensor([4., 2., 1.], device='cuda:0')\n",
      "Epoch 1:   6%|▌         | 63/1020 [00:17<04:27,  3.58it/s, loss=0.91, v_num=ts5c]tensor([4., 2., 1.], device='cuda:0')\n",
      "Epoch 1:   6%|▋         | 64/1020 [00:17<04:27,  3.58it/s, loss=0.91, v_num=ts5c]tensor([4., 2., 1.], device='cuda:0')\n",
      "Epoch 1:   6%|▋         | 65/1020 [00:18<04:27,  3.58it/s, loss=0.909, v_num=ts5c]tensor([4., 2., 1.], device='cuda:0')\n",
      "Epoch 1:   6%|▋         | 66/1020 [00:18<04:26,  3.58it/s, loss=0.909, v_num=ts5c]tensor([4., 2., 1.], device='cuda:0')\n",
      "Epoch 1:   7%|▋         | 67/1020 [00:18<04:26,  3.57it/s, loss=0.908, v_num=ts5c]tensor([4., 2., 1.], device='cuda:0')\n",
      "Epoch 1:   7%|▋         | 68/1020 [00:19<04:26,  3.57it/s, loss=0.909, v_num=ts5c]tensor([4., 2., 1.], device='cuda:0')\n",
      "Epoch 1:   7%|▋         | 69/1020 [00:19<04:26,  3.57it/s, loss=0.908, v_num=ts5c]tensor([4., 2., 1.], device='cuda:0')\n",
      "Epoch 1:   7%|▋         | 70/1020 [00:19<04:26,  3.57it/s, loss=0.908, v_num=ts5c]tensor([4., 2., 1.], device='cuda:0')\n",
      "Epoch 1:   7%|▋         | 71/1020 [00:19<04:25,  3.57it/s, loss=0.908, v_num=ts5c]tensor([4., 2., 1.], device='cuda:0')\n",
      "Epoch 1:   7%|▋         | 72/1020 [00:20<04:25,  3.56it/s, loss=0.907, v_num=ts5c]tensor([4., 2., 1.], device='cuda:0')\n",
      "Epoch 1:   7%|▋         | 73/1020 [00:20<04:25,  3.57it/s, loss=0.908, v_num=ts5c]tensor([4., 2., 1.], device='cuda:0')\n",
      "Epoch 1:   7%|▋         | 74/1020 [00:20<04:25,  3.56it/s, loss=0.907, v_num=ts5c]tensor([4., 2., 1.], device='cuda:0')\n",
      "Epoch 1:   7%|▋         | 75/1020 [00:21<04:24,  3.57it/s, loss=0.907, v_num=ts5c]tensor([4., 2., 1.], device='cuda:0')\n",
      "Epoch 1:   7%|▋         | 76/1020 [00:21<04:24,  3.57it/s, loss=0.907, v_num=ts5c]tensor([4., 2., 1.], device='cuda:0')\n",
      "Epoch 1:   8%|▊         | 77/1020 [00:21<04:24,  3.57it/s, loss=0.907, v_num=ts5c]tensor([4., 1., 1.], device='cuda:0')\n",
      "Epoch 1:   8%|▊         | 78/1020 [00:21<04:23,  3.58it/s, loss=0.908, v_num=ts5c]tensor([3., 1., 1.], device='cuda:0')\n",
      "Epoch 1:   8%|▊         | 79/1020 [00:22<04:22,  3.58it/s, loss=0.908, v_num=ts5c]tensor([3., 1., 1.], device='cuda:0')\n",
      "Epoch 1:   8%|▊         | 80/1020 [00:22<04:22,  3.58it/s, loss=0.908, v_num=ts5c]tensor([3., 1., 1.], device='cuda:0')\n",
      "Epoch 1:   8%|▊         | 81/1020 [00:22<04:21,  3.59it/s, loss=0.909, v_num=ts5c]tensor([3., 1., 1.], device='cuda:0')\n",
      "Epoch 1:   8%|▊         | 82/1020 [00:22<04:21,  3.59it/s, loss=0.909, v_num=ts5c]tensor([3., 1., 1.], device='cuda:0')\n",
      "Epoch 1:   8%|▊         | 83/1020 [00:23<04:20,  3.59it/s, loss=0.909, v_num=ts5c]tensor([3., 1., 1.], device='cuda:0')\n",
      "Epoch 1:   8%|▊         | 84/1020 [00:23<04:20,  3.59it/s, loss=0.91, v_num=ts5c] tensor([3., 1., 1.], device='cuda:0')\n",
      "Epoch 1:   8%|▊         | 85/1020 [00:23<04:19,  3.60it/s, loss=0.91, v_num=ts5c]tensor([3., 1., 1.], device='cuda:0')\n",
      "Epoch 1:   8%|▊         | 86/1020 [00:23<04:19,  3.60it/s, loss=0.911, v_num=ts5c]tensor([4., 1., 1.], device='cuda:0')\n",
      "Epoch 1:   9%|▊         | 87/1020 [00:24<04:19,  3.60it/s, loss=0.911, v_num=ts5c]tensor([4., 1., 1.], device='cuda:0')\n",
      "Epoch 1:   9%|▊         | 88/1020 [00:24<04:18,  3.60it/s, loss=0.911, v_num=ts5c]tensor([4., 1., 1.], device='cuda:0')\n",
      "Epoch 1:   9%|▊         | 89/1020 [00:24<04:18,  3.60it/s, loss=0.912, v_num=ts5c]tensor([4., 1., 1.], device='cuda:0')\n",
      "Epoch 1:   9%|▉         | 90/1020 [00:25<04:18,  3.60it/s, loss=0.912, v_num=ts5c]tensor([4., 1., 1.], device='cuda:0')\n",
      "Epoch 1:   9%|▉         | 91/1020 [00:25<04:17,  3.60it/s, loss=0.913, v_num=ts5c]tensor([4., 1., 1.], device='cuda:0')\n",
      "Epoch 1:   9%|▉         | 92/1020 [00:25<04:16,  3.61it/s, loss=0.914, v_num=ts5c]tensor([4., 1., 1.], device='cuda:0')\n",
      "Epoch 1:   9%|▉         | 93/1020 [00:25<04:16,  3.62it/s, loss=0.914, v_num=ts5c]tensor([4., 1., 1.], device='cuda:0')\n",
      "Epoch 1:   9%|▉         | 94/1020 [00:25<04:15,  3.62it/s, loss=0.915, v_num=ts5c]tensor([4., 1., 1.], device='cuda:0')\n",
      "Epoch 1:   9%|▉         | 95/1020 [00:26<04:15,  3.62it/s, loss=0.915, v_num=ts5c]tensor([4., 1., 1.], device='cuda:0')\n",
      "Epoch 1:   9%|▉         | 96/1020 [00:26<04:15,  3.62it/s, loss=0.915, v_num=ts5c]tensor([4., 1., 1.], device='cuda:0')\n",
      "Epoch 1:  10%|▉         | 97/1020 [00:26<04:14,  3.62it/s, loss=0.915, v_num=ts5c]tensor([4., 1., 1.], device='cuda:0')\n",
      "Epoch 1:  10%|▉         | 98/1020 [00:27<04:14,  3.63it/s, loss=0.915, v_num=ts5c]tensor([4., 1., 1.], device='cuda:0')\n",
      "Epoch 1:  10%|▉         | 99/1020 [00:27<04:13,  3.63it/s, loss=0.915, v_num=ts5c]tensor([4., 1., 1.], device='cuda:0')\n",
      "Epoch 1:  10%|▉         | 100/1020 [00:27<04:12,  3.64it/s, loss=0.915, v_num=ts5c]tensor([4., 1., 1.], device='cuda:0')\n",
      "Epoch 1:  10%|▉         | 101/1020 [00:27<04:12,  3.64it/s, loss=0.915, v_num=ts5c]tensor([4., 2., 1.], device='cuda:0')\n",
      "Epoch 1:  10%|█         | 102/1020 [00:27<04:11,  3.65it/s, loss=0.915, v_num=ts5c]tensor([4., 2., 2.], device='cuda:0')\n",
      "Epoch 1:  10%|█         | 103/1020 [00:28<04:11,  3.64it/s, loss=0.914, v_num=ts5c]tensor([4., 2., 1.], device='cuda:0')\n",
      "Epoch 1:  10%|█         | 104/1020 [00:28<04:11,  3.64it/s, loss=0.914, v_num=ts5c]tensor([4., 2., 2.], device='cuda:0')\n",
      "Epoch 1:  10%|█         | 105/1020 [00:28<04:11,  3.64it/s, loss=0.914, v_num=ts5c]tensor([4., 2., 2.], device='cuda:0')\n",
      "Epoch 1:  10%|█         | 106/1020 [00:29<04:10,  3.64it/s, loss=0.914, v_num=ts5c]tensor([4., 2., 1.], device='cuda:0')\n",
      "Epoch 1:  10%|█         | 107/1020 [00:29<04:10,  3.65it/s, loss=0.914, v_num=ts5c]tensor([4., 2., 1.], device='cuda:0')\n",
      "Epoch 1:  11%|█         | 108/1020 [00:29<04:09,  3.65it/s, loss=0.914, v_num=ts5c]tensor([4., 2., 1.], device='cuda:0')\n",
      "Epoch 1:  11%|█         | 109/1020 [00:29<04:09,  3.65it/s, loss=0.914, v_num=ts5c]tensor([4., 2., 1.], device='cuda:0')\n",
      "Epoch 1:  11%|█         | 110/1020 [00:30<04:08,  3.65it/s, loss=0.914, v_num=ts5c]tensor([4., 2., 1.], device='cuda:0')\n",
      "Epoch 1:  11%|█         | 111/1020 [00:30<04:08,  3.65it/s, loss=0.914, v_num=ts5c]tensor([4., 2., 1.], device='cuda:0')\n",
      "Epoch 1:  11%|█         | 112/1020 [00:30<04:08,  3.66it/s, loss=0.913, v_num=ts5c]tensor([4., 2., 1.], device='cuda:0')\n",
      "Epoch 1:  11%|█         | 113/1020 [00:30<04:08,  3.65it/s, loss=0.913, v_num=ts5c]tensor([4., 2., 1.], device='cuda:0')\n",
      "Epoch 1:  11%|█         | 114/1020 [00:31<04:08,  3.65it/s, loss=0.913, v_num=ts5c]tensor([4., 2., 1.], device='cuda:0')\n",
      "Epoch 1:  11%|█▏        | 115/1020 [00:31<04:07,  3.65it/s, loss=0.913, v_num=ts5c]tensor([4., 2., 1.], device='cuda:0')\n",
      "Epoch 1:  11%|█▏        | 116/1020 [00:31<04:07,  3.65it/s, loss=0.913, v_num=ts5c]tensor([4., 2., 1.], device='cuda:0')\n",
      "Epoch 1:  11%|█▏        | 117/1020 [00:32<04:07,  3.65it/s, loss=0.912, v_num=ts5c]tensor([4., 2., 1.], device='cuda:0')\n",
      "Epoch 1:  12%|█▏        | 118/1020 [00:32<04:07,  3.64it/s, loss=0.911, v_num=ts5c]tensor([4., 2., 1.], device='cuda:0')\n",
      "Epoch 1:  12%|█▏        | 119/1020 [00:32<04:07,  3.64it/s, loss=0.911, v_num=ts5c]tensor([4., 2., 1.], device='cuda:0')\n",
      "Epoch 1:  12%|█▏        | 120/1020 [00:32<04:07,  3.64it/s, loss=0.911, v_num=ts5c]tensor([4., 2., 1.], device='cuda:0')\n",
      "Epoch 1:  12%|█▏        | 121/1020 [00:33<04:07,  3.64it/s, loss=0.91, v_num=ts5c] tensor([4., 2., 1.], device='cuda:0')\n",
      "Epoch 1:  12%|█▏        | 122/1020 [00:33<04:06,  3.64it/s, loss=0.91, v_num=ts5c]tensor([4., 2., 1.], device='cuda:0')\n",
      "Epoch 1:  12%|█▏        | 123/1020 [00:33<04:06,  3.64it/s, loss=0.91, v_num=ts5c]tensor([4., 2., 1.], device='cuda:0')\n",
      "Epoch 1:  12%|█▏        | 124/1020 [00:34<04:06,  3.64it/s, loss=0.91, v_num=ts5c]tensor([4., 2., 1.], device='cuda:0')\n",
      "Epoch 1:  12%|█▏        | 125/1020 [00:34<04:05,  3.64it/s, loss=0.91, v_num=ts5c]tensor([4., 2., 1.], device='cuda:0')\n",
      "Epoch 1:  12%|█▏        | 126/1020 [00:34<04:05,  3.64it/s, loss=0.91, v_num=ts5c]tensor([4., 2., 1.], device='cuda:0')\n",
      "Epoch 1:  12%|█▏        | 127/1020 [00:34<04:04,  3.65it/s, loss=0.91, v_num=ts5c]tensor([4., 2., 1.], device='cuda:0')\n",
      "Epoch 1:  13%|█▎        | 128/1020 [00:35<04:04,  3.65it/s, loss=0.91, v_num=ts5c]tensor([4., 2., 1.], device='cuda:0')\n",
      "Epoch 1:  13%|█▎        | 129/1020 [00:35<04:04,  3.64it/s, loss=0.909, v_num=ts5c]tensor([4., 2., 1.], device='cuda:0')\n",
      "Epoch 1:  13%|█▎        | 130/1020 [00:35<04:04,  3.65it/s, loss=0.909, v_num=ts5c]tensor([4., 2., 1.], device='cuda:0')\n",
      "Epoch 1:  13%|█▎        | 131/1020 [00:35<04:03,  3.65it/s, loss=0.91, v_num=ts5c] tensor([4., 2., 1.], device='cuda:0')\n",
      "Epoch 1:  13%|█▎        | 132/1020 [00:36<04:03,  3.65it/s, loss=0.909, v_num=ts5c]tensor([4., 2., 1.], device='cuda:0')\n",
      "Epoch 1:  13%|█▎        | 133/1020 [00:36<04:03,  3.65it/s, loss=0.909, v_num=ts5c]tensor([4., 2., 1.], device='cuda:0')\n",
      "Epoch 1:  13%|█▎        | 134/1020 [00:36<04:03,  3.65it/s, loss=0.909, v_num=ts5c]tensor([4., 2., 1.], device='cuda:0')\n",
      "Epoch 1:  13%|█▎        | 135/1020 [00:37<04:02,  3.64it/s, loss=0.909, v_num=ts5c]tensor([4., 2., 1.], device='cuda:0')\n",
      "Epoch 1:  13%|█▎        | 136/1020 [00:37<04:02,  3.64it/s, loss=0.909, v_num=ts5c]tensor([4., 2., 1.], device='cuda:0')\n",
      "Epoch 1:  13%|█▎        | 137/1020 [00:37<04:02,  3.65it/s, loss=0.909, v_num=ts5c]tensor([4., 2., 1.], device='cuda:0')\n",
      "Epoch 1:  14%|█▎        | 138/1020 [00:37<04:01,  3.64it/s, loss=0.909, v_num=ts5c]tensor([4., 2., 1.], device='cuda:0')\n",
      "Epoch 1:  14%|█▎        | 139/1020 [00:38<04:01,  3.65it/s, loss=0.909, v_num=ts5c]tensor([4., 2., 1.], device='cuda:0')\n",
      "Epoch 1:  14%|█▎        | 140/1020 [00:38<04:01,  3.65it/s, loss=0.91, v_num=ts5c] tensor([4., 2., 1.], device='cuda:0')\n",
      "Epoch 1:  14%|█▍        | 141/1020 [00:38<04:01,  3.65it/s, loss=0.91, v_num=ts5c]tensor([4., 2., 1.], device='cuda:0')\n",
      "Epoch 1:  14%|█▍        | 142/1020 [00:38<04:00,  3.65it/s, loss=0.909, v_num=ts5c]tensor([4., 2., 1.], device='cuda:0')\n",
      "Epoch 1:  14%|█▍        | 143/1020 [00:39<04:00,  3.65it/s, loss=0.909, v_num=ts5c]tensor([4., 2., 1.], device='cuda:0')\n",
      "Epoch 1:  14%|█▍        | 144/1020 [00:39<04:00,  3.65it/s, loss=0.909, v_num=ts5c]tensor([4., 2., 1.], device='cuda:0')\n",
      "Epoch 1:  14%|█▍        | 145/1020 [00:39<03:59,  3.65it/s, loss=0.909, v_num=ts5c]tensor([4., 2., 1.], device='cuda:0')\n",
      "Epoch 1:  14%|█▍        | 146/1020 [00:39<03:59,  3.65it/s, loss=0.909, v_num=ts5c]tensor([4., 2., 1.], device='cuda:0')\n",
      "Epoch 1:  14%|█▍        | 147/1020 [00:40<03:58,  3.66it/s, loss=0.909, v_num=ts5c]tensor([4., 2., 1.], device='cuda:0')\n",
      "Epoch 1:  15%|█▍        | 148/1020 [00:40<03:58,  3.66it/s, loss=0.909, v_num=ts5c]tensor([4., 2., 1.], device='cuda:0')\n",
      "Epoch 1:  15%|█▍        | 149/1020 [00:40<03:58,  3.66it/s, loss=0.909, v_num=ts5c]tensor([4., 2., 1.], device='cuda:0')\n",
      "Epoch 1:  15%|█▍        | 150/1020 [00:40<03:57,  3.66it/s, loss=0.908, v_num=ts5c]tensor([4., 2., 1.], device='cuda:0')\n",
      "Epoch 1:  15%|█▍        | 151/1020 [00:41<03:57,  3.66it/s, loss=0.908, v_num=ts5c]tensor([4., 2., 1.], device='cuda:0')\n",
      "Epoch 1:  15%|█▍        | 152/1020 [00:41<03:57,  3.65it/s, loss=0.908, v_num=ts5c]tensor([4., 2., 1.], device='cuda:0')\n",
      "Epoch 1:  15%|█▌        | 153/1020 [00:41<03:57,  3.65it/s, loss=0.908, v_num=ts5c]tensor([4., 2., 1.], device='cuda:0')\n",
      "Epoch 1:  15%|█▌        | 154/1020 [00:42<03:57,  3.65it/s, loss=0.908, v_num=ts5c]tensor([4., 2., 1.], device='cuda:0')\n",
      "Epoch 1:  15%|█▌        | 155/1020 [00:42<03:56,  3.65it/s, loss=0.908, v_num=ts5c]tensor([4., 2., 1.], device='cuda:0')\n",
      "Epoch 1:  15%|█▌        | 156/1020 [00:42<03:56,  3.65it/s, loss=0.908, v_num=ts5c]tensor([4., 2., 1.], device='cuda:0')\n",
      "Epoch 1:  15%|█▌        | 157/1020 [00:42<03:56,  3.66it/s, loss=0.908, v_num=ts5c]tensor([4., 2., 1.], device='cuda:0')\n",
      "Epoch 1:  15%|█▌        | 158/1020 [00:43<03:55,  3.66it/s, loss=0.908, v_num=ts5c]tensor([4., 2., 1.], device='cuda:0')\n",
      "Epoch 1:  16%|█▌        | 159/1020 [00:43<03:55,  3.66it/s, loss=0.908, v_num=ts5c]tensor([4., 2., 1.], device='cuda:0')\n",
      "Epoch 1:  16%|█▌        | 160/1020 [00:43<03:55,  3.66it/s, loss=0.908, v_num=ts5c]tensor([4., 2., 1.], device='cuda:0')\n",
      "Epoch 1:  16%|█▌        | 161/1020 [00:44<03:54,  3.66it/s, loss=0.908, v_num=ts5c]tensor([4., 2., 1.], device='cuda:0')\n",
      "Epoch 1:  16%|█▌        | 162/1020 [00:44<03:54,  3.66it/s, loss=0.908, v_num=ts5c]tensor([4., 2., 1.], device='cuda:0')\n",
      "Epoch 1:  16%|█▌        | 163/1020 [00:44<03:54,  3.66it/s, loss=0.908, v_num=ts5c]tensor([4., 2., 1.], device='cuda:0')\n",
      "Epoch 1:  16%|█▌        | 164/1020 [00:44<03:53,  3.66it/s, loss=0.908, v_num=ts5c]tensor([4., 2., 1.], device='cuda:0')\n",
      "Epoch 1:  16%|█▌        | 165/1020 [00:45<03:53,  3.66it/s, loss=0.909, v_num=ts5c]tensor([4., 2., 1.], device='cuda:0')\n",
      "Epoch 1:  16%|█▋        | 166/1020 [00:45<03:53,  3.66it/s, loss=0.908, v_num=ts5c]tensor([4., 2., 1.], device='cuda:0')\n",
      "Epoch 1:  16%|█▋        | 167/1020 [00:45<03:52,  3.67it/s, loss=0.909, v_num=ts5c]tensor([4., 2., 1.], device='cuda:0')\n",
      "Epoch 1:  16%|█▋        | 168/1020 [00:45<03:52,  3.66it/s, loss=0.908, v_num=ts5c]tensor([4., 2., 1.], device='cuda:0')\n",
      "Epoch 1:  17%|█▋        | 169/1020 [00:46<03:52,  3.67it/s, loss=0.909, v_num=ts5c]tensor([4., 2., 1.], device='cuda:0')\n",
      "Epoch 1:  17%|█▋        | 170/1020 [00:46<03:51,  3.67it/s, loss=0.909, v_num=ts5c]tensor([4., 2., 1.], device='cuda:0')\n",
      "Epoch 1:  17%|█▋        | 171/1020 [00:46<03:51,  3.67it/s, loss=0.909, v_num=ts5c]tensor([4., 2., 1.], device='cuda:0')\n",
      "Epoch 1:  17%|█▋        | 172/1020 [00:46<03:51,  3.67it/s, loss=0.909, v_num=ts5c]tensor([4., 2., 1.], device='cuda:0')\n",
      "Epoch 1:  17%|█▋        | 173/1020 [00:47<03:50,  3.67it/s, loss=0.91, v_num=ts5c] tensor([4., 2., 1.], device='cuda:0')\n",
      "Epoch 1:  17%|█▋        | 174/1020 [00:47<03:50,  3.67it/s, loss=0.91, v_num=ts5c]tensor([4., 2., 1.], device='cuda:0')\n",
      "Epoch 1:  17%|█▋        | 175/1020 [00:47<03:50,  3.67it/s, loss=0.91, v_num=ts5c]tensor([4., 2., 1.], device='cuda:0')\n",
      "Epoch 1:  17%|█▋        | 176/1020 [00:47<03:49,  3.67it/s, loss=0.91, v_num=ts5c]tensor([4., 2., 1.], device='cuda:0')\n",
      "Epoch 1:  17%|█▋        | 177/1020 [00:48<03:49,  3.67it/s, loss=0.91, v_num=ts5c]tensor([4., 2., 1.], device='cuda:0')\n",
      "Epoch 1:  17%|█▋        | 178/1020 [00:48<03:49,  3.67it/s, loss=0.91, v_num=ts5c]tensor([4., 2., 1.], device='cuda:0')\n",
      "Epoch 1:  18%|█▊        | 179/1020 [00:48<03:49,  3.67it/s, loss=0.909, v_num=ts5c]tensor([4., 2., 1.], device='cuda:0')\n",
      "Epoch 1:  18%|█▊        | 180/1020 [00:49<03:49,  3.66it/s, loss=0.909, v_num=ts5c]tensor([4., 2., 1.], device='cuda:0')\n",
      "Epoch 1:  18%|█▊        | 181/1020 [00:49<03:48,  3.66it/s, loss=0.909, v_num=ts5c]tensor([4., 2., 1.], device='cuda:0')\n",
      "Epoch 1:  18%|█▊        | 182/1020 [00:49<03:48,  3.66it/s, loss=0.91, v_num=ts5c] tensor([4., 2., 1.], device='cuda:0')\n",
      "Epoch 1:  18%|█▊        | 183/1020 [00:49<03:48,  3.66it/s, loss=0.909, v_num=ts5c]tensor([4., 2., 1.], device='cuda:0')\n",
      "Epoch 1:  18%|█▊        | 184/1020 [00:50<03:48,  3.67it/s, loss=0.909, v_num=ts5c]tensor([4., 2., 1.], device='cuda:0')\n",
      "Epoch 1:  18%|█▊        | 185/1020 [00:50<03:47,  3.67it/s, loss=0.909, v_num=ts5c]tensor([4., 2., 1.], device='cuda:0')\n",
      "Epoch 1:  18%|█▊        | 186/1020 [00:50<03:47,  3.67it/s, loss=0.909, v_num=ts5c]tensor([4., 2., 1.], device='cuda:0')\n",
      "Epoch 1:  18%|█▊        | 187/1020 [00:51<03:47,  3.67it/s, loss=0.909, v_num=ts5c]tensor([4., 2., 1.], device='cuda:0')\n",
      "Epoch 1:  18%|█▊        | 188/1020 [00:51<03:46,  3.67it/s, loss=0.909, v_num=ts5c]tensor([4., 2., 1.], device='cuda:0')\n",
      "Epoch 1:  19%|█▊        | 189/1020 [00:51<03:46,  3.67it/s, loss=0.909, v_num=ts5c]tensor([4., 2., 1.], device='cuda:0')\n",
      "Epoch 1:  19%|█▊        | 190/1020 [00:51<03:46,  3.67it/s, loss=0.909, v_num=ts5c]tensor([4., 2., 1.], device='cuda:0')\n",
      "Epoch 1:  19%|█▊        | 191/1020 [00:52<03:45,  3.67it/s, loss=0.908, v_num=ts5c]tensor([4., 2., 1.], device='cuda:0')\n",
      "Epoch 1:  19%|█▉        | 192/1020 [00:52<03:45,  3.67it/s, loss=0.908, v_num=ts5c]tensor([4., 2., 1.], device='cuda:0')\n",
      "Epoch 1:  19%|█▉        | 193/1020 [00:52<03:45,  3.67it/s, loss=0.908, v_num=ts5c]tensor([4., 2., 1.], device='cuda:0')\n",
      "Epoch 1:  19%|█▉        | 194/1020 [00:52<03:45,  3.67it/s, loss=0.907, v_num=ts5c]tensor([4., 2., 1.], device='cuda:0')\n",
      "Epoch 1:  19%|█▉        | 195/1020 [00:53<03:44,  3.67it/s, loss=0.907, v_num=ts5c]tensor([4., 2., 1.], device='cuda:0')\n",
      "Epoch 1:  19%|█▉        | 196/1020 [00:53<03:44,  3.67it/s, loss=0.907, v_num=ts5c]tensor([4., 2., 1.], device='cuda:0')\n",
      "Epoch 1:  19%|█▉        | 197/1020 [00:53<03:44,  3.67it/s, loss=0.907, v_num=ts5c]tensor([4., 2., 1.], device='cuda:0')\n",
      "Epoch 1:  19%|█▉        | 198/1020 [00:53<03:43,  3.67it/s, loss=0.907, v_num=ts5c]tensor([4., 2., 1.], device='cuda:0')\n",
      "Epoch 1:  20%|█▉        | 199/1020 [00:54<03:43,  3.67it/s, loss=0.907, v_num=ts5c]tensor([4., 2., 1.], device='cuda:0')\n",
      "Epoch 1:  20%|█▉        | 200/1020 [00:54<03:43,  3.67it/s, loss=0.908, v_num=ts5c]tensor([4., 2., 1.], device='cuda:0')\n",
      "Epoch 1:  20%|█▉        | 201/1020 [00:54<03:43,  3.67it/s, loss=0.908, v_num=ts5c]tensor([4., 2., 1.], device='cuda:0')\n",
      "Epoch 1:  20%|█▉        | 202/1020 [00:54<03:42,  3.67it/s, loss=0.908, v_num=ts5c]tensor([4., 2., 1.], device='cuda:0')\n",
      "Epoch 1:  20%|█▉        | 203/1020 [00:55<03:42,  3.67it/s, loss=0.908, v_num=ts5c]tensor([4., 2., 1.], device='cuda:0')\n",
      "Epoch 1:  20%|██        | 204/1020 [00:55<03:42,  3.67it/s, loss=0.908, v_num=ts5c]tensor([4., 1., 1.], device='cuda:0')\n",
      "Epoch 1:  20%|██        | 205/1020 [00:55<03:42,  3.67it/s, loss=0.908, v_num=ts5c]tensor([4., 1., 1.], device='cuda:0')\n",
      "Epoch 1:  20%|██        | 206/1020 [00:56<03:41,  3.67it/s, loss=0.908, v_num=ts5c]tensor([4., 1., 1.], device='cuda:0')\n",
      "Epoch 1:  20%|██        | 207/1020 [00:56<03:41,  3.67it/s, loss=0.909, v_num=ts5c]tensor([4., 1., 1.], device='cuda:0')\n",
      "Epoch 1:  20%|██        | 208/1020 [00:56<03:41,  3.67it/s, loss=0.909, v_num=ts5c]tensor([4., 1., 2.], device='cuda:0')\n",
      "Epoch 1:  20%|██        | 209/1020 [00:56<03:40,  3.67it/s, loss=0.909, v_num=ts5c]tensor([4., 1., 2.], device='cuda:0')\n",
      "Epoch 1:  21%|██        | 210/1020 [00:57<03:40,  3.67it/s, loss=0.91, v_num=ts5c] tensor([4., 1., 2.], device='cuda:0')\n",
      "Epoch 1:  21%|██        | 211/1020 [00:57<03:40,  3.67it/s, loss=0.91, v_num=ts5c]tensor([4., 1., 2.], device='cuda:0')\n",
      "Epoch 1:  21%|██        | 212/1020 [00:57<03:40,  3.67it/s, loss=0.91, v_num=ts5c]tensor([4., 1., 2.], device='cuda:0')\n",
      "Epoch 1:  21%|██        | 213/1020 [00:58<03:39,  3.67it/s, loss=0.911, v_num=ts5c]tensor([4., 1., 2.], device='cuda:0')\n",
      "Epoch 1:  21%|██        | 214/1020 [00:58<03:39,  3.67it/s, loss=0.911, v_num=ts5c]tensor([4., 1., 2.], device='cuda:0')\n",
      "Epoch 1:  21%|██        | 215/1020 [00:58<03:39,  3.67it/s, loss=0.912, v_num=ts5c]tensor([4., 1., 2.], device='cuda:0')\n",
      "Epoch 1:  21%|██        | 216/1020 [00:58<03:38,  3.67it/s, loss=0.912, v_num=ts5c]tensor([4., 2., 2.], device='cuda:0')\n",
      "Epoch 1:  21%|██▏       | 217/1020 [00:59<03:38,  3.67it/s, loss=0.913, v_num=ts5c]tensor([4., 2., 2.], device='cuda:0')\n",
      "Epoch 1:  21%|██▏       | 218/1020 [00:59<03:38,  3.67it/s, loss=0.913, v_num=ts5c]tensor([4., 2., 2.], device='cuda:0')\n",
      "Epoch 1:  21%|██▏       | 219/1020 [00:59<03:38,  3.67it/s, loss=0.913, v_num=ts5c]tensor([4., 2., 2.], device='cuda:0')\n",
      "Epoch 1:  22%|██▏       | 220/1020 [00:59<03:37,  3.68it/s, loss=0.913, v_num=ts5c]tensor([4., 2., 2.], device='cuda:0')\n",
      "Epoch 1:  22%|██▏       | 221/1020 [01:00<03:37,  3.67it/s, loss=0.913, v_num=ts5c]tensor([4., 2., 2.], device='cuda:0')\n",
      "Epoch 1:  22%|██▏       | 222/1020 [01:00<03:37,  3.68it/s, loss=0.913, v_num=ts5c]tensor([4., 2., 2.], device='cuda:0')\n",
      "Epoch 1:  22%|██▏       | 223/1020 [01:00<03:36,  3.68it/s, loss=0.914, v_num=ts5c]tensor([4., 2., 2.], device='cuda:0')\n",
      "Epoch 1:  22%|██▏       | 224/1020 [01:00<03:36,  3.68it/s, loss=0.913, v_num=ts5c]tensor([4., 2., 2.], device='cuda:0')\n",
      "Epoch 1:  22%|██▏       | 225/1020 [01:01<03:36,  3.68it/s, loss=0.913, v_num=ts5c]tensor([4., 2., 2.], device='cuda:0')\n",
      "Epoch 1:  22%|██▏       | 226/1020 [01:01<03:35,  3.68it/s, loss=0.913, v_num=ts5c]tensor([4., 2., 2.], device='cuda:0')\n",
      "Epoch 1:  22%|██▏       | 227/1020 [01:01<03:35,  3.68it/s, loss=0.913, v_num=ts5c]tensor([4., 2., 2.], device='cuda:0')\n",
      "Epoch 1:  22%|██▏       | 228/1020 [01:01<03:35,  3.68it/s, loss=0.913, v_num=ts5c]tensor([4., 2., 2.], device='cuda:0')\n",
      "Epoch 1:  22%|██▏       | 229/1020 [01:02<03:35,  3.68it/s, loss=0.913, v_num=ts5c]tensor([4., 2., 2.], device='cuda:0')\n",
      "Epoch 1:  23%|██▎       | 230/1020 [01:02<03:34,  3.68it/s, loss=0.913, v_num=ts5c]tensor([4., 2., 2.], device='cuda:0')\n",
      "Epoch 1:  23%|██▎       | 231/1020 [01:02<03:34,  3.68it/s, loss=0.913, v_num=ts5c]tensor([4., 2., 2.], device='cuda:0')\n",
      "Epoch 1:  23%|██▎       | 232/1020 [01:03<03:34,  3.68it/s, loss=0.913, v_num=ts5c]tensor([4., 2., 2.], device='cuda:0')\n",
      "Epoch 1:  23%|██▎       | 233/1020 [01:03<03:33,  3.68it/s, loss=0.913, v_num=ts5c]tensor([4., 2., 2.], device='cuda:0')\n",
      "Epoch 1:  23%|██▎       | 234/1020 [01:03<03:33,  3.68it/s, loss=0.913, v_num=ts5c]tensor([4., 2., 2.], device='cuda:0')\n",
      "Epoch 1:  23%|██▎       | 235/1020 [01:03<03:33,  3.68it/s, loss=0.913, v_num=ts5c]tensor([4., 2., 2.], device='cuda:0')\n",
      "Epoch 1:  23%|██▎       | 236/1020 [01:04<03:32,  3.68it/s, loss=0.913, v_num=ts5c]tensor([4., 2., 2.], device='cuda:0')\n",
      "Epoch 1:  23%|██▎       | 237/1020 [01:04<03:32,  3.68it/s, loss=0.913, v_num=ts5c]tensor([4., 2., 2.], device='cuda:0')\n",
      "Epoch 1:  23%|██▎       | 238/1020 [01:04<03:32,  3.68it/s, loss=0.914, v_num=ts5c]tensor([4., 2., 2.], device='cuda:0')\n",
      "Epoch 1:  23%|██▎       | 239/1020 [01:04<03:32,  3.68it/s, loss=0.913, v_num=ts5c]tensor([4., 2., 2.], device='cuda:0')\n",
      "Epoch 1:  24%|██▎       | 240/1020 [01:05<03:31,  3.68it/s, loss=0.913, v_num=ts5c]tensor([4., 2., 2.], device='cuda:0')\n",
      "Epoch 1:  24%|██▎       | 241/1020 [01:05<03:31,  3.68it/s, loss=0.913, v_num=ts5c]tensor([4., 2., 2.], device='cuda:0')\n",
      "Epoch 1:  24%|██▎       | 242/1020 [01:05<03:31,  3.68it/s, loss=0.913, v_num=ts5c]tensor([4., 2., 2.], device='cuda:0')\n",
      "Epoch 1:  24%|██▍       | 243/1020 [01:05<03:30,  3.68it/s, loss=0.913, v_num=ts5c]tensor([4., 2., 2.], device='cuda:0')\n",
      "Epoch 1:  24%|██▍       | 244/1020 [01:06<03:30,  3.69it/s, loss=0.913, v_num=ts5c]tensor([4., 2., 2.], device='cuda:0')\n",
      "Epoch 1:  24%|██▍       | 245/1020 [01:06<03:30,  3.69it/s, loss=0.913, v_num=ts5c]tensor([4., 2., 2.], device='cuda:0')\n",
      "Epoch 1:  24%|██▍       | 246/1020 [01:06<03:29,  3.69it/s, loss=0.913, v_num=ts5c]tensor([4., 2., 2.], device='cuda:0')\n",
      "Epoch 1:  24%|██▍       | 247/1020 [01:07<03:29,  3.68it/s, loss=0.912, v_num=ts5c]tensor([4., 2., 2.], device='cuda:0')\n",
      "Epoch 1:  24%|██▍       | 248/1020 [01:07<03:29,  3.68it/s, loss=0.912, v_num=ts5c]tensor([4., 2., 2.], device='cuda:0')\n",
      "Epoch 1:  24%|██▍       | 249/1020 [01:07<03:29,  3.68it/s, loss=0.912, v_num=ts5c]tensor([4., 2., 2.], device='cuda:0')\n",
      "Epoch 1:  25%|██▍       | 250/1020 [01:07<03:29,  3.68it/s, loss=0.911, v_num=ts5c]tensor([4., 2., 2.], device='cuda:0')\n"
     ]
    },
    {
     "name": "stderr",
     "output_type": "stream",
     "text": [
      "/global/homes/r/ryanliu/.conda/envs/gnn/lib/python3.8/site-packages/pytorch_lightning/trainer/trainer.py:686: UserWarning: Detected KeyboardInterrupt, attempting graceful shutdown...\n",
      "  rank_zero_warn(\"Detected KeyboardInterrupt, attempting graceful shutdown...\")\n"
     ]
    }
   ],
   "source": [
    "logger = WandbLogger(project=\"ITk_0.5GeV\", group=\"Common_track_multi_embedding\")\n",
    "trainer = Trainer(gpus=1, max_epochs=hparams[\"max_epochs\"], logger=logger, num_sanity_val_steps=2, callbacks=[checkpoint_callback], default_root_dir=\"/global/cfs/cdirs/m3443/usr/ryanliu/ITk_embedding/\")\n",
    "trainer.fit(model)"
   ]
  },
  {
   "cell_type": "markdown",
   "metadata": {},
   "source": [
    "### Test embedding"
   ]
  },
  {
   "cell_type": "markdown",
   "metadata": {},
   "source": [
    "A Pytorch Lightning Trainer has two main methods: `fit` and `test`. They represent the two main steps of any ML engingeering or research: Train a model, then make sure it can infer accurately on test (i.e. **hidden**) data."
   ]
  },
  {
   "cell_type": "markdown",
   "metadata": {},
   "source": [
    "Note that `ckpt_path` just tells the trainer to use the latest \"checkpoint\" of the model, rather than *best* checkpoint. A checkpoint is a saved version of the model, a snapshot at a particular stage of the training process. Pytorch Lightning automatically saves a checkpoint of your model in case something crashes and we need to resume."
   ]
  },
  {
   "cell_type": "code",
   "execution_count": 7,
   "metadata": {},
   "outputs": [
    {
     "name": "stderr",
     "output_type": "stream",
     "text": [
      "/global/homes/r/ryanliu/.conda/envs/gnn/lib/python3.8/site-packages/pytorch_lightning/trainer/trainer.py:1394: UserWarning: `.test(ckpt_path=None)` was called without a model. The best model of the previous `fit` call will be used. You can pass `test(ckpt_path='best')` to use and best model checkpoint and avoid this warning or `ckpt_path=trainer.checkpoint_callback.last_model_path` to use the last model.\n",
      "  rank_zero_warn(\n",
      "Restoring states from the checkpoint path at /global/cfs/cdirs/m3443/usr/ryanliu/ITk_embedding/ITk_0.5GeV/22r0ts5c/checkpoints/epoch=0-step=999.ckpt\n",
      "LOCAL_RANK: 0 - CUDA_VISIBLE_DEVICES: [0]\n",
      "Loaded model weights from checkpoint at /global/cfs/cdirs/m3443/usr/ryanliu/ITk_embedding/ITk_0.5GeV/22r0ts5c/checkpoints/epoch=0-step=999.ckpt\n",
      "/global/homes/r/ryanliu/.conda/envs/gnn/lib/python3.8/site-packages/pytorch_lightning/trainer/data_loading.py:466: UserWarning: One of given dataloaders is None and it will be skipped.\n",
      "  rank_zero_warn(\"One of given dataloaders is None and it will be skipped.\")\n"
     ]
    }
   ],
   "source": [
    "test_results = trainer.test(ckpt_path=None)"
   ]
  },
  {
   "cell_type": "markdown",
   "metadata": {},
   "source": [
    "## Performance"
   ]
  },
  {
   "cell_type": "code",
   "execution_count": 8,
   "metadata": {},
   "outputs": [
    {
     "name": "stderr",
     "output_type": "stream",
     "text": [
      "Traceback (most recent call last):\n",
      "  File \"/global/homes/r/ryanliu/.conda/envs/gnn/lib/python3.8/multiprocessing/queues.py\", line 245, in _feed\n",
      "    send_bytes(obj)\n",
      "  File \"/global/homes/r/ryanliu/.conda/envs/gnn/lib/python3.8/multiprocessing/connection.py\", line 200, in send_bytes\n",
      "    self._send_bytes(m[offset:offset + size])\n",
      "  File \"/global/homes/r/ryanliu/.conda/envs/gnn/lib/python3.8/multiprocessing/connection.py\", line 411, in _send_bytes\n",
      "    self._send(header + buf)\n",
      "  File \"/global/homes/r/ryanliu/.conda/envs/gnn/lib/python3.8/multiprocessing/connection.py\", line 368, in _send\n",
      "    n = write(self._handle, buf)\n",
      "BrokenPipeError: [Errno 32] Broken pipe\n"
     ]
    }
   ],
   "source": [
    "from LightningModules.Embedding.utils import get_metrics"
   ]
  },
  {
   "cell_type": "markdown",
   "metadata": {},
   "source": [
    "Let's see how well the model learned to embed the hits into a space that separates them into discrete clusters. As in the data visualisation above, we are going manual here. So one thing we need to do is tell the model that we are **evaluating**, not **training**, with `model.eval()`. We also make sure to wrap everything with `with torch.no_grad()` to ignore any gradients. This speeds things up and gives the GPU's memory a rest, since we're not interesting in any kind of training from here on in."
   ]
  },
  {
   "cell_type": "code",
   "execution_count": 9,
   "metadata": {},
   "outputs": [],
   "source": [
    "model.eval();"
   ]
  },
  {
   "cell_type": "markdown",
   "metadata": {
    "heading_collapsed": true
   },
   "source": [
    "### Test metrics"
   ]
  },
  {
   "cell_type": "code",
   "execution_count": 10,
   "metadata": {
    "hidden": true,
    "scrolled": true
   },
   "outputs": [
    {
     "name": "stderr",
     "output_type": "stream",
     "text": [
      "Restoring states from the checkpoint path at /global/cfs/cdirs/m3443/usr/ryanliu/ITk_embedding/ITk_0.5GeV/22r0ts5c/checkpoints/epoch=0-step=999.ckpt\n",
      "LOCAL_RANK: 0 - CUDA_VISIBLE_DEVICES: [0]\n",
      "Loaded model weights from checkpoint at /global/cfs/cdirs/m3443/usr/ryanliu/ITk_embedding/ITk_0.5GeV/22r0ts5c/checkpoints/epoch=0-step=999.ckpt\n"
     ]
    },
    {
     "ename": "IndexError",
     "evalue": "list index out of range",
     "output_type": "error",
     "traceback": [
      "\u001b[0;31m---------------------------------------------------------------------------\u001b[0m",
      "\u001b[0;31mIndexError\u001b[0m                                Traceback (most recent call last)",
      "\u001b[0;32m/tmp/ipykernel_170609/3437226746.py\u001b[0m in \u001b[0;36m<module>\u001b[0;34m\u001b[0m\n\u001b[1;32m      6\u001b[0m \u001b[0;34m\u001b[0m\u001b[0m\n\u001b[1;32m      7\u001b[0m         \u001b[0mmodel\u001b[0m\u001b[0;34m.\u001b[0m\u001b[0mhparams\u001b[0m\u001b[0;34m.\u001b[0m\u001b[0mr_test\u001b[0m \u001b[0;34m=\u001b[0m \u001b[0mr\u001b[0m\u001b[0;34m\u001b[0m\u001b[0;34m\u001b[0m\u001b[0m\n\u001b[0;32m----> 8\u001b[0;31m         \u001b[0mtest_results\u001b[0m \u001b[0;34m=\u001b[0m \u001b[0mtrainer\u001b[0m\u001b[0;34m.\u001b[0m\u001b[0mtest\u001b[0m\u001b[0;34m(\u001b[0m\u001b[0mckpt_path\u001b[0m\u001b[0;34m=\u001b[0m\u001b[0;32mNone\u001b[0m\u001b[0;34m)\u001b[0m\u001b[0;34m[\u001b[0m\u001b[0;36m0\u001b[0m\u001b[0;34m]\u001b[0m\u001b[0;34m\u001b[0m\u001b[0;34m\u001b[0m\u001b[0m\n\u001b[0m\u001b[1;32m      9\u001b[0m \u001b[0;34m\u001b[0m\u001b[0m\n\u001b[1;32m     10\u001b[0m         \u001b[0mmean_efficiency\u001b[0m\u001b[0;34m,\u001b[0m \u001b[0mmean_purity\u001b[0m \u001b[0;34m=\u001b[0m \u001b[0mtest_results\u001b[0m\u001b[0;34m[\u001b[0m\u001b[0;34m\"eff\"\u001b[0m\u001b[0;34m]\u001b[0m\u001b[0;34m,\u001b[0m \u001b[0mtest_results\u001b[0m\u001b[0;34m[\u001b[0m\u001b[0;34m\"pur\"\u001b[0m\u001b[0;34m]\u001b[0m\u001b[0;34m\u001b[0m\u001b[0;34m\u001b[0m\u001b[0m\n",
      "\u001b[0;31mIndexError\u001b[0m: list index out of range"
     ]
    }
   ],
   "source": [
    "all_efficiencies, all_purities = [], []\n",
    "all_radius = np.arange(0.5, 1.2, 0.1)\n",
    "\n",
    "with torch.no_grad():\n",
    "    for r in all_radius:\n",
    "\n",
    "        model.hparams.r_test = r\n",
    "        test_results = trainer.test(ckpt_path=None)[0]\n",
    "\n",
    "        mean_efficiency, mean_purity = test_results[\"eff\"], test_results[\"pur\"]\n",
    "\n",
    "        all_efficiencies.append(mean_efficiency)\n",
    "        all_purities.append(mean_purity)"
   ]
  },
  {
   "cell_type": "markdown",
   "metadata": {
    "hidden": true
   },
   "source": [
    "We should always visualise two important metrics: the efficiency (the number of true positives divided by the total number of possible true edges) and the purity (the number of true positives divided by the number of predicted edges). Is it clear to you why the graphs below behave as they do, as we widen the sphere around each hit to generate neighboring edges?"
   ]
  },
  {
   "cell_type": "code",
   "execution_count": null,
   "metadata": {
    "hidden": true
   },
   "outputs": [],
   "source": [
    "plt.figure(figsize=(12,8))\n",
    "plt.plot(all_radius, all_efficiencies);\n",
    "plt.title(\"Embedding efficiency\", fontsize=24), plt.xlabel(\"Radius of neighborhood\", fontsize=18), plt.ylabel(\"Efficiency\", fontsize=18);"
   ]
  },
  {
   "cell_type": "code",
   "execution_count": null,
   "metadata": {
    "hidden": true
   },
   "outputs": [],
   "source": [
    "plt.figure(figsize=(12,8))\n",
    "plt.plot(all_radius, all_purities);\n",
    "plt.title(\"Embedding purity\", fontsize=24), plt.xlabel(\"Radius of neighborhood\", fontsize=18), plt.ylabel(\"Purity\", fontsize=18);"
   ]
  },
  {
   "cell_type": "markdown",
   "metadata": {
    "heading_collapsed": true
   },
   "source": [
    "### Visualise embedding / latent space"
   ]
  },
  {
   "cell_type": "markdown",
   "metadata": {
    "hidden": true
   },
   "source": [
    "Another useful thing to visualise is the actual space being embedded into. Since it's 8 dimensional, we can reduce it to 2 dimensions with \"Principal Component Analysis\". "
   ]
  },
  {
   "cell_type": "code",
   "execution_count": null,
   "metadata": {
    "hidden": true
   },
   "outputs": [],
   "source": [
    "from sklearn.decomposition import PCA"
   ]
  },
  {
   "cell_type": "code",
   "execution_count": null,
   "metadata": {
    "hidden": true
   },
   "outputs": [],
   "source": [
    "example_data = trainset[0]\n",
    "particle_ids = example_data.pid\n",
    "cyl_coords = example_data.x\n",
    "cell_features = example_data.cell_data\n",
    "all_features = torch.cat([cyl_coords, cell_features], axis=-1).to(\"cuda\")"
   ]
  },
  {
   "cell_type": "code",
   "execution_count": null,
   "metadata": {
    "hidden": true
   },
   "outputs": [],
   "source": [
    "latent_features = model(all_features)"
   ]
  },
  {
   "cell_type": "code",
   "execution_count": null,
   "metadata": {
    "hidden": true
   },
   "outputs": [],
   "source": [
    "pca = PCA(n_components=2)"
   ]
  },
  {
   "cell_type": "code",
   "execution_count": null,
   "metadata": {
    "hidden": true
   },
   "outputs": [],
   "source": [
    "reduced_dimensions = pca.fit_transform(latent_features.detach().cpu())"
   ]
  },
  {
   "cell_type": "code",
   "execution_count": null,
   "metadata": {
    "hidden": true
   },
   "outputs": [],
   "source": [
    "reduced_dimensions"
   ]
  },
  {
   "cell_type": "code",
   "execution_count": null,
   "metadata": {
    "hidden": true
   },
   "outputs": [],
   "source": [
    "plt.figure(figsize=(12,8))\n",
    "plt.scatter(reduced_dimensions[:, 0], reduced_dimensions[:, 1], s=1)"
   ]
  },
  {
   "cell_type": "markdown",
   "metadata": {
    "hidden": true
   },
   "source": [
    "The above plot is what **all** the data looks like in the latent space. Let's pick a (long) particle track and see if the track is projected to be close together:"
   ]
  },
  {
   "cell_type": "code",
   "execution_count": null,
   "metadata": {
    "hidden": true
   },
   "outputs": [],
   "source": [
    "particles, counts = np.unique(example_data.pid, return_counts=True)"
   ]
  },
  {
   "cell_type": "code",
   "execution_count": null,
   "metadata": {
    "hidden": true
   },
   "outputs": [],
   "source": [
    "example_particle = particles[counts > 10][0]"
   ]
  },
  {
   "cell_type": "code",
   "execution_count": null,
   "metadata": {
    "hidden": true
   },
   "outputs": [],
   "source": [
    "plt.figure(figsize=(12,8))\n",
    "plt.scatter(reduced_dimensions[:, 0], reduced_dimensions[:, 1], s=1)\n",
    "plt.scatter(reduced_dimensions[particle_ids == example_particle, 0], reduced_dimensions[particle_ids == example_particle, 1])"
   ]
  },
  {
   "cell_type": "markdown",
   "metadata": {
    "hidden": true
   },
   "source": [
    "There are at least 10 hits in the plot above. Hopefully some of them cluster together into blobs, and that the blobs are close to other blobs of the same color. We get ~99% efficiency with this model, so even if some blobs appear far away in the PCA-reduced 2D space, they are most likely much closer in the 8-dimensional space. You can check this yourself!"
   ]
  },
  {
   "cell_type": "markdown",
   "metadata": {},
   "source": [
    "### Distributions"
   ]
  },
  {
   "cell_type": "code",
   "execution_count": null,
   "metadata": {},
   "outputs": [],
   "source": [
    "def calc_eta(r, z):\n",
    "    theta = np.arctan2(r, z)\n",
    "    return -1. * np.log(np.tan(theta / 2.))"
   ]
  },
  {
   "cell_type": "code",
   "execution_count": null,
   "metadata": {
    "code_folding": []
   },
   "outputs": [],
   "source": [
    "def get_performance(model, batch, r_max, k_max):\n",
    "    with torch.no_grad():\n",
    "        input_data = torch.cat([batch.cell_data[:, :model.hparams[\"cell_channels\"]], batch.x], axis=-1)\n",
    "        input_data[input_data != input_data] = 0\n",
    "        spatial = model(input_data)\n",
    "        e_bidir = torch.cat(\n",
    "                [batch.modulewise_true_edges, batch.modulewise_true_edges.flip(0)], axis=-1\n",
    "            )\n",
    "        e_spatial = build_edges(spatial, spatial, indices=None, r_max=r_max, k_max=k_max)\n",
    "        e_spatial, y_cluster = graph_intersection(e_spatial, e_bidir)\n",
    "    \n",
    "    return y_cluster, e_spatial, e_bidir"
   ]
  },
  {
   "cell_type": "code",
   "execution_count": null,
   "metadata": {},
   "outputs": [],
   "source": [
    "r_max = 1.6\n",
    "k_max = 1100"
   ]
  },
  {
   "cell_type": "code",
   "execution_count": null,
   "metadata": {
    "scrolled": true
   },
   "outputs": [],
   "source": [
    "%%time\n",
    "batch = 0\n",
    "model.eval()\n",
    "\n",
    "y_cluster, e_spatial, e_bidir = get_performance(model, model.testset[batch].to(device), r_max=r_max, k_max=k_max)"
   ]
  },
  {
   "cell_type": "code",
   "execution_count": null,
   "metadata": {},
   "outputs": [],
   "source": [
    "print(f\"Pur: {y_cluster.sum() / y_cluster.shape[0]}, Eff: {y_cluster.sum() / e_bidir.shape[1]}\")"
   ]
  },
  {
   "cell_type": "code",
   "execution_count": null,
   "metadata": {},
   "outputs": [],
   "source": [
    "print(f\"Pur: {y_cluster.sum() / y_cluster.shape[0]}, Eff: {y_cluster.sum() / e_bidir.shape[1]}\")"
   ]
  },
  {
   "cell_type": "code",
   "execution_count": null,
   "metadata": {},
   "outputs": [],
   "source": [
    "torch.cuda.max_memory_allocated() / 1024**3"
   ]
  },
  {
   "cell_type": "code",
   "execution_count": null,
   "metadata": {},
   "outputs": [],
   "source": [
    "torch.cuda.reset_peak_memory_stats()"
   ]
  },
  {
   "cell_type": "code",
   "execution_count": null,
   "metadata": {
    "scrolled": true
   },
   "outputs": [],
   "source": [
    "eta_cuts = np.arange(-4, 4.5, 0.5)\n",
    "batch_range = np.arange(0,200)\n",
    "\n",
    "eta_eff_list = []\n",
    "eta_pur_list = []\n",
    "\n",
    "for batch_idx in batch_range[:5]:\n",
    "    \n",
    "    batch = model.testset[batch_idx].to(device)\n",
    "    \n",
    "    y_cluster, e_spatial, e_bidir = get_performance(model, batch, r_max=r_max, k_max=k_max)\n",
    "    \n",
    "    eta_hits = calc_eta(batch.x[:, 0].cpu(), batch.x[:, 2].cpu())\n",
    "    av_eta_preds = (eta_hits[e_spatial[0]] + eta_hits[e_spatial[1]])/2\n",
    "    av_eta_true = (eta_hits[e_bidir[0]] + eta_hits[e_bidir[1]])/2\n",
    "    \n",
    "    for eta1, eta2 in zip(eta_cuts[:-1], eta_cuts[1:]):\n",
    "        edge_eta_pred = (av_eta_preds >= eta1) & (av_eta_preds <= eta2)\n",
    "        edge_eta_true = (av_eta_true >= eta1) & (av_eta_true <= eta2)\n",
    "        true_positives = y_cluster[edge_eta_pred]\n",
    "\n",
    "        eta_eff_list.append(true_positives.sum().item() / edge_eta_true.sum().item())\n",
    "        eta_pur_list.append(true_positives.sum().item() / true_positives.shape[0])"
   ]
  },
  {
   "cell_type": "code",
   "execution_count": null,
   "metadata": {},
   "outputs": [],
   "source": []
  },
  {
   "cell_type": "code",
   "execution_count": null,
   "metadata": {},
   "outputs": [],
   "source": [
    "eta_eff_reshape = np.array(eta_eff_list).reshape(eta_cuts.shape[0]-1, len(batch_range))\n",
    "eta_pur_reshape = np.array(eta_pur_list).reshape(eta_cuts.shape[0]-1, len(batch_range))"
   ]
  },
  {
   "cell_type": "markdown",
   "metadata": {},
   "source": [
    "Train set"
   ]
  },
  {
   "cell_type": "code",
   "execution_count": null,
   "metadata": {},
   "outputs": [],
   "source": [
    "plt.scatter(eta_eff_reshape.mean(0), eta_pur_reshape.mean(0), s=2)"
   ]
  },
  {
   "cell_type": "markdown",
   "metadata": {},
   "source": [
    "Test set"
   ]
  },
  {
   "cell_type": "code",
   "execution_count": null,
   "metadata": {},
   "outputs": [],
   "source": [
    "plt.scatter(eta_eff_reshape.mean(0), eta_pur_reshape.mean(0), s=2)"
   ]
  },
  {
   "cell_type": "code",
   "execution_count": null,
   "metadata": {},
   "outputs": [],
   "source": [
    "eta_center = (eta_cuts[:-1] + eta_cuts[1:])/2\n",
    "plt.errorbar(eta_center, eta_eff_reshape.mean(1), eta_eff_reshape.std(1), fmt=\"o\")"
   ]
  },
  {
   "cell_type": "code",
   "execution_count": null,
   "metadata": {},
   "outputs": [],
   "source": [
    "eta_center = (eta_cuts[:-1] + eta_cuts[1:])/2\n",
    "plt.errorbar(eta_center, eta_pur_reshape.mean(1), eta_pur_reshape.std(1), fmt=\"o\")"
   ]
  },
  {
   "cell_type": "code",
   "execution_count": null,
   "metadata": {
    "scrolled": true
   },
   "outputs": [],
   "source": [
    "pt_cuts = np.arange(900, 5000, 500)\n",
    "\n",
    "pt_eff_list = []\n",
    "pt_pur_list = []\n",
    "    \n",
    "for batch_idx in batch_range:\n",
    "    \n",
    "    batch = model.testset[batch_idx].to(device)\n",
    "    \n",
    "    y_cluster, e_spatial, e_bidir = get_performance(model, batch, r_max=1.2, k_max=500)\n",
    "    \n",
    "    av_pt_preds = (batch.pt[e_spatial[0]] + batch.pt[e_spatial[1]])/2\n",
    "    av_pt_true = (batch.pt[e_bidir[0]] + batch.pt[e_bidir[1]])/2\n",
    "    \n",
    "    for pt1, pt2 in zip(pt_cuts[:-1], pt_cuts[1:]):\n",
    "        edge_pt_pred = (av_pt_preds >= pt1) & (av_pt_preds <= pt2)\n",
    "        edge_pt_true = (av_pt_true >= pt1) & (av_pt_true <= pt2)\n",
    "        true_positives = y_cluster[edge_pt_pred]\n",
    "\n",
    "        pt_eff_list.append(true_positives.sum().item() / max(1, edge_pt_true.sum().item()))\n",
    "        pt_pur_list.append(true_positives.sum().item() / max(1, true_positives.shape[0]))\n",
    "    "
   ]
  },
  {
   "cell_type": "code",
   "execution_count": null,
   "metadata": {},
   "outputs": [],
   "source": [
    "pt_eff_reshape = np.array(pt_eff_list).reshape(pt_cuts.shape[0]-1, len(batch_range))\n",
    "pt_pur_reshape = np.array(pt_pur_list).reshape(pt_cuts.shape[0]-1, len(batch_range))"
   ]
  },
  {
   "cell_type": "code",
   "execution_count": null,
   "metadata": {},
   "outputs": [],
   "source": [
    "pt_center = (pt_cuts[:-1] + pt_cuts[1:])/2\n",
    "plt.errorbar(pt_center, pt_eff_reshape.mean(1), pt_eff_reshape.std(1), fmt=\"o\")"
   ]
  },
  {
   "cell_type": "code",
   "execution_count": null,
   "metadata": {},
   "outputs": [],
   "source": [
    "pt_center = (pt_cuts[:-1] + pt_cuts[1:])/2\n",
    "plt.errorbar(pt_center, pt_pur_reshape.mean(1), pt_pur_reshape.std(1), fmt=\"o\")"
   ]
  },
  {
   "cell_type": "markdown",
   "metadata": {
    "heading_collapsed": true
   },
   "source": [
    "## Memory of Edge Builder"
   ]
  },
  {
   "cell_type": "code",
   "execution_count": null,
   "metadata": {
    "hidden": true
   },
   "outputs": [],
   "source": [
    "torch.cuda.max_memory_allocated() / 1024**3"
   ]
  },
  {
   "cell_type": "code",
   "execution_count": null,
   "metadata": {
    "hidden": true
   },
   "outputs": [],
   "source": [
    "torch.cuda.reset_peak_memory_stats()"
   ]
  },
  {
   "cell_type": "code",
   "execution_count": null,
   "metadata": {
    "hidden": true
   },
   "outputs": [],
   "source": [
    "r_max = 1.6\n",
    "k_max = 1000"
   ]
  },
  {
   "cell_type": "code",
   "execution_count": null,
   "metadata": {
    "hidden": true
   },
   "outputs": [],
   "source": [
    "batch = model.testset[0].to(device)\n",
    "model.eval()\n",
    "with torch.no_grad():\n",
    "    input_data = torch.cat([batch.cell_data[:, :model.hparams[\"cell_channels\"]], batch.x], axis=-1)\n",
    "    input_data[input_data != input_data] = 0\n",
    "    spatial = model(input_data)\n",
    "    e_bidir = torch.cat(\n",
    "            [batch.modulewise_true_edges, batch.modulewise_true_edges.flip(0)], axis=-1\n",
    "        )"
   ]
  },
  {
   "cell_type": "code",
   "execution_count": null,
   "metadata": {
    "hidden": true
   },
   "outputs": [],
   "source": [
    "dists, idxs, nn, grid = frnn.frnn_grid_points(points1=spatial.unsqueeze(0), points2=spatial.unsqueeze(0), lengths1=None, lengths2=None, K=k_max, r=r_max, grid=None, return_nn=False, return_sorted=True)"
   ]
  },
  {
   "cell_type": "code",
   "execution_count": null,
   "metadata": {
    "hidden": true
   },
   "outputs": [],
   "source": [
    "idxs = idxs.squeeze().int()\n",
    "ind = torch.Tensor.repeat(torch.arange(idxs.shape[0], device=device), (idxs.shape[1], 1), 1).T.int()"
   ]
  },
  {
   "cell_type": "code",
   "execution_count": null,
   "metadata": {
    "hidden": true
   },
   "outputs": [],
   "source": [
    "positive_idxs = idxs >= 0\n",
    "ind = ind[positive_idxs]\n",
    "idxs = idxs[positive_idxs]"
   ]
  },
  {
   "cell_type": "code",
   "execution_count": null,
   "metadata": {
    "hidden": true
   },
   "outputs": [],
   "source": [
    "edge_list = torch.stack([ind, idxs]).int()"
   ]
  },
  {
   "cell_type": "code",
   "execution_count": null,
   "metadata": {
    "hidden": true
   },
   "outputs": [],
   "source": [
    "# Remove self-loops\n",
    "edge_list = edge_list[:, edge_list[0] != edge_list[1]]"
   ]
  },
  {
   "cell_type": "code",
   "execution_count": null,
   "metadata": {
    "hidden": true
   },
   "outputs": [],
   "source": [
    "del ind\n",
    "del idxs"
   ]
  },
  {
   "cell_type": "code",
   "execution_count": null,
   "metadata": {
    "hidden": true
   },
   "outputs": [],
   "source": [
    "edge_list = edge_list.long()"
   ]
  },
  {
   "cell_type": "markdown",
   "metadata": {},
   "source": [
    "# Build Edge Dataset"
   ]
  },
  {
   "cell_type": "markdown",
   "metadata": {},
   "source": [
    "## Load best model"
   ]
  },
  {
   "cell_type": "code",
   "execution_count": null,
   "metadata": {},
   "outputs": [],
   "source": [
    "checkpoint_path = \"/global/cscratch1/sd/danieltm/ExaTrkX/itk_lightning_checkpoints/ITk_1GeV/pdwlz89x/checkpoints/last.ckpt\"\n",
    "checkpoint = torch.load(checkpoint_path)"
   ]
  },
  {
   "cell_type": "code",
   "execution_count": null,
   "metadata": {},
   "outputs": [],
   "source": [
    "model = LayerlessEmbedding.load_from_checkpoint(checkpoint_path).to(device)"
   ]
  },
  {
   "cell_type": "code",
   "execution_count": null,
   "metadata": {},
   "outputs": [],
   "source": [
    "model.hparams[\"train_split\"] = [10, 10, 10]"
   ]
  },
  {
   "cell_type": "code",
   "execution_count": null,
   "metadata": {},
   "outputs": [],
   "source": [
    "%%time\n",
    "model.setup(stage=\"fit\")"
   ]
  },
  {
   "cell_type": "markdown",
   "metadata": {},
   "source": [
    "## Define Building Class"
   ]
  },
  {
   "cell_type": "code",
   "execution_count": null,
   "metadata": {
    "code_folding": []
   },
   "outputs": [],
   "source": [
    "class EmbeddingInferenceBuilder:\n",
    "    def __init__(self, model, output_dir, overwrite=False):\n",
    "        self.output_dir = output_dir\n",
    "        self.model = model\n",
    "        self.overwrite = overwrite\n",
    "\n",
    "        # Prep the directory to produce inference data to\n",
    "        self.datatypes = [\"train\", \"val\", \"test\"]\n",
    "        os.makedirs(self.output_dir, exist_ok=True)\n",
    "        [\n",
    "            os.makedirs(os.path.join(self.output_dir, datatype), exist_ok=True)\n",
    "            for datatype in self.datatypes\n",
    "        ]\n",
    "\n",
    "\n",
    "    def build(self):\n",
    "        print(\"Training finished, running inference to build graphs...\")\n",
    "\n",
    "        # By default, the set of examples propagated through the pipeline will be train+val+test set\n",
    "        datasets = {\n",
    "            \"train\": self.model.trainset,\n",
    "            \"val\": self.model.valset,\n",
    "            \"test\": self.model.testset,\n",
    "        }\n",
    "        total_length = sum([len(dataset) for dataset in datasets.values()])\n",
    "        batch_incr = 0\n",
    "        self.model.eval()\n",
    "        with torch.no_grad():\n",
    "            for set_idx, (datatype, dataset) in enumerate(datasets.items()):\n",
    "                for batch_idx, batch in enumerate(dataset):\n",
    "                    percent = (batch_incr / total_length) * 100\n",
    "                    sys.stdout.flush()\n",
    "                    sys.stdout.write(f\"{percent:.01f}% inference complete \\r\")\n",
    "                    if (\n",
    "                        not os.path.exists(\n",
    "                            os.path.join(\n",
    "                                self.output_dir, datatype, batch.event_file[-4:]\n",
    "                            )\n",
    "                        )\n",
    "                    ) or self.overwrite:\n",
    "                        batch_to_save = copy.deepcopy(batch)\n",
    "                        batch_to_save = batch_to_save.to(\n",
    "                            self.model.device\n",
    "                        )  # Is this step necessary??\n",
    "                        self.construct_downstream(batch_to_save, datatype)\n",
    "\n",
    "                    batch_incr += 1\n",
    "\n",
    "    def construct_downstream(self, batch, datatype):\n",
    "\n",
    "        if \"ci\" in self.model.hparams[\"regime\"]:\n",
    "            input_data = torch.cat([batch.cell_data[:, :self.model.hparams[\"cell_channels\"]], batch.x], axis=-1)\n",
    "            input_data[input_data != input_data] = 0\n",
    "            spatial = self.model(input_data)\n",
    "        else:\n",
    "            input_data = batch.x\n",
    "            input_data[input_data != input_data] = 0\n",
    "            spatial = self.model(input_data)\n",
    "\n",
    "        # Make truth bidirectional\n",
    "        e_bidir = torch.cat(\n",
    "            [\n",
    "                batch.modulewise_true_edges,\n",
    "                torch.stack(\n",
    "                    [batch.modulewise_true_edges[1], batch.modulewise_true_edges[0]],\n",
    "                    axis=1,\n",
    "                ).T,\n",
    "            ],\n",
    "            axis=-1,\n",
    "        )\n",
    "\n",
    "        # Build the radius graph with radius < r_test\n",
    "        e_spatial = build_edges(\n",
    "            spatial, spatial, indices=None, r_max=self.model.hparams[\"r_test\"], k_max =1100\n",
    "        ).long()  # This step should remove reliance on r_val, and instead compute an r_build based on the EXACT r required to reach target eff/pur\n",
    "\n",
    "        # Arbitrary ordering to remove half of the duplicate edges\n",
    "        R_dist = torch.sqrt(batch.x[:, 0] ** 2 + batch.x[:, 2] ** 2)\n",
    "        e_spatial = e_spatial[:, (R_dist[e_spatial[0]] <= R_dist[e_spatial[1]])]\n",
    "\n",
    "        e_spatial, y_cluster = graph_intersection(e_spatial, e_bidir)\n",
    "\n",
    "        # Re-introduce random direction, to avoid training bias\n",
    "        random_flip = torch.randint(2, (e_spatial.shape[1],)).bool()\n",
    "        e_spatial[0, random_flip], e_spatial[1, random_flip] = (\n",
    "            e_spatial[1, random_flip],\n",
    "            e_spatial[0, random_flip],\n",
    "        )\n",
    "\n",
    "        batch.edge_index = e_spatial\n",
    "        batch.y = y_cluster\n",
    "\n",
    "        self.save_downstream(batch, datatype)\n",
    "\n",
    "    def save_downstream(self, batch, datatype):\n",
    "\n",
    "        with open(\n",
    "            os.path.join(self.output_dir, datatype, batch.event_file[-4:]), \"wb\"\n",
    "        ) as pickle_file:\n",
    "            torch.save(batch, pickle_file)\n"
   ]
  },
  {
   "cell_type": "code",
   "execution_count": null,
   "metadata": {},
   "outputs": [],
   "source": [
    "output_dir = \"/project/projectdirs/m3443/data/ITk-upgrade/processed/embedding_processed/0_GeV_unweighted_subset\"\n",
    "model.hparams[\"r_test\"] = 1.6\n",
    "edge_builder = EmbeddingInferenceBuilder(model, output_dir, overwrite=False)"
   ]
  },
  {
   "cell_type": "code",
   "execution_count": null,
   "metadata": {
    "scrolled": true
   },
   "outputs": [],
   "source": [
    "edge_builder.build()"
   ]
  },
  {
   "cell_type": "code",
   "execution_count": null,
   "metadata": {},
   "outputs": [],
   "source": [
    "len(model.trainset)"
   ]
  },
  {
   "cell_type": "code",
   "execution_count": null,
   "metadata": {},
   "outputs": [],
   "source": []
  }
 ],
 "metadata": {
  "kernelspec": {
   "display_name": "Gnn",
   "language": "python",
   "name": "gnn"
  },
  "language_info": {
   "codemirror_mode": {
    "name": "ipython",
    "version": 3
   },
   "file_extension": ".py",
   "mimetype": "text/x-python",
   "name": "python",
   "nbconvert_exporter": "python",
   "pygments_lexer": "ipython3",
   "version": "3.8.12"
  }
 },
 "nbformat": 4,
 "nbformat_minor": 4
}
