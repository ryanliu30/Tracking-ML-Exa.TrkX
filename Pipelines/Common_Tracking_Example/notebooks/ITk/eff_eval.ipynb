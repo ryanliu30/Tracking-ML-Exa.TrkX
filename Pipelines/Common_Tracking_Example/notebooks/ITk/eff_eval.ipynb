{
 "cells": [
  {
   "cell_type": "code",
   "execution_count": 61,
   "id": "6c2348d9-2e78-4284-9d13-71623847bbc4",
   "metadata": {},
   "outputs": [],
   "source": [
    "import torch\n",
    "import cuml\n",
    "from torch_geometric.data import Data"
   ]
  },
  {
   "cell_type": "code",
   "execution_count": 76,
   "id": "440df63b-3041-4516-85f0-48dea429f155",
   "metadata": {},
   "outputs": [],
   "source": [
    "event = torch.load(\"/global/cfs/cdirs/m3443/data/ITk-upgrade/processed/gnn_processed/0GeV_v3/train/0001\").cpu()"
   ]
  },
  {
   "cell_type": "code",
   "execution_count": 77,
   "id": "0b71af52-3ae0-4e8a-a50e-b7922e8ec1db",
   "metadata": {},
   "outputs": [],
   "source": [
    "def get_performance(event, score_cut):\n",
    "    mask = (event.scores > score_cut)\n",
    "    edges = event.edge_index[:, mask]\n",
    "    node_mask = torch.zeros(event.x.shape[0])\n",
    "    node_mask[edges.unique()] = 1\n",
    "    node_mask = node_mask.bool()\n",
    "    signal_mask = (event.pt > 1000.) & (event.nhits >= 5) & (event.primary == 1)\n",
    "    pid = event.pid.unique(return_inverse = True)[1]\n",
    "    nhits = event.pid.unique(return_counts = True)[1]\n",
    "    hit_eff = (pid[node_mask & signal_mask].unique(return_counts = True)[1] > 0.5*nhits[pid[node_mask & signal_mask].unique()]).sum()/\\\n",
    "                pid[signal_mask].unique().shape[0]\n",
    "    eff = event.y[mask].sum()/signal_mask[event.modulewise_true_edges].all(0).sum()\n",
    "    pur = event.y_pid[mask].sum()/event.y_pid[mask].shape[0]\n",
    "    \n",
    "    return hit_eff, eff, pur, node_mask.sum(), edges.shape[1]"
   ]
  },
  {
   "cell_type": "code",
   "execution_count": 78,
   "id": "80d3c59f-37b8-441d-8d8a-5d7c4a603d5e",
   "metadata": {},
   "outputs": [
    {
     "data": {
      "text/plain": [
       "(tensor(0.9877), tensor(0.9534), tensor(0.6426), tensor(50009), 68606)"
      ]
     },
     "execution_count": 78,
     "metadata": {},
     "output_type": "execute_result"
    }
   ],
   "source": [
    "get_performance(event, 0.1)"
   ]
  },
  {
   "cell_type": "code",
   "execution_count": 75,
   "id": "8bb30120-3574-464b-89b6-7e64ce62fec4",
   "metadata": {},
   "outputs": [
    {
     "data": {
      "text/plain": [
       "Data()"
      ]
     },
     "execution_count": 75,
     "metadata": {},
     "output_type": "execute_result"
    }
   ],
   "source": []
  },
  {
   "cell_type": "code",
   "execution_count": null,
   "id": "b8716d47-b9e8-4639-8968-bbbe4e977ae3",
   "metadata": {},
   "outputs": [],
   "source": []
  }
 ],
 "metadata": {
  "kernelspec": {
   "display_name": "RAPIDs",
   "language": "python",
   "name": "rapids"
  },
  "language_info": {
   "codemirror_mode": {
    "name": "ipython",
    "version": 3
   },
   "file_extension": ".py",
   "mimetype": "text/x-python",
   "name": "python",
   "nbconvert_exporter": "python",
   "pygments_lexer": "ipython3",
   "version": "3.8.13"
  }
 },
 "nbformat": 4,
 "nbformat_minor": 5
}
