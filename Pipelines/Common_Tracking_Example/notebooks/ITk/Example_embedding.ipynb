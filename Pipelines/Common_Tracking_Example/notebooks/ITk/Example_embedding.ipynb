{
 "cells": [
  {
   "cell_type": "markdown",
   "metadata": {},
   "source": [
    "# Example of Metric Learning in Embedded Space"
   ]
  },
  {
   "cell_type": "code",
   "execution_count": 1,
   "metadata": {},
   "outputs": [],
   "source": [
    "%load_ext autoreload\n",
    "%autoreload 2"
   ]
  },
  {
   "cell_type": "code",
   "execution_count": 2,
   "metadata": {},
   "outputs": [],
   "source": [
    "# System imports\n",
    "import os\n",
    "import sys\n",
    "import yaml\n",
    "\n",
    "# External imports\n",
    "import matplotlib.pyplot as plt\n",
    "import scipy as sp\n",
    "from sklearn.decomposition import PCA\n",
    "from sklearn.metrics import auc\n",
    "import numpy as np\n",
    "import pandas as pd\n",
    "import seaborn as sns\n",
    "import torch\n",
    "from pytorch_lightning.loggers import TensorBoardLogger, WandbLogger\n",
    "from pytorch_lightning import Trainer\n",
    "import frnn\n",
    "\n",
    "sys.path.append('../..')\n",
    "\n",
    "from LightningModules.Embedding.Models.layerless_embedding import LayerlessEmbedding\n",
    "import copy\n",
    "from LightningModules.Embedding.utils import build_edges, graph_intersection\n",
    "\n",
    "device = \"cuda\" if torch.cuda.is_available() else \"cpu\""
   ]
  },
  {
   "cell_type": "markdown",
   "metadata": {},
   "source": [
    "## Pytorch Lightning Model"
   ]
  },
  {
   "cell_type": "markdown",
   "metadata": {},
   "source": [
    "In this example notebook, we will use an approach to ML called Pytorch Lightning. Pytorch is a library like Tensorflow, which is very popular in ML engineering. It's main appeal is foolproof tracking of gradients for backpropagation, and very easy manipulation of tensors on and off GPUs. \n",
    "\n",
    "Pytorch Lightning is an extension of Pytorch that makes some decisions about the best-practices for training. Instead of you writing the training loop yourself, and moving things on and off a GPU, it handles much of this for you. You write all the data loading logic, the loss functions, etc. into a `LightningModule` and then hand this module to a `Trainer`. Together, the module and trainer are the two objects that allow training and inference. "
   ]
  },
  {
   "cell_type": "markdown",
   "metadata": {},
   "source": [
    "So we start by importing a class that we have written ourselves, in this case a LightningModule that is in charge of loading TrackML (Codalab) data, and training and validating an embedding/metric learning model. "
   ]
  },
  {
   "cell_type": "markdown",
   "metadata": {},
   "source": [
    "### Construct PyLightning model"
   ]
  },
  {
   "cell_type": "markdown",
   "metadata": {},
   "source": [
    "An ML model typically has many knobs to turn, as well as locations of data, some training preferences, and so on. For convenience, let's put all of these parameters into a YAML file and load it."
   ]
  },
  {
   "cell_type": "code",
   "execution_count": 3,
   "metadata": {},
   "outputs": [],
   "source": [
    "with open(\"example_embedding.yaml\") as f:\n",
    "        hparams = yaml.load(f, Loader=yaml.FullLoader)"
   ]
  },
  {
   "cell_type": "markdown",
   "metadata": {},
   "source": [
    "We plug these parameters into a constructor of the `LayerlessEmbedding` Lightning Module. This doesn't **do** anything yet - merely creates the object."
   ]
  },
  {
   "cell_type": "code",
   "execution_count": 4,
   "metadata": {},
   "outputs": [],
   "source": [
    "model = LayerlessEmbedding(hparams)"
   ]
  },
  {
   "cell_type": "markdown",
   "metadata": {},
   "source": [
    "## Metric Learning"
   ]
  },
  {
   "cell_type": "markdown",
   "metadata": {},
   "source": [
    "### Train embedding"
   ]
  },
  {
   "cell_type": "markdown",
   "metadata": {},
   "source": [
    "Finally! Let's train! We instantiate a `Trainer` class that knows things like which hardware to work with, how long to train for, and a **bunch** of default options that we ignore here. Check out the Trainer class docs in Pytorch Lightning. Suffice it to say that it clears away much repetitive boilerplate in training code."
   ]
  },
  {
   "cell_type": "code",
   "execution_count": 6,
   "metadata": {},
   "outputs": [],
   "source": [
    "from pytorch_lightning.callbacks import ModelCheckpoint\n",
    "\n",
    "checkpoint_callback = ModelCheckpoint(\n",
    "    monitor='eff',\n",
    "    mode=\"max\",\n",
    "    save_top_k=2,\n",
    "    save_last=True)"
   ]
  },
  {
   "cell_type": "code",
   "execution_count": 7,
   "metadata": {
    "scrolled": true
   },
   "outputs": [
    {
     "name": "stderr",
     "output_type": "stream",
     "text": [
      "GPU available: True, used: True\n",
      "TPU available: False, using: 0 TPU cores\n",
      "IPU available: False, using: 0 IPUs\n",
      "LOCAL_RANK: 0 - CUDA_VISIBLE_DEVICES: [0]\n",
      "ERROR:wandb.jupyter:Failed to detect the name of this notebook, you can set it manually with the WANDB_NOTEBOOK_NAME environment variable to enable code saving.\n",
      "\u001b[34m\u001b[1mwandb\u001b[0m: Currently logged in as: \u001b[33mexatrkx\u001b[0m (use `wandb login --relogin` to force relogin)\n"
     ]
    },
    {
     "data": {
      "text/html": [
       "\n",
       "                    Syncing run <strong><a href=\"https://wandb.ai/exatrkx/ITk_0.5GeV/runs/2usn7zxv\" target=\"_blank\">dutiful-sun-47</a></strong> to <a href=\"https://wandb.ai/exatrkx/ITk_0.5GeV\" target=\"_blank\">Weights & Biases</a> (<a href=\"https://docs.wandb.com/integrations/jupyter.html\" target=\"_blank\">docs</a>).<br/>\n",
       "\n",
       "                "
      ],
      "text/plain": [
       "<IPython.core.display.HTML object>"
      ]
     },
     "metadata": {},
     "output_type": "display_data"
    },
    {
     "name": "stderr",
     "output_type": "stream",
     "text": [
      "\n",
      "  | Name      | Type       | Params\n",
      "-----------------------------------------\n",
      "0 | layers    | ModuleList | 5.3 M \n",
      "1 | emb_layer | Linear     | 8.2 K \n",
      "2 | norm      | LayerNorm  | 2.0 K \n",
      "3 | act       | Tanh       | 0     \n",
      "-----------------------------------------\n",
      "5.3 M     Trainable params\n",
      "0         Non-trainable params\n",
      "5.3 M     Total params\n",
      "21.082    Total estimated model params size (MB)\n",
      "/global/homes/r/ryanliu/.conda/envs/gnn/lib/python3.8/site-packages/pytorch_lightning/trainer/data_loading.py:116: UserWarning: The dataloader, train_dataloader, does not have many workers which may be a bottleneck. Consider increasing the value of the `num_workers` argument` (try 256 which is the number of cpus on this machine) in the `DataLoader` init to improve performance.\n",
      "  rank_zero_warn(\n",
      "/global/homes/r/ryanliu/.conda/envs/gnn/lib/python3.8/site-packages/pytorch_lightning/trainer/data_loading.py:116: UserWarning: The dataloader, val_dataloader 0, does not have many workers which may be a bottleneck. Consider increasing the value of the `num_workers` argument` (try 256 which is the number of cpus on this machine) in the `DataLoader` init to improve performance.\n",
      "  rank_zero_warn(\n"
     ]
    },
    {
     "name": "stdout",
     "output_type": "stream",
     "text": [
      "Epoch 0:   0%|          | 0/1020 [00:00<?, ?it/s] tensor([1., 1., 1.], device='cuda:0')\n",
      "Epoch 0:   0%|          | 1/1020 [00:01<22:46,  1.34s/it, loss=0.941, v_num=7zxv]tensor([1., 1., 1.], device='cuda:0')\n",
      "Epoch 0:   0%|          | 2/1020 [00:01<16:16,  1.04it/s, loss=0.937, v_num=7zxv]tensor([1., 1., 1.], device='cuda:0')\n",
      "Epoch 0:   0%|          | 3/1020 [00:02<13:55,  1.22it/s, loss=0.937, v_num=7zxv]tensor([1., 1., 1.], device='cuda:0')\n",
      "Epoch 0:   0%|          | 4/1020 [00:02<12:28,  1.36it/s, loss=0.938, v_num=7zxv]tensor([1., 1., 1.], device='cuda:0')\n",
      "Epoch 0:   0%|          | 5/1020 [00:03<12:12,  1.39it/s, loss=0.936, v_num=7zxv]tensor([1., 1., 1.], device='cuda:0')\n",
      "Epoch 0:   1%|          | 6/1020 [00:04<11:27,  1.47it/s, loss=0.937, v_num=7zxv]tensor([1., 1., 1.], device='cuda:0')\n",
      "Epoch 0:   1%|          | 7/1020 [00:04<11:14,  1.50it/s, loss=0.936, v_num=7zxv]tensor([1., 1., 1.], device='cuda:0')\n",
      "Epoch 0:   1%|          | 8/1020 [00:05<11:34,  1.46it/s, loss=0.934, v_num=7zxv]tensor([1., 1., 1.], device='cuda:0')\n",
      "Epoch 0:   1%|          | 9/1020 [00:06<11:14,  1.50it/s, loss=0.935, v_num=7zxv]tensor([1., 1., 1.], device='cuda:0')\n",
      "Epoch 0:   1%|          | 10/1020 [00:06<10:57,  1.54it/s, loss=0.935, v_num=7zxv]tensor([1., 1., 1.], device='cuda:0')\n",
      "Epoch 0:   1%|          | 11/1020 [00:07<10:45,  1.56it/s, loss=0.936, v_num=7zxv]tensor([1., 1., 1.], device='cuda:0')\n",
      "Epoch 0:   1%|          | 12/1020 [00:07<10:39,  1.58it/s, loss=0.935, v_num=7zxv]tensor([1., 1., 1.], device='cuda:0')\n",
      "Epoch 0:   1%|▏         | 13/1020 [00:08<10:27,  1.61it/s, loss=0.936, v_num=7zxv]tensor([1., 1., 1.], device='cuda:0')\n",
      "Epoch 0:   1%|▏         | 14/1020 [00:08<10:22,  1.62it/s, loss=0.935, v_num=7zxv]tensor([1., 1., 1.], device='cuda:0')\n",
      "Epoch 0:   1%|▏         | 15/1020 [00:09<10:22,  1.61it/s, loss=0.935, v_num=7zxv]tensor([1., 1., 1.], device='cuda:0')\n",
      "Epoch 0:   2%|▏         | 16/1020 [00:09<10:19,  1.62it/s, loss=0.934, v_num=7zxv]tensor([1., 1., 1.], device='cuda:0')\n",
      "Epoch 0:   2%|▏         | 17/1020 [00:10<10:13,  1.64it/s, loss=0.935, v_num=7zxv]tensor([1., 1., 1.], device='cuda:0')\n",
      "Epoch 0:   2%|▏         | 18/1020 [00:10<10:04,  1.66it/s, loss=0.935, v_num=7zxv]tensor([1., 1., 1.], device='cuda:0')\n",
      "Epoch 0:   2%|▏         | 19/1020 [00:11<09:58,  1.67it/s, loss=0.935, v_num=7zxv]tensor([1., 1., 1.], device='cuda:0')\n",
      "Epoch 0:   2%|▏         | 20/1020 [00:11<09:54,  1.68it/s, loss=0.935, v_num=7zxv]tensor([1., 1., 1.], device='cuda:0')\n",
      "Epoch 0:   2%|▏         | 21/1020 [00:12<09:51,  1.69it/s, loss=0.935, v_num=7zxv]tensor([1., 1., 1.], device='cuda:0')\n",
      "Epoch 0:   2%|▏         | 22/1020 [00:12<09:46,  1.70it/s, loss=0.935, v_num=7zxv]tensor([1., 1., 1.], device='cuda:0')\n",
      "Epoch 0:   2%|▏         | 23/1020 [00:13<09:43,  1.71it/s, loss=0.935, v_num=7zxv]tensor([1., 1., 1.], device='cuda:0')\n",
      "Epoch 0:   2%|▏         | 24/1020 [00:13<09:40,  1.71it/s, loss=0.935, v_num=7zxv]tensor([1., 1., 1.], device='cuda:0')\n",
      "Epoch 0:   2%|▏         | 25/1020 [00:14<09:38,  1.72it/s, loss=0.935, v_num=7zxv]tensor([1., 1., 1.], device='cuda:0')\n",
      "Epoch 0:   3%|▎         | 26/1020 [00:15<09:37,  1.72it/s, loss=0.935, v_num=7zxv]tensor([1., 1., 1.], device='cuda:0')\n",
      "Epoch 0:   3%|▎         | 27/1020 [00:15<09:35,  1.73it/s, loss=0.935, v_num=7zxv]tensor([1., 1., 1.], device='cuda:0')\n",
      "Epoch 0:   3%|▎         | 28/1020 [00:16<09:34,  1.73it/s, loss=0.936, v_num=7zxv]tensor([1., 1., 1.], device='cuda:0')\n",
      "Epoch 0:   3%|▎         | 29/1020 [00:16<09:32,  1.73it/s, loss=0.935, v_num=7zxv]tensor([1., 1., 1.], device='cuda:0')\n",
      "Epoch 0:   3%|▎         | 30/1020 [00:17<09:27,  1.74it/s, loss=0.935, v_num=7zxv]tensor([1., 1., 1.], device='cuda:0')\n",
      "Epoch 0:   3%|▎         | 31/1020 [00:17<09:24,  1.75it/s, loss=0.936, v_num=7zxv]tensor([1., 1., 1.], device='cuda:0')\n",
      "Epoch 0:   3%|▎         | 32/1020 [00:18<09:21,  1.76it/s, loss=0.936, v_num=7zxv]tensor([1., 1., 1.], device='cuda:0')\n",
      "Epoch 0:   3%|▎         | 33/1020 [00:18<09:20,  1.76it/s, loss=0.936, v_num=7zxv]tensor([1., 1., 1.], device='cuda:0')\n",
      "Epoch 0:   3%|▎         | 34/1020 [00:19<09:17,  1.77it/s, loss=0.936, v_num=7zxv]tensor([1., 1., 1.], device='cuda:0')\n",
      "Epoch 0:   3%|▎         | 35/1020 [00:19<09:15,  1.77it/s, loss=0.936, v_num=7zxv]tensor([1., 1., 1.], device='cuda:0')\n",
      "Epoch 0:   4%|▎         | 36/1020 [00:20<09:16,  1.77it/s, loss=0.936, v_num=7zxv]tensor([1., 1., 1.], device='cuda:0')\n",
      "Epoch 0:   4%|▎         | 37/1020 [00:20<09:15,  1.77it/s, loss=0.936, v_num=7zxv]tensor([1., 1., 1.], device='cuda:0')\n",
      "Epoch 0:   4%|▎         | 38/1020 [00:21<09:10,  1.78it/s, loss=0.936, v_num=7zxv]tensor([1., 1., 1.], device='cuda:0')\n",
      "Epoch 0:   4%|▍         | 39/1020 [00:21<09:09,  1.78it/s, loss=0.936, v_num=7zxv]tensor([1., 1., 1.], device='cuda:0')\n",
      "Epoch 0:   4%|▍         | 40/1020 [00:22<09:08,  1.79it/s, loss=0.936, v_num=7zxv]tensor([1., 1., 1.], device='cuda:0')\n",
      "Epoch 0:   4%|▍         | 41/1020 [00:22<09:07,  1.79it/s, loss=0.936, v_num=7zxv]tensor([1., 1., 1.], device='cuda:0')\n",
      "Epoch 0:   4%|▍         | 42/1020 [00:23<09:06,  1.79it/s, loss=0.936, v_num=7zxv]tensor([1., 1., 1.], device='cuda:0')\n",
      "Epoch 0:   4%|▍         | 43/1020 [00:24<09:07,  1.79it/s, loss=0.935, v_num=7zxv]tensor([1., 1., 1.], device='cuda:0')\n",
      "Epoch 0:   4%|▍         | 44/1020 [00:24<09:03,  1.79it/s, loss=0.935, v_num=7zxv]tensor([1., 1., 1.], device='cuda:0')\n",
      "Epoch 0:   4%|▍         | 45/1020 [00:25<09:01,  1.80it/s, loss=0.936, v_num=7zxv]tensor([1., 1., 1.], device='cuda:0')\n",
      "Epoch 0:   5%|▍         | 46/1020 [00:25<08:59,  1.81it/s, loss=0.936, v_num=7zxv]tensor([1., 1., 1.], device='cuda:0')\n",
      "Epoch 0:   5%|▍         | 47/1020 [00:25<08:57,  1.81it/s, loss=0.936, v_num=7zxv]tensor([1., 1., 1.], device='cuda:0')\n",
      "Epoch 0:   5%|▍         | 48/1020 [00:26<08:54,  1.82it/s, loss=0.937, v_num=7zxv]tensor([1., 1., 1.], device='cuda:0')\n",
      "Epoch 0:   5%|▍         | 49/1020 [00:26<08:53,  1.82it/s, loss=0.937, v_num=7zxv]tensor([1., 1., 1.], device='cuda:0')\n",
      "Epoch 0:   5%|▍         | 50/1020 [00:27<08:51,  1.82it/s, loss=0.937, v_num=7zxv]tensor([1., 1., 1.], device='cuda:0')\n",
      "Epoch 0:   5%|▌         | 51/1020 [00:27<08:51,  1.82it/s, loss=0.936, v_num=7zxv]tensor([1., 1., 1.], device='cuda:0')\n",
      "Epoch 0:   5%|▌         | 52/1020 [00:28<08:49,  1.83it/s, loss=0.936, v_num=7zxv]tensor([1., 1., 1.], device='cuda:0')\n",
      "Epoch 0:   5%|▌         | 53/1020 [00:28<08:46,  1.84it/s, loss=0.937, v_num=7zxv]tensor([1., 1., 1.], device='cuda:0')\n",
      "Epoch 0:   5%|▌         | 54/1020 [00:29<08:45,  1.84it/s, loss=0.937, v_num=7zxv]tensor([1., 1., 1.], device='cuda:0')\n",
      "Epoch 0:   5%|▌         | 55/1020 [00:29<08:43,  1.84it/s, loss=0.937, v_num=7zxv]tensor([1., 1., 1.], device='cuda:0')\n",
      "Epoch 0:   5%|▌         | 56/1020 [00:30<08:43,  1.84it/s, loss=0.937, v_num=7zxv]tensor([1., 1., 1.], device='cuda:0')\n",
      "Epoch 0:   6%|▌         | 57/1020 [00:30<08:41,  1.85it/s, loss=0.937, v_num=7zxv]tensor([1., 1., 1.], device='cuda:0')\n",
      "Epoch 0:   6%|▌         | 58/1020 [00:31<08:40,  1.85it/s, loss=0.937, v_num=7zxv]tensor([1., 1., 1.], device='cuda:0')\n",
      "Epoch 0:   6%|▌         | 59/1020 [00:31<08:39,  1.85it/s, loss=0.937, v_num=7zxv]tensor([1., 1., 1.], device='cuda:0')\n",
      "Epoch 0:   6%|▌         | 60/1020 [00:32<08:39,  1.85it/s, loss=0.937, v_num=7zxv]tensor([1., 1., 1.], device='cuda:0')\n",
      "Epoch 0:   6%|▌         | 61/1020 [00:33<08:39,  1.85it/s, loss=0.937, v_num=7zxv]tensor([1., 1., 1.], device='cuda:0')\n",
      "Epoch 0:   6%|▌         | 62/1020 [00:33<08:38,  1.85it/s, loss=0.937, v_num=7zxv]tensor([1., 1., 1.], device='cuda:0')\n",
      "Epoch 0:   6%|▌         | 63/1020 [00:34<08:38,  1.85it/s, loss=0.937, v_num=7zxv]tensor([1., 1., 1.], device='cuda:0')\n",
      "Epoch 0:   6%|▋         | 64/1020 [00:34<08:36,  1.85it/s, loss=0.937, v_num=7zxv]tensor([1., 1., 1.], device='cuda:0')\n",
      "Epoch 0:   6%|▋         | 65/1020 [00:35<08:35,  1.85it/s, loss=0.937, v_num=7zxv]tensor([1., 1., 1.], device='cuda:0')\n",
      "Epoch 0:   6%|▋         | 66/1020 [00:35<08:35,  1.85it/s, loss=0.937, v_num=7zxv]tensor([1., 1., 1.], device='cuda:0')\n",
      "Epoch 0:   7%|▋         | 67/1020 [00:36<08:35,  1.85it/s, loss=0.936, v_num=7zxv]tensor([1., 1., 1.], device='cuda:0')\n",
      "Epoch 0:   7%|▋         | 68/1020 [00:36<08:33,  1.85it/s, loss=0.936, v_num=7zxv]tensor([1., 1., 1.], device='cuda:0')\n",
      "Epoch 0:   7%|▋         | 69/1020 [00:37<08:33,  1.85it/s, loss=0.936, v_num=7zxv]tensor([1., 1., 1.], device='cuda:0')\n",
      "Epoch 0:   7%|▋         | 70/1020 [00:37<08:33,  1.85it/s, loss=0.936, v_num=7zxv]tensor([1., 1., 1.], device='cuda:0')\n",
      "Epoch 0:   7%|▋         | 71/1020 [00:38<08:33,  1.85it/s, loss=0.935, v_num=7zxv]tensor([1., 1., 1.], device='cuda:0')\n",
      "Epoch 0:   7%|▋         | 72/1020 [00:38<08:32,  1.85it/s, loss=0.935, v_num=7zxv]tensor([1., 1., 1.], device='cuda:0')\n",
      "Epoch 0:   7%|▋         | 73/1020 [00:39<08:32,  1.85it/s, loss=0.935, v_num=7zxv]tensor([1., 1., 1.], device='cuda:0')\n",
      "Epoch 0:   7%|▋         | 74/1020 [00:39<08:31,  1.85it/s, loss=0.935, v_num=7zxv]tensor([1., 1., 1.], device='cuda:0')\n",
      "Epoch 0:   7%|▋         | 75/1020 [00:40<08:30,  1.85it/s, loss=0.935, v_num=7zxv]tensor([1., 1., 1.], device='cuda:0')\n",
      "Epoch 0:   7%|▋         | 76/1020 [00:41<08:29,  1.85it/s, loss=0.935, v_num=7zxv]tensor([1., 1., 1.], device='cuda:0')\n",
      "Epoch 0:   8%|▊         | 77/1020 [00:41<08:28,  1.85it/s, loss=0.935, v_num=7zxv]tensor([1., 1., 1.], device='cuda:0')\n",
      "Epoch 0:   8%|▊         | 78/1020 [00:42<08:28,  1.85it/s, loss=0.934, v_num=7zxv]tensor([1., 1., 1.], device='cuda:0')\n",
      "Epoch 0:   8%|▊         | 79/1020 [00:42<08:27,  1.85it/s, loss=0.934, v_num=7zxv]tensor([1., 1., 1.], device='cuda:0')\n",
      "Epoch 0:   8%|▊         | 80/1020 [00:43<08:26,  1.86it/s, loss=0.935, v_num=7zxv]tensor([1., 1., 1.], device='cuda:0')\n",
      "Epoch 0:   8%|▊         | 81/1020 [00:43<08:26,  1.85it/s, loss=0.935, v_num=7zxv]tensor([1., 1., 1.], device='cuda:0')\n",
      "Epoch 0:   8%|▊         | 82/1020 [00:44<08:25,  1.85it/s, loss=0.935, v_num=7zxv]tensor([1., 1., 1.], device='cuda:0')\n",
      "Epoch 0:   8%|▊         | 83/1020 [00:44<08:25,  1.86it/s, loss=0.935, v_num=7zxv]tensor([1., 1., 1.], device='cuda:0')\n",
      "Epoch 0:   8%|▊         | 84/1020 [00:45<08:22,  1.86it/s, loss=0.935, v_num=7zxv]tensor([1., 1., 1.], device='cuda:0')\n",
      "Epoch 0:   8%|▊         | 85/1020 [00:45<08:22,  1.86it/s, loss=0.935, v_num=7zxv]tensor([1., 1., 1.], device='cuda:0')\n",
      "Epoch 0:   8%|▊         | 86/1020 [00:46<08:23,  1.86it/s, loss=0.935, v_num=7zxv]tensor([1., 1., 1.], device='cuda:0')\n",
      "Epoch 0:   9%|▊         | 87/1020 [00:46<08:23,  1.85it/s, loss=0.935, v_num=7zxv]tensor([1., 1., 1.], device='cuda:0')\n",
      "Epoch 0:   9%|▊         | 88/1020 [00:47<08:22,  1.85it/s, loss=0.935, v_num=7zxv]tensor([1., 1., 1.], device='cuda:0')\n",
      "Epoch 0:   9%|▊         | 89/1020 [00:48<08:22,  1.85it/s, loss=0.935, v_num=7zxv]tensor([1., 1., 1.], device='cuda:0')\n",
      "Epoch 0:   9%|▉         | 90/1020 [00:48<08:22,  1.85it/s, loss=0.935, v_num=7zxv]tensor([1., 1., 1.], device='cuda:0')\n",
      "Epoch 0:   9%|▉         | 91/1020 [00:49<08:21,  1.85it/s, loss=0.935, v_num=7zxv]tensor([1., 1., 1.], device='cuda:0')\n",
      "Epoch 0:   9%|▉         | 92/1020 [00:49<08:20,  1.85it/s, loss=0.935, v_num=7zxv]tensor([1., 1., 1.], device='cuda:0')\n",
      "Epoch 0:   9%|▉         | 93/1020 [00:50<08:20,  1.85it/s, loss=0.935, v_num=7zxv]tensor([2., 1., 1.], device='cuda:0')\n",
      "Epoch 0:   9%|▉         | 94/1020 [00:50<08:19,  1.85it/s, loss=0.935, v_num=7zxv]tensor([2., 1., 1.], device='cuda:0')\n",
      "Epoch 0:   9%|▉         | 95/1020 [00:51<08:18,  1.85it/s, loss=0.935, v_num=7zxv]tensor([2., 1., 1.], device='cuda:0')\n",
      "Epoch 0:   9%|▉         | 96/1020 [00:51<08:18,  1.85it/s, loss=0.935, v_num=7zxv]tensor([2., 1., 1.], device='cuda:0')\n",
      "Epoch 0:  10%|▉         | 97/1020 [00:52<08:17,  1.86it/s, loss=0.935, v_num=7zxv]tensor([2., 1., 1.], device='cuda:0')\n",
      "Epoch 0:  10%|▉         | 98/1020 [00:52<08:17,  1.85it/s, loss=0.935, v_num=7zxv]tensor([2., 1., 1.], device='cuda:0')\n",
      "Epoch 0:  10%|▉         | 99/1020 [00:53<08:16,  1.86it/s, loss=0.935, v_num=7zxv]tensor([2., 1., 1.], device='cuda:0')\n",
      "Epoch 0:  10%|▉         | 100/1020 [00:53<08:15,  1.86it/s, loss=0.934, v_num=7zxv]tensor([2., 1., 1.], device='cuda:0')\n",
      "Epoch 0:  10%|▉         | 101/1020 [00:54<08:14,  1.86it/s, loss=0.934, v_num=7zxv]tensor([2., 1., 2.], device='cuda:0')\n",
      "Epoch 0:  10%|█         | 102/1020 [00:54<08:13,  1.86it/s, loss=0.934, v_num=7zxv]tensor([2., 1., 2.], device='cuda:0')\n",
      "Epoch 0:  10%|█         | 103/1020 [00:55<08:12,  1.86it/s, loss=0.934, v_num=7zxv]tensor([2., 1., 2.], device='cuda:0')\n",
      "Epoch 0:  10%|█         | 104/1020 [00:55<08:12,  1.86it/s, loss=0.934, v_num=7zxv]tensor([3., 1., 2.], device='cuda:0')\n",
      "Epoch 0:  10%|█         | 105/1020 [00:56<08:12,  1.86it/s, loss=0.934, v_num=7zxv]tensor([3., 1., 2.], device='cuda:0')\n",
      "Epoch 0:  10%|█         | 106/1020 [00:57<08:11,  1.86it/s, loss=0.933, v_num=7zxv]tensor([2., 1., 2.], device='cuda:0')\n",
      "Epoch 0:  10%|█         | 107/1020 [00:57<08:10,  1.86it/s, loss=0.933, v_num=7zxv]tensor([2., 1., 2.], device='cuda:0')\n",
      "Epoch 0:  11%|█         | 108/1020 [00:57<08:09,  1.86it/s, loss=0.933, v_num=7zxv]tensor([2., 1., 2.], device='cuda:0')\n",
      "Epoch 0:  11%|█         | 109/1020 [00:58<08:08,  1.86it/s, loss=0.933, v_num=7zxv]tensor([2., 1., 2.], device='cuda:0')\n",
      "Epoch 0:  11%|█         | 110/1020 [00:58<08:08,  1.86it/s, loss=0.933, v_num=7zxv]tensor([2., 1., 2.], device='cuda:0')\n",
      "Epoch 0:  11%|█         | 111/1020 [00:59<08:06,  1.87it/s, loss=0.933, v_num=7zxv]tensor([2., 1., 2.], device='cuda:0')\n",
      "Epoch 0:  11%|█         | 112/1020 [01:00<08:06,  1.87it/s, loss=0.932, v_num=7zxv]tensor([2., 1., 2.], device='cuda:0')\n",
      "Epoch 0:  11%|█         | 113/1020 [01:00<08:05,  1.87it/s, loss=0.932, v_num=7zxv]tensor([2., 1., 2.], device='cuda:0')\n",
      "Epoch 0:  11%|█         | 114/1020 [01:00<08:04,  1.87it/s, loss=0.932, v_num=7zxv]tensor([2., 1., 2.], device='cuda:0')\n",
      "Epoch 0:  11%|█▏        | 115/1020 [01:01<08:03,  1.87it/s, loss=0.932, v_num=7zxv]tensor([2., 1., 2.], device='cuda:0')\n",
      "Epoch 0:  11%|█▏        | 116/1020 [01:01<08:03,  1.87it/s, loss=0.931, v_num=7zxv]tensor([2., 1., 2.], device='cuda:0')\n",
      "Epoch 0:  11%|█▏        | 117/1020 [01:02<08:02,  1.87it/s, loss=0.931, v_num=7zxv]tensor([2., 1., 2.], device='cuda:0')\n",
      "Epoch 0:  12%|█▏        | 118/1020 [01:03<08:02,  1.87it/s, loss=0.931, v_num=7zxv]tensor([3., 1., 2.], device='cuda:0')\n",
      "Epoch 0:  12%|█▏        | 119/1020 [01:03<08:02,  1.87it/s, loss=0.93, v_num=7zxv] tensor([3., 1., 2.], device='cuda:0')\n",
      "Epoch 0:  12%|█▏        | 120/1020 [01:04<08:01,  1.87it/s, loss=0.93, v_num=7zxv]tensor([3., 1., 2.], device='cuda:0')\n",
      "Epoch 0:  12%|█▏        | 121/1020 [01:04<08:01,  1.87it/s, loss=0.93, v_num=7zxv]tensor([3., 1., 2.], device='cuda:0')\n",
      "Epoch 0:  12%|█▏        | 122/1020 [01:05<08:01,  1.87it/s, loss=0.929, v_num=7zxv]tensor([3., 1., 2.], device='cuda:0')\n",
      "Epoch 0:  12%|█▏        | 123/1020 [01:05<08:00,  1.87it/s, loss=0.929, v_num=7zxv]tensor([3., 1., 2.], device='cuda:0')\n",
      "Epoch 0:  12%|█▏        | 124/1020 [01:06<07:59,  1.87it/s, loss=0.929, v_num=7zxv]tensor([3., 1., 2.], device='cuda:0')\n",
      "Epoch 0:  12%|█▏        | 125/1020 [01:06<07:58,  1.87it/s, loss=0.929, v_num=7zxv]tensor([3., 1., 2.], device='cuda:0')\n",
      "Epoch 0:  12%|█▏        | 126/1020 [01:07<07:57,  1.87it/s, loss=0.929, v_num=7zxv]tensor([3., 1., 2.], device='cuda:0')\n",
      "Epoch 0:  12%|█▏        | 127/1020 [01:07<07:57,  1.87it/s, loss=0.928, v_num=7zxv]tensor([3., 1., 2.], device='cuda:0')\n",
      "Epoch 0:  13%|█▎        | 128/1020 [01:08<07:56,  1.87it/s, loss=0.928, v_num=7zxv]tensor([3., 1., 2.], device='cuda:0')\n",
      "Epoch 0:  13%|█▎        | 129/1020 [01:08<07:55,  1.87it/s, loss=0.928, v_num=7zxv]tensor([3., 1., 2.], device='cuda:0')\n",
      "Epoch 0:  13%|█▎        | 130/1020 [01:09<07:55,  1.87it/s, loss=0.927, v_num=7zxv]tensor([3., 1., 2.], device='cuda:0')\n",
      "Epoch 0:  13%|█▎        | 131/1020 [01:09<07:54,  1.87it/s, loss=0.927, v_num=7zxv]tensor([3., 1., 2.], device='cuda:0')\n",
      "Epoch 0:  13%|█▎        | 132/1020 [01:10<07:53,  1.88it/s, loss=0.927, v_num=7zxv]tensor([3., 1., 2.], device='cuda:0')\n",
      "Epoch 0:  13%|█▎        | 133/1020 [01:10<07:52,  1.88it/s, loss=0.927, v_num=7zxv]tensor([3., 1., 2.], device='cuda:0')\n",
      "Epoch 0:  13%|█▎        | 134/1020 [01:11<07:52,  1.88it/s, loss=0.927, v_num=7zxv]tensor([3., 1., 2.], device='cuda:0')\n",
      "Epoch 0:  13%|█▎        | 135/1020 [01:12<07:52,  1.87it/s, loss=0.926, v_num=7zxv]tensor([3., 1., 2.], device='cuda:0')\n",
      "Epoch 0:  13%|█▎        | 136/1020 [01:12<07:51,  1.88it/s, loss=0.926, v_num=7zxv]tensor([3., 1., 2.], device='cuda:0')\n",
      "Epoch 0:  13%|█▎        | 137/1020 [01:13<07:51,  1.87it/s, loss=0.926, v_num=7zxv]tensor([3., 1., 2.], device='cuda:0')\n",
      "Epoch 0:  14%|█▎        | 138/1020 [01:13<07:50,  1.87it/s, loss=0.926, v_num=7zxv]tensor([3., 1., 2.], device='cuda:0')\n",
      "Epoch 0:  14%|█▎        | 139/1020 [01:14<07:49,  1.87it/s, loss=0.926, v_num=7zxv]tensor([3., 1., 2.], device='cuda:0')\n",
      "Epoch 0:  14%|█▎        | 140/1020 [01:14<07:49,  1.87it/s, loss=0.926, v_num=7zxv]tensor([3., 1., 2.], device='cuda:0')\n",
      "Epoch 0:  14%|█▍        | 141/1020 [01:15<07:49,  1.87it/s, loss=0.925, v_num=7zxv]tensor([3., 1., 2.], device='cuda:0')\n",
      "Epoch 0:  14%|█▍        | 142/1020 [01:15<07:48,  1.87it/s, loss=0.926, v_num=7zxv]tensor([3., 1., 2.], device='cuda:0')\n",
      "Epoch 0:  14%|█▍        | 143/1020 [01:16<07:47,  1.88it/s, loss=0.926, v_num=7zxv]tensor([3., 1., 2.], device='cuda:0')\n",
      "Epoch 0:  14%|█▍        | 144/1020 [01:16<07:47,  1.87it/s, loss=0.925, v_num=7zxv]tensor([3., 1., 2.], device='cuda:0')\n",
      "Epoch 0:  14%|█▍        | 145/1020 [01:17<07:46,  1.88it/s, loss=0.926, v_num=7zxv]tensor([3., 1., 2.], device='cuda:0')\n",
      "Epoch 0:  14%|█▍        | 146/1020 [01:17<07:45,  1.88it/s, loss=0.925, v_num=7zxv]tensor([3., 1., 2.], device='cuda:0')\n",
      "Epoch 0:  14%|█▍        | 147/1020 [01:18<07:44,  1.88it/s, loss=0.926, v_num=7zxv]tensor([3., 1., 2.], device='cuda:0')\n",
      "Epoch 0:  15%|█▍        | 148/1020 [01:18<07:44,  1.88it/s, loss=0.925, v_num=7zxv]tensor([3., 1., 2.], device='cuda:0')\n",
      "Epoch 0:  15%|█▍        | 149/1020 [01:19<07:43,  1.88it/s, loss=0.925, v_num=7zxv]tensor([3., 1., 2.], device='cuda:0')\n",
      "Epoch 0:  15%|█▍        | 150/1020 [01:19<07:42,  1.88it/s, loss=0.925, v_num=7zxv]tensor([3., 1., 2.], device='cuda:0')\n",
      "Epoch 0:  15%|█▍        | 151/1020 [01:20<07:42,  1.88it/s, loss=0.925, v_num=7zxv]tensor([3., 1., 2.], device='cuda:0')\n",
      "Epoch 0:  15%|█▍        | 152/1020 [01:20<07:41,  1.88it/s, loss=0.925, v_num=7zxv]tensor([3., 1., 2.], device='cuda:0')\n",
      "Epoch 0:  15%|█▌        | 153/1020 [01:21<07:41,  1.88it/s, loss=0.924, v_num=7zxv]tensor([3., 1., 2.], device='cuda:0')\n",
      "Epoch 0:  15%|█▌        | 154/1020 [01:22<07:41,  1.88it/s, loss=0.924, v_num=7zxv]tensor([3., 1., 2.], device='cuda:0')\n",
      "Epoch 0:  15%|█▌        | 155/1020 [01:22<07:40,  1.88it/s, loss=0.924, v_num=7zxv]tensor([3., 1., 2.], device='cuda:0')\n",
      "Epoch 0:  15%|█▌        | 156/1020 [01:23<07:40,  1.88it/s, loss=0.923, v_num=7zxv]tensor([3., 1., 2.], device='cuda:0')\n",
      "Epoch 0:  15%|█▌        | 157/1020 [01:23<07:39,  1.88it/s, loss=0.924, v_num=7zxv]tensor([3., 1., 2.], device='cuda:0')\n",
      "Epoch 0:  15%|█▌        | 158/1020 [01:24<07:38,  1.88it/s, loss=0.924, v_num=7zxv]tensor([3., 1., 2.], device='cuda:0')\n",
      "Epoch 0:  16%|█▌        | 159/1020 [01:24<07:38,  1.88it/s, loss=0.924, v_num=7zxv]tensor([3., 1., 2.], device='cuda:0')\n",
      "Epoch 0:  16%|█▌        | 160/1020 [01:25<07:37,  1.88it/s, loss=0.924, v_num=7zxv]tensor([3., 1., 2.], device='cuda:0')\n",
      "Epoch 0:  16%|█▌        | 161/1020 [01:25<07:37,  1.88it/s, loss=0.924, v_num=7zxv]tensor([3., 1., 2.], device='cuda:0')\n",
      "Epoch 0:  16%|█▌        | 162/1020 [01:26<07:36,  1.88it/s, loss=0.924, v_num=7zxv]tensor([3., 1., 2.], device='cuda:0')\n",
      "Epoch 0:  16%|█▌        | 163/1020 [01:26<07:35,  1.88it/s, loss=0.924, v_num=7zxv]tensor([3., 1., 2.], device='cuda:0')\n",
      "Epoch 0:  16%|█▌        | 164/1020 [01:27<07:35,  1.88it/s, loss=0.923, v_num=7zxv]tensor([3., 1., 2.], device='cuda:0')\n",
      "Epoch 0:  16%|█▌        | 165/1020 [01:27<07:34,  1.88it/s, loss=0.923, v_num=7zxv]tensor([3., 1., 2.], device='cuda:0')\n",
      "Epoch 0:  16%|█▋        | 166/1020 [01:28<07:33,  1.88it/s, loss=0.923, v_num=7zxv]tensor([3., 1., 2.], device='cuda:0')\n",
      "Epoch 0:  16%|█▋        | 167/1020 [01:28<07:32,  1.88it/s, loss=0.923, v_num=7zxv]tensor([3., 1., 2.], device='cuda:0')\n",
      "Epoch 0:  16%|█▋        | 168/1020 [01:29<07:32,  1.88it/s, loss=0.923, v_num=7zxv]tensor([3., 1., 2.], device='cuda:0')\n",
      "Epoch 0:  17%|█▋        | 169/1020 [01:29<07:32,  1.88it/s, loss=0.923, v_num=7zxv]tensor([3., 1., 2.], device='cuda:0')\n",
      "Epoch 0:  17%|█▋        | 170/1020 [01:30<07:31,  1.88it/s, loss=0.923, v_num=7zxv]tensor([3., 1., 2.], device='cuda:0')\n",
      "Epoch 0:  17%|█▋        | 171/1020 [01:30<07:30,  1.88it/s, loss=0.923, v_num=7zxv]tensor([3., 1., 2.], device='cuda:0')\n",
      "Epoch 0:  17%|█▋        | 172/1020 [01:31<07:29,  1.88it/s, loss=0.923, v_num=7zxv]tensor([3., 1., 2.], device='cuda:0')\n",
      "Epoch 0:  17%|█▋        | 173/1020 [01:31<07:29,  1.89it/s, loss=0.924, v_num=7zxv]tensor([3., 1., 2.], device='cuda:0')\n",
      "Epoch 0:  17%|█▋        | 174/1020 [01:32<07:28,  1.89it/s, loss=0.924, v_num=7zxv]tensor([3., 1., 2.], device='cuda:0')\n",
      "Epoch 0:  17%|█▋        | 175/1020 [01:32<07:27,  1.89it/s, loss=0.924, v_num=7zxv]tensor([3., 1., 2.], device='cuda:0')\n",
      "Epoch 0:  17%|█▋        | 176/1020 [01:33<07:26,  1.89it/s, loss=0.925, v_num=7zxv]tensor([3., 1., 2.], device='cuda:0')\n",
      "Epoch 0:  17%|█▋        | 177/1020 [01:33<07:26,  1.89it/s, loss=0.925, v_num=7zxv]tensor([3., 1., 2.], device='cuda:0')\n",
      "Epoch 0:  17%|█▋        | 178/1020 [01:34<07:25,  1.89it/s, loss=0.924, v_num=7zxv]tensor([3., 1., 2.], device='cuda:0')\n",
      "Epoch 0:  18%|█▊        | 179/1020 [01:34<07:24,  1.89it/s, loss=0.924, v_num=7zxv]tensor([3., 1., 2.], device='cuda:0')\n",
      "Epoch 0:  18%|█▊        | 180/1020 [01:35<07:24,  1.89it/s, loss=0.924, v_num=7zxv]tensor([3., 1., 2.], device='cuda:0')\n",
      "Epoch 0:  18%|█▊        | 181/1020 [01:35<07:23,  1.89it/s, loss=0.924, v_num=7zxv]tensor([3., 1., 2.], device='cuda:0')\n",
      "Epoch 0:  18%|█▊        | 182/1020 [01:36<07:23,  1.89it/s, loss=0.924, v_num=7zxv]tensor([3., 1., 2.], device='cuda:0')\n",
      "Epoch 0:  18%|█▊        | 183/1020 [01:36<07:22,  1.89it/s, loss=0.924, v_num=7zxv]tensor([3., 1., 2.], device='cuda:0')\n",
      "Epoch 0:  18%|█▊        | 184/1020 [01:37<07:21,  1.89it/s, loss=0.925, v_num=7zxv]tensor([3., 1., 2.], device='cuda:0')\n",
      "Epoch 0:  18%|█▊        | 185/1020 [01:37<07:21,  1.89it/s, loss=0.925, v_num=7zxv]tensor([3., 1., 2.], device='cuda:0')\n",
      "Epoch 0:  18%|█▊        | 186/1020 [01:38<07:20,  1.89it/s, loss=0.925, v_num=7zxv]tensor([3., 1., 2.], device='cuda:0')\n",
      "Epoch 0:  18%|█▊        | 187/1020 [01:38<07:20,  1.89it/s, loss=0.924, v_num=7zxv]tensor([3., 1., 2.], device='cuda:0')\n",
      "Epoch 0:  18%|█▊        | 188/1020 [01:39<07:20,  1.89it/s, loss=0.924, v_num=7zxv]tensor([3., 1., 2.], device='cuda:0')\n",
      "Epoch 0:  19%|█▊        | 189/1020 [01:39<07:19,  1.89it/s, loss=0.924, v_num=7zxv]tensor([3., 1., 2.], device='cuda:0')\n",
      "Epoch 0:  19%|█▊        | 190/1020 [01:40<07:18,  1.89it/s, loss=0.925, v_num=7zxv]tensor([3., 1., 2.], device='cuda:0')\n",
      "Epoch 0:  19%|█▊        | 191/1020 [01:40<07:17,  1.89it/s, loss=0.925, v_num=7zxv]tensor([3., 1., 2.], device='cuda:0')\n",
      "Epoch 0:  19%|█▉        | 192/1020 [01:41<07:17,  1.89it/s, loss=0.925, v_num=7zxv]tensor([3., 1., 2.], device='cuda:0')\n",
      "Epoch 0:  19%|█▉        | 193/1020 [01:41<07:16,  1.89it/s, loss=0.925, v_num=7zxv]tensor([3., 1., 2.], device='cuda:0')\n",
      "Epoch 0:  19%|█▉        | 194/1020 [01:42<07:16,  1.89it/s, loss=0.924, v_num=7zxv]tensor([3., 1., 2.], device='cuda:0')\n",
      "Epoch 0:  19%|█▉        | 195/1020 [01:42<07:15,  1.90it/s, loss=0.924, v_num=7zxv]tensor([3., 1., 2.], device='cuda:0')\n",
      "Epoch 0:  19%|█▉        | 196/1020 [01:43<07:14,  1.90it/s, loss=0.924, v_num=7zxv]tensor([3., 1., 2.], device='cuda:0')\n",
      "Epoch 0:  19%|█▉        | 197/1020 [01:43<07:14,  1.90it/s, loss=0.924, v_num=7zxv]tensor([3., 1., 2.], device='cuda:0')\n",
      "Epoch 0:  19%|█▉        | 198/1020 [01:44<07:13,  1.90it/s, loss=0.924, v_num=7zxv]tensor([3., 1., 2.], device='cuda:0')\n",
      "Epoch 0:  20%|█▉        | 199/1020 [01:44<07:12,  1.90it/s, loss=0.924, v_num=7zxv]tensor([3., 1., 2.], device='cuda:0')\n",
      "Epoch 0:  20%|█▉        | 200/1020 [01:45<07:11,  1.90it/s, loss=0.924, v_num=7zxv]tensor([3., 1., 2.], device='cuda:0')\n",
      "Epoch 0:  20%|█▉        | 201/1020 [01:45<07:11,  1.90it/s, loss=0.925, v_num=7zxv]tensor([3., 1., 2.], device='cuda:0')\n",
      "Epoch 0:  20%|█▉        | 202/1020 [01:46<07:10,  1.90it/s, loss=0.924, v_num=7zxv]tensor([3., 1., 2.], device='cuda:0')\n",
      "Epoch 0:  20%|█▉        | 203/1020 [01:46<07:09,  1.90it/s, loss=0.924, v_num=7zxv]tensor([3., 1., 2.], device='cuda:0')\n",
      "Epoch 0:  20%|██        | 204/1020 [01:47<07:09,  1.90it/s, loss=0.924, v_num=7zxv]tensor([3., 1., 2.], device='cuda:0')\n",
      "Epoch 0:  20%|██        | 205/1020 [01:47<07:08,  1.90it/s, loss=0.924, v_num=7zxv]tensor([3., 1., 2.], device='cuda:0')\n",
      "Epoch 0:  20%|██        | 206/1020 [01:48<07:07,  1.90it/s, loss=0.924, v_num=7zxv]tensor([3., 1., 2.], device='cuda:0')\n",
      "Epoch 0:  20%|██        | 207/1020 [01:48<07:07,  1.90it/s, loss=0.925, v_num=7zxv]tensor([3., 1., 2.], device='cuda:0')\n",
      "Epoch 0:  20%|██        | 208/1020 [01:49<07:06,  1.90it/s, loss=0.925, v_num=7zxv]tensor([3., 1., 2.], device='cuda:0')\n",
      "Epoch 0:  20%|██        | 209/1020 [01:49<07:05,  1.90it/s, loss=0.925, v_num=7zxv]tensor([3., 1., 2.], device='cuda:0')\n",
      "Epoch 0:  21%|██        | 210/1020 [01:50<07:05,  1.90it/s, loss=0.924, v_num=7zxv]tensor([3., 1., 2.], device='cuda:0')\n",
      "Epoch 0:  21%|██        | 211/1020 [01:50<07:04,  1.91it/s, loss=0.924, v_num=7zxv]tensor([3., 1., 2.], device='cuda:0')\n",
      "Epoch 0:  21%|██        | 212/1020 [01:51<07:03,  1.91it/s, loss=0.924, v_num=7zxv]tensor([3., 1., 2.], device='cuda:0')\n",
      "Epoch 0:  21%|██        | 213/1020 [01:51<07:03,  1.91it/s, loss=0.924, v_num=7zxv]tensor([3., 1., 2.], device='cuda:0')\n",
      "Epoch 0:  21%|██        | 214/1020 [01:52<07:02,  1.91it/s, loss=0.925, v_num=7zxv]tensor([3., 1., 2.], device='cuda:0')\n",
      "Epoch 0:  21%|██        | 215/1020 [01:52<07:01,  1.91it/s, loss=0.925, v_num=7zxv]tensor([3., 1., 2.], device='cuda:0')\n",
      "Epoch 0:  21%|██        | 216/1020 [01:53<07:01,  1.91it/s, loss=0.925, v_num=7zxv]tensor([3., 1., 2.], device='cuda:0')\n",
      "Epoch 0:  21%|██▏       | 217/1020 [01:53<07:00,  1.91it/s, loss=0.925, v_num=7zxv]tensor([3., 1., 2.], device='cuda:0')\n",
      "Epoch 0:  21%|██▏       | 218/1020 [01:54<06:59,  1.91it/s, loss=0.925, v_num=7zxv]tensor([3., 1., 2.], device='cuda:0')\n",
      "Epoch 0:  21%|██▏       | 219/1020 [01:54<06:59,  1.91it/s, loss=0.924, v_num=7zxv]tensor([3., 1., 2.], device='cuda:0')\n",
      "Epoch 0:  22%|██▏       | 220/1020 [01:55<06:58,  1.91it/s, loss=0.924, v_num=7zxv]tensor([3., 1., 2.], device='cuda:0')\n",
      "Epoch 0:  22%|██▏       | 221/1020 [01:55<06:58,  1.91it/s, loss=0.923, v_num=7zxv]tensor([3., 1., 2.], device='cuda:0')\n",
      "Epoch 0:  22%|██▏       | 222/1020 [01:56<06:58,  1.91it/s, loss=0.923, v_num=7zxv]tensor([3., 1., 2.], device='cuda:0')\n",
      "Epoch 0:  22%|██▏       | 223/1020 [01:56<06:57,  1.91it/s, loss=0.923, v_num=7zxv]tensor([3., 1., 2.], device='cuda:0')\n",
      "Epoch 0:  22%|██▏       | 224/1020 [01:57<06:56,  1.91it/s, loss=0.923, v_num=7zxv]tensor([3., 1., 2.], device='cuda:0')\n",
      "Epoch 0:  22%|██▏       | 225/1020 [01:57<06:55,  1.91it/s, loss=0.923, v_num=7zxv]tensor([3., 1., 2.], device='cuda:0')\n",
      "Epoch 0:  22%|██▏       | 226/1020 [01:58<06:55,  1.91it/s, loss=0.923, v_num=7zxv]tensor([3., 1., 2.], device='cuda:0')\n",
      "Epoch 0:  22%|██▏       | 227/1020 [01:58<06:55,  1.91it/s, loss=0.923, v_num=7zxv]tensor([3., 1., 2.], device='cuda:0')\n",
      "Epoch 0:  22%|██▏       | 228/1020 [01:59<06:54,  1.91it/s, loss=0.923, v_num=7zxv]tensor([3., 1., 2.], device='cuda:0')\n",
      "Epoch 0:  22%|██▏       | 229/1020 [01:59<06:54,  1.91it/s, loss=0.922, v_num=7zxv]tensor([3., 1., 2.], device='cuda:0')\n",
      "Epoch 0:  23%|██▎       | 230/1020 [02:00<06:53,  1.91it/s, loss=0.922, v_num=7zxv]tensor([3., 1., 2.], device='cuda:0')\n",
      "Epoch 0:  23%|██▎       | 231/1020 [02:00<06:53,  1.91it/s, loss=0.922, v_num=7zxv]tensor([3., 1., 2.], device='cuda:0')\n",
      "Epoch 0:  23%|██▎       | 232/1020 [02:01<06:53,  1.91it/s, loss=0.921, v_num=7zxv]tensor([3., 1., 2.], device='cuda:0')\n",
      "Epoch 0:  23%|██▎       | 233/1020 [02:02<06:52,  1.91it/s, loss=0.921, v_num=7zxv]tensor([3., 1., 2.], device='cuda:0')\n",
      "Epoch 0:  23%|██▎       | 234/1020 [02:02<06:51,  1.91it/s, loss=0.921, v_num=7zxv]tensor([3., 1., 2.], device='cuda:0')\n",
      "Epoch 0:  23%|██▎       | 235/1020 [02:03<06:50,  1.91it/s, loss=0.921, v_num=7zxv]tensor([3., 1., 2.], device='cuda:0')\n",
      "Epoch 0:  23%|██▎       | 236/1020 [02:03<06:50,  1.91it/s, loss=0.921, v_num=7zxv]tensor([3., 1., 2.], device='cuda:0')\n",
      "Epoch 0:  23%|██▎       | 237/1020 [02:04<06:50,  1.91it/s, loss=0.921, v_num=7zxv]tensor([3., 1., 2.], device='cuda:0')\n",
      "Epoch 0:  23%|██▎       | 238/1020 [02:04<06:49,  1.91it/s, loss=0.92, v_num=7zxv] tensor([3., 1., 2.], device='cuda:0')\n",
      "Epoch 0:  23%|██▎       | 239/1020 [02:05<06:48,  1.91it/s, loss=0.921, v_num=7zxv]tensor([3., 1., 2.], device='cuda:0')\n",
      "Epoch 0:  24%|██▎       | 240/1020 [02:05<06:48,  1.91it/s, loss=0.921, v_num=7zxv]tensor([3., 1., 2.], device='cuda:0')\n",
      "Epoch 0:  24%|██▎       | 241/1020 [02:06<06:47,  1.91it/s, loss=0.921, v_num=7zxv]tensor([3., 1., 2.], device='cuda:0')\n",
      "Epoch 0:  24%|██▎       | 242/1020 [02:06<06:46,  1.91it/s, loss=0.922, v_num=7zxv]tensor([3., 1., 2.], device='cuda:0')\n",
      "Epoch 0:  24%|██▍       | 243/1020 [02:07<06:46,  1.91it/s, loss=0.922, v_num=7zxv]tensor([3., 1., 2.], device='cuda:0')\n",
      "Epoch 0:  24%|██▍       | 244/1020 [02:07<06:45,  1.91it/s, loss=0.922, v_num=7zxv]tensor([3., 1., 2.], device='cuda:0')\n",
      "Epoch 0:  24%|██▍       | 245/1020 [02:08<06:45,  1.91it/s, loss=0.922, v_num=7zxv]tensor([3., 1., 2.], device='cuda:0')\n",
      "Epoch 0:  24%|██▍       | 246/1020 [02:08<06:44,  1.91it/s, loss=0.922, v_num=7zxv]tensor([3., 1., 2.], device='cuda:0')\n",
      "Epoch 0:  24%|██▍       | 247/1020 [02:09<06:43,  1.91it/s, loss=0.922, v_num=7zxv]tensor([3., 1., 2.], device='cuda:0')\n",
      "Epoch 0:  24%|██▍       | 248/1020 [02:09<06:43,  1.91it/s, loss=0.922, v_num=7zxv]tensor([3., 1., 3.], device='cuda:0')\n",
      "Epoch 0:  24%|██▍       | 249/1020 [02:10<06:42,  1.91it/s, loss=0.922, v_num=7zxv]tensor([3., 1., 3.], device='cuda:0')\n",
      "Epoch 0:  25%|██▍       | 250/1020 [02:10<06:42,  1.91it/s, loss=0.922, v_num=7zxv]tensor([3., 1., 3.], device='cuda:0')\n",
      "Epoch 0:  25%|██▍       | 251/1020 [02:11<06:41,  1.91it/s, loss=0.922, v_num=7zxv]tensor([3., 1., 2.], device='cuda:0')\n",
      "Epoch 0:  25%|██▍       | 252/1020 [02:11<06:41,  1.91it/s, loss=0.923, v_num=7zxv]tensor([3., 1., 2.], device='cuda:0')\n",
      "Epoch 0:  25%|██▍       | 253/1020 [02:12<06:40,  1.91it/s, loss=0.923, v_num=7zxv]tensor([3., 1., 2.], device='cuda:0')\n",
      "Epoch 0:  25%|██▍       | 254/1020 [02:12<06:40,  1.91it/s, loss=0.922, v_num=7zxv]tensor([3., 1., 2.], device='cuda:0')\n",
      "Epoch 0:  25%|██▌       | 255/1020 [02:13<06:39,  1.91it/s, loss=0.922, v_num=7zxv]tensor([3., 1., 2.], device='cuda:0')\n",
      "Epoch 0:  25%|██▌       | 256/1020 [02:13<06:38,  1.91it/s, loss=0.922, v_num=7zxv]tensor([3., 1., 2.], device='cuda:0')\n",
      "Epoch 0:  25%|██▌       | 257/1020 [02:14<06:38,  1.92it/s, loss=0.923, v_num=7zxv]tensor([3., 1., 2.], device='cuda:0')\n",
      "Epoch 0:  25%|██▌       | 258/1020 [02:14<06:37,  1.92it/s, loss=0.922, v_num=7zxv]tensor([3., 1., 2.], device='cuda:0')\n",
      "Epoch 0:  25%|██▌       | 259/1020 [02:15<06:37,  1.92it/s, loss=0.923, v_num=7zxv]tensor([3., 1., 2.], device='cuda:0')\n",
      "Epoch 0:  25%|██▌       | 260/1020 [02:15<06:36,  1.92it/s, loss=0.922, v_num=7zxv]tensor([3., 1., 2.], device='cuda:0')\n",
      "Epoch 0:  26%|██▌       | 261/1020 [02:16<06:36,  1.92it/s, loss=0.922, v_num=7zxv]tensor([3., 1., 2.], device='cuda:0')\n",
      "Epoch 0:  26%|██▌       | 262/1020 [02:16<06:35,  1.92it/s, loss=0.922, v_num=7zxv]tensor([3., 1., 2.], device='cuda:0')\n",
      "Epoch 0:  26%|██▌       | 263/1020 [02:17<06:34,  1.92it/s, loss=0.922, v_num=7zxv]tensor([3., 1., 2.], device='cuda:0')\n",
      "Epoch 0:  26%|██▌       | 264/1020 [02:17<06:34,  1.92it/s, loss=0.922, v_num=7zxv]tensor([3., 1., 2.], device='cuda:0')\n",
      "Epoch 0:  26%|██▌       | 265/1020 [02:18<06:33,  1.92it/s, loss=0.922, v_num=7zxv]tensor([3., 1., 3.], device='cuda:0')\n",
      "Epoch 0:  26%|██▌       | 266/1020 [02:18<06:33,  1.92it/s, loss=0.922, v_num=7zxv]tensor([3., 1., 3.], device='cuda:0')\n",
      "Epoch 0:  26%|██▌       | 267/1020 [02:19<06:32,  1.92it/s, loss=0.922, v_num=7zxv]tensor([3., 1., 2.], device='cuda:0')\n",
      "Epoch 0:  26%|██▋       | 268/1020 [02:19<06:31,  1.92it/s, loss=0.922, v_num=7zxv]tensor([3., 1., 3.], device='cuda:0')\n",
      "Epoch 0:  26%|██▋       | 269/1020 [02:20<06:31,  1.92it/s, loss=0.922, v_num=7zxv]tensor([3., 1., 3.], device='cuda:0')\n",
      "Epoch 0:  26%|██▋       | 270/1020 [02:20<06:31,  1.92it/s, loss=0.922, v_num=7zxv]tensor([3., 1., 3.], device='cuda:0')\n",
      "Epoch 0:  27%|██▋       | 271/1020 [02:21<06:30,  1.92it/s, loss=0.922, v_num=7zxv]tensor([3., 1., 2.], device='cuda:0')\n",
      "Epoch 0:  27%|██▋       | 272/1020 [02:21<06:29,  1.92it/s, loss=0.922, v_num=7zxv]tensor([3., 1., 2.], device='cuda:0')\n",
      "Epoch 0:  27%|██▋       | 273/1020 [02:22<06:29,  1.92it/s, loss=0.922, v_num=7zxv]tensor([3., 1., 3.], device='cuda:0')\n",
      "Epoch 0:  27%|██▋       | 274/1020 [02:22<06:29,  1.92it/s, loss=0.922, v_num=7zxv]tensor([3., 1., 2.], device='cuda:0')\n",
      "Epoch 0:  27%|██▋       | 275/1020 [02:23<06:28,  1.92it/s, loss=0.923, v_num=7zxv]tensor([3., 1., 2.], device='cuda:0')\n",
      "Epoch 0:  27%|██▋       | 276/1020 [02:23<06:27,  1.92it/s, loss=0.923, v_num=7zxv]tensor([3., 1., 2.], device='cuda:0')\n",
      "Epoch 0:  27%|██▋       | 277/1020 [02:24<06:27,  1.92it/s, loss=0.922, v_num=7zxv]tensor([3., 1., 2.], device='cuda:0')\n",
      "Epoch 0:  27%|██▋       | 278/1020 [02:25<06:27,  1.92it/s, loss=0.922, v_num=7zxv]tensor([3., 1., 2.], device='cuda:0')\n",
      "Epoch 0:  27%|██▋       | 279/1020 [02:25<06:26,  1.92it/s, loss=0.922, v_num=7zxv]tensor([3., 1., 2.], device='cuda:0')\n",
      "Epoch 0:  27%|██▋       | 280/1020 [02:26<06:26,  1.92it/s, loss=0.922, v_num=7zxv]tensor([3., 1., 2.], device='cuda:0')\n",
      "Epoch 0:  28%|██▊       | 281/1020 [02:26<06:25,  1.92it/s, loss=0.922, v_num=7zxv]tensor([3., 1., 2.], device='cuda:0')\n",
      "Epoch 0:  28%|██▊       | 282/1020 [02:27<06:24,  1.92it/s, loss=0.922, v_num=7zxv]tensor([3., 1., 2.], device='cuda:0')\n",
      "Epoch 0:  28%|██▊       | 283/1020 [02:27<06:24,  1.92it/s, loss=0.922, v_num=7zxv]tensor([3., 1., 2.], device='cuda:0')\n",
      "Epoch 0:  28%|██▊       | 284/1020 [02:28<06:24,  1.92it/s, loss=0.921, v_num=7zxv]tensor([3., 1., 2.], device='cuda:0')\n",
      "Epoch 0:  28%|██▊       | 285/1020 [02:28<06:23,  1.91it/s, loss=0.921, v_num=7zxv]tensor([3., 1., 2.], device='cuda:0')\n",
      "Epoch 0:  28%|██▊       | 286/1020 [02:29<06:23,  1.91it/s, loss=0.921, v_num=7zxv]tensor([3., 1., 2.], device='cuda:0')\n",
      "Epoch 0:  28%|██▊       | 287/1020 [02:29<06:22,  1.91it/s, loss=0.921, v_num=7zxv]tensor([3., 1., 2.], device='cuda:0')\n",
      "Epoch 0:  28%|██▊       | 288/1020 [02:30<06:22,  1.91it/s, loss=0.921, v_num=7zxv]tensor([3., 1., 2.], device='cuda:0')\n",
      "Epoch 0:  28%|██▊       | 289/1020 [02:31<06:22,  1.91it/s, loss=0.92, v_num=7zxv] tensor([3., 1., 2.], device='cuda:0')\n",
      "Epoch 0:  28%|██▊       | 290/1020 [02:31<06:21,  1.91it/s, loss=0.921, v_num=7zxv]tensor([3., 1., 2.], device='cuda:0')\n",
      "Epoch 0:  29%|██▊       | 291/1020 [02:32<06:21,  1.91it/s, loss=0.92, v_num=7zxv] tensor([3., 1., 2.], device='cuda:0')\n",
      "Epoch 0:  29%|██▊       | 292/1020 [02:32<06:20,  1.91it/s, loss=0.92, v_num=7zxv]tensor([3., 1., 2.], device='cuda:0')\n",
      "Epoch 0:  29%|██▊       | 293/1020 [02:33<06:20,  1.91it/s, loss=0.921, v_num=7zxv]tensor([3., 1., 2.], device='cuda:0')\n",
      "Epoch 0:  29%|██▉       | 294/1020 [02:33<06:19,  1.91it/s, loss=0.92, v_num=7zxv] tensor([3., 1., 2.], device='cuda:0')\n",
      "Epoch 0:  29%|██▉       | 295/1020 [02:34<06:19,  1.91it/s, loss=0.92, v_num=7zxv]tensor([3., 1., 2.], device='cuda:0')\n",
      "Epoch 0:  29%|██▉       | 296/1020 [02:34<06:18,  1.91it/s, loss=0.92, v_num=7zxv]tensor([3., 1., 2.], device='cuda:0')\n",
      "Epoch 0:  29%|██▉       | 297/1020 [02:35<06:17,  1.91it/s, loss=0.92, v_num=7zxv]tensor([3., 1., 2.], device='cuda:0')\n",
      "Epoch 0:  29%|██▉       | 298/1020 [02:36<06:17,  1.91it/s, loss=0.92, v_num=7zxv]tensor([3., 1., 2.], device='cuda:0')\n",
      "Epoch 0:  29%|██▉       | 299/1020 [02:36<06:17,  1.91it/s, loss=0.92, v_num=7zxv]tensor([3., 1., 2.], device='cuda:0')\n",
      "Epoch 0:  29%|██▉       | 300/1020 [02:37<06:17,  1.91it/s, loss=0.92, v_num=7zxv]tensor([3., 1., 2.], device='cuda:0')\n",
      "Epoch 0:  30%|██▉       | 301/1020 [02:37<06:16,  1.91it/s, loss=0.92, v_num=7zxv]tensor([3., 1., 2.], device='cuda:0')\n",
      "Epoch 0:  30%|██▉       | 302/1020 [02:38<06:16,  1.91it/s, loss=0.92, v_num=7zxv]tensor([3., 1., 2.], device='cuda:0')\n",
      "Epoch 0:  30%|██▉       | 303/1020 [02:38<06:15,  1.91it/s, loss=0.92, v_num=7zxv]tensor([3., 1., 2.], device='cuda:0')\n",
      "Epoch 0:  30%|██▉       | 304/1020 [02:39<06:15,  1.91it/s, loss=0.921, v_num=7zxv]tensor([3., 1., 2.], device='cuda:0')\n",
      "Epoch 0:  30%|██▉       | 305/1020 [02:39<06:14,  1.91it/s, loss=0.92, v_num=7zxv] tensor([3., 1., 2.], device='cuda:0')\n",
      "Epoch 0:  30%|███       | 306/1020 [02:40<06:14,  1.91it/s, loss=0.921, v_num=7zxv]tensor([3., 1., 2.], device='cuda:0')\n",
      "Epoch 0:  30%|███       | 307/1020 [02:40<06:13,  1.91it/s, loss=0.921, v_num=7zxv]tensor([3., 1., 2.], device='cuda:0')\n",
      "Epoch 0:  30%|███       | 308/1020 [02:41<06:12,  1.91it/s, loss=0.921, v_num=7zxv]tensor([3., 1., 3.], device='cuda:0')\n",
      "Epoch 0:  30%|███       | 309/1020 [02:41<06:11,  1.91it/s, loss=0.921, v_num=7zxv]tensor([3., 1., 3.], device='cuda:0')\n",
      "Epoch 0:  30%|███       | 310/1020 [02:42<06:11,  1.91it/s, loss=0.921, v_num=7zxv]tensor([3., 1., 3.], device='cuda:0')\n",
      "Epoch 0:  30%|███       | 311/1020 [02:42<06:10,  1.91it/s, loss=0.922, v_num=7zxv]tensor([3., 1., 3.], device='cuda:0')\n",
      "Epoch 0:  31%|███       | 312/1020 [02:43<06:10,  1.91it/s, loss=0.922, v_num=7zxv]tensor([3., 1., 3.], device='cuda:0')\n",
      "Epoch 0:  31%|███       | 313/1020 [02:43<06:09,  1.91it/s, loss=0.922, v_num=7zxv]tensor([3., 1., 3.], device='cuda:0')\n",
      "Epoch 0:  31%|███       | 314/1020 [02:44<06:08,  1.91it/s, loss=0.922, v_num=7zxv]tensor([3., 1., 3.], device='cuda:0')\n",
      "Epoch 0:  31%|███       | 315/1020 [02:44<06:08,  1.91it/s, loss=0.922, v_num=7zxv]tensor([3., 1., 3.], device='cuda:0')\n",
      "Epoch 0:  31%|███       | 316/1020 [02:45<06:07,  1.91it/s, loss=0.922, v_num=7zxv]tensor([3., 1., 3.], device='cuda:0')\n",
      "Epoch 0:  31%|███       | 317/1020 [02:45<06:07,  1.91it/s, loss=0.922, v_num=7zxv]tensor([3., 1., 3.], device='cuda:0')\n",
      "Epoch 0:  31%|███       | 318/1020 [02:46<06:06,  1.91it/s, loss=0.923, v_num=7zxv]tensor([3., 1., 3.], device='cuda:0')\n",
      "Epoch 0:  31%|███▏      | 319/1020 [02:46<06:06,  1.91it/s, loss=0.922, v_num=7zxv]tensor([3., 1., 3.], device='cuda:0')\n",
      "Epoch 0:  31%|███▏      | 320/1020 [02:47<06:05,  1.92it/s, loss=0.922, v_num=7zxv]tensor([3., 1., 3.], device='cuda:0')\n",
      "Epoch 0:  31%|███▏      | 321/1020 [02:47<06:05,  1.92it/s, loss=0.923, v_num=7zxv]tensor([3., 1., 3.], device='cuda:0')\n",
      "Epoch 0:  32%|███▏      | 322/1020 [02:48<06:04,  1.91it/s, loss=0.923, v_num=7zxv]tensor([3., 1., 3.], device='cuda:0')\n",
      "Epoch 0:  32%|███▏      | 323/1020 [02:48<06:04,  1.91it/s, loss=0.922, v_num=7zxv]tensor([3., 1., 3.], device='cuda:0')\n",
      "Epoch 0:  32%|███▏      | 324/1020 [02:49<06:03,  1.91it/s, loss=0.923, v_num=7zxv]tensor([3., 1., 3.], device='cuda:0')\n",
      "Epoch 0:  32%|███▏      | 325/1020 [02:49<06:02,  1.91it/s, loss=0.923, v_num=7zxv]tensor([3., 1., 3.], device='cuda:0')\n",
      "Epoch 0:  32%|███▏      | 326/1020 [02:50<06:02,  1.91it/s, loss=0.922, v_num=7zxv]tensor([3., 1., 3.], device='cuda:0')\n",
      "Epoch 0:  32%|███▏      | 327/1020 [02:50<06:01,  1.91it/s, loss=0.922, v_num=7zxv]tensor([3., 1., 3.], device='cuda:0')\n",
      "Epoch 0:  32%|███▏      | 328/1020 [02:51<06:01,  1.91it/s, loss=0.922, v_num=7zxv]tensor([3., 1., 3.], device='cuda:0')\n",
      "Epoch 0:  32%|███▏      | 329/1020 [02:51<06:00,  1.92it/s, loss=0.922, v_num=7zxv]tensor([3., 1., 3.], device='cuda:0')\n",
      "Epoch 0:  32%|███▏      | 330/1020 [02:52<06:00,  1.92it/s, loss=0.922, v_num=7zxv]tensor([3., 1., 3.], device='cuda:0')\n",
      "Epoch 0:  32%|███▏      | 331/1020 [02:52<05:59,  1.92it/s, loss=0.922, v_num=7zxv]tensor([3., 1., 3.], device='cuda:0')\n",
      "Epoch 0:  33%|███▎      | 332/1020 [02:53<05:58,  1.92it/s, loss=0.922, v_num=7zxv]tensor([3., 1., 3.], device='cuda:0')\n",
      "Epoch 0:  33%|███▎      | 333/1020 [02:53<05:58,  1.92it/s, loss=0.922, v_num=7zxv]tensor([3., 1., 3.], device='cuda:0')\n",
      "Epoch 0:  33%|███▎      | 334/1020 [02:54<05:57,  1.92it/s, loss=0.921, v_num=7zxv]tensor([3., 1., 3.], device='cuda:0')\n",
      "Epoch 0:  33%|███▎      | 335/1020 [02:54<05:57,  1.92it/s, loss=0.922, v_num=7zxv]tensor([3., 1., 3.], device='cuda:0')\n",
      "Epoch 0:  33%|███▎      | 336/1020 [02:55<05:56,  1.92it/s, loss=0.922, v_num=7zxv]tensor([3., 1., 3.], device='cuda:0')\n",
      "Epoch 0:  33%|███▎      | 337/1020 [02:55<05:56,  1.92it/s, loss=0.922, v_num=7zxv]tensor([3., 1., 3.], device='cuda:0')\n",
      "Epoch 0:  33%|███▎      | 338/1020 [02:56<05:55,  1.92it/s, loss=0.922, v_num=7zxv]tensor([3., 1., 3.], device='cuda:0')\n",
      "Epoch 0:  33%|███▎      | 339/1020 [02:56<05:55,  1.92it/s, loss=0.922, v_num=7zxv]tensor([3., 1., 3.], device='cuda:0')\n",
      "Epoch 0:  33%|███▎      | 340/1020 [02:57<05:54,  1.92it/s, loss=0.922, v_num=7zxv]tensor([3., 1., 3.], device='cuda:0')\n",
      "Epoch 0:  33%|███▎      | 341/1020 [02:57<05:53,  1.92it/s, loss=0.922, v_num=7zxv]tensor([3., 1., 3.], device='cuda:0')\n",
      "Epoch 0:  34%|███▎      | 342/1020 [02:58<05:53,  1.92it/s, loss=0.922, v_num=7zxv]tensor([3., 1., 3.], device='cuda:0')\n",
      "Epoch 0:  34%|███▎      | 343/1020 [02:58<05:53,  1.92it/s, loss=0.922, v_num=7zxv]tensor([3., 1., 3.], device='cuda:0')\n",
      "Epoch 0:  34%|███▎      | 344/1020 [02:59<05:52,  1.92it/s, loss=0.922, v_num=7zxv]tensor([3., 1., 3.], device='cuda:0')\n",
      "Epoch 0:  34%|███▍      | 345/1020 [02:59<05:51,  1.92it/s, loss=0.922, v_num=7zxv]tensor([3., 1., 3.], device='cuda:0')\n",
      "Epoch 0:  34%|███▍      | 346/1020 [03:00<05:51,  1.92it/s, loss=0.922, v_num=7zxv]tensor([3., 1., 3.], device='cuda:0')\n",
      "Epoch 0:  34%|███▍      | 347/1020 [03:00<05:50,  1.92it/s, loss=0.922, v_num=7zxv]tensor([3., 1., 3.], device='cuda:0')\n",
      "Epoch 0:  34%|███▍      | 348/1020 [03:01<05:50,  1.92it/s, loss=0.922, v_num=7zxv]tensor([3., 1., 3.], device='cuda:0')\n",
      "Epoch 0:  34%|███▍      | 349/1020 [03:01<05:49,  1.92it/s, loss=0.921, v_num=7zxv]tensor([3., 1., 3.], device='cuda:0')\n",
      "Epoch 0:  34%|███▍      | 350/1020 [03:02<05:49,  1.92it/s, loss=0.921, v_num=7zxv]tensor([3., 1., 3.], device='cuda:0')\n",
      "Epoch 0:  34%|███▍      | 351/1020 [03:03<05:48,  1.92it/s, loss=0.921, v_num=7zxv]tensor([3., 1., 3.], device='cuda:0')\n",
      "Epoch 0:  35%|███▍      | 352/1020 [03:03<05:48,  1.92it/s, loss=0.921, v_num=7zxv]tensor([3., 1., 3.], device='cuda:0')\n",
      "Epoch 0:  35%|███▍      | 353/1020 [03:04<05:47,  1.92it/s, loss=0.921, v_num=7zxv]tensor([3., 1., 3.], device='cuda:0')\n",
      "Epoch 0:  35%|███▍      | 354/1020 [03:04<05:47,  1.92it/s, loss=0.921, v_num=7zxv]tensor([3., 1., 3.], device='cuda:0')\n",
      "Epoch 0:  35%|███▍      | 355/1020 [03:05<05:46,  1.92it/s, loss=0.921, v_num=7zxv]tensor([3., 1., 3.], device='cuda:0')\n",
      "Epoch 0:  35%|███▍      | 356/1020 [03:05<05:46,  1.92it/s, loss=0.921, v_num=7zxv]tensor([3., 1., 3.], device='cuda:0')\n",
      "Epoch 0:  35%|███▌      | 357/1020 [03:06<05:45,  1.92it/s, loss=0.921, v_num=7zxv]tensor([3., 1., 3.], device='cuda:0')\n",
      "Epoch 0:  35%|███▌      | 358/1020 [03:06<05:45,  1.92it/s, loss=0.92, v_num=7zxv] tensor([3., 1., 3.], device='cuda:0')\n",
      "Epoch 0:  35%|███▌      | 359/1020 [03:07<05:44,  1.92it/s, loss=0.92, v_num=7zxv]tensor([3., 1., 3.], device='cuda:0')\n",
      "Epoch 0:  35%|███▌      | 360/1020 [03:07<05:44,  1.92it/s, loss=0.92, v_num=7zxv]tensor([3., 1., 3.], device='cuda:0')\n",
      "Epoch 0:  35%|███▌      | 361/1020 [03:08<05:43,  1.92it/s, loss=0.921, v_num=7zxv]tensor([3., 1., 3.], device='cuda:0')\n",
      "Epoch 0:  35%|███▌      | 362/1020 [03:08<05:42,  1.92it/s, loss=0.921, v_num=7zxv]tensor([3., 1., 3.], device='cuda:0')\n",
      "Epoch 0:  36%|███▌      | 363/1020 [03:09<05:42,  1.92it/s, loss=0.921, v_num=7zxv]tensor([3., 1., 3.], device='cuda:0')\n",
      "Epoch 0:  36%|███▌      | 364/1020 [03:09<05:41,  1.92it/s, loss=0.921, v_num=7zxv]tensor([3., 1., 3.], device='cuda:0')\n",
      "Epoch 0:  36%|███▌      | 365/1020 [03:10<05:41,  1.92it/s, loss=0.921, v_num=7zxv]tensor([3., 1., 3.], device='cuda:0')\n",
      "Epoch 0:  36%|███▌      | 366/1020 [03:10<05:40,  1.92it/s, loss=0.921, v_num=7zxv]tensor([3., 1., 3.], device='cuda:0')\n",
      "Epoch 0:  36%|███▌      | 367/1020 [03:11<05:40,  1.92it/s, loss=0.921, v_num=7zxv]tensor([3., 1., 3.], device='cuda:0')\n",
      "Epoch 0:  36%|███▌      | 368/1020 [03:11<05:39,  1.92it/s, loss=0.921, v_num=7zxv]tensor([3., 1., 3.], device='cuda:0')\n",
      "Epoch 0:  36%|███▌      | 369/1020 [03:12<05:39,  1.92it/s, loss=0.922, v_num=7zxv]tensor([3., 1., 3.], device='cuda:0')\n",
      "Epoch 0:  36%|███▋      | 370/1020 [03:12<05:38,  1.92it/s, loss=0.922, v_num=7zxv]tensor([3., 1., 3.], device='cuda:0')\n",
      "Epoch 0:  36%|███▋      | 371/1020 [03:13<05:38,  1.92it/s, loss=0.922, v_num=7zxv]tensor([3., 1., 3.], device='cuda:0')\n",
      "Epoch 0:  36%|███▋      | 372/1020 [03:13<05:37,  1.92it/s, loss=0.922, v_num=7zxv]tensor([3., 1., 3.], device='cuda:0')\n",
      "Epoch 0:  37%|███▋      | 373/1020 [03:14<05:36,  1.92it/s, loss=0.923, v_num=7zxv]tensor([3., 1., 3.], device='cuda:0')\n",
      "Epoch 0:  37%|███▋      | 374/1020 [03:14<05:36,  1.92it/s, loss=0.922, v_num=7zxv]tensor([3., 1., 3.], device='cuda:0')\n",
      "Epoch 0:  37%|███▋      | 375/1020 [03:15<05:35,  1.92it/s, loss=0.922, v_num=7zxv]tensor([3., 1., 3.], device='cuda:0')\n",
      "Epoch 0:  37%|███▋      | 376/1020 [03:15<05:35,  1.92it/s, loss=0.923, v_num=7zxv]tensor([3., 1., 3.], device='cuda:0')\n",
      "Epoch 0:  37%|███▋      | 377/1020 [03:16<05:34,  1.92it/s, loss=0.923, v_num=7zxv]tensor([3., 1., 3.], device='cuda:0')\n",
      "Epoch 0:  37%|███▋      | 378/1020 [03:16<05:34,  1.92it/s, loss=0.923, v_num=7zxv]tensor([3., 1., 3.], device='cuda:0')\n",
      "Epoch 0:  37%|███▋      | 379/1020 [03:17<05:33,  1.92it/s, loss=0.923, v_num=7zxv]tensor([3., 1., 2.], device='cuda:0')\n",
      "Epoch 0:  37%|███▋      | 380/1020 [03:17<05:33,  1.92it/s, loss=0.923, v_num=7zxv]tensor([3., 1., 3.], device='cuda:0')\n",
      "Epoch 0:  37%|███▋      | 381/1020 [03:18<05:32,  1.92it/s, loss=0.922, v_num=7zxv]tensor([3., 1., 3.], device='cuda:0')\n",
      "Epoch 0:  37%|███▋      | 382/1020 [03:18<05:31,  1.92it/s, loss=0.923, v_num=7zxv]tensor([3., 1., 2.], device='cuda:0')\n",
      "Epoch 0:  38%|███▊      | 383/1020 [03:19<05:31,  1.92it/s, loss=0.923, v_num=7zxv]tensor([3., 1., 2.], device='cuda:0')\n",
      "Epoch 0:  38%|███▊      | 384/1020 [03:19<05:30,  1.92it/s, loss=0.923, v_num=7zxv]tensor([3., 1., 3.], device='cuda:0')\n",
      "Epoch 0:  38%|███▊      | 385/1020 [03:20<05:30,  1.92it/s, loss=0.923, v_num=7zxv]tensor([3., 1., 2.], device='cuda:0')\n",
      "Epoch 0:  38%|███▊      | 386/1020 [03:20<05:29,  1.92it/s, loss=0.923, v_num=7zxv]tensor([3., 1., 2.], device='cuda:0')\n",
      "Epoch 0:  38%|███▊      | 387/1020 [03:21<05:29,  1.92it/s, loss=0.923, v_num=7zxv]tensor([3., 1., 2.], device='cuda:0')\n",
      "Epoch 0:  38%|███▊      | 388/1020 [03:21<05:28,  1.92it/s, loss=0.923, v_num=7zxv]tensor([3., 1., 3.], device='cuda:0')\n",
      "Epoch 0:  38%|███▊      | 389/1020 [03:22<05:28,  1.92it/s, loss=0.923, v_num=7zxv]tensor([3., 1., 2.], device='cuda:0')\n",
      "Epoch 0:  38%|███▊      | 390/1020 [03:22<05:27,  1.92it/s, loss=0.923, v_num=7zxv]tensor([3., 1., 2.], device='cuda:0')\n",
      "Epoch 0:  38%|███▊      | 391/1020 [03:23<05:27,  1.92it/s, loss=0.922, v_num=7zxv]tensor([3., 1., 2.], device='cuda:0')\n",
      "Epoch 0:  38%|███▊      | 392/1020 [03:23<05:26,  1.92it/s, loss=0.922, v_num=7zxv]tensor([3., 1., 2.], device='cuda:0')\n",
      "Epoch 0:  39%|███▊      | 393/1020 [03:24<05:26,  1.92it/s, loss=0.923, v_num=7zxv]tensor([3., 1., 2.], device='cuda:0')\n",
      "Epoch 0:  39%|███▊      | 394/1020 [03:24<05:25,  1.92it/s, loss=0.923, v_num=7zxv]tensor([3., 1., 2.], device='cuda:0')\n",
      "Epoch 0:  39%|███▊      | 395/1020 [03:25<05:24,  1.92it/s, loss=0.923, v_num=7zxv]tensor([3., 1., 2.], device='cuda:0')\n",
      "Epoch 0:  39%|███▉      | 396/1020 [03:25<05:24,  1.92it/s, loss=0.922, v_num=7zxv]tensor([3., 1., 2.], device='cuda:0')\n",
      "Epoch 0:  39%|███▉      | 397/1020 [03:26<05:23,  1.92it/s, loss=0.922, v_num=7zxv]tensor([3., 1., 2.], device='cuda:0')\n",
      "Epoch 0:  39%|███▉      | 398/1020 [03:26<05:23,  1.92it/s, loss=0.923, v_num=7zxv]tensor([3., 1., 2.], device='cuda:0')\n",
      "Epoch 0:  39%|███▉      | 399/1020 [03:27<05:22,  1.92it/s, loss=0.923, v_num=7zxv]tensor([3., 1., 2.], device='cuda:0')\n",
      "Epoch 0:  39%|███▉      | 400/1020 [03:27<05:22,  1.92it/s, loss=0.923, v_num=7zxv]tensor([3., 1., 2.], device='cuda:0')\n",
      "Epoch 0:  39%|███▉      | 401/1020 [03:28<05:21,  1.92it/s, loss=0.923, v_num=7zxv]tensor([3., 1., 3.], device='cuda:0')\n",
      "Epoch 0:  39%|███▉      | 402/1020 [03:28<05:21,  1.92it/s, loss=0.923, v_num=7zxv]tensor([3., 1., 3.], device='cuda:0')\n",
      "Epoch 0:  40%|███▉      | 403/1020 [03:29<05:20,  1.93it/s, loss=0.923, v_num=7zxv]tensor([3., 1., 3.], device='cuda:0')\n",
      "Epoch 0:  40%|███▉      | 404/1020 [03:29<05:20,  1.92it/s, loss=0.923, v_num=7zxv]tensor([3., 1., 3.], device='cuda:0')\n",
      "Epoch 0:  40%|███▉      | 405/1020 [03:30<05:19,  1.93it/s, loss=0.923, v_num=7zxv]tensor([3., 1., 3.], device='cuda:0')\n",
      "Epoch 0:  40%|███▉      | 406/1020 [03:30<05:18,  1.93it/s, loss=0.923, v_num=7zxv]tensor([3., 1., 3.], device='cuda:0')\n",
      "Epoch 0:  40%|███▉      | 407/1020 [03:31<05:18,  1.93it/s, loss=0.923, v_num=7zxv]tensor([3., 1., 3.], device='cuda:0')\n",
      "Epoch 0:  40%|████      | 408/1020 [03:31<05:17,  1.93it/s, loss=0.923, v_num=7zxv]tensor([3., 1., 3.], device='cuda:0')\n",
      "Epoch 0:  40%|████      | 409/1020 [03:32<05:17,  1.93it/s, loss=0.923, v_num=7zxv]tensor([3., 1., 3.], device='cuda:0')\n",
      "Epoch 0:  40%|████      | 410/1020 [03:32<05:16,  1.93it/s, loss=0.923, v_num=7zxv]tensor([3., 1., 3.], device='cuda:0')\n",
      "Epoch 0:  40%|████      | 411/1020 [03:33<05:16,  1.93it/s, loss=0.923, v_num=7zxv]tensor([3., 1., 3.], device='cuda:0')\n",
      "Epoch 0:  40%|████      | 412/1020 [03:33<05:15,  1.93it/s, loss=0.923, v_num=7zxv]tensor([3., 1., 3.], device='cuda:0')\n",
      "Epoch 0:  40%|████      | 413/1020 [03:34<05:15,  1.93it/s, loss=0.923, v_num=7zxv]tensor([3., 1., 3.], device='cuda:0')\n",
      "Epoch 0:  41%|████      | 414/1020 [03:34<05:14,  1.93it/s, loss=0.923, v_num=7zxv]tensor([3., 1., 3.], device='cuda:0')\n",
      "Epoch 0:  41%|████      | 415/1020 [03:35<05:13,  1.93it/s, loss=0.923, v_num=7zxv]tensor([3., 1., 3.], device='cuda:0')\n",
      "Epoch 0:  41%|████      | 416/1020 [03:35<05:13,  1.93it/s, loss=0.923, v_num=7zxv]tensor([3., 1., 3.], device='cuda:0')\n",
      "Epoch 0:  41%|████      | 417/1020 [03:36<05:12,  1.93it/s, loss=0.923, v_num=7zxv]tensor([3., 1., 3.], device='cuda:0')\n",
      "Epoch 0:  41%|████      | 418/1020 [03:36<05:12,  1.93it/s, loss=0.923, v_num=7zxv]tensor([3., 1., 3.], device='cuda:0')\n",
      "Epoch 0:  41%|████      | 419/1020 [03:37<05:11,  1.93it/s, loss=0.923, v_num=7zxv]tensor([3., 1., 3.], device='cuda:0')\n",
      "Epoch 0:  41%|████      | 420/1020 [03:37<05:11,  1.93it/s, loss=0.923, v_num=7zxv]tensor([3., 1., 3.], device='cuda:0')\n",
      "Epoch 0:  41%|████▏     | 421/1020 [03:38<05:10,  1.93it/s, loss=0.923, v_num=7zxv]tensor([3., 1., 3.], device='cuda:0')\n",
      "Epoch 0:  41%|████▏     | 422/1020 [03:38<05:10,  1.93it/s, loss=0.922, v_num=7zxv]tensor([3., 1., 3.], device='cuda:0')\n",
      "Epoch 0:  41%|████▏     | 423/1020 [03:39<05:09,  1.93it/s, loss=0.922, v_num=7zxv]tensor([3., 1., 3.], device='cuda:0')\n",
      "Epoch 0:  42%|████▏     | 424/1020 [03:39<05:08,  1.93it/s, loss=0.923, v_num=7zxv]tensor([3., 1., 3.], device='cuda:0')\n",
      "Epoch 0:  42%|████▏     | 425/1020 [03:40<05:08,  1.93it/s, loss=0.922, v_num=7zxv]tensor([3., 1., 3.], device='cuda:0')\n",
      "Epoch 0:  42%|████▏     | 426/1020 [03:40<05:08,  1.93it/s, loss=0.922, v_num=7zxv]tensor([3., 1., 3.], device='cuda:0')\n",
      "Epoch 0:  42%|████▏     | 427/1020 [03:41<05:07,  1.93it/s, loss=0.921, v_num=7zxv]tensor([3., 1., 3.], device='cuda:0')\n",
      "Epoch 0:  42%|████▏     | 428/1020 [03:42<05:07,  1.93it/s, loss=0.921, v_num=7zxv]tensor([3., 1., 3.], device='cuda:0')\n",
      "Epoch 0:  42%|████▏     | 429/1020 [03:42<05:06,  1.93it/s, loss=0.921, v_num=7zxv]tensor([3., 1., 3.], device='cuda:0')\n",
      "Epoch 0:  42%|████▏     | 430/1020 [03:42<05:05,  1.93it/s, loss=0.922, v_num=7zxv]tensor([3., 1., 3.], device='cuda:0')\n",
      "Epoch 0:  42%|████▏     | 431/1020 [03:43<05:05,  1.93it/s, loss=0.922, v_num=7zxv]tensor([3., 1., 3.], device='cuda:0')\n",
      "Epoch 0:  42%|████▏     | 432/1020 [03:43<05:04,  1.93it/s, loss=0.922, v_num=7zxv]tensor([3., 1., 3.], device='cuda:0')\n",
      "Epoch 0:  42%|████▏     | 433/1020 [03:44<05:04,  1.93it/s, loss=0.921, v_num=7zxv]tensor([3., 1., 3.], device='cuda:0')\n",
      "Epoch 0:  43%|████▎     | 434/1020 [03:45<05:03,  1.93it/s, loss=0.921, v_num=7zxv]tensor([3., 1., 3.], device='cuda:0')\n",
      "Epoch 0:  43%|████▎     | 435/1020 [03:45<05:03,  1.93it/s, loss=0.92, v_num=7zxv] tensor([3., 1., 3.], device='cuda:0')\n",
      "Epoch 0:  43%|████▎     | 436/1020 [03:46<05:03,  1.93it/s, loss=0.92, v_num=7zxv]tensor([3., 1., 3.], device='cuda:0')\n",
      "Epoch 0:  43%|████▎     | 437/1020 [03:46<05:02,  1.93it/s, loss=0.92, v_num=7zxv]tensor([3., 1., 3.], device='cuda:0')\n",
      "Epoch 0:  43%|████▎     | 438/1020 [03:47<05:01,  1.93it/s, loss=0.92, v_num=7zxv]tensor([3., 1., 3.], device='cuda:0')\n",
      "Epoch 0:  43%|████▎     | 439/1020 [03:47<05:01,  1.93it/s, loss=0.92, v_num=7zxv]tensor([3., 1., 3.], device='cuda:0')\n",
      "Epoch 0:  43%|████▎     | 440/1020 [03:48<05:00,  1.93it/s, loss=0.92, v_num=7zxv]tensor([3., 1., 3.], device='cuda:0')\n",
      "Epoch 0:  43%|████▎     | 441/1020 [03:48<05:00,  1.93it/s, loss=0.92, v_num=7zxv]tensor([3., 1., 3.], device='cuda:0')\n",
      "Epoch 0:  43%|████▎     | 442/1020 [03:49<04:59,  1.93it/s, loss=0.92, v_num=7zxv]tensor([3., 1., 3.], device='cuda:0')\n",
      "Epoch 0:  43%|████▎     | 443/1020 [03:49<04:59,  1.93it/s, loss=0.92, v_num=7zxv]tensor([3., 1., 3.], device='cuda:0')\n",
      "Epoch 0:  44%|████▎     | 444/1020 [03:50<04:58,  1.93it/s, loss=0.92, v_num=7zxv]tensor([3., 1., 3.], device='cuda:0')\n",
      "Epoch 0:  44%|████▎     | 445/1020 [03:50<04:58,  1.93it/s, loss=0.921, v_num=7zxv]tensor([3., 1., 3.], device='cuda:0')\n",
      "Epoch 0:  44%|████▎     | 446/1020 [03:51<04:57,  1.93it/s, loss=0.921, v_num=7zxv]tensor([3., 1., 3.], device='cuda:0')\n",
      "Epoch 0:  44%|████▍     | 447/1020 [03:51<04:57,  1.93it/s, loss=0.921, v_num=7zxv]tensor([3., 1., 3.], device='cuda:0')\n",
      "Epoch 0:  44%|████▍     | 448/1020 [03:52<04:56,  1.93it/s, loss=0.921, v_num=7zxv]tensor([3., 1., 3.], device='cuda:0')\n",
      "Epoch 0:  44%|████▍     | 449/1020 [03:52<04:56,  1.93it/s, loss=0.921, v_num=7zxv]tensor([3., 1., 3.], device='cuda:0')\n",
      "Epoch 0:  44%|████▍     | 450/1020 [03:53<04:55,  1.93it/s, loss=0.921, v_num=7zxv]tensor([3., 1., 3.], device='cuda:0')\n",
      "Epoch 0:  44%|████▍     | 451/1020 [03:53<04:54,  1.93it/s, loss=0.921, v_num=7zxv]tensor([3., 1., 3.], device='cuda:0')\n",
      "Epoch 0:  44%|████▍     | 452/1020 [03:54<04:54,  1.93it/s, loss=0.921, v_num=7zxv]tensor([3., 1., 3.], device='cuda:0')\n",
      "Epoch 0:  44%|████▍     | 453/1020 [03:54<04:53,  1.93it/s, loss=0.921, v_num=7zxv]tensor([3., 1., 3.], device='cuda:0')\n",
      "Epoch 0:  45%|████▍     | 454/1020 [03:55<04:53,  1.93it/s, loss=0.922, v_num=7zxv]tensor([3., 1., 3.], device='cuda:0')\n",
      "Epoch 0:  45%|████▍     | 455/1020 [03:55<04:52,  1.93it/s, loss=0.922, v_num=7zxv]tensor([3., 1., 3.], device='cuda:0')\n",
      "Epoch 0:  45%|████▍     | 456/1020 [03:56<04:52,  1.93it/s, loss=0.923, v_num=7zxv]tensor([3., 1., 3.], device='cuda:0')\n",
      "Epoch 0:  45%|████▍     | 457/1020 [03:56<04:51,  1.93it/s, loss=0.922, v_num=7zxv]tensor([3., 1., 3.], device='cuda:0')\n",
      "Epoch 0:  45%|████▍     | 458/1020 [03:57<04:51,  1.93it/s, loss=0.922, v_num=7zxv]tensor([3., 1., 3.], device='cuda:0')\n",
      "Epoch 0:  45%|████▌     | 459/1020 [03:57<04:50,  1.93it/s, loss=0.923, v_num=7zxv]tensor([3., 1., 3.], device='cuda:0')\n",
      "Epoch 0:  45%|████▌     | 460/1020 [03:58<04:50,  1.93it/s, loss=0.923, v_num=7zxv]tensor([3., 1., 3.], device='cuda:0')\n",
      "Epoch 0:  45%|████▌     | 461/1020 [03:58<04:49,  1.93it/s, loss=0.923, v_num=7zxv]tensor([3., 1., 3.], device='cuda:0')\n",
      "Epoch 0:  45%|████▌     | 462/1020 [03:59<04:48,  1.93it/s, loss=0.923, v_num=7zxv]tensor([3., 1., 3.], device='cuda:0')\n",
      "Epoch 0:  45%|████▌     | 463/1020 [03:59<04:48,  1.93it/s, loss=0.923, v_num=7zxv]tensor([3., 1., 3.], device='cuda:0')\n",
      "Epoch 0:  45%|████▌     | 464/1020 [04:00<04:47,  1.93it/s, loss=0.923, v_num=7zxv]tensor([3., 1., 3.], device='cuda:0')\n",
      "Epoch 0:  46%|████▌     | 465/1020 [04:00<04:47,  1.93it/s, loss=0.923, v_num=7zxv]tensor([3., 1., 3.], device='cuda:0')\n",
      "Epoch 0:  46%|████▌     | 466/1020 [04:01<04:46,  1.93it/s, loss=0.923, v_num=7zxv]tensor([3., 1., 3.], device='cuda:0')\n",
      "Epoch 0:  46%|████▌     | 467/1020 [04:01<04:46,  1.93it/s, loss=0.923, v_num=7zxv]tensor([3., 1., 3.], device='cuda:0')\n",
      "Epoch 0:  46%|████▌     | 468/1020 [04:02<04:45,  1.93it/s, loss=0.923, v_num=7zxv]tensor([3., 1., 3.], device='cuda:0')\n",
      "Epoch 0:  46%|████▌     | 469/1020 [04:02<04:45,  1.93it/s, loss=0.923, v_num=7zxv]tensor([3., 1., 3.], device='cuda:0')\n",
      "Epoch 0:  46%|████▌     | 470/1020 [04:03<04:44,  1.93it/s, loss=0.923, v_num=7zxv]tensor([3., 1., 3.], device='cuda:0')\n",
      "Epoch 0:  46%|████▌     | 471/1020 [04:03<04:44,  1.93it/s, loss=0.923, v_num=7zxv]tensor([3., 1., 3.], device='cuda:0')\n",
      "Epoch 0:  46%|████▋     | 472/1020 [04:04<04:43,  1.93it/s, loss=0.923, v_num=7zxv]tensor([3., 1., 3.], device='cuda:0')\n",
      "Epoch 0:  46%|████▋     | 473/1020 [04:04<04:43,  1.93it/s, loss=0.923, v_num=7zxv]tensor([3., 1., 3.], device='cuda:0')\n",
      "Epoch 0:  46%|████▋     | 474/1020 [04:05<04:42,  1.93it/s, loss=0.922, v_num=7zxv]tensor([3., 1., 3.], device='cuda:0')\n",
      "Epoch 0:  47%|████▋     | 475/1020 [04:05<04:42,  1.93it/s, loss=0.922, v_num=7zxv]tensor([3., 1., 3.], device='cuda:0')\n",
      "Epoch 0:  47%|████▋     | 476/1020 [04:06<04:41,  1.93it/s, loss=0.922, v_num=7zxv]tensor([3., 1., 3.], device='cuda:0')\n",
      "Epoch 0:  47%|████▋     | 477/1020 [04:06<04:40,  1.93it/s, loss=0.922, v_num=7zxv]tensor([3., 1., 3.], device='cuda:0')\n",
      "Epoch 0:  47%|████▋     | 478/1020 [04:07<04:40,  1.93it/s, loss=0.922, v_num=7zxv]tensor([3., 1., 3.], device='cuda:0')\n",
      "Epoch 0:  47%|████▋     | 479/1020 [04:07<04:39,  1.93it/s, loss=0.922, v_num=7zxv]tensor([3., 1., 3.], device='cuda:0')\n",
      "Epoch 0:  47%|████▋     | 480/1020 [04:08<04:39,  1.93it/s, loss=0.922, v_num=7zxv]tensor([3., 1., 3.], device='cuda:0')\n",
      "Epoch 0:  47%|████▋     | 481/1020 [04:09<04:39,  1.93it/s, loss=0.921, v_num=7zxv]tensor([3., 1., 3.], device='cuda:0')\n",
      "Epoch 0:  47%|████▋     | 482/1020 [04:09<04:38,  1.93it/s, loss=0.921, v_num=7zxv]tensor([3., 1., 3.], device='cuda:0')\n",
      "Epoch 0:  47%|████▋     | 483/1020 [04:09<04:37,  1.93it/s, loss=0.921, v_num=7zxv]tensor([3., 1., 3.], device='cuda:0')\n",
      "Epoch 0:  47%|████▋     | 484/1020 [04:10<04:37,  1.93it/s, loss=0.921, v_num=7zxv]tensor([3., 1., 3.], device='cuda:0')\n",
      "Epoch 0:  48%|████▊     | 485/1020 [04:10<04:36,  1.93it/s, loss=0.921, v_num=7zxv]tensor([3., 1., 3.], device='cuda:0')\n",
      "Epoch 0:  48%|████▊     | 486/1020 [04:11<04:36,  1.93it/s, loss=0.921, v_num=7zxv]tensor([3., 1., 3.], device='cuda:0')\n",
      "Epoch 0:  48%|████▊     | 487/1020 [04:11<04:35,  1.93it/s, loss=0.922, v_num=7zxv]tensor([3., 1., 3.], device='cuda:0')\n",
      "Epoch 0:  48%|████▊     | 488/1020 [04:12<04:35,  1.93it/s, loss=0.921, v_num=7zxv]tensor([3., 1., 3.], device='cuda:0')\n",
      "Epoch 0:  48%|████▊     | 489/1020 [04:12<04:34,  1.93it/s, loss=0.922, v_num=7zxv]tensor([3., 1., 3.], device='cuda:0')\n",
      "Epoch 0:  48%|████▊     | 490/1020 [04:13<04:34,  1.93it/s, loss=0.922, v_num=7zxv]tensor([3., 1., 3.], device='cuda:0')\n",
      "Epoch 0:  48%|████▊     | 491/1020 [04:13<04:33,  1.93it/s, loss=0.922, v_num=7zxv]tensor([3., 1., 3.], device='cuda:0')\n",
      "Epoch 0:  48%|████▊     | 492/1020 [04:14<04:33,  1.93it/s, loss=0.922, v_num=7zxv]tensor([3., 1., 3.], device='cuda:0')\n",
      "Epoch 0:  48%|████▊     | 493/1020 [04:14<04:32,  1.93it/s, loss=0.922, v_num=7zxv]tensor([3., 1., 3.], device='cuda:0')\n",
      "Epoch 0:  48%|████▊     | 494/1020 [04:15<04:32,  1.93it/s, loss=0.922, v_num=7zxv]tensor([3., 1., 3.], device='cuda:0')\n",
      "Epoch 0:  49%|████▊     | 495/1020 [04:15<04:31,  1.93it/s, loss=0.922, v_num=7zxv]tensor([3., 1., 3.], device='cuda:0')\n",
      "Epoch 0:  49%|████▊     | 496/1020 [04:16<04:30,  1.93it/s, loss=0.922, v_num=7zxv]tensor([3., 1., 3.], device='cuda:0')\n",
      "Epoch 0:  49%|████▊     | 497/1020 [04:17<04:30,  1.93it/s, loss=0.922, v_num=7zxv]tensor([3., 1., 3.], device='cuda:0')\n",
      "Epoch 0:  49%|████▉     | 498/1020 [04:17<04:29,  1.93it/s, loss=0.922, v_num=7zxv]tensor([3., 1., 3.], device='cuda:0')\n",
      "Epoch 0:  49%|████▉     | 499/1020 [04:18<04:29,  1.93it/s, loss=0.922, v_num=7zxv]tensor([3., 1., 3.], device='cuda:0')\n",
      "Epoch 0:  49%|████▉     | 500/1020 [04:18<04:28,  1.93it/s, loss=0.923, v_num=7zxv]tensor([3., 1., 3.], device='cuda:0')\n",
      "Epoch 0:  49%|████▉     | 501/1020 [04:19<04:28,  1.93it/s, loss=0.923, v_num=7zxv]tensor([3., 1., 3.], device='cuda:0')\n",
      "Epoch 0:  49%|████▉     | 502/1020 [04:19<04:27,  1.93it/s, loss=0.923, v_num=7zxv]tensor([3., 1., 3.], device='cuda:0')\n",
      "Epoch 0:  49%|████▉     | 503/1020 [04:20<04:27,  1.93it/s, loss=0.923, v_num=7zxv]tensor([3., 1., 2.], device='cuda:0')\n",
      "Epoch 0:  49%|████▉     | 504/1020 [04:20<04:26,  1.93it/s, loss=0.922, v_num=7zxv]tensor([3., 1., 2.], device='cuda:0')\n",
      "Epoch 0:  50%|████▉     | 505/1020 [04:21<04:26,  1.93it/s, loss=0.922, v_num=7zxv]tensor([3., 1., 2.], device='cuda:0')\n",
      "Epoch 0:  50%|████▉     | 506/1020 [04:21<04:25,  1.93it/s, loss=0.922, v_num=7zxv]tensor([3., 1., 2.], device='cuda:0')\n",
      "Epoch 0:  50%|████▉     | 507/1020 [04:22<04:25,  1.93it/s, loss=0.922, v_num=7zxv]tensor([3., 1., 2.], device='cuda:0')\n",
      "Epoch 0:  50%|████▉     | 508/1020 [04:22<04:24,  1.93it/s, loss=0.921, v_num=7zxv]tensor([3., 1., 2.], device='cuda:0')\n",
      "Epoch 0:  50%|████▉     | 509/1020 [04:23<04:24,  1.93it/s, loss=0.921, v_num=7zxv]tensor([3., 1., 2.], device='cuda:0')\n",
      "Epoch 0:  50%|█████     | 510/1020 [04:23<04:23,  1.93it/s, loss=0.921, v_num=7zxv]tensor([3., 1., 2.], device='cuda:0')\n",
      "Epoch 0:  50%|█████     | 511/1020 [04:24<04:23,  1.93it/s, loss=0.921, v_num=7zxv]tensor([3., 1., 2.], device='cuda:0')\n",
      "Epoch 0:  50%|█████     | 512/1020 [04:24<04:22,  1.93it/s, loss=0.921, v_num=7zxv]tensor([3., 1., 2.], device='cuda:0')\n",
      "Epoch 0:  50%|█████     | 513/1020 [04:25<04:22,  1.93it/s, loss=0.921, v_num=7zxv]tensor([3., 1., 2.], device='cuda:0')\n",
      "Epoch 0:  50%|█████     | 514/1020 [04:25<04:21,  1.93it/s, loss=0.921, v_num=7zxv]tensor([3., 1., 3.], device='cuda:0')\n",
      "Epoch 0:  50%|█████     | 515/1020 [04:26<04:21,  1.93it/s, loss=0.921, v_num=7zxv]tensor([3., 1., 3.], device='cuda:0')\n",
      "Epoch 0:  51%|█████     | 516/1020 [04:26<04:20,  1.93it/s, loss=0.921, v_num=7zxv]tensor([3., 1., 3.], device='cuda:0')\n",
      "Epoch 0:  51%|█████     | 517/1020 [04:27<04:20,  1.93it/s, loss=0.921, v_num=7zxv]tensor([3., 1., 3.], device='cuda:0')\n",
      "Epoch 0:  51%|█████     | 518/1020 [04:27<04:19,  1.93it/s, loss=0.921, v_num=7zxv]tensor([3., 1., 3.], device='cuda:0')\n",
      "Epoch 0:  51%|█████     | 519/1020 [04:28<04:19,  1.93it/s, loss=0.921, v_num=7zxv]tensor([3., 1., 3.], device='cuda:0')\n",
      "Epoch 0:  51%|█████     | 520/1020 [04:29<04:18,  1.93it/s, loss=0.921, v_num=7zxv]tensor([3., 1., 3.], device='cuda:0')\n",
      "Epoch 0:  51%|█████     | 521/1020 [04:29<04:18,  1.93it/s, loss=0.921, v_num=7zxv]tensor([3., 1., 3.], device='cuda:0')\n",
      "Epoch 0:  51%|█████     | 522/1020 [04:29<04:17,  1.93it/s, loss=0.921, v_num=7zxv]tensor([3., 1., 3.], device='cuda:0')\n",
      "Epoch 0:  51%|█████▏    | 523/1020 [04:30<04:16,  1.93it/s, loss=0.921, v_num=7zxv]tensor([3., 1., 3.], device='cuda:0')\n",
      "Epoch 0:  51%|█████▏    | 524/1020 [04:30<04:16,  1.93it/s, loss=0.921, v_num=7zxv]tensor([3., 1., 3.], device='cuda:0')\n",
      "Epoch 0:  51%|█████▏    | 525/1020 [04:31<04:15,  1.93it/s, loss=0.921, v_num=7zxv]tensor([3., 1., 3.], device='cuda:0')\n",
      "Epoch 0:  52%|█████▏    | 526/1020 [04:31<04:15,  1.93it/s, loss=0.921, v_num=7zxv]tensor([3., 1., 3.], device='cuda:0')\n",
      "Epoch 0:  52%|█████▏    | 527/1020 [04:32<04:14,  1.93it/s, loss=0.922, v_num=7zxv]tensor([3., 1., 3.], device='cuda:0')\n",
      "Epoch 0:  52%|█████▏    | 528/1020 [04:32<04:14,  1.93it/s, loss=0.922, v_num=7zxv]tensor([3., 1., 3.], device='cuda:0')\n",
      "Epoch 0:  52%|█████▏    | 529/1020 [04:33<04:13,  1.93it/s, loss=0.922, v_num=7zxv]tensor([3., 1., 3.], device='cuda:0')\n",
      "Epoch 0:  52%|█████▏    | 530/1020 [04:33<04:13,  1.93it/s, loss=0.922, v_num=7zxv]tensor([3., 1., 3.], device='cuda:0')\n",
      "Epoch 0:  52%|█████▏    | 531/1020 [04:34<04:12,  1.93it/s, loss=0.921, v_num=7zxv]tensor([3., 1., 3.], device='cuda:0')\n",
      "Epoch 0:  52%|█████▏    | 532/1020 [04:35<04:12,  1.93it/s, loss=0.922, v_num=7zxv]tensor([3., 1., 3.], device='cuda:0')\n",
      "Epoch 0:  52%|█████▏    | 533/1020 [04:35<04:11,  1.93it/s, loss=0.921, v_num=7zxv]tensor([3., 1., 3.], device='cuda:0')\n",
      "Epoch 0:  52%|█████▏    | 534/1020 [04:36<04:11,  1.93it/s, loss=0.921, v_num=7zxv]tensor([3., 1., 3.], device='cuda:0')\n",
      "Epoch 0:  52%|█████▏    | 535/1020 [04:36<04:10,  1.93it/s, loss=0.922, v_num=7zxv]tensor([3., 1., 3.], device='cuda:0')\n",
      "Epoch 0:  53%|█████▎    | 536/1020 [04:37<04:10,  1.93it/s, loss=0.921, v_num=7zxv]tensor([3., 1., 3.], device='cuda:0')\n",
      "Epoch 0:  53%|█████▎    | 537/1020 [04:37<04:09,  1.93it/s, loss=0.921, v_num=7zxv]tensor([3., 1., 3.], device='cuda:0')\n",
      "Epoch 0:  53%|█████▎    | 538/1020 [04:38<04:09,  1.93it/s, loss=0.921, v_num=7zxv]tensor([3., 1., 3.], device='cuda:0')\n",
      "Epoch 0:  53%|█████▎    | 539/1020 [04:38<04:08,  1.93it/s, loss=0.921, v_num=7zxv]tensor([3., 1., 3.], device='cuda:0')\n",
      "Epoch 0:  53%|█████▎    | 540/1020 [04:39<04:08,  1.93it/s, loss=0.921, v_num=7zxv]tensor([3., 1., 3.], device='cuda:0')\n",
      "Epoch 0:  53%|█████▎    | 541/1020 [04:39<04:07,  1.93it/s, loss=0.921, v_num=7zxv]tensor([3., 1., 3.], device='cuda:0')\n",
      "Epoch 0:  53%|█████▎    | 542/1020 [04:40<04:07,  1.93it/s, loss=0.921, v_num=7zxv]tensor([3., 1., 3.], device='cuda:0')\n",
      "Epoch 0:  53%|█████▎    | 543/1020 [04:40<04:06,  1.93it/s, loss=0.922, v_num=7zxv]tensor([3., 1., 3.], device='cuda:0')\n",
      "Epoch 0:  53%|█████▎    | 544/1020 [04:41<04:06,  1.93it/s, loss=0.922, v_num=7zxv]tensor([3., 1., 3.], device='cuda:0')\n",
      "Epoch 0:  53%|█████▎    | 545/1020 [04:41<04:05,  1.93it/s, loss=0.922, v_num=7zxv]tensor([3., 1., 3.], device='cuda:0')\n",
      "Epoch 0:  54%|█████▎    | 546/1020 [04:42<04:04,  1.93it/s, loss=0.922, v_num=7zxv]tensor([3., 1., 3.], device='cuda:0')\n",
      "Epoch 0:  54%|█████▎    | 547/1020 [04:42<04:04,  1.94it/s, loss=0.922, v_num=7zxv]tensor([3., 1., 3.], device='cuda:0')\n",
      "Epoch 0:  54%|█████▎    | 548/1020 [04:43<04:03,  1.94it/s, loss=0.922, v_num=7zxv]tensor([3., 1., 3.], device='cuda:0')\n",
      "Epoch 0:  54%|█████▍    | 549/1020 [04:43<04:03,  1.94it/s, loss=0.922, v_num=7zxv]tensor([3., 1., 3.], device='cuda:0')\n",
      "Epoch 0:  54%|█████▍    | 550/1020 [04:44<04:02,  1.93it/s, loss=0.922, v_num=7zxv]tensor([3., 1., 3.], device='cuda:0')\n",
      "Epoch 0:  54%|█████▍    | 551/1020 [04:44<04:02,  1.93it/s, loss=0.922, v_num=7zxv]tensor([3., 1., 3.], device='cuda:0')\n",
      "Epoch 0:  54%|█████▍    | 552/1020 [04:45<04:01,  1.93it/s, loss=0.922, v_num=7zxv]tensor([3., 1., 3.], device='cuda:0')\n",
      "Epoch 0:  54%|█████▍    | 553/1020 [04:45<04:01,  1.93it/s, loss=0.922, v_num=7zxv]tensor([3., 1., 3.], device='cuda:0')\n",
      "Epoch 0:  54%|█████▍    | 554/1020 [04:46<04:00,  1.93it/s, loss=0.922, v_num=7zxv]tensor([3., 1., 2.], device='cuda:0')\n",
      "Epoch 0:  54%|█████▍    | 555/1020 [04:46<04:00,  1.93it/s, loss=0.922, v_num=7zxv]tensor([3., 1., 2.], device='cuda:0')\n",
      "Epoch 0:  55%|█████▍    | 556/1020 [04:47<03:59,  1.93it/s, loss=0.922, v_num=7zxv]tensor([3., 1., 3.], device='cuda:0')\n",
      "Epoch 0:  55%|█████▍    | 557/1020 [04:48<03:59,  1.93it/s, loss=0.922, v_num=7zxv]tensor([3., 1., 2.], device='cuda:0')\n",
      "Epoch 0:  55%|█████▍    | 558/1020 [04:48<03:58,  1.93it/s, loss=0.922, v_num=7zxv]tensor([3., 1., 2.], device='cuda:0')\n",
      "Epoch 0:  55%|█████▍    | 559/1020 [04:48<03:58,  1.93it/s, loss=0.922, v_num=7zxv]tensor([3., 1., 3.], device='cuda:0')\n",
      "Epoch 0:  55%|█████▍    | 560/1020 [04:49<03:57,  1.93it/s, loss=0.922, v_num=7zxv]tensor([3., 1., 3.], device='cuda:0')\n",
      "Epoch 0:  55%|█████▌    | 561/1020 [04:49<03:57,  1.93it/s, loss=0.922, v_num=7zxv]tensor([3., 1., 3.], device='cuda:0')\n",
      "Epoch 0:  55%|█████▌    | 562/1020 [04:50<03:56,  1.93it/s, loss=0.922, v_num=7zxv]tensor([3., 1., 3.], device='cuda:0')\n",
      "Epoch 0:  55%|█████▌    | 563/1020 [04:50<03:56,  1.93it/s, loss=0.922, v_num=7zxv]tensor([3., 1., 3.], device='cuda:0')\n",
      "Epoch 0:  55%|█████▌    | 564/1020 [04:51<03:55,  1.93it/s, loss=0.922, v_num=7zxv]tensor([3., 1., 3.], device='cuda:0')\n",
      "Epoch 0:  55%|█████▌    | 565/1020 [04:52<03:55,  1.93it/s, loss=0.921, v_num=7zxv]tensor([3., 1., 3.], device='cuda:0')\n",
      "Epoch 0:  55%|█████▌    | 566/1020 [04:52<03:54,  1.93it/s, loss=0.921, v_num=7zxv]tensor([3., 1., 3.], device='cuda:0')\n",
      "Epoch 0:  56%|█████▌    | 567/1020 [04:53<03:54,  1.93it/s, loss=0.921, v_num=7zxv]tensor([3., 1., 3.], device='cuda:0')\n",
      "Epoch 0:  56%|█████▌    | 568/1020 [04:53<03:53,  1.93it/s, loss=0.921, v_num=7zxv]tensor([3., 1., 3.], device='cuda:0')\n",
      "Epoch 0:  56%|█████▌    | 569/1020 [04:54<03:53,  1.93it/s, loss=0.921, v_num=7zxv]tensor([3., 1., 3.], device='cuda:0')\n",
      "Epoch 0:  56%|█████▌    | 570/1020 [04:54<03:52,  1.93it/s, loss=0.921, v_num=7zxv]tensor([3., 1., 3.], device='cuda:0')\n",
      "Epoch 0:  56%|█████▌    | 571/1020 [04:55<03:52,  1.93it/s, loss=0.921, v_num=7zxv]tensor([3., 1., 3.], device='cuda:0')\n",
      "Epoch 0:  56%|█████▌    | 572/1020 [04:55<03:51,  1.93it/s, loss=0.921, v_num=7zxv]tensor([3., 1., 3.], device='cuda:0')\n",
      "Epoch 0:  56%|█████▌    | 573/1020 [04:56<03:51,  1.93it/s, loss=0.921, v_num=7zxv]tensor([3., 1., 3.], device='cuda:0')\n",
      "Epoch 0:  56%|█████▋    | 574/1020 [04:56<03:50,  1.93it/s, loss=0.921, v_num=7zxv]tensor([3., 1., 3.], device='cuda:0')\n",
      "Epoch 0:  56%|█████▋    | 575/1020 [04:57<03:50,  1.93it/s, loss=0.921, v_num=7zxv]tensor([3., 1., 3.], device='cuda:0')\n",
      "Epoch 0:  56%|█████▋    | 576/1020 [04:57<03:49,  1.93it/s, loss=0.92, v_num=7zxv] tensor([3., 1., 3.], device='cuda:0')\n",
      "Epoch 0:  57%|█████▋    | 577/1020 [04:58<03:49,  1.93it/s, loss=0.921, v_num=7zxv]tensor([3., 1., 3.], device='cuda:0')\n",
      "Epoch 0:  57%|█████▋    | 578/1020 [04:59<03:48,  1.93it/s, loss=0.92, v_num=7zxv] tensor([3., 1., 3.], device='cuda:0')\n",
      "Epoch 0:  57%|█████▋    | 579/1020 [04:59<03:48,  1.93it/s, loss=0.92, v_num=7zxv]tensor([3., 1., 3.], device='cuda:0')\n",
      "Epoch 0:  57%|█████▋    | 580/1020 [05:00<03:47,  1.93it/s, loss=0.92, v_num=7zxv]tensor([3., 1., 3.], device='cuda:0')\n",
      "Epoch 0:  57%|█████▋    | 581/1020 [05:00<03:47,  1.93it/s, loss=0.92, v_num=7zxv]tensor([3., 1., 3.], device='cuda:0')\n",
      "Epoch 0:  57%|█████▋    | 582/1020 [05:01<03:46,  1.93it/s, loss=0.92, v_num=7zxv]tensor([3., 1., 3.], device='cuda:0')\n",
      "Epoch 0:  57%|█████▋    | 583/1020 [05:01<03:46,  1.93it/s, loss=0.92, v_num=7zxv]tensor([3., 1., 3.], device='cuda:0')\n",
      "Epoch 0:  57%|█████▋    | 584/1020 [05:02<03:45,  1.93it/s, loss=0.92, v_num=7zxv]tensor([3., 1., 3.], device='cuda:0')\n",
      "Epoch 0:  57%|█████▋    | 585/1020 [05:02<03:45,  1.93it/s, loss=0.92, v_num=7zxv]tensor([3., 1., 2.], device='cuda:0')\n",
      "Epoch 0:  57%|█████▋    | 586/1020 [05:03<03:44,  1.93it/s, loss=0.92, v_num=7zxv]tensor([3., 1., 2.], device='cuda:0')\n",
      "Epoch 0:  58%|█████▊    | 587/1020 [05:03<03:44,  1.93it/s, loss=0.92, v_num=7zxv]tensor([3., 1., 2.], device='cuda:0')\n",
      "Epoch 0:  58%|█████▊    | 588/1020 [05:04<03:43,  1.93it/s, loss=0.92, v_num=7zxv]tensor([3., 1., 2.], device='cuda:0')\n",
      "Epoch 0:  58%|█████▊    | 589/1020 [05:04<03:43,  1.93it/s, loss=0.92, v_num=7zxv]tensor([3., 1., 2.], device='cuda:0')\n",
      "Epoch 0:  58%|█████▊    | 590/1020 [05:05<03:42,  1.93it/s, loss=0.92, v_num=7zxv]tensor([3., 1., 2.], device='cuda:0')\n",
      "Epoch 0:  58%|█████▊    | 591/1020 [05:05<03:42,  1.93it/s, loss=0.92, v_num=7zxv]tensor([3., 1., 2.], device='cuda:0')\n",
      "Epoch 0:  58%|█████▊    | 592/1020 [05:06<03:41,  1.93it/s, loss=0.92, v_num=7zxv]tensor([3., 1., 2.], device='cuda:0')\n",
      "Epoch 0:  58%|█████▊    | 593/1020 [05:07<03:41,  1.93it/s, loss=0.92, v_num=7zxv]tensor([3., 1., 2.], device='cuda:0')\n",
      "Epoch 0:  58%|█████▊    | 594/1020 [05:07<03:40,  1.93it/s, loss=0.92, v_num=7zxv]tensor([3., 1., 2.], device='cuda:0')\n",
      "Epoch 0:  58%|█████▊    | 595/1020 [05:08<03:40,  1.93it/s, loss=0.92, v_num=7zxv]tensor([3., 1., 2.], device='cuda:0')\n",
      "Epoch 0:  58%|█████▊    | 596/1020 [05:08<03:39,  1.93it/s, loss=0.921, v_num=7zxv]tensor([3., 1., 2.], device='cuda:0')\n",
      "Epoch 0:  59%|█████▊    | 597/1020 [05:09<03:39,  1.93it/s, loss=0.921, v_num=7zxv]tensor([3., 1., 2.], device='cuda:0')\n",
      "Epoch 0:  59%|█████▊    | 598/1020 [05:09<03:38,  1.93it/s, loss=0.921, v_num=7zxv]tensor([3., 1., 2.], device='cuda:0')\n",
      "Epoch 0:  59%|█████▊    | 599/1020 [05:10<03:38,  1.93it/s, loss=0.92, v_num=7zxv] tensor([3., 1., 2.], device='cuda:0')\n",
      "Epoch 0:  59%|█████▉    | 600/1020 [05:10<03:37,  1.93it/s, loss=0.92, v_num=7zxv]tensor([3., 1., 3.], device='cuda:0')\n",
      "Epoch 0:  59%|█████▉    | 601/1020 [05:11<03:36,  1.93it/s, loss=0.92, v_num=7zxv]tensor([3., 1., 3.], device='cuda:0')\n",
      "Epoch 0:  59%|█████▉    | 602/1020 [05:11<03:36,  1.93it/s, loss=0.921, v_num=7zxv]tensor([3., 1., 3.], device='cuda:0')\n",
      "Epoch 0:  59%|█████▉    | 603/1020 [05:12<03:35,  1.93it/s, loss=0.921, v_num=7zxv]tensor([3., 1., 3.], device='cuda:0')\n",
      "Epoch 0:  59%|█████▉    | 604/1020 [05:12<03:35,  1.93it/s, loss=0.921, v_num=7zxv]tensor([3., 1., 3.], device='cuda:0')\n",
      "Epoch 0:  59%|█████▉    | 605/1020 [05:13<03:34,  1.93it/s, loss=0.921, v_num=7zxv]tensor([3., 1., 3.], device='cuda:0')\n",
      "Epoch 0:  59%|█████▉    | 606/1020 [05:13<03:34,  1.93it/s, loss=0.921, v_num=7zxv]tensor([3., 1., 3.], device='cuda:0')\n",
      "Epoch 0:  60%|█████▉    | 607/1020 [05:14<03:33,  1.93it/s, loss=0.921, v_num=7zxv]tensor([3., 1., 3.], device='cuda:0')\n",
      "Epoch 0:  60%|█████▉    | 608/1020 [05:14<03:33,  1.93it/s, loss=0.921, v_num=7zxv]tensor([3., 1., 3.], device='cuda:0')\n",
      "Epoch 0:  60%|█████▉    | 609/1020 [05:15<03:32,  1.93it/s, loss=0.921, v_num=7zxv]tensor([3., 1., 3.], device='cuda:0')\n",
      "Epoch 0:  60%|█████▉    | 610/1020 [05:15<03:32,  1.93it/s, loss=0.921, v_num=7zxv]tensor([3., 1., 3.], device='cuda:0')\n",
      "Epoch 0:  60%|█████▉    | 611/1020 [05:16<03:31,  1.93it/s, loss=0.921, v_num=7zxv]tensor([3., 1., 3.], device='cuda:0')\n",
      "Epoch 0:  60%|██████    | 612/1020 [05:16<03:31,  1.93it/s, loss=0.921, v_num=7zxv]tensor([3., 1., 3.], device='cuda:0')\n",
      "Epoch 0:  60%|██████    | 613/1020 [05:17<03:30,  1.93it/s, loss=0.921, v_num=7zxv]tensor([3., 1., 3.], device='cuda:0')\n",
      "Epoch 0:  60%|██████    | 614/1020 [05:17<03:30,  1.93it/s, loss=0.921, v_num=7zxv]tensor([3., 1., 3.], device='cuda:0')\n",
      "Epoch 0:  60%|██████    | 615/1020 [05:18<03:29,  1.93it/s, loss=0.921, v_num=7zxv]tensor([3., 1., 3.], device='cuda:0')\n",
      "Epoch 0:  60%|██████    | 616/1020 [05:18<03:29,  1.93it/s, loss=0.921, v_num=7zxv]tensor([3., 1., 3.], device='cuda:0')\n",
      "Epoch 0:  60%|██████    | 617/1020 [05:19<03:28,  1.93it/s, loss=0.92, v_num=7zxv] tensor([3., 1., 3.], device='cuda:0')\n",
      "Epoch 0:  61%|██████    | 618/1020 [05:19<03:28,  1.93it/s, loss=0.92, v_num=7zxv]tensor([3., 1., 3.], device='cuda:0')\n",
      "Epoch 0:  61%|██████    | 619/1020 [05:20<03:27,  1.93it/s, loss=0.921, v_num=7zxv]tensor([3., 1., 3.], device='cuda:0')\n",
      "Epoch 0:  61%|██████    | 620/1020 [05:21<03:27,  1.93it/s, loss=0.921, v_num=7zxv]tensor([3., 1., 3.], device='cuda:0')\n",
      "Epoch 0:  61%|██████    | 621/1020 [05:21<03:26,  1.93it/s, loss=0.921, v_num=7zxv]tensor([3., 1., 3.], device='cuda:0')\n",
      "Epoch 0:  61%|██████    | 622/1020 [05:22<03:26,  1.93it/s, loss=0.921, v_num=7zxv]tensor([3., 1., 3.], device='cuda:0')\n",
      "Epoch 0:  61%|██████    | 623/1020 [05:22<03:25,  1.93it/s, loss=0.92, v_num=7zxv] tensor([3., 1., 3.], device='cuda:0')\n",
      "Epoch 0:  61%|██████    | 624/1020 [05:23<03:25,  1.93it/s, loss=0.92, v_num=7zxv]tensor([3., 1., 3.], device='cuda:0')\n",
      "Epoch 0:  61%|██████▏   | 625/1020 [05:23<03:24,  1.93it/s, loss=0.919, v_num=7zxv]tensor([3., 1., 3.], device='cuda:0')\n",
      "Epoch 0:  61%|██████▏   | 626/1020 [05:24<03:24,  1.93it/s, loss=0.919, v_num=7zxv]tensor([3., 1., 3.], device='cuda:0')\n",
      "Epoch 0:  61%|██████▏   | 627/1020 [05:25<03:23,  1.93it/s, loss=0.919, v_num=7zxv]tensor([3., 1., 2.], device='cuda:0')\n",
      "Epoch 0:  62%|██████▏   | 628/1020 [05:25<03:23,  1.93it/s, loss=0.919, v_num=7zxv]tensor([3., 1., 2.], device='cuda:0')\n",
      "Epoch 0:  62%|██████▏   | 629/1020 [05:25<03:22,  1.93it/s, loss=0.92, v_num=7zxv] tensor([3., 1., 3.], device='cuda:0')\n",
      "Epoch 0:  62%|██████▏   | 630/1020 [05:26<03:22,  1.93it/s, loss=0.92, v_num=7zxv]tensor([3., 1., 2.], device='cuda:0')\n",
      "Epoch 0:  62%|██████▏   | 631/1020 [05:27<03:21,  1.93it/s, loss=0.92, v_num=7zxv]tensor([3., 1., 2.], device='cuda:0')\n",
      "Epoch 0:  62%|██████▏   | 632/1020 [05:27<03:21,  1.93it/s, loss=0.92, v_num=7zxv]tensor([3., 1., 3.], device='cuda:0')\n",
      "Epoch 0:  62%|██████▏   | 633/1020 [05:27<03:20,  1.93it/s, loss=0.92, v_num=7zxv]tensor([3., 1., 2.], device='cuda:0')\n",
      "Epoch 0:  62%|██████▏   | 634/1020 [05:28<03:19,  1.93it/s, loss=0.92, v_num=7zxv]tensor([3., 1., 2.], device='cuda:0')\n",
      "Epoch 0:  62%|██████▏   | 635/1020 [05:28<03:19,  1.93it/s, loss=0.92, v_num=7zxv]tensor([3., 1., 3.], device='cuda:0')\n",
      "Epoch 0:  62%|██████▏   | 636/1020 [05:29<03:18,  1.93it/s, loss=0.921, v_num=7zxv]tensor([3., 1., 3.], device='cuda:0')\n",
      "Epoch 0:  62%|██████▏   | 637/1020 [05:29<03:18,  1.93it/s, loss=0.921, v_num=7zxv]tensor([3., 1., 3.], device='cuda:0')\n",
      "Epoch 0:  63%|██████▎   | 638/1020 [05:30<03:17,  1.93it/s, loss=0.921, v_num=7zxv]tensor([3., 1., 3.], device='cuda:0')\n",
      "Epoch 0:  63%|██████▎   | 639/1020 [05:31<03:17,  1.93it/s, loss=0.921, v_num=7zxv]tensor([3., 1., 3.], device='cuda:0')\n",
      "Epoch 0:  63%|██████▎   | 640/1020 [05:31<03:16,  1.93it/s, loss=0.92, v_num=7zxv] tensor([4., 1., 3.], device='cuda:0')\n",
      "Epoch 0:  63%|██████▎   | 641/1020 [05:32<03:16,  1.93it/s, loss=0.92, v_num=7zxv]tensor([3., 1., 3.], device='cuda:0')\n",
      "Epoch 0:  63%|██████▎   | 642/1020 [05:32<03:15,  1.93it/s, loss=0.92, v_num=7zxv]tensor([3., 1., 3.], device='cuda:0')\n",
      "Epoch 0:  63%|██████▎   | 643/1020 [05:33<03:15,  1.93it/s, loss=0.92, v_num=7zxv]tensor([3., 1., 3.], device='cuda:0')\n",
      "Epoch 0:  63%|██████▎   | 644/1020 [05:33<03:14,  1.93it/s, loss=0.921, v_num=7zxv]tensor([3., 1., 3.], device='cuda:0')\n",
      "Epoch 0:  63%|██████▎   | 645/1020 [05:34<03:14,  1.93it/s, loss=0.921, v_num=7zxv]tensor([3., 1., 3.], device='cuda:0')\n",
      "Epoch 0:  63%|██████▎   | 646/1020 [05:34<03:13,  1.93it/s, loss=0.921, v_num=7zxv]tensor([3., 1., 3.], device='cuda:0')\n",
      "Epoch 0:  63%|██████▎   | 647/1020 [05:35<03:13,  1.93it/s, loss=0.921, v_num=7zxv]tensor([3., 1., 3.], device='cuda:0')\n",
      "Epoch 0:  64%|██████▎   | 648/1020 [05:35<03:12,  1.93it/s, loss=0.921, v_num=7zxv]tensor([3., 1., 3.], device='cuda:0')\n",
      "Epoch 0:  64%|██████▎   | 649/1020 [05:36<03:12,  1.93it/s, loss=0.921, v_num=7zxv]tensor([3., 1., 3.], device='cuda:0')\n",
      "Epoch 0:  64%|██████▎   | 650/1020 [05:36<03:11,  1.93it/s, loss=0.921, v_num=7zxv]tensor([3., 1., 3.], device='cuda:0')\n",
      "Epoch 0:  64%|██████▍   | 651/1020 [05:37<03:11,  1.93it/s, loss=0.921, v_num=7zxv]tensor([3., 1., 3.], device='cuda:0')\n",
      "Epoch 0:  64%|██████▍   | 652/1020 [05:37<03:10,  1.93it/s, loss=0.921, v_num=7zxv]tensor([3., 1., 3.], device='cuda:0')\n",
      "Epoch 0:  64%|██████▍   | 653/1020 [05:38<03:10,  1.93it/s, loss=0.921, v_num=7zxv]tensor([3., 1., 3.], device='cuda:0')\n",
      "Epoch 0:  64%|██████▍   | 654/1020 [05:38<03:09,  1.93it/s, loss=0.921, v_num=7zxv]tensor([3., 1., 3.], device='cuda:0')\n",
      "Epoch 0:  64%|██████▍   | 655/1020 [05:39<03:09,  1.93it/s, loss=0.921, v_num=7zxv]tensor([3., 1., 3.], device='cuda:0')\n",
      "Epoch 0:  64%|██████▍   | 656/1020 [05:39<03:08,  1.93it/s, loss=0.92, v_num=7zxv] tensor([3., 1., 3.], device='cuda:0')\n",
      "Epoch 0:  64%|██████▍   | 657/1020 [05:40<03:08,  1.93it/s, loss=0.92, v_num=7zxv]tensor([4., 1., 3.], device='cuda:0')\n",
      "Epoch 0:  65%|██████▍   | 658/1020 [05:40<03:07,  1.93it/s, loss=0.92, v_num=7zxv]tensor([3., 1., 3.], device='cuda:0')\n",
      "Epoch 0:  65%|██████▍   | 659/1020 [05:41<03:07,  1.93it/s, loss=0.92, v_num=7zxv]tensor([3., 1., 3.], device='cuda:0')\n",
      "Epoch 0:  65%|██████▍   | 660/1020 [05:41<03:06,  1.93it/s, loss=0.921, v_num=7zxv]tensor([3., 1., 3.], device='cuda:0')\n",
      "Epoch 0:  65%|██████▍   | 661/1020 [05:42<03:05,  1.93it/s, loss=0.921, v_num=7zxv]tensor([3., 1., 3.], device='cuda:0')\n",
      "Epoch 0:  65%|██████▍   | 662/1020 [05:42<03:05,  1.93it/s, loss=0.921, v_num=7zxv]tensor([3., 1., 3.], device='cuda:0')\n",
      "Epoch 0:  65%|██████▌   | 663/1020 [05:43<03:04,  1.93it/s, loss=0.921, v_num=7zxv]tensor([3., 1., 3.], device='cuda:0')\n",
      "Epoch 0:  65%|██████▌   | 664/1020 [05:44<03:04,  1.93it/s, loss=0.921, v_num=7zxv]tensor([3., 1., 3.], device='cuda:0')\n",
      "Epoch 0:  65%|██████▌   | 665/1020 [05:44<03:03,  1.93it/s, loss=0.921, v_num=7zxv]tensor([3., 1., 3.], device='cuda:0')\n",
      "Epoch 0:  65%|██████▌   | 666/1020 [05:45<03:03,  1.93it/s, loss=0.921, v_num=7zxv]tensor([3., 1., 3.], device='cuda:0')\n",
      "Epoch 0:  65%|██████▌   | 667/1020 [05:45<03:02,  1.93it/s, loss=0.921, v_num=7zxv]tensor([3., 1., 3.], device='cuda:0')\n",
      "Epoch 0:  65%|██████▌   | 668/1020 [05:46<03:02,  1.93it/s, loss=0.921, v_num=7zxv]tensor([3., 1., 3.], device='cuda:0')\n",
      "Epoch 0:  66%|██████▌   | 669/1020 [05:46<03:01,  1.93it/s, loss=0.921, v_num=7zxv]tensor([3., 1., 3.], device='cuda:0')\n",
      "Epoch 0:  66%|██████▌   | 670/1020 [05:47<03:01,  1.93it/s, loss=0.92, v_num=7zxv] tensor([3., 1., 2.], device='cuda:0')\n",
      "Epoch 0:  66%|██████▌   | 671/1020 [05:47<03:00,  1.93it/s, loss=0.92, v_num=7zxv]tensor([3., 1., 2.], device='cuda:0')\n",
      "Epoch 0:  66%|██████▌   | 672/1020 [05:48<03:00,  1.93it/s, loss=0.92, v_num=7zxv]tensor([3., 1., 2.], device='cuda:0')\n",
      "Epoch 0:  66%|██████▌   | 673/1020 [05:48<02:59,  1.93it/s, loss=0.92, v_num=7zxv]tensor([3., 1., 2.], device='cuda:0')\n",
      "Epoch 0:  66%|██████▌   | 674/1020 [05:49<02:59,  1.93it/s, loss=0.92, v_num=7zxv]tensor([3., 1., 2.], device='cuda:0')\n",
      "Epoch 0:  66%|██████▌   | 675/1020 [05:49<02:58,  1.93it/s, loss=0.92, v_num=7zxv]tensor([3., 1., 3.], device='cuda:0')\n",
      "Epoch 0:  66%|██████▋   | 676/1020 [05:50<02:58,  1.93it/s, loss=0.921, v_num=7zxv]tensor([3., 1., 3.], device='cuda:0')\n",
      "Epoch 0:  66%|██████▋   | 677/1020 [05:50<02:57,  1.93it/s, loss=0.92, v_num=7zxv] tensor([3., 1., 3.], device='cuda:0')\n",
      "Epoch 0:  66%|██████▋   | 678/1020 [05:51<02:57,  1.93it/s, loss=0.92, v_num=7zxv]tensor([3., 1., 2.], device='cuda:0')\n",
      "Epoch 0:  67%|██████▋   | 679/1020 [05:51<02:56,  1.93it/s, loss=0.92, v_num=7zxv]tensor([3., 1., 3.], device='cuda:0')\n",
      "Epoch 0:  67%|██████▋   | 680/1020 [05:52<02:56,  1.93it/s, loss=0.92, v_num=7zxv]tensor([3., 1., 3.], device='cuda:0')\n",
      "Epoch 0:  67%|██████▋   | 681/1020 [05:52<02:55,  1.93it/s, loss=0.921, v_num=7zxv]tensor([3., 1., 2.], device='cuda:0')\n",
      "Epoch 0:  67%|██████▋   | 682/1020 [05:53<02:55,  1.93it/s, loss=0.92, v_num=7zxv] tensor([3., 1., 3.], device='cuda:0')\n",
      "Epoch 0:  67%|██████▋   | 683/1020 [05:54<02:54,  1.93it/s, loss=0.92, v_num=7zxv]tensor([3., 1., 3.], device='cuda:0')\n",
      "Epoch 0:  67%|██████▋   | 684/1020 [05:54<02:54,  1.93it/s, loss=0.92, v_num=7zxv]tensor([3., 1., 3.], device='cuda:0')\n",
      "Epoch 0:  67%|██████▋   | 685/1020 [05:55<02:53,  1.93it/s, loss=0.92, v_num=7zxv]tensor([3., 1., 3.], device='cuda:0')\n",
      "Epoch 0:  67%|██████▋   | 686/1020 [05:55<02:53,  1.93it/s, loss=0.92, v_num=7zxv]tensor([3., 1., 3.], device='cuda:0')\n",
      "Epoch 0:  67%|██████▋   | 687/1020 [05:56<02:52,  1.93it/s, loss=0.92, v_num=7zxv]tensor([3., 1., 3.], device='cuda:0')\n",
      "Epoch 0:  67%|██████▋   | 688/1020 [05:56<02:52,  1.93it/s, loss=0.921, v_num=7zxv]tensor([4., 1., 3.], device='cuda:0')\n",
      "Epoch 0:  68%|██████▊   | 689/1020 [05:57<02:51,  1.93it/s, loss=0.92, v_num=7zxv] tensor([3., 1., 3.], device='cuda:0')\n",
      "Epoch 0:  68%|██████▊   | 690/1020 [05:57<02:51,  1.93it/s, loss=0.921, v_num=7zxv]tensor([3., 1., 3.], device='cuda:0')\n",
      "Epoch 0:  68%|██████▊   | 691/1020 [05:58<02:50,  1.93it/s, loss=0.921, v_num=7zxv]tensor([3., 1., 3.], device='cuda:0')\n",
      "Epoch 0:  68%|██████▊   | 692/1020 [05:58<02:50,  1.93it/s, loss=0.921, v_num=7zxv]tensor([3., 1., 3.], device='cuda:0')\n",
      "Epoch 0:  68%|██████▊   | 693/1020 [05:59<02:49,  1.93it/s, loss=0.921, v_num=7zxv]tensor([3., 1., 3.], device='cuda:0')\n",
      "Epoch 0:  68%|██████▊   | 694/1020 [05:59<02:49,  1.93it/s, loss=0.92, v_num=7zxv] tensor([3., 1., 3.], device='cuda:0')\n",
      "Epoch 0:  68%|██████▊   | 695/1020 [06:00<02:48,  1.93it/s, loss=0.921, v_num=7zxv]tensor([3., 1., 3.], device='cuda:0')\n",
      "Epoch 0:  68%|██████▊   | 696/1020 [06:00<02:47,  1.93it/s, loss=0.921, v_num=7zxv]tensor([3., 1., 3.], device='cuda:0')\n",
      "Epoch 0:  68%|██████▊   | 697/1020 [06:01<02:47,  1.93it/s, loss=0.921, v_num=7zxv]tensor([3., 1., 3.], device='cuda:0')\n",
      "Epoch 0:  68%|██████▊   | 698/1020 [06:01<02:46,  1.93it/s, loss=0.92, v_num=7zxv] tensor([3., 1., 3.], device='cuda:0')\n",
      "Epoch 0:  69%|██████▊   | 699/1020 [06:02<02:46,  1.93it/s, loss=0.921, v_num=7zxv]tensor([3., 1., 3.], device='cuda:0')\n",
      "Epoch 0:  69%|██████▊   | 700/1020 [06:03<02:45,  1.93it/s, loss=0.92, v_num=7zxv] tensor([4., 1., 3.], device='cuda:0')\n",
      "Epoch 0:  69%|██████▊   | 701/1020 [06:03<02:45,  1.93it/s, loss=0.92, v_num=7zxv]tensor([3., 1., 3.], device='cuda:0')\n",
      "Epoch 0:  69%|██████▉   | 702/1020 [06:04<02:44,  1.93it/s, loss=0.92, v_num=7zxv]tensor([3., 1., 3.], device='cuda:0')\n",
      "Epoch 0:  69%|██████▉   | 703/1020 [06:04<02:44,  1.93it/s, loss=0.92, v_num=7zxv]tensor([3., 1., 2.], device='cuda:0')\n",
      "Epoch 0:  69%|██████▉   | 704/1020 [06:05<02:43,  1.93it/s, loss=0.92, v_num=7zxv]tensor([3., 1., 2.], device='cuda:0')\n",
      "Epoch 0:  69%|██████▉   | 705/1020 [06:05<02:43,  1.93it/s, loss=0.92, v_num=7zxv]tensor([3., 1., 3.], device='cuda:0')\n",
      "Epoch 0:  69%|██████▉   | 706/1020 [06:06<02:42,  1.93it/s, loss=0.92, v_num=7zxv]tensor([3., 1., 2.], device='cuda:0')\n",
      "Epoch 0:  69%|██████▉   | 707/1020 [06:06<02:42,  1.93it/s, loss=0.92, v_num=7zxv]tensor([3., 1., 2.], device='cuda:0')\n",
      "Epoch 0:  69%|██████▉   | 708/1020 [06:07<02:41,  1.93it/s, loss=0.92, v_num=7zxv]tensor([3., 1., 3.], device='cuda:0')\n",
      "Epoch 0:  70%|██████▉   | 709/1020 [06:07<02:41,  1.93it/s, loss=0.92, v_num=7zxv]tensor([3., 1., 2.], device='cuda:0')\n",
      "Epoch 0:  70%|██████▉   | 710/1020 [06:08<02:40,  1.93it/s, loss=0.92, v_num=7zxv]tensor([3., 1., 3.], device='cuda:0')\n",
      "Epoch 0:  70%|██████▉   | 711/1020 [06:08<02:40,  1.93it/s, loss=0.92, v_num=7zxv]tensor([3., 1., 3.], device='cuda:0')\n",
      "Epoch 0:  70%|██████▉   | 712/1020 [06:09<02:39,  1.93it/s, loss=0.92, v_num=7zxv]tensor([3., 1., 3.], device='cuda:0')\n",
      "Epoch 0:  70%|██████▉   | 713/1020 [06:09<02:39,  1.93it/s, loss=0.92, v_num=7zxv]tensor([3., 1., 3.], device='cuda:0')\n",
      "Epoch 0:  70%|███████   | 714/1020 [06:10<02:38,  1.93it/s, loss=0.92, v_num=7zxv]tensor([4., 1., 3.], device='cuda:0')\n",
      "Epoch 0:  70%|███████   | 715/1020 [06:10<02:38,  1.93it/s, loss=0.92, v_num=7zxv]tensor([4., 1., 3.], device='cuda:0')\n",
      "Epoch 0:  70%|███████   | 716/1020 [06:11<02:37,  1.93it/s, loss=0.92, v_num=7zxv]tensor([4., 1., 3.], device='cuda:0')\n",
      "Epoch 0:  70%|███████   | 717/1020 [06:11<02:37,  1.93it/s, loss=0.92, v_num=7zxv]tensor([4., 1., 3.], device='cuda:0')\n",
      "Epoch 0:  70%|███████   | 718/1020 [06:12<02:36,  1.93it/s, loss=0.92, v_num=7zxv]tensor([4., 1., 3.], device='cuda:0')\n",
      "Epoch 0:  70%|███████   | 719/1020 [06:13<02:36,  1.93it/s, loss=0.92, v_num=7zxv]tensor([4., 1., 3.], device='cuda:0')\n",
      "Epoch 0:  71%|███████   | 720/1020 [06:13<02:35,  1.93it/s, loss=0.92, v_num=7zxv]tensor([4., 1., 3.], device='cuda:0')\n",
      "Epoch 0:  71%|███████   | 721/1020 [06:14<02:35,  1.93it/s, loss=0.92, v_num=7zxv]tensor([3., 1., 3.], device='cuda:0')\n",
      "Epoch 0:  71%|███████   | 722/1020 [06:14<02:34,  1.93it/s, loss=0.921, v_num=7zxv]tensor([3., 1., 3.], device='cuda:0')\n",
      "Epoch 0:  71%|███████   | 723/1020 [06:15<02:34,  1.93it/s, loss=0.92, v_num=7zxv] tensor([3., 1., 3.], device='cuda:0')\n",
      "Epoch 0:  71%|███████   | 724/1020 [06:15<02:33,  1.93it/s, loss=0.92, v_num=7zxv]tensor([3., 1., 3.], device='cuda:0')\n",
      "Epoch 0:  71%|███████   | 725/1020 [06:16<02:33,  1.93it/s, loss=0.92, v_num=7zxv]tensor([3., 1., 3.], device='cuda:0')\n",
      "Epoch 0:  71%|███████   | 726/1020 [06:16<02:32,  1.93it/s, loss=0.92, v_num=7zxv]tensor([3., 1., 3.], device='cuda:0')\n",
      "Epoch 0:  71%|███████▏  | 727/1020 [06:17<02:32,  1.93it/s, loss=0.92, v_num=7zxv]tensor([3., 1., 3.], device='cuda:0')\n",
      "Epoch 0:  71%|███████▏  | 728/1020 [06:18<02:31,  1.93it/s, loss=0.92, v_num=7zxv]tensor([3., 1., 3.], device='cuda:0')\n",
      "Epoch 0:  71%|███████▏  | 729/1020 [06:18<02:31,  1.93it/s, loss=0.92, v_num=7zxv]tensor([3., 1., 3.], device='cuda:0')\n",
      "Epoch 0:  72%|███████▏  | 730/1020 [06:19<02:30,  1.93it/s, loss=0.919, v_num=7zxv]tensor([3., 1., 3.], device='cuda:0')\n",
      "Epoch 0:  72%|███████▏  | 731/1020 [06:19<02:30,  1.93it/s, loss=0.919, v_num=7zxv]tensor([3., 1., 3.], device='cuda:0')\n",
      "Epoch 0:  72%|███████▏  | 732/1020 [06:20<02:29,  1.92it/s, loss=0.919, v_num=7zxv]tensor([3., 1., 3.], device='cuda:0')\n",
      "Epoch 0:  72%|███████▏  | 733/1020 [06:20<02:29,  1.92it/s, loss=0.919, v_num=7zxv]tensor([3., 1., 3.], device='cuda:0')\n",
      "Epoch 0:  72%|███████▏  | 734/1020 [06:21<02:28,  1.92it/s, loss=0.918, v_num=7zxv]tensor([3., 1., 3.], device='cuda:0')\n",
      "Epoch 0:  72%|███████▏  | 735/1020 [06:21<02:28,  1.92it/s, loss=0.918, v_num=7zxv]tensor([4., 1., 3.], device='cuda:0')\n",
      "Epoch 0:  72%|███████▏  | 736/1020 [06:22<02:27,  1.92it/s, loss=0.919, v_num=7zxv]tensor([3., 1., 3.], device='cuda:0')\n",
      "Epoch 0:  72%|███████▏  | 737/1020 [06:22<02:27,  1.92it/s, loss=0.919, v_num=7zxv]tensor([3., 1., 3.], device='cuda:0')\n",
      "Epoch 0:  72%|███████▏  | 738/1020 [06:23<02:26,  1.92it/s, loss=0.919, v_num=7zxv]tensor([3., 1., 2.], device='cuda:0')\n",
      "Epoch 0:  72%|███████▏  | 739/1020 [06:23<02:26,  1.92it/s, loss=0.919, v_num=7zxv]tensor([3., 1., 2.], device='cuda:0')\n",
      "Epoch 0:  73%|███████▎  | 740/1020 [06:24<02:25,  1.92it/s, loss=0.919, v_num=7zxv]tensor([3., 1., 3.], device='cuda:0')\n",
      "Epoch 0:  73%|███████▎  | 741/1020 [06:25<02:24,  1.92it/s, loss=0.919, v_num=7zxv]tensor([3., 1., 2.], device='cuda:0')\n",
      "Epoch 0:  73%|███████▎  | 742/1020 [06:25<02:24,  1.92it/s, loss=0.919, v_num=7zxv]tensor([3., 1., 2.], device='cuda:0')\n",
      "Epoch 0:  73%|███████▎  | 743/1020 [06:26<02:23,  1.92it/s, loss=0.919, v_num=7zxv]tensor([3., 1., 2.], device='cuda:0')\n",
      "Epoch 0:  73%|███████▎  | 744/1020 [06:26<02:23,  1.92it/s, loss=0.919, v_num=7zxv]tensor([3., 1., 2.], device='cuda:0')\n",
      "Epoch 0:  73%|███████▎  | 745/1020 [06:27<02:22,  1.92it/s, loss=0.919, v_num=7zxv]tensor([3., 1., 2.], device='cuda:0')\n",
      "Epoch 0:  73%|███████▎  | 746/1020 [06:27<02:22,  1.92it/s, loss=0.919, v_num=7zxv]tensor([3., 1., 2.], device='cuda:0')\n",
      "Epoch 0:  73%|███████▎  | 747/1020 [06:28<02:21,  1.92it/s, loss=0.919, v_num=7zxv]tensor([3., 1., 2.], device='cuda:0')\n",
      "Epoch 0:  73%|███████▎  | 748/1020 [06:28<02:21,  1.92it/s, loss=0.919, v_num=7zxv]tensor([3., 1., 2.], device='cuda:0')\n",
      "Epoch 0:  73%|███████▎  | 749/1020 [06:29<02:20,  1.92it/s, loss=0.919, v_num=7zxv]tensor([3., 1., 2.], device='cuda:0')\n",
      "Epoch 0:  74%|███████▎  | 750/1020 [06:30<02:20,  1.92it/s, loss=0.919, v_num=7zxv]tensor([3., 1., 2.], device='cuda:0')\n",
      "Epoch 0:  74%|███████▎  | 751/1020 [06:30<02:19,  1.92it/s, loss=0.919, v_num=7zxv]tensor([3., 1., 2.], device='cuda:0')\n",
      "Epoch 0:  74%|███████▎  | 752/1020 [06:30<02:19,  1.92it/s, loss=0.92, v_num=7zxv] tensor([3., 1., 2.], device='cuda:0')\n",
      "Epoch 0:  74%|███████▍  | 753/1020 [06:31<02:18,  1.92it/s, loss=0.919, v_num=7zxv]tensor([3., 1., 3.], device='cuda:0')\n",
      "Epoch 0:  74%|███████▍  | 754/1020 [06:32<02:18,  1.92it/s, loss=0.92, v_num=7zxv] tensor([3., 1., 3.], device='cuda:0')\n",
      "Epoch 0:  74%|███████▍  | 755/1020 [06:32<02:17,  1.92it/s, loss=0.919, v_num=7zxv]tensor([3., 1., 3.], device='cuda:0')\n",
      "Epoch 0:  74%|███████▍  | 756/1020 [06:33<02:17,  1.92it/s, loss=0.919, v_num=7zxv]tensor([4., 1., 3.], device='cuda:0')\n",
      "Epoch 0:  74%|███████▍  | 757/1020 [06:33<02:16,  1.92it/s, loss=0.919, v_num=7zxv]tensor([3., 1., 3.], device='cuda:0')\n",
      "Epoch 0:  74%|███████▍  | 758/1020 [06:34<02:16,  1.92it/s, loss=0.919, v_num=7zxv]tensor([4., 1., 3.], device='cuda:0')\n"
     ]
    },
    {
     "name": "stderr",
     "output_type": "stream",
     "text": [
      "/global/homes/r/ryanliu/.conda/envs/gnn/lib/python3.8/site-packages/pytorch_lightning/trainer/trainer.py:686: UserWarning: Detected KeyboardInterrupt, attempting graceful shutdown...\n",
      "  rank_zero_warn(\"Detected KeyboardInterrupt, attempting graceful shutdown...\")\n"
     ]
    }
   ],
   "source": [
    "logger = WandbLogger(project=\"ITk_0.5GeV\", group=\"Common_track_embedding\")\n",
    "trainer = Trainer(gpus=1, max_epochs=hparams[\"max_epochs\"], logger=logger, num_sanity_val_steps=0, callbacks=[checkpoint_callback], default_root_dir=\"/global/cfs/cdirs/m3443/usr/ryanliu/ITk_embedding/\")\n",
    "trainer.fit(model)"
   ]
  },
  {
   "cell_type": "markdown",
   "metadata": {},
   "source": [
    "### Test embedding"
   ]
  },
  {
   "cell_type": "markdown",
   "metadata": {},
   "source": [
    "A Pytorch Lightning Trainer has two main methods: `fit` and `test`. They represent the two main steps of any ML engingeering or research: Train a model, then make sure it can infer accurately on test (i.e. **hidden**) data."
   ]
  },
  {
   "cell_type": "markdown",
   "metadata": {},
   "source": [
    "Note that `ckpt_path` just tells the trainer to use the latest \"checkpoint\" of the model, rather than *best* checkpoint. A checkpoint is a saved version of the model, a snapshot at a particular stage of the training process. Pytorch Lightning automatically saves a checkpoint of your model in case something crashes and we need to resume."
   ]
  },
  {
   "cell_type": "code",
   "execution_count": 8,
   "metadata": {},
   "outputs": [
    {
     "name": "stderr",
     "output_type": "stream",
     "text": [
      "/global/homes/r/ryanliu/.conda/envs/gnn/lib/python3.8/site-packages/pytorch_lightning/trainer/trainer.py:1394: UserWarning: `.test(ckpt_path=None)` was called without a model. The best model of the previous `fit` call will be used. You can pass `test(ckpt_path='best')` to use and best model checkpoint and avoid this warning or `ckpt_path=trainer.checkpoint_callback.last_model_path` to use the last model.\n",
      "  rank_zero_warn(\n"
     ]
    },
    {
     "ename": "MisconfigurationException",
     "evalue": "`.test(ckpt_path=\"best\")` is set but `ModelCheckpoint` is not configured to save the best model.",
     "output_type": "error",
     "traceback": [
      "\u001b[0;31m---------------------------------------------------------------------------\u001b[0m",
      "\u001b[0;31mMisconfigurationException\u001b[0m                 Traceback (most recent call last)",
      "\u001b[0;32m/tmp/ipykernel_142940/1618485439.py\u001b[0m in \u001b[0;36m<module>\u001b[0;34m\u001b[0m\n\u001b[0;32m----> 1\u001b[0;31m \u001b[0mtest_results\u001b[0m \u001b[0;34m=\u001b[0m \u001b[0mtrainer\u001b[0m\u001b[0;34m.\u001b[0m\u001b[0mtest\u001b[0m\u001b[0;34m(\u001b[0m\u001b[0mckpt_path\u001b[0m\u001b[0;34m=\u001b[0m\u001b[0;32mNone\u001b[0m\u001b[0;34m)\u001b[0m\u001b[0;34m\u001b[0m\u001b[0;34m\u001b[0m\u001b[0m\n\u001b[0m",
      "\u001b[0;32m~/.conda/envs/gnn/lib/python3.8/site-packages/pytorch_lightning/trainer/trainer.py\u001b[0m in \u001b[0;36mtest\u001b[0;34m(self, model, dataloaders, ckpt_path, verbose, datamodule, test_dataloaders)\u001b[0m\n\u001b[1;32m    905\u001b[0m             )\n\u001b[1;32m    906\u001b[0m             \u001b[0mdataloaders\u001b[0m \u001b[0;34m=\u001b[0m \u001b[0mtest_dataloaders\u001b[0m\u001b[0;34m\u001b[0m\u001b[0;34m\u001b[0m\u001b[0m\n\u001b[0;32m--> 907\u001b[0;31m         \u001b[0;32mreturn\u001b[0m \u001b[0mself\u001b[0m\u001b[0;34m.\u001b[0m\u001b[0m_call_and_handle_interrupt\u001b[0m\u001b[0;34m(\u001b[0m\u001b[0mself\u001b[0m\u001b[0;34m.\u001b[0m\u001b[0m_test_impl\u001b[0m\u001b[0;34m,\u001b[0m \u001b[0mmodel\u001b[0m\u001b[0;34m,\u001b[0m \u001b[0mdataloaders\u001b[0m\u001b[0;34m,\u001b[0m \u001b[0mckpt_path\u001b[0m\u001b[0;34m,\u001b[0m \u001b[0mverbose\u001b[0m\u001b[0;34m,\u001b[0m \u001b[0mdatamodule\u001b[0m\u001b[0;34m)\u001b[0m\u001b[0;34m\u001b[0m\u001b[0;34m\u001b[0m\u001b[0m\n\u001b[0m\u001b[1;32m    908\u001b[0m \u001b[0;34m\u001b[0m\u001b[0m\n\u001b[1;32m    909\u001b[0m     def _test_impl(\n",
      "\u001b[0;32m~/.conda/envs/gnn/lib/python3.8/site-packages/pytorch_lightning/trainer/trainer.py\u001b[0m in \u001b[0;36m_call_and_handle_interrupt\u001b[0;34m(self, trainer_fn, *args, **kwargs)\u001b[0m\n\u001b[1;32m    681\u001b[0m         \"\"\"\n\u001b[1;32m    682\u001b[0m         \u001b[0;32mtry\u001b[0m\u001b[0;34m:\u001b[0m\u001b[0;34m\u001b[0m\u001b[0;34m\u001b[0m\u001b[0m\n\u001b[0;32m--> 683\u001b[0;31m             \u001b[0;32mreturn\u001b[0m \u001b[0mtrainer_fn\u001b[0m\u001b[0;34m(\u001b[0m\u001b[0;34m*\u001b[0m\u001b[0margs\u001b[0m\u001b[0;34m,\u001b[0m \u001b[0;34m**\u001b[0m\u001b[0mkwargs\u001b[0m\u001b[0;34m)\u001b[0m\u001b[0;34m\u001b[0m\u001b[0;34m\u001b[0m\u001b[0m\n\u001b[0m\u001b[1;32m    684\u001b[0m         \u001b[0;31m# TODO: treat KeyboardInterrupt as BaseException (delete the code below) in v1.7\u001b[0m\u001b[0;34m\u001b[0m\u001b[0;34m\u001b[0m\u001b[0;34m\u001b[0m\u001b[0m\n\u001b[1;32m    685\u001b[0m         \u001b[0;32mexcept\u001b[0m \u001b[0mKeyboardInterrupt\u001b[0m \u001b[0;32mas\u001b[0m \u001b[0mexception\u001b[0m\u001b[0;34m:\u001b[0m\u001b[0;34m\u001b[0m\u001b[0;34m\u001b[0m\u001b[0m\n",
      "\u001b[0;32m~/.conda/envs/gnn/lib/python3.8/site-packages/pytorch_lightning/trainer/trainer.py\u001b[0m in \u001b[0;36m_test_impl\u001b[0;34m(self, model, dataloaders, ckpt_path, verbose, datamodule)\u001b[0m\n\u001b[1;32m    943\u001b[0m         \u001b[0mself\u001b[0m\u001b[0;34m.\u001b[0m\u001b[0m_data_connector\u001b[0m\u001b[0;34m.\u001b[0m\u001b[0mattach_data\u001b[0m\u001b[0;34m(\u001b[0m\u001b[0mmodel\u001b[0m\u001b[0;34m,\u001b[0m \u001b[0mtest_dataloaders\u001b[0m\u001b[0;34m=\u001b[0m\u001b[0mdataloaders\u001b[0m\u001b[0;34m,\u001b[0m \u001b[0mdatamodule\u001b[0m\u001b[0;34m=\u001b[0m\u001b[0mdatamodule\u001b[0m\u001b[0;34m)\u001b[0m\u001b[0;34m\u001b[0m\u001b[0;34m\u001b[0m\u001b[0m\n\u001b[1;32m    944\u001b[0m \u001b[0;34m\u001b[0m\u001b[0m\n\u001b[0;32m--> 945\u001b[0;31m         self.tested_ckpt_path = self.__set_ckpt_path(\n\u001b[0m\u001b[1;32m    946\u001b[0m             \u001b[0mckpt_path\u001b[0m\u001b[0;34m,\u001b[0m \u001b[0mmodel_provided\u001b[0m\u001b[0;34m=\u001b[0m\u001b[0mmodel_provided\u001b[0m\u001b[0;34m,\u001b[0m \u001b[0mmodel_connected\u001b[0m\u001b[0;34m=\u001b[0m\u001b[0mself\u001b[0m\u001b[0;34m.\u001b[0m\u001b[0mlightning_module\u001b[0m \u001b[0;32mis\u001b[0m \u001b[0;32mnot\u001b[0m \u001b[0;32mNone\u001b[0m\u001b[0;34m\u001b[0m\u001b[0;34m\u001b[0m\u001b[0m\n\u001b[1;32m    947\u001b[0m         )\n",
      "\u001b[0;32m~/.conda/envs/gnn/lib/python3.8/site-packages/pytorch_lightning/trainer/trainer.py\u001b[0m in \u001b[0;36m__set_ckpt_path\u001b[0;34m(self, ckpt_path, model_provided, model_connected)\u001b[0m\n\u001b[1;32m   1413\u001b[0m                         \u001b[0;34mf\" `.{fn}(ckpt_path=PATH)` as no checkpoint path was generated during fitting.\"\u001b[0m\u001b[0;34m\u001b[0m\u001b[0;34m\u001b[0m\u001b[0m\n\u001b[1;32m   1414\u001b[0m                     )\n\u001b[0;32m-> 1415\u001b[0;31m                 raise MisconfigurationException(\n\u001b[0m\u001b[1;32m   1416\u001b[0m                     \u001b[0;34mf'`.{fn}(ckpt_path=\"best\")` is set but `ModelCheckpoint` is not configured to save the best model.'\u001b[0m\u001b[0;34m\u001b[0m\u001b[0;34m\u001b[0m\u001b[0m\n\u001b[1;32m   1417\u001b[0m                 )\n",
      "\u001b[0;31mMisconfigurationException\u001b[0m: `.test(ckpt_path=\"best\")` is set but `ModelCheckpoint` is not configured to save the best model."
     ]
    }
   ],
   "source": [
    "test_results = trainer.test(ckpt_path=None)"
   ]
  },
  {
   "cell_type": "markdown",
   "metadata": {},
   "source": [
    "## Performance"
   ]
  },
  {
   "cell_type": "code",
   "execution_count": null,
   "metadata": {},
   "outputs": [],
   "source": [
    "from LightningModules.Embedding.utils import get_metrics"
   ]
  },
  {
   "cell_type": "markdown",
   "metadata": {},
   "source": [
    "Let's see how well the model learned to embed the hits into a space that separates them into discrete clusters. As in the data visualisation above, we are going manual here. So one thing we need to do is tell the model that we are **evaluating**, not **training**, with `model.eval()`. We also make sure to wrap everything with `with torch.no_grad()` to ignore any gradients. This speeds things up and gives the GPU's memory a rest, since we're not interesting in any kind of training from here on in."
   ]
  },
  {
   "cell_type": "code",
   "execution_count": null,
   "metadata": {},
   "outputs": [],
   "source": [
    "model.eval();"
   ]
  },
  {
   "cell_type": "markdown",
   "metadata": {
    "heading_collapsed": true
   },
   "source": [
    "### Test metrics"
   ]
  },
  {
   "cell_type": "code",
   "execution_count": null,
   "metadata": {
    "hidden": true,
    "scrolled": true
   },
   "outputs": [],
   "source": [
    "all_efficiencies, all_purities = [], []\n",
    "all_radius = np.arange(0.5, 1.2, 0.1)\n",
    "\n",
    "with torch.no_grad():\n",
    "    for r in all_radius:\n",
    "\n",
    "        model.hparams.r_test = r\n",
    "        test_results = trainer.test(ckpt_path=None)[0]\n",
    "\n",
    "        mean_efficiency, mean_purity = test_results[\"eff\"], test_results[\"pur\"]\n",
    "\n",
    "        all_efficiencies.append(mean_efficiency)\n",
    "        all_purities.append(mean_purity)"
   ]
  },
  {
   "cell_type": "markdown",
   "metadata": {
    "hidden": true
   },
   "source": [
    "We should always visualise two important metrics: the efficiency (the number of true positives divided by the total number of possible true edges) and the purity (the number of true positives divided by the number of predicted edges). Is it clear to you why the graphs below behave as they do, as we widen the sphere around each hit to generate neighboring edges?"
   ]
  },
  {
   "cell_type": "code",
   "execution_count": null,
   "metadata": {
    "hidden": true
   },
   "outputs": [],
   "source": [
    "plt.figure(figsize=(12,8))\n",
    "plt.plot(all_radius, all_efficiencies);\n",
    "plt.title(\"Embedding efficiency\", fontsize=24), plt.xlabel(\"Radius of neighborhood\", fontsize=18), plt.ylabel(\"Efficiency\", fontsize=18);"
   ]
  },
  {
   "cell_type": "code",
   "execution_count": null,
   "metadata": {
    "hidden": true
   },
   "outputs": [],
   "source": [
    "plt.figure(figsize=(12,8))\n",
    "plt.plot(all_radius, all_purities);\n",
    "plt.title(\"Embedding purity\", fontsize=24), plt.xlabel(\"Radius of neighborhood\", fontsize=18), plt.ylabel(\"Purity\", fontsize=18);"
   ]
  },
  {
   "cell_type": "markdown",
   "metadata": {
    "heading_collapsed": true
   },
   "source": [
    "### Visualise embedding / latent space"
   ]
  },
  {
   "cell_type": "markdown",
   "metadata": {
    "hidden": true
   },
   "source": [
    "Another useful thing to visualise is the actual space being embedded into. Since it's 8 dimensional, we can reduce it to 2 dimensions with \"Principal Component Analysis\". "
   ]
  },
  {
   "cell_type": "code",
   "execution_count": null,
   "metadata": {
    "hidden": true
   },
   "outputs": [],
   "source": [
    "from sklearn.decomposition import PCA"
   ]
  },
  {
   "cell_type": "code",
   "execution_count": null,
   "metadata": {
    "hidden": true
   },
   "outputs": [],
   "source": [
    "example_data = trainset[0]\n",
    "particle_ids = example_data.pid\n",
    "cyl_coords = example_data.x\n",
    "cell_features = example_data.cell_data\n",
    "all_features = torch.cat([cyl_coords, cell_features], axis=-1).to(\"cuda\")"
   ]
  },
  {
   "cell_type": "code",
   "execution_count": null,
   "metadata": {
    "hidden": true
   },
   "outputs": [],
   "source": [
    "latent_features = model(all_features)"
   ]
  },
  {
   "cell_type": "code",
   "execution_count": null,
   "metadata": {
    "hidden": true
   },
   "outputs": [],
   "source": [
    "pca = PCA(n_components=2)"
   ]
  },
  {
   "cell_type": "code",
   "execution_count": null,
   "metadata": {
    "hidden": true
   },
   "outputs": [],
   "source": [
    "reduced_dimensions = pca.fit_transform(latent_features.detach().cpu())"
   ]
  },
  {
   "cell_type": "code",
   "execution_count": null,
   "metadata": {
    "hidden": true
   },
   "outputs": [],
   "source": [
    "reduced_dimensions"
   ]
  },
  {
   "cell_type": "code",
   "execution_count": null,
   "metadata": {
    "hidden": true
   },
   "outputs": [],
   "source": [
    "plt.figure(figsize=(12,8))\n",
    "plt.scatter(reduced_dimensions[:, 0], reduced_dimensions[:, 1], s=1)"
   ]
  },
  {
   "cell_type": "markdown",
   "metadata": {
    "hidden": true
   },
   "source": [
    "The above plot is what **all** the data looks like in the latent space. Let's pick a (long) particle track and see if the track is projected to be close together:"
   ]
  },
  {
   "cell_type": "code",
   "execution_count": null,
   "metadata": {
    "hidden": true
   },
   "outputs": [],
   "source": [
    "particles, counts = np.unique(example_data.pid, return_counts=True)"
   ]
  },
  {
   "cell_type": "code",
   "execution_count": null,
   "metadata": {
    "hidden": true
   },
   "outputs": [],
   "source": [
    "example_particle = particles[counts > 10][0]"
   ]
  },
  {
   "cell_type": "code",
   "execution_count": null,
   "metadata": {
    "hidden": true
   },
   "outputs": [],
   "source": [
    "plt.figure(figsize=(12,8))\n",
    "plt.scatter(reduced_dimensions[:, 0], reduced_dimensions[:, 1], s=1)\n",
    "plt.scatter(reduced_dimensions[particle_ids == example_particle, 0], reduced_dimensions[particle_ids == example_particle, 1])"
   ]
  },
  {
   "cell_type": "markdown",
   "metadata": {
    "hidden": true
   },
   "source": [
    "There are at least 10 hits in the plot above. Hopefully some of them cluster together into blobs, and that the blobs are close to other blobs of the same color. We get ~99% efficiency with this model, so even if some blobs appear far away in the PCA-reduced 2D space, they are most likely much closer in the 8-dimensional space. You can check this yourself!"
   ]
  },
  {
   "cell_type": "markdown",
   "metadata": {},
   "source": [
    "### Distributions"
   ]
  },
  {
   "cell_type": "code",
   "execution_count": null,
   "metadata": {},
   "outputs": [],
   "source": [
    "def calc_eta(r, z):\n",
    "    theta = np.arctan2(r, z)\n",
    "    return -1. * np.log(np.tan(theta / 2.))"
   ]
  },
  {
   "cell_type": "code",
   "execution_count": null,
   "metadata": {
    "code_folding": []
   },
   "outputs": [],
   "source": [
    "def get_performance(model, batch, r_max, k_max):\n",
    "    with torch.no_grad():\n",
    "        input_data = torch.cat([batch.cell_data[:, :model.hparams[\"cell_channels\"]], batch.x], axis=-1)\n",
    "        input_data[input_data != input_data] = 0\n",
    "        spatial = model(input_data)\n",
    "        e_bidir = torch.cat(\n",
    "                [batch.modulewise_true_edges, batch.modulewise_true_edges.flip(0)], axis=-1\n",
    "            )\n",
    "        e_spatial = build_edges(spatial, spatial, indices=None, r_max=r_max, k_max=k_max)\n",
    "        e_spatial, y_cluster = graph_intersection(e_spatial, e_bidir)\n",
    "    \n",
    "    return y_cluster, e_spatial, e_bidir"
   ]
  },
  {
   "cell_type": "code",
   "execution_count": null,
   "metadata": {},
   "outputs": [],
   "source": [
    "r_max = 1.6\n",
    "k_max = 1100"
   ]
  },
  {
   "cell_type": "code",
   "execution_count": null,
   "metadata": {
    "scrolled": true
   },
   "outputs": [],
   "source": [
    "%%time\n",
    "batch = 0\n",
    "model.eval()\n",
    "\n",
    "y_cluster, e_spatial, e_bidir = get_performance(model, model.testset[batch].to(device), r_max=r_max, k_max=k_max)"
   ]
  },
  {
   "cell_type": "code",
   "execution_count": null,
   "metadata": {},
   "outputs": [],
   "source": [
    "print(f\"Pur: {y_cluster.sum() / y_cluster.shape[0]}, Eff: {y_cluster.sum() / e_bidir.shape[1]}\")"
   ]
  },
  {
   "cell_type": "code",
   "execution_count": null,
   "metadata": {},
   "outputs": [],
   "source": [
    "print(f\"Pur: {y_cluster.sum() / y_cluster.shape[0]}, Eff: {y_cluster.sum() / e_bidir.shape[1]}\")"
   ]
  },
  {
   "cell_type": "code",
   "execution_count": null,
   "metadata": {},
   "outputs": [],
   "source": [
    "torch.cuda.max_memory_allocated() / 1024**3"
   ]
  },
  {
   "cell_type": "code",
   "execution_count": null,
   "metadata": {},
   "outputs": [],
   "source": [
    "torch.cuda.reset_peak_memory_stats()"
   ]
  },
  {
   "cell_type": "code",
   "execution_count": null,
   "metadata": {
    "scrolled": true
   },
   "outputs": [],
   "source": [
    "eta_cuts = np.arange(-4, 4.5, 0.5)\n",
    "batch_range = np.arange(0,200)\n",
    "\n",
    "eta_eff_list = []\n",
    "eta_pur_list = []\n",
    "\n",
    "for batch_idx in batch_range[:5]:\n",
    "    \n",
    "    batch = model.testset[batch_idx].to(device)\n",
    "    \n",
    "    y_cluster, e_spatial, e_bidir = get_performance(model, batch, r_max=r_max, k_max=k_max)\n",
    "    \n",
    "    eta_hits = calc_eta(batch.x[:, 0].cpu(), batch.x[:, 2].cpu())\n",
    "    av_eta_preds = (eta_hits[e_spatial[0]] + eta_hits[e_spatial[1]])/2\n",
    "    av_eta_true = (eta_hits[e_bidir[0]] + eta_hits[e_bidir[1]])/2\n",
    "    \n",
    "    for eta1, eta2 in zip(eta_cuts[:-1], eta_cuts[1:]):\n",
    "        edge_eta_pred = (av_eta_preds >= eta1) & (av_eta_preds <= eta2)\n",
    "        edge_eta_true = (av_eta_true >= eta1) & (av_eta_true <= eta2)\n",
    "        true_positives = y_cluster[edge_eta_pred]\n",
    "\n",
    "        eta_eff_list.append(true_positives.sum().item() / edge_eta_true.sum().item())\n",
    "        eta_pur_list.append(true_positives.sum().item() / true_positives.shape[0])"
   ]
  },
  {
   "cell_type": "code",
   "execution_count": null,
   "metadata": {},
   "outputs": [],
   "source": []
  },
  {
   "cell_type": "code",
   "execution_count": null,
   "metadata": {},
   "outputs": [],
   "source": [
    "eta_eff_reshape = np.array(eta_eff_list).reshape(eta_cuts.shape[0]-1, len(batch_range))\n",
    "eta_pur_reshape = np.array(eta_pur_list).reshape(eta_cuts.shape[0]-1, len(batch_range))"
   ]
  },
  {
   "cell_type": "markdown",
   "metadata": {},
   "source": [
    "Train set"
   ]
  },
  {
   "cell_type": "code",
   "execution_count": null,
   "metadata": {},
   "outputs": [],
   "source": [
    "plt.scatter(eta_eff_reshape.mean(0), eta_pur_reshape.mean(0), s=2)"
   ]
  },
  {
   "cell_type": "markdown",
   "metadata": {},
   "source": [
    "Test set"
   ]
  },
  {
   "cell_type": "code",
   "execution_count": null,
   "metadata": {},
   "outputs": [],
   "source": [
    "plt.scatter(eta_eff_reshape.mean(0), eta_pur_reshape.mean(0), s=2)"
   ]
  },
  {
   "cell_type": "code",
   "execution_count": null,
   "metadata": {},
   "outputs": [],
   "source": [
    "eta_center = (eta_cuts[:-1] + eta_cuts[1:])/2\n",
    "plt.errorbar(eta_center, eta_eff_reshape.mean(1), eta_eff_reshape.std(1), fmt=\"o\")"
   ]
  },
  {
   "cell_type": "code",
   "execution_count": null,
   "metadata": {},
   "outputs": [],
   "source": [
    "eta_center = (eta_cuts[:-1] + eta_cuts[1:])/2\n",
    "plt.errorbar(eta_center, eta_pur_reshape.mean(1), eta_pur_reshape.std(1), fmt=\"o\")"
   ]
  },
  {
   "cell_type": "code",
   "execution_count": null,
   "metadata": {
    "scrolled": true
   },
   "outputs": [],
   "source": [
    "pt_cuts = np.arange(900, 5000, 500)\n",
    "\n",
    "pt_eff_list = []\n",
    "pt_pur_list = []\n",
    "    \n",
    "for batch_idx in batch_range:\n",
    "    \n",
    "    batch = model.testset[batch_idx].to(device)\n",
    "    \n",
    "    y_cluster, e_spatial, e_bidir = get_performance(model, batch, r_max=1.2, k_max=500)\n",
    "    \n",
    "    av_pt_preds = (batch.pt[e_spatial[0]] + batch.pt[e_spatial[1]])/2\n",
    "    av_pt_true = (batch.pt[e_bidir[0]] + batch.pt[e_bidir[1]])/2\n",
    "    \n",
    "    for pt1, pt2 in zip(pt_cuts[:-1], pt_cuts[1:]):\n",
    "        edge_pt_pred = (av_pt_preds >= pt1) & (av_pt_preds <= pt2)\n",
    "        edge_pt_true = (av_pt_true >= pt1) & (av_pt_true <= pt2)\n",
    "        true_positives = y_cluster[edge_pt_pred]\n",
    "\n",
    "        pt_eff_list.append(true_positives.sum().item() / max(1, edge_pt_true.sum().item()))\n",
    "        pt_pur_list.append(true_positives.sum().item() / max(1, true_positives.shape[0]))\n",
    "    "
   ]
  },
  {
   "cell_type": "code",
   "execution_count": null,
   "metadata": {},
   "outputs": [],
   "source": [
    "pt_eff_reshape = np.array(pt_eff_list).reshape(pt_cuts.shape[0]-1, len(batch_range))\n",
    "pt_pur_reshape = np.array(pt_pur_list).reshape(pt_cuts.shape[0]-1, len(batch_range))"
   ]
  },
  {
   "cell_type": "code",
   "execution_count": null,
   "metadata": {},
   "outputs": [],
   "source": [
    "pt_center = (pt_cuts[:-1] + pt_cuts[1:])/2\n",
    "plt.errorbar(pt_center, pt_eff_reshape.mean(1), pt_eff_reshape.std(1), fmt=\"o\")"
   ]
  },
  {
   "cell_type": "code",
   "execution_count": null,
   "metadata": {},
   "outputs": [],
   "source": [
    "pt_center = (pt_cuts[:-1] + pt_cuts[1:])/2\n",
    "plt.errorbar(pt_center, pt_pur_reshape.mean(1), pt_pur_reshape.std(1), fmt=\"o\")"
   ]
  },
  {
   "cell_type": "markdown",
   "metadata": {
    "heading_collapsed": true
   },
   "source": [
    "## Memory of Edge Builder"
   ]
  },
  {
   "cell_type": "code",
   "execution_count": null,
   "metadata": {
    "hidden": true
   },
   "outputs": [],
   "source": [
    "torch.cuda.max_memory_allocated() / 1024**3"
   ]
  },
  {
   "cell_type": "code",
   "execution_count": null,
   "metadata": {
    "hidden": true
   },
   "outputs": [],
   "source": [
    "torch.cuda.reset_peak_memory_stats()"
   ]
  },
  {
   "cell_type": "code",
   "execution_count": null,
   "metadata": {
    "hidden": true
   },
   "outputs": [],
   "source": [
    "r_max = 1.6\n",
    "k_max = 1000"
   ]
  },
  {
   "cell_type": "code",
   "execution_count": null,
   "metadata": {
    "hidden": true
   },
   "outputs": [],
   "source": [
    "batch = model.testset[0].to(device)\n",
    "model.eval()\n",
    "with torch.no_grad():\n",
    "    input_data = torch.cat([batch.cell_data[:, :model.hparams[\"cell_channels\"]], batch.x], axis=-1)\n",
    "    input_data[input_data != input_data] = 0\n",
    "    spatial = model(input_data)\n",
    "    e_bidir = torch.cat(\n",
    "            [batch.modulewise_true_edges, batch.modulewise_true_edges.flip(0)], axis=-1\n",
    "        )"
   ]
  },
  {
   "cell_type": "code",
   "execution_count": null,
   "metadata": {
    "hidden": true
   },
   "outputs": [],
   "source": [
    "dists, idxs, nn, grid = frnn.frnn_grid_points(points1=spatial.unsqueeze(0), points2=spatial.unsqueeze(0), lengths1=None, lengths2=None, K=k_max, r=r_max, grid=None, return_nn=False, return_sorted=True)"
   ]
  },
  {
   "cell_type": "code",
   "execution_count": null,
   "metadata": {
    "hidden": true
   },
   "outputs": [],
   "source": [
    "idxs = idxs.squeeze().int()\n",
    "ind = torch.Tensor.repeat(torch.arange(idxs.shape[0], device=device), (idxs.shape[1], 1), 1).T.int()"
   ]
  },
  {
   "cell_type": "code",
   "execution_count": null,
   "metadata": {
    "hidden": true
   },
   "outputs": [],
   "source": [
    "positive_idxs = idxs >= 0\n",
    "ind = ind[positive_idxs]\n",
    "idxs = idxs[positive_idxs]"
   ]
  },
  {
   "cell_type": "code",
   "execution_count": null,
   "metadata": {
    "hidden": true
   },
   "outputs": [],
   "source": [
    "edge_list = torch.stack([ind, idxs]).int()"
   ]
  },
  {
   "cell_type": "code",
   "execution_count": null,
   "metadata": {
    "hidden": true
   },
   "outputs": [],
   "source": [
    "# Remove self-loops\n",
    "edge_list = edge_list[:, edge_list[0] != edge_list[1]]"
   ]
  },
  {
   "cell_type": "code",
   "execution_count": null,
   "metadata": {
    "hidden": true
   },
   "outputs": [],
   "source": [
    "del ind\n",
    "del idxs"
   ]
  },
  {
   "cell_type": "code",
   "execution_count": null,
   "metadata": {
    "hidden": true
   },
   "outputs": [],
   "source": [
    "edge_list = edge_list.long()"
   ]
  },
  {
   "cell_type": "markdown",
   "metadata": {},
   "source": [
    "# Build Edge Dataset"
   ]
  },
  {
   "cell_type": "markdown",
   "metadata": {},
   "source": [
    "## Load best model"
   ]
  },
  {
   "cell_type": "code",
   "execution_count": null,
   "metadata": {},
   "outputs": [],
   "source": [
    "checkpoint_path = \"/global/cscratch1/sd/danieltm/ExaTrkX/itk_lightning_checkpoints/ITk_1GeV/pdwlz89x/checkpoints/last.ckpt\"\n",
    "checkpoint = torch.load(checkpoint_path)"
   ]
  },
  {
   "cell_type": "code",
   "execution_count": null,
   "metadata": {},
   "outputs": [],
   "source": [
    "model = LayerlessEmbedding.load_from_checkpoint(checkpoint_path).to(device)"
   ]
  },
  {
   "cell_type": "code",
   "execution_count": null,
   "metadata": {},
   "outputs": [],
   "source": [
    "model.hparams[\"train_split\"] = [10, 10, 10]"
   ]
  },
  {
   "cell_type": "code",
   "execution_count": null,
   "metadata": {},
   "outputs": [],
   "source": [
    "%%time\n",
    "model.setup(stage=\"fit\")"
   ]
  },
  {
   "cell_type": "markdown",
   "metadata": {},
   "source": [
    "## Define Building Class"
   ]
  },
  {
   "cell_type": "code",
   "execution_count": null,
   "metadata": {
    "code_folding": []
   },
   "outputs": [],
   "source": [
    "class EmbeddingInferenceBuilder:\n",
    "    def __init__(self, model, output_dir, overwrite=False):\n",
    "        self.output_dir = output_dir\n",
    "        self.model = model\n",
    "        self.overwrite = overwrite\n",
    "\n",
    "        # Prep the directory to produce inference data to\n",
    "        self.datatypes = [\"train\", \"val\", \"test\"]\n",
    "        os.makedirs(self.output_dir, exist_ok=True)\n",
    "        [\n",
    "            os.makedirs(os.path.join(self.output_dir, datatype), exist_ok=True)\n",
    "            for datatype in self.datatypes\n",
    "        ]\n",
    "\n",
    "\n",
    "    def build(self):\n",
    "        print(\"Training finished, running inference to build graphs...\")\n",
    "\n",
    "        # By default, the set of examples propagated through the pipeline will be train+val+test set\n",
    "        datasets = {\n",
    "            \"train\": self.model.trainset,\n",
    "            \"val\": self.model.valset,\n",
    "            \"test\": self.model.testset,\n",
    "        }\n",
    "        total_length = sum([len(dataset) for dataset in datasets.values()])\n",
    "        batch_incr = 0\n",
    "        self.model.eval()\n",
    "        with torch.no_grad():\n",
    "            for set_idx, (datatype, dataset) in enumerate(datasets.items()):\n",
    "                for batch_idx, batch in enumerate(dataset):\n",
    "                    percent = (batch_incr / total_length) * 100\n",
    "                    sys.stdout.flush()\n",
    "                    sys.stdout.write(f\"{percent:.01f}% inference complete \\r\")\n",
    "                    if (\n",
    "                        not os.path.exists(\n",
    "                            os.path.join(\n",
    "                                self.output_dir, datatype, batch.event_file[-4:]\n",
    "                            )\n",
    "                        )\n",
    "                    ) or self.overwrite:\n",
    "                        batch_to_save = copy.deepcopy(batch)\n",
    "                        batch_to_save = batch_to_save.to(\n",
    "                            self.model.device\n",
    "                        )  # Is this step necessary??\n",
    "                        self.construct_downstream(batch_to_save, datatype)\n",
    "\n",
    "                    batch_incr += 1\n",
    "\n",
    "    def construct_downstream(self, batch, datatype):\n",
    "\n",
    "        if \"ci\" in self.model.hparams[\"regime\"]:\n",
    "            input_data = torch.cat([batch.cell_data[:, :self.model.hparams[\"cell_channels\"]], batch.x], axis=-1)\n",
    "            input_data[input_data != input_data] = 0\n",
    "            spatial = self.model(input_data)\n",
    "        else:\n",
    "            input_data = batch.x\n",
    "            input_data[input_data != input_data] = 0\n",
    "            spatial = self.model(input_data)\n",
    "\n",
    "        # Make truth bidirectional\n",
    "        e_bidir = torch.cat(\n",
    "            [\n",
    "                batch.modulewise_true_edges,\n",
    "                torch.stack(\n",
    "                    [batch.modulewise_true_edges[1], batch.modulewise_true_edges[0]],\n",
    "                    axis=1,\n",
    "                ).T,\n",
    "            ],\n",
    "            axis=-1,\n",
    "        )\n",
    "\n",
    "        # Build the radius graph with radius < r_test\n",
    "        e_spatial = build_edges(\n",
    "            spatial, spatial, indices=None, r_max=self.model.hparams[\"r_test\"], k_max =1100\n",
    "        ).long()  # This step should remove reliance on r_val, and instead compute an r_build based on the EXACT r required to reach target eff/pur\n",
    "\n",
    "        # Arbitrary ordering to remove half of the duplicate edges\n",
    "        R_dist = torch.sqrt(batch.x[:, 0] ** 2 + batch.x[:, 2] ** 2)\n",
    "        e_spatial = e_spatial[:, (R_dist[e_spatial[0]] <= R_dist[e_spatial[1]])]\n",
    "\n",
    "        e_spatial, y_cluster = graph_intersection(e_spatial, e_bidir)\n",
    "\n",
    "        # Re-introduce random direction, to avoid training bias\n",
    "        random_flip = torch.randint(2, (e_spatial.shape[1],)).bool()\n",
    "        e_spatial[0, random_flip], e_spatial[1, random_flip] = (\n",
    "            e_spatial[1, random_flip],\n",
    "            e_spatial[0, random_flip],\n",
    "        )\n",
    "\n",
    "        batch.edge_index = e_spatial\n",
    "        batch.y = y_cluster\n",
    "\n",
    "        self.save_downstream(batch, datatype)\n",
    "\n",
    "    def save_downstream(self, batch, datatype):\n",
    "\n",
    "        with open(\n",
    "            os.path.join(self.output_dir, datatype, batch.event_file[-4:]), \"wb\"\n",
    "        ) as pickle_file:\n",
    "            torch.save(batch, pickle_file)\n"
   ]
  },
  {
   "cell_type": "code",
   "execution_count": null,
   "metadata": {},
   "outputs": [],
   "source": [
    "output_dir = \"/project/projectdirs/m3443/data/ITk-upgrade/processed/embedding_processed/0_GeV_unweighted_subset\"\n",
    "model.hparams[\"r_test\"] = 1.6\n",
    "edge_builder = EmbeddingInferenceBuilder(model, output_dir, overwrite=False)"
   ]
  },
  {
   "cell_type": "code",
   "execution_count": null,
   "metadata": {
    "scrolled": true
   },
   "outputs": [],
   "source": [
    "edge_builder.build()"
   ]
  },
  {
   "cell_type": "code",
   "execution_count": null,
   "metadata": {},
   "outputs": [],
   "source": [
    "len(model.trainset)"
   ]
  },
  {
   "cell_type": "code",
   "execution_count": null,
   "metadata": {},
   "outputs": [],
   "source": []
  }
 ],
 "metadata": {
  "kernelspec": {
   "display_name": "Gnn",
   "language": "python",
   "name": "gnn"
  },
  "language_info": {
   "codemirror_mode": {
    "name": "ipython",
    "version": 3
   },
   "file_extension": ".py",
   "mimetype": "text/x-python",
   "name": "python",
   "nbconvert_exporter": "python",
   "pygments_lexer": "ipython3",
   "version": "3.8.12"
  }
 },
 "nbformat": 4,
 "nbformat_minor": 4
}
