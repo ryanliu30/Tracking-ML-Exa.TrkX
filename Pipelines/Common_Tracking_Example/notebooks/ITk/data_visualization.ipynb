{
 "cells": [
  {
   "cell_type": "code",
   "execution_count": null,
   "id": "50488c65-c556-4f2d-b801-669177cde566",
   "metadata": {},
   "outputs": [],
   "source": [
    "%load_ext autoreload\n",
    "%autoreload 2"
   ]
  },
  {
   "cell_type": "code",
   "execution_count": null,
   "id": "78763b38-f560-44ab-8739-56f9f1c0a695",
   "metadata": {},
   "outputs": [],
   "source": [
    "import torch \n",
    "import sys"
   ]
  },
  {
   "cell_type": "markdown",
   "id": "5b46cdb6-d639-433a-8e08-a8456032b848",
   "metadata": {
    "jp-MarkdownHeadingCollapsed": true,
    "tags": []
   },
   "source": [
    "## N-hop Eff&Pur"
   ]
  },
  {
   "cell_type": "code",
   "execution_count": null,
   "id": "ada51942-9067-4095-a715-9559396ca132",
   "metadata": {
    "tags": []
   },
   "outputs": [],
   "source": [
    "import scipy as sp\n",
    "import numpy as np\n",
    "from scipy import sparse\n",
    "def efficiency_performance_wrt_distance(gnn_graph, pred_graph, truth_graph, n_hop):\n",
    "    \n",
    "    array_size = max(gnn_graph.max().item(), pred_graph.max().item(), truth_graph.max().item()) + 1\n",
    "\n",
    "    if torch.is_tensor(pred_graph):\n",
    "        l1 = pred_graph.cpu().numpy()\n",
    "    else:\n",
    "        l1 = pred_graph\n",
    "    if torch.is_tensor(truth_graph):\n",
    "        l2 = truth_graph.cpu().numpy()\n",
    "    else:\n",
    "        l2 = truth_graph\n",
    "    if torch.is_tensor(gnn_graph):\n",
    "        l3 = gnn_graph.cpu().numpy()\n",
    "    else:\n",
    "        l3 = gnn_graph\n",
    "        \n",
    "    e_pred = sp.sparse.coo_matrix(\n",
    "        (np.ones(l1.shape[1]), l1), shape=(array_size, array_size)\n",
    "    ).tocsr()\n",
    "    e_truth = sp.sparse.coo_matrix(\n",
    "        (np.ones(l2.shape[1]), l2), shape=(array_size, array_size)\n",
    "    ).tocsr()\n",
    "    e_gnn = sp.sparse.coo_matrix(\n",
    "        (np.ones(l3.shape[1]), l3), shape=(array_size, array_size)\n",
    "    ).tocsr()\n",
    "    \n",
    "    # symmetrization:\n",
    "    e_pred = ((e_pred + e_pred.T) > 0).astype(np.float32)\n",
    "    e_truth = ((e_truth + e_truth.T) > 0).astype(np.float32)\n",
    "    e_gnn = ((e_gnn + e_gnn.T) > 0).astype(np.float32)\n",
    "    \n",
    "    # find n hop neighbors\n",
    "    \n",
    "    n_hop_neighbors = []\n",
    "    \n",
    "    for i in range(n_hop):\n",
    "        power = e_gnn\n",
    "        for j in range(i):\n",
    "            power = power @ e_gnn\n",
    "        power = power > 0\n",
    "        n_hop_neighbors.append(power.astype(np.float32))\n",
    "        del power\n",
    "    \n",
    "    for i in reversed(range(n_hop)):\n",
    "        for j in reversed(range(i)):\n",
    "            n_hop_neighbors[i] = n_hop_neighbors[i] - n_hop_neighbors[j]\n",
    "        n_hop_neighbors[i] = (n_hop_neighbors[i] > 0).astype(np.float32)\n",
    "    \n",
    "    n_hop_eff = []\n",
    "    \n",
    "    for i in range(n_hop):\n",
    "        signal_num = e_truth.multiply(n_hop_neighbors[i]).sum()\n",
    "        found_num = e_truth.multiply(e_pred.multiply(n_hop_neighbors[i])).sum()\n",
    "        n_hop_eff.append((found_num/(signal_num + 1e-12), int(found_num/2), int(signal_num/2)))\n",
    "        \n",
    "    return n_hop_eff, n_hop_neighbors"
   ]
  },
  {
   "cell_type": "code",
   "execution_count": null,
   "id": "6cf7ae9f-29a7-44a6-9367-6f2bb0b855c9",
   "metadata": {},
   "outputs": [],
   "source": [
    "path = \"/global/cfs/cdirs/m3443/data/ITk-upgrade/processed/gnn_processed/0GeV_barrel_v3/\"\n",
    "event = torch.load(path + \"test/0008\", map_location = \"cpu\")"
   ]
  },
  {
   "cell_type": "code",
   "execution_count": null,
   "id": "0664ae50-c298-4882-a1e8-53357be112e7",
   "metadata": {},
   "outputs": [],
   "source": [
    "torch.unique(event.pid, return_inverse = True)[1].max()"
   ]
  },
  {
   "cell_type": "code",
   "execution_count": null,
   "id": "fa503f9a-fa64-4533-8917-d11124c0a760",
   "metadata": {},
   "outputs": [],
   "source": [
    "event"
   ]
  },
  {
   "cell_type": "code",
   "execution_count": null,
   "id": "9c9289ea-d8c7-4d0b-8876-b710ae2ce049",
   "metadata": {},
   "outputs": [],
   "source": [
    "pred_graph = event.edge_index[:,event.scores > 0.0]\n",
    "gnn_graph = event.edge_index[:,(event.scores > 0.15) | (torch.rand(event.scores.shape) < 0.1)]\n",
    "signal_graph = event.signal_true_edges\n",
    "# n_hop_eff, n_hop_neighbors = efficiency_performance_wrt_distance(gnn_graph, pred_graph, signal_graph, 10)\n",
    "# print(n_hop_eff)\n",
    "# print(*[n_hop_neighbors[i].sum() for i in range(len(n_hop_neighbors))])"
   ]
  },
  {
   "cell_type": "code",
   "execution_count": null,
   "id": "44662ebd-139f-4174-965d-0940eb8d7c2a",
   "metadata": {},
   "outputs": [],
   "source": [
    "uniques, inverse = event.pid[(event.pt > 1000.) & (event.primary == 1) & (event.nhits >= 3)].unique(return_inverse = True)\n",
    "print(inverse.max())"
   ]
  },
  {
   "cell_type": "code",
   "execution_count": null,
   "id": "6d827769-307a-4cde-8ca8-cdc55bde398f",
   "metadata": {},
   "outputs": [],
   "source": [
    "mask = torch.tensor(len(event.pid) * [False])\n",
    "conncted_nodes = torch.unique(event.edge_index[:,event.scores > 0.15])\n",
    "mask[conncted_nodes] = True\n",
    "\n",
    "inverse_mask = torch.zeros(len(event.pid)).long()\n",
    "inverse_mask[mask] = torch.arange(mask.sum())"
   ]
  },
  {
   "cell_type": "code",
   "execution_count": null,
   "id": "aaceff44-6d79-4b1b-8873-a8fb74dea0f9",
   "metadata": {},
   "outputs": [],
   "source": [
    "pred_graph = pred_graph[:, mask[pred_graph].all(0)]\n",
    "pred_graph = inverse_mask[pred_graph]"
   ]
  },
  {
   "cell_type": "code",
   "execution_count": null,
   "id": "7a321a42-85de-4666-9786-4fb8651aaa9c",
   "metadata": {},
   "outputs": [],
   "source": [
    "from scipy.sparse.csgraph import connected_components\n",
    "\n",
    "graph = sp.sparse.coo_matrix((np.ones(pred_graph.shape[1]), pred_graph), shape=(pred_graph.max()+1, pred_graph.max()+1)).tocsr()\n",
    "n_components, labels = connected_components(graph, directed=False, return_labels=True)\n",
    "print(n_components, labels)\n",
    "# print(pred_graph.unique(return_inverse = True)[1])"
   ]
  },
  {
   "cell_type": "code",
   "execution_count": null,
   "id": "a9baa125-062f-4dc8-8aa9-3e1a153513c6",
   "metadata": {},
   "outputs": [],
   "source": [
    "score_cut = 0.5\n",
    "eff = event.y[event.scores > score_cut].sum()/event.signal_true_edges.shape[1]\n",
    "pur = event.y[event.scores > score_cut].sum()/(event.scores > score_cut).sum()\n",
    "print(\"eff:{:.3f}, pur:{:.3f}\".format(eff.item(), pur.item()))"
   ]
  },
  {
   "cell_type": "code",
   "execution_count": null,
   "id": "f2a73d32-0204-4b01-b9b5-7675a68a1055",
   "metadata": {},
   "outputs": [],
   "source": [
    "from sklearn.metrics import RocCurveDisplay\n",
    "from sklearn import svm\n",
    "RocCurveDisplay.from_predictions(event.y.bool().numpy(), event.scores.numpy())"
   ]
  },
  {
   "cell_type": "markdown",
   "id": "eeccf1a8-1beb-41a5-b61b-d49dc15f2f51",
   "metadata": {
    "jp-MarkdownHeadingCollapsed": true,
    "tags": []
   },
   "source": [
    "## Toy Model"
   ]
  },
  {
   "cell_type": "code",
   "execution_count": null,
   "id": "59e40f4f-d5c4-4bd3-8373-3f205068da69",
   "metadata": {},
   "outputs": [],
   "source": [
    "import torch \n",
    "import sys\n",
    "from scipy.sparse.csgraph import connected_components\n",
    "import scipy as sp\n",
    "import numpy as np\n",
    "from scipy import sparse\n",
    "\n",
    "sys.path.append('../..')\n",
    "\n",
    "from LightningModules.GNNEmbeddings.utils import generate_toys\n",
    "    \n",
    "def graph_intersection(\n",
    "    pred_graph, truth_graph, using_weights=False, weights_bidir=None\n",
    "):\n",
    "\n",
    "    array_size = max(pred_graph.max().item(), truth_graph.max().item()) + 1\n",
    "\n",
    "    if torch.is_tensor(pred_graph):\n",
    "        l1 = pred_graph.cpu().numpy()\n",
    "    else:\n",
    "        l1 = pred_graph\n",
    "    if torch.is_tensor(truth_graph):\n",
    "        l2 = truth_graph.cpu().numpy()\n",
    "    else:\n",
    "        l2 = truth_graph\n",
    "    e_1 = sp.sparse.coo_matrix(\n",
    "        (np.ones(l1.shape[1]), l1), shape=(array_size, array_size)\n",
    "    ).tocsr()\n",
    "    e_2 = sp.sparse.coo_matrix(\n",
    "        (np.ones(l2.shape[1]), l2), shape=(array_size, array_size)\n",
    "    ).tocsr()\n",
    "    del l1\n",
    "\n",
    "    e_intersection = e_1.multiply(e_2) - ((e_1 - e_2) > 0)\n",
    "    del e_1\n",
    "    del e_2\n",
    "\n",
    "    if using_weights:\n",
    "        weights_list = weights_bidir.cpu().numpy()\n",
    "        weights_sparse = sp.sparse.coo_matrix(\n",
    "            (weights_list, l2), shape=(array_size, array_size)\n",
    "        ).tocsr()\n",
    "        del weights_list\n",
    "        del l2\n",
    "        new_weights = weights_sparse[e_intersection.astype(\"bool\")]\n",
    "        del weights_sparse\n",
    "        new_weights = torch.from_numpy(np.array(new_weights)[0])\n",
    "\n",
    "    e_intersection = e_intersection.tocoo()\n",
    "    new_pred_graph = torch.from_numpy(\n",
    "        np.vstack([e_intersection.row, e_intersection.col])\n",
    "    ).long()  # .to(device)\n",
    "    y = torch.from_numpy(e_intersection.data > 0)  # .to(device)\n",
    "    del e_intersection\n",
    "\n",
    "    if using_weights:\n",
    "        return new_pred_graph, y, new_weights\n",
    "    else:\n",
    "        return new_pred_graph, y"
   ]
  },
  {
   "cell_type": "code",
   "execution_count": null,
   "id": "07a2a3cd-00e2-4181-bb73-3a74405390a0",
   "metadata": {},
   "outputs": [],
   "source": [
    "event = generate_toys(100, 10, 1, 5, 2, 1000., 0.9, 0.5)"
   ]
  },
  {
   "cell_type": "code",
   "execution_count": null,
   "id": "c37a72a7-1ce6-4e50-ad83-590a5256f602",
   "metadata": {},
   "outputs": [],
   "source": [
    "del_y = (event.x[event.signal_true_edges[0], 1] - event.x[event.signal_true_edges[1], 1])\n",
    "x = (event.x[event.signal_true_edges[0], 0] + event.x[event.signal_true_edges[1], 0])/2\n",
    "print((del_y).abs().mean())\n",
    "print((del_y).square().mean().sqrt())\n",
    "print(del_y.abs().max())"
   ]
  },
  {
   "cell_type": "code",
   "execution_count": null,
   "id": "900f59b7-5081-434c-bfc2-14f811f49441",
   "metadata": {},
   "outputs": [],
   "source": [
    "import networkx as nx\n",
    "from matplotlib import cm\n",
    "\n",
    "G = nx.Graph()\n",
    "G.add_nodes_from(range(len(event.x)))\n",
    "\n",
    "for i in range(len(event.graph.T)):\n",
    "    color = \"red\" if event.y[i] else \"gray\" \n",
    "    G.add_edge(*event.graph.T.tolist()[i], color = color)\n",
    "\n",
    "pos = {}\n",
    "\n",
    "for i in range(len(event.x)):\n",
    "    pos[i] = event.x[i].numpy()\n",
    "    \n",
    "node_color = cm.jet(event.pid/event.pid.max())\n",
    "\n",
    "import matplotlib.pyplot as plt\n",
    "plt.figure(figsize=(16,8))\n",
    "nx.draw(G, pos=pos, node_size = 100, node_color = node_color, edge_color = nx.get_edge_attributes(G,'color').values())\n",
    "plt.draw()"
   ]
  },
  {
   "cell_type": "code",
   "execution_count": null,
   "id": "6c1ef53e-3c27-43a1-b439-700501a8bd4a",
   "metadata": {},
   "outputs": [],
   "source": [
    "batch = event\n",
    "\n",
    "unnormalized_assignment = torch.rand((len(batch.pid), 10))\n",
    "assignments = torch.nn.Softmax(dim = -1)(unnormalized_assignment)"
   ]
  },
  {
   "cell_type": "code",
   "execution_count": null,
   "id": "00942917-b546-4c07-a080-91fc1340bc0e",
   "metadata": {},
   "outputs": [],
   "source": [
    "from torch_scatter import scatter_mean, scatter_add, scatter_min\n",
    "from scipy.sparse import csr_matrix\n",
    "from scipy.sparse.csgraph import min_weight_full_bipartite_matching\n",
    "from torch import nn\n",
    "_, pid = torch.unique(batch.pid.long(), return_inverse = True)\n",
    "pt = scatter_min(batch.pt, pid, dim=0, dim_size = pid.max()+1)[0]\n",
    "matching = torch.zeros(pid.max()+1).long()\n",
    "\n",
    "assignments = scatter_add(assignments, pid, dim = 0, dim_size = pid.max()+1)\n",
    "probability = assignments/assignments.sum(1).unsqueeze(1)\n",
    "signal_sample = (pt > 1000.)\n",
    "inverse_mask = torch.arange(len(signal_sample))[signal_sample]\n",
    "\n",
    "bipartite_graph = csr_matrix(probability[signal_sample].cpu().numpy())\n",
    "row_match, col_match = min_weight_full_bipartite_matching(bipartite_graph, maximize=True)\n",
    "matching[row_match] = torch.tensor(col_match).long()\n",
    "\n",
    "if (~signal_sample).any():\n",
    "    assignments[:,col_match] = -1\n",
    "    matching[~signal_sample] = assignments[~signal_sample].argmax(1)\n",
    "\n",
    "labels = matching[pid]\n",
    "loss = nn.functional.cross_entropy(unnormalized_assignment, labels, reduction = \"none\")\n",
    "print(batch.pid, signal_sample, pt, probability, labels, row_match, col_match, sep = \"\\n\")\n",
    "print(torch.stack([batch.pid, labels]).T)\n",
    "\n",
    "weights = torch.rand(len(batch.pid))\n",
    "weights = weights/weights.sum()\n",
    "\n",
    "loss = torch.dot(loss, weights)"
   ]
  },
  {
   "cell_type": "markdown",
   "id": "389f724f-fdd9-4cfd-9af0-24547e7e5d5b",
   "metadata": {
    "jp-MarkdownHeadingCollapsed": true,
    "tags": []
   },
   "source": [
    "## HDBSCAN"
   ]
  },
  {
   "cell_type": "code",
   "execution_count": null,
   "id": "9530dc63-6ae4-49be-b729-c282d880edcc",
   "metadata": {},
   "outputs": [],
   "source": [
    "import torch\n",
    "import cudf\n",
    "from cuml.neighbors import NearestNeighbors\n",
    "from cuml.datasets import make_blobs\n",
    "import cupy as cp\n",
    "from cuml.cluster import HDBSCAN\n",
    "import matplotlib.pyplot as plt\n",
    "model = HDBSCAN(min_cluster_size=5, cluster_selection_epsilon=0.0, metric='euclidean', gen_min_span_tree=True, cluster_selection_method = \"leaf\")\n"
   ]
  },
  {
   "cell_type": "code",
   "execution_count": null,
   "id": "79d91f1b-f4f8-4a14-a251-cd1b9c953769",
   "metadata": {},
   "outputs": [],
   "source": []
  },
  {
   "cell_type": "code",
   "execution_count": null,
   "id": "143077a6-5f36-4dad-9bbc-23443d38ff9f",
   "metadata": {},
   "outputs": [],
   "source": [
    "%%time\n",
    "import time\n",
    "for i in range(1000):\n",
    "    s = time.time()\n",
    "    X, _ = make_blobs(n_samples=100000, centers=10000,\n",
    "                        n_features=15)\n",
    "    X = torch.as_tensor(X).cuda()\n",
    "\n",
    "    clusters = model.fit_predict(X)\n",
    "    print(torch.as_tensor(clusters).max())\n",
    "    print(time.time()-s)"
   ]
  },
  {
   "cell_type": "code",
   "execution_count": null,
   "id": "41c8a417-0716-4b1f-a99f-3dc4bd609d38",
   "metadata": {},
   "outputs": [],
   "source": [
    "plt.figure(figsize=(8, 6), dpi= 500, facecolor='w', edgecolor='k')\n",
    "model.single_linkage_tree_.plot(cmap='viridis', colorbar=True)"
   ]
  },
  {
   "cell_type": "code",
   "execution_count": null,
   "id": "9852789d-c118-400c-bde4-286df9d8a3fe",
   "metadata": {},
   "outputs": [],
   "source": [
    "import matplotlib.pyplot as plt\n",
    "plt.figure(figsize=(8, 6), dpi= 500, facecolor='w', edgecolor='k')\n",
    "model.minimum_spanning_tree_.plot(edge_cmap='viridis',\n",
    "                                      edge_alpha=0.6,\n",
    "                                      node_size=5,\n",
    "                                      edge_linewidth=0.5)"
   ]
  },
  {
   "cell_type": "code",
   "execution_count": null,
   "id": "7c823f51-ee55-4931-8f48-05bf013305a7",
   "metadata": {},
   "outputs": [],
   "source": [
    "import seaborn as sns\n",
    "plt.figure(figsize=(8, 6), dpi= 500, facecolor='w', edgecolor='k')\n",
    "model.condensed_tree_.plot()"
   ]
  },
  {
   "cell_type": "markdown",
   "id": "c4716519-e085-44ea-9ccd-16a8a9cafce1",
   "metadata": {
    "jp-MarkdownHeadingCollapsed": true,
    "tags": []
   },
   "source": [
    "## GNN Embedding"
   ]
  },
  {
   "cell_type": "code",
   "execution_count": null,
   "id": "8e067b21-e7d9-4758-877c-f0f493511a79",
   "metadata": {},
   "outputs": [],
   "source": [
    "import sys\n",
    "import torch\n",
    "import cudf\n",
    "from cuml.neighbors import NearestNeighbors\n",
    "from cuml.datasets import make_blobs\n",
    "import cupy as cp\n",
    "from cuml.cluster import HDBSCAN, KMeans\n",
    "import cuml\n",
    "import matplotlib.pyplot as plt\n",
    "sys.path.append('../..')\n",
    "from LightningModules.GNNNodeEmbedding.Models.gnn_embedding import InteractionGNN\n",
    "from LightningModules.GNNEmbeddings.utils import generate_toys\n",
    "model = InteractionGNN.load_from_checkpoint(\"/global/cfs/cdirs/m3443/usr/ryanliu/ITk_gnn_embedding/ITk_barrel_gnn_embedding/nay5rxu1/checkpoints/last.ckpt\").to(\"cuda\")"
   ]
  },
  {
   "cell_type": "code",
   "execution_count": null,
   "id": "7d2789d7-8e98-4286-a196-5329b4cd4dce",
   "metadata": {},
   "outputs": [],
   "source": [
    "%%time\n",
    "import sys\n",
    "import cuml\n",
    "sys.path.append('../..')\n",
    "from LightningModules.GNNEmbeddings.utils import generate_toys\n",
    "event = generate_toys(100, 10, 10, 1, 5, 1, 1000., 0.9, 0.5).cuda()"
   ]
  },
  {
   "cell_type": "code",
   "execution_count": null,
   "id": "d0a372d8-ae31-436c-8580-bb1722589995",
   "metadata": {},
   "outputs": [],
   "source": [
    "with torch.no_grad():\n",
    "    embeddings,  old_embeddings = model(event.x, event.graph)"
   ]
  },
  {
   "cell_type": "code",
   "execution_count": null,
   "id": "df8faceb-8e5d-4e84-af3b-5db11f97023b",
   "metadata": {},
   "outputs": [],
   "source": [
    "HDBSCANmodel = HDBSCAN(min_cluster_size = 3, min_samples = 3, max_cluster_size=15, metric='euclidean', cluster_selection_method = \"leaf\", verbose = cuml.common.logger.level_critical)\n",
    "clusters = cp.asnumpy(HDBSCANmodel.fit_predict(old_embeddings))"
   ]
  },
  {
   "cell_type": "code",
   "execution_count": null,
   "id": "ec10d613-9bfb-4c13-b674-100fc1e7b981",
   "metadata": {},
   "outputs": [],
   "source": [
    "import networkx as nx\n",
    "from matplotlib import cm\n",
    "\n",
    "event = event.cpu().detach()\n",
    "G = nx.Graph()\n",
    "G.add_nodes_from(range(len(event.x)))\n",
    "\n",
    "for i in range(len(event.graph.T)):\n",
    "    color = [1, 0, 0, 0.5] if event.y[i] else [0, 0, 0, 0.5] \n",
    "    G.add_edge(*event.graph.T.tolist()[i], color = color)\n",
    "\n",
    "pos = {}\n",
    "\n",
    "for i in range(len(event.x)):\n",
    "    pos[i] = event.x[i].numpy()\n",
    "    \n",
    "node_color = cm.jet(event.pid/event.pid.max())\n",
    "node_color[:, 3] = 0.5\n",
    "\n",
    "import matplotlib.pyplot as plt\n",
    "plt.figure(figsize=(16,12), dpi = 300)\n",
    "nx.draw(G, pos=pos, node_size = 50, node_color = node_color, edge_color = nx.get_edge_attributes(G,'color').values())\n",
    "plt.grid()\n",
    "plt.show()\n",
    "plt.savefig('misc/toy_example.png')"
   ]
  },
  {
   "cell_type": "code",
   "execution_count": null,
   "id": "31457ecb-bd9d-4731-bce8-f8312ba03d52",
   "metadata": {},
   "outputs": [],
   "source": [
    "import networkx as nx\n",
    "from matplotlib import cm\n",
    "event = event.cpu().detach()\n",
    "G = nx.Graph()\n",
    "G.add_nodes_from(range(len(event.x)))\n",
    "\n",
    "for i in range(len(event.graph.T)):\n",
    "    color = [1, 0, 0, 0.5] if event.y[i] else [0, 0, 0, 0.3] \n",
    "    G.add_edge(*event.graph.T.tolist()[i], color = color)\n",
    "\n",
    "pos = {}\n",
    "\n",
    "for i in range(len(event.x)):\n",
    "    pos[i] = event.x[i].numpy()\n",
    "    \n",
    "node_color = cm.gist_rainbow((clusters + 1)/(clusters + 1).max())\n",
    "node_color[:, -1]=0.1\n",
    "node_color[clusters == -1] = [0,0,0,1]\n",
    "\n",
    "import matplotlib.pyplot as plt\n",
    "plt.figure(figsize=(16,8))\n",
    "nx.draw(G, pos=pos, node_size = 50, node_color = node_color, edge_color = nx.get_edge_attributes(G,'color').values())\n",
    "plt.draw()"
   ]
  },
  {
   "cell_type": "code",
   "execution_count": null,
   "id": "d63307e4-6381-49f4-86fd-87667b94c193",
   "metadata": {},
   "outputs": [],
   "source": [
    "event.y.sum()/len(event.y)"
   ]
  },
  {
   "cell_type": "code",
   "execution_count": null,
   "id": "ec6f7968-b617-4c8c-b46a-67460b623e09",
   "metadata": {},
   "outputs": [],
   "source": [
    "from scipy.sparse import csr_matrix\n",
    "from scipy.sparse.csgraph import min_weight_full_bipartite_matching\n",
    "from torch import nn\n",
    "from torch_scatter import scatter_mean, scatter_add, scatter_min\n",
    "\n",
    "labels = torch.tensor(clusters+1).long()\n",
    "labels = nn.functional.one_hot(labels, num_classes=labels.max()+1).float()\n",
    "_, pid = event.pid.unique(return_inverse = True)\n",
    "pid_cluster_counts = scatter_add(labels, pid, dim = 0, dim_size = pid.max()+1)\n",
    "original_assignments = labels + 0.1*torch.rand(labels.shape)\n",
    "_, pid = event.pid.unique(return_inverse = True)\n",
    "bipartite_matrix = csr_matrix(scatter_add(original_assignments, pid, dim = 0, dim_size = pid.max()+1).cpu().numpy())\n",
    "row_match, col_match = min_weight_full_bipartite_matching(bipartite_matrix, maximize=True)\n",
    "pt = scatter_min(event.pt, pid, dim=0, dim_size = pid.max()+1)[0]\n",
    "\n",
    "majority_mask = (pid_cluster_counts[row_match, col_match]/pid_cluster_counts[:, col_match].sum(0) > 0.5)\n",
    "pt_mask = (pt[row_match] > 1000.)\n",
    "\n",
    "eff = (majority_mask & pt_mask).sum()/(pt > 1000.).sum()\n",
    "pur = (pid_cluster_counts[row_match, col_match]/pid_cluster_counts[:, col_match].sum(0))[majority_mask].mean()"
   ]
  },
  {
   "cell_type": "code",
   "execution_count": null,
   "id": "819f0f2b-f129-465e-ae42-1fd4ea1fbdb5",
   "metadata": {},
   "outputs": [],
   "source": [
    "print(eff, pur)"
   ]
  },
  {
   "cell_type": "code",
   "execution_count": null,
   "id": "33ec36f4-5b04-4d85-9621-af3b1f6689b4",
   "metadata": {},
   "outputs": [],
   "source": [
    "plt.figure(figsize=(8, 6), dpi= 200, facecolor='w', edgecolor='k')\n",
    "HDBSCANmodel.minimum_spanning_tree_.plot(edge_cmap='viridis',\n",
    "                                      edge_alpha=0.6,\n",
    "                                      node_size=5,\n",
    "                                      edge_linewidth=0.5)"
   ]
  },
  {
   "cell_type": "code",
   "execution_count": null,
   "id": "f153efa7-e678-4fc0-83e4-847ffbf520d6",
   "metadata": {},
   "outputs": [],
   "source": [
    "plt.figure(figsize=(8, 6), dpi= 200, facecolor='w', edgecolor='k')\n",
    "HDBSCANmodel.single_linkage_tree_.plot(cmap='viridis', colorbar=True)"
   ]
  },
  {
   "cell_type": "code",
   "execution_count": null,
   "id": "ce0ff563-4ade-499e-9402-84d1337ba2e6",
   "metadata": {},
   "outputs": [],
   "source": [
    "import seaborn as sns\n",
    "plt.figure(figsize=(8, 6), dpi= 500, facecolor='w', edgecolor='k')\n",
    "plt.yscale('log')\n",
    "HDBSCANmodel.condensed_tree_.plot()"
   ]
  },
  {
   "cell_type": "code",
   "execution_count": null,
   "id": "77b4d433-ecd2-42d3-b40d-3985bbe1a89e",
   "metadata": {},
   "outputs": [],
   "source": [
    "from cuml.cluster import KMeans"
   ]
  },
  {
   "cell_type": "code",
   "execution_count": null,
   "id": "7dd73f2a-0548-4459-a9da-a5f24c37d6c1",
   "metadata": {},
   "outputs": [],
   "source": [
    "%%time\n",
    "kmean = KMeans(handle=None, n_clusters=1000, max_iter=300, tol=0.0001, verbose=False, random_state=1, init='scalable-k-means++', n_init=1, oversampling_factor=2.0, max_samples_per_batch=32768, output_type=None)"
   ]
  },
  {
   "cell_type": "markdown",
   "id": "7d2d7b92-b173-4d79-be53-95fb7cb58539",
   "metadata": {
    "jp-MarkdownHeadingCollapsed": true,
    "tags": []
   },
   "source": [
    "## Torch Sparse"
   ]
  },
  {
   "cell_type": "code",
   "execution_count": null,
   "id": "41e4486e-9e2b-49a8-bfdf-8f000883306a",
   "metadata": {},
   "outputs": [],
   "source": [
    "import torch"
   ]
  },
  {
   "cell_type": "code",
   "execution_count": null,
   "id": "886cef47-8d4a-49f3-af78-68c803a832cd",
   "metadata": {},
   "outputs": [],
   "source": [
    "a = torch.arange(10).cuda()\n",
    "b = torch.randperm(10).cuda()\n",
    "inds = torch.stack([a, b], dim = 0)\n",
    "values = torch.rand(10).cuda()\n",
    "sparse_tensor = torch.sparse_coo_tensor(inds, values, (10, 10)).coalesce().requires_grad_(True)\n",
    "sparse_tensor2 = torch.sparse_coo_tensor(inds, values, (10, 10)).coalesce().requires_grad_(True)"
   ]
  },
  {
   "cell_type": "code",
   "execution_count": null,
   "id": "122ee86e-3c19-4b21-8aba-34bb70acc13c",
   "metadata": {},
   "outputs": [],
   "source": [
    "# sparse_tensor.requires_grad_(True)"
   ]
  },
  {
   "cell_type": "code",
   "execution_count": null,
   "id": "0450f486-7b23-445a-bb47-4aadcfead84c",
   "metadata": {},
   "outputs": [],
   "source": [
    "a = torch.rand((10,10)).requires_grad_(True)\n",
    "b = torch.randint(10, (10, 5))\n",
    "torch.einsum(\"ij, ikj -> ik\", a, a[b]).sum().backward()"
   ]
  },
  {
   "cell_type": "code",
   "execution_count": null,
   "id": "ef5dfd9b-e4db-4d98-943d-cb19bb45e8aa",
   "metadata": {},
   "outputs": [],
   "source": [
    "tot.backward()"
   ]
  },
  {
   "cell_type": "code",
   "execution_count": null,
   "id": "3ba9f789-7586-4914-b912-d084135cb634",
   "metadata": {},
   "outputs": [],
   "source": [
    "print(sparse_tensor.grad)\n",
    "print(dense.grad)"
   ]
  },
  {
   "cell_type": "code",
   "execution_count": null,
   "id": "80e34a58-a2e1-465b-8ded-4d0aa19b71de",
   "metadata": {},
   "outputs": [],
   "source": [
    "import torch"
   ]
  },
  {
   "cell_type": "code",
   "execution_count": null,
   "id": "bdb850a0-b5c6-4a8c-921c-28c1cc8a46d1",
   "metadata": {},
   "outputs": [],
   "source": [
    "a = torch.rand(10, 10)"
   ]
  },
  {
   "cell_type": "code",
   "execution_count": null,
   "id": "da471dc6-2fcf-418c-9eb8-45ea479b419c",
   "metadata": {},
   "outputs": [],
   "source": [
    "a[torch.arange(10), torch.randperm(10)]"
   ]
  },
  {
   "cell_type": "code",
   "execution_count": null,
   "id": "13fae4ed-6204-437c-900b-041e30e1eb7b",
   "metadata": {},
   "outputs": [],
   "source": [
    "import torch\n",
    "embeddings = torch.load(\"/global/homes/r/ryanliu/Tracking-ML-Exa.TrkX/Pipelines/Common_Tracking_Example/LightningModules/GNNEmbeddings/test\")"
   ]
  },
  {
   "cell_type": "code",
   "execution_count": null,
   "id": "2fab1902-ffa8-42df-87e9-3c1b88e3fcf4",
   "metadata": {},
   "outputs": [],
   "source": [
    "print(embeddings)"
   ]
  },
  {
   "cell_type": "code",
   "execution_count": null,
   "id": "f5a26479-bc71-43a8-bec1-4b8d74c71d9c",
   "metadata": {},
   "outputs": [],
   "source": [
    "import torch\n",
    "import cudf\n",
    "from cuml.neighbors import NearestNeighbors\n",
    "from cuml.datasets import make_blobs\n",
    "import cupy as cp\n",
    "from cuml.cluster import HDBSCAN\n",
    "import matplotlib.pyplot as plt\n",
    "import cudf\n",
    "model = HDBSCAN(min_cluster_size=3, cluster_selection_epsilon=0.0, metric='euclidean', cluster_selection_method = \"eom\")"
   ]
  },
  {
   "cell_type": "code",
   "execution_count": null,
   "id": "c105d87c-272b-453a-9191-81cdbc63e740",
   "metadata": {},
   "outputs": [],
   "source": [
    "model.fit_predict(embeddings.cuda())"
   ]
  },
  {
   "cell_type": "code",
   "execution_count": null,
   "id": "e068f1f1-38e4-4e10-bdce-027aa20a68bb",
   "metadata": {},
   "outputs": [],
   "source": [
    "dist = torch.einsum(\"ijk -> ij\", (embeddings.unsqueeze(0).expand(len(embeddings), len(embeddings), 15) - embeddings.unsqueeze(1).expand(len(embeddings), len(embeddings), 15)).square())"
   ]
  },
  {
   "cell_type": "code",
   "execution_count": null,
   "id": "be20f919-eee3-4476-bcff-d4e3570a7267",
   "metadata": {},
   "outputs": [],
   "source": [
    "print(dist.max())\n",
    "print(dist.argmin())\n",
    "print((dist == 0).sum())\n",
    "len(dist)"
   ]
  },
  {
   "cell_type": "markdown",
   "id": "89f2e779-5f10-4fdf-92c3-581c1d0d26c7",
   "metadata": {
    "jp-MarkdownHeadingCollapsed": true,
    "tags": []
   },
   "source": [
    "## HDBSCAN"
   ]
  },
  {
   "cell_type": "code",
   "execution_count": null,
   "id": "6079fec5-b70c-40ec-962d-04d742c0a93e",
   "metadata": {},
   "outputs": [],
   "source": [
    "import cuml\n",
    "import torch\n",
    "event = torch.load(\"/global/cfs/cdirs/m3443/data/ITk-upgrade/processed/gnn_processed/0GeV_barrel_v3/test/0008\", map_location = \"cpu\")\n",
    "event.pid[(event.nhits <= 3)] = 0"
   ]
  },
  {
   "cell_type": "code",
   "execution_count": null,
   "id": "549b8732-8c56-4db7-a749-2e01a65566d3",
   "metadata": {},
   "outputs": [],
   "source": [
    "mask = torch.tensor(len(event.pid) * [False])\n",
    "conncted_nodes = torch.unique(event.edge_index[:, event.scores > 0.15])\n",
    "mask[conncted_nodes] = True\n",
    "inverse_mask = torch.zeros(len(event.pid)).long()\n",
    "inverse_mask[mask] = torch.arange(mask.sum())\n",
    "event.scores = event.scores[mask[event.edge_index].all(0)]\n",
    "event.edge_index = event.edge_index[:, mask[event.edge_index].all(0)]"
   ]
  },
  {
   "cell_type": "code",
   "execution_count": null,
   "id": "a7eb4154-a2f9-477e-9b11-8a4b4d4aef40",
   "metadata": {},
   "outputs": [],
   "source": [
    "scores_matrix = 1e4*torch.ones((mask.sum(), mask.sum()))"
   ]
  },
  {
   "cell_type": "code",
   "execution_count": null,
   "id": "df032661-2f5f-4a0a-bd33-08b5bec26f60",
   "metadata": {},
   "outputs": [],
   "source": [
    "scores_matrix[inverse_mask[event.edge_index[0]], inverse_mask[event.edge_index[1]]] = 1 - event.scores\n",
    "scores_matrix[inverse_mask[event.edge_index[1]], inverse_mask[event.edge_index[0]]] = 1 - event.scores"
   ]
  },
  {
   "cell_type": "code",
   "execution_count": null,
   "id": "acb7fcc1-3e05-4d3e-9459-c962fc953bb9",
   "metadata": {},
   "outputs": [],
   "source": [
    "import hdbscan\n",
    "clusterer = hdbscan.HDBSCAN(min_cluster_size=3, metric = \"precomputed\")"
   ]
  },
  {
   "cell_type": "code",
   "execution_count": null,
   "id": "adb168cb-2a49-4cef-899c-b1f5b002b8cd",
   "metadata": {},
   "outputs": [],
   "source": [
    "import numpy as np\n",
    "clusterer.fit(scores_matrix.numpy().astype(np.float64))"
   ]
  },
  {
   "cell_type": "code",
   "execution_count": null,
   "id": "76f9d6d8-8247-4eb6-8e09-552f3ff49733",
   "metadata": {},
   "outputs": [],
   "source": [
    "from scipy.sparse import csr_matrix\n",
    "from scipy.sparse.csgraph import min_weight_full_bipartite_matching\n",
    "from torch import nn\n",
    "from torch_scatter import scatter_mean, scatter_add, scatter_min\n",
    "\n",
    "labels = torch.zeros(len(event.pid)).long()\n",
    "labels[mask] = torch.tensor(clusterer.labels_+1)\n",
    "labels = nn.functional.one_hot(labels, num_classes=labels.max()+1).float()\n",
    "labels = labels[:, 1:]\n",
    "_, pid = event.pid.unique(return_inverse = True)\n",
    "pid_cluster_counts = scatter_add(labels, pid, dim = 0, dim_size = pid.max()+1)\n",
    "original_assignments = labels + 0.001*torch.rand(labels.shape)\n",
    "_, pid = event.pid.unique(return_inverse = True)\n",
    "bipartite_matrix = csr_matrix(scatter_add(original_assignments, pid, dim = 0, dim_size = pid.max()+1).cpu().numpy())\n",
    "row_match, col_match = min_weight_full_bipartite_matching(bipartite_matrix, maximize=True)\n",
    "pt = scatter_min(event.pt, pid, dim=0, dim_size = pid.max()+1)[0]\n",
    "\n",
    "majority_mask = (pid_cluster_counts[row_match, col_match]/pid_cluster_counts[:, col_match].sum(0) > 0.5)\n",
    "pt_mask = (pt[row_match] > 1000.)\n",
    "\n",
    "track_eff = (majority_mask & pt_mask).sum()/(pt > 1000).sum()\n",
    "track_pur = (pid_cluster_counts[row_match, col_match]/pid_cluster_counts[:, col_match].sum(0))[majority_mask].mean()\n",
    "\n",
    "fake_rate = 1 - (majority_mask & pt_mask).sum()/(labels.shape[1] - (majority_mask & (pt[row_match] > 0) & (~pt_mask)).sum())\n",
    "particle_eff = pid_cluster_counts[row_match, col_match][majority_mask & pt_mask].sum()/((event.pt > 1000)&(event.pid != 0)).sum()"
   ]
  },
  {
   "cell_type": "code",
   "execution_count": null,
   "id": "79ee4dc1-ee34-4eeb-b1e6-3adc57762ebe",
   "metadata": {},
   "outputs": [],
   "source": [
    "print(track_eff, track_pur, fake_rate, particle_eff)"
   ]
  },
  {
   "cell_type": "markdown",
   "id": "c1efcd93-721e-494a-b917-4780a5bfa0a3",
   "metadata": {
    "jp-MarkdownHeadingCollapsed": true,
    "tags": []
   },
   "source": [
    "## HGNN"
   ]
  },
  {
   "cell_type": "code",
   "execution_count": null,
   "id": "1418c900-5534-4ea4-84cf-27f54cde158d",
   "metadata": {},
   "outputs": [],
   "source": [
    "import sys\n",
    "import torch\n",
    "import cudf\n",
    "import cupy as cp\n",
    "from cuml.cluster import HDBSCAN\n",
    "import cuml\n",
    "import matplotlib.pyplot as plt\n",
    "sys.path.append('../..')\n",
    "from LightningModules.GNNEmbeddings.Models.models import SparseHierarchicalGNN\n",
    "from LightningModules.GNNEmbeddings.utils import generate_toys\n",
    "model = SparseHierarchicalGNN.load_from_checkpoint(\"/global/cfs/cdirs/m3443/usr/ryanliu/ITk_barrel_embedding/ITk_barrel_embedding/yg20n9v3/checkpoints/last.ckpt\").to(\"cuda\")"
   ]
  },
  {
   "cell_type": "code",
   "execution_count": null,
   "id": "47d695f4-0711-463b-95b7-ccd5431de0d5",
   "metadata": {},
   "outputs": [],
   "source": [
    "event = generate_toys(400, 50, 10, 1, 5, 2, 1000., 0.9, 0.5).cuda()"
   ]
  },
  {
   "cell_type": "code",
   "execution_count": null,
   "id": "9288ae2c-fcaa-4aa2-98a2-fbf09250d48b",
   "metadata": {},
   "outputs": [],
   "source": [
    "with torch.no_grad():\n",
    "    embeddings, old_embeddings = model(event.x, event.graph)"
   ]
  },
  {
   "cell_type": "code",
   "execution_count": null,
   "id": "3697cf08-0404-42ca-b688-d4c17dd18284",
   "metadata": {},
   "outputs": [],
   "source": [
    "HDBSCANmodel = HDBSCAN(min_cluster_size = 3, min_samples = 3, metric='euclidean', cluster_selection_method = \"eom\", verbose = cuml.common.logger.level_critical)\n",
    "clusters = cp.asnumpy(HDBSCANmodel.fit_predict(old_embeddings))"
   ]
  },
  {
   "cell_type": "code",
   "execution_count": null,
   "id": "528ea004-df3b-4af5-a687-f765be6193e8",
   "metadata": {},
   "outputs": [],
   "source": [
    "import networkx as nx\n",
    "from matplotlib import cm\n",
    "from sklearn.manifold import TSNE\n",
    "from torch_scatter import scatter_add, scatter_mean, scatter_max, scatter_min\n",
    "import numpy as np\n",
    "event = event.cpu().detach()\n",
    "G = nx.Graph()\n",
    "G.add_nodes_from(range(len(event.x)))\n",
    "\n",
    "for i in range(len(event.graph.T)):\n",
    "    color = [1, 0, 0, 0.3] if event.y[i] else [0, 0, 0, 0.3] \n",
    "    G.add_edge(*event.graph.T.tolist()[i], color = color)\n",
    "\n",
    "pos = {}\n",
    "\n",
    "for i in range(len(event.x)):\n",
    "    pos[i] = event.x[i].numpy()\n",
    "\n",
    "# clusters = torch.tensor(clusters)\n",
    "# centroids = scatter_mean(old_embeddings[clusters>=0], clusters[clusters>=0].cuda().long(), dim=0, dim_size=clusters.max()+1)\n",
    "# centroids = centroids/torch.sqrt(centroids.square().sum(-1)).unsqueeze(1)\n",
    "# centroids = torch.tensor(TSNE(n_components = 1, init = \"pca\").fit_transform(centroids.cpu().numpy()))\n",
    "# centroids = (centroids-centroids.min())/(centroids.max()-centroids.min())\n",
    "# clusters = clusters.numpy()\n",
    "    \n",
    "# # node_color = cm.gist_rainbow((clusters + 1)/(clusters + 1).max())\n",
    "# # node_color[:, -1]=0.1\n",
    "# node_color = np.ones((len(clusters), 4))\n",
    "# node_color[clusters >= 0] = cm.gist_rainbow(centroids[clusters[clusters >= 0]].squeeze())\n",
    "# node_color[clusters == -1] = [0,0,0,1]\n",
    "\n",
    "embeddings = torch.tensor(TSNE(n_components = 1, init = \"pca\").fit_transform(old_embeddings.cpu().numpy()))\n",
    "embeddings = (embeddings-embeddings.min())/(embeddings.max()-embeddings.min())\n",
    "node_color = cm.gist_rainbow(embeddings)\n",
    "\n",
    "import matplotlib.pyplot as plt\n",
    "plt.figure(figsize=(16,8), dpi = 300)\n",
    "nx.draw(G, pos=pos, node_size = 50, node_color = node_color, edge_color = nx.get_edge_attributes(G,'color').values())\n",
    "plt.draw()\n",
    "plt.savefig('misc/clustering.png')"
   ]
  },
  {
   "cell_type": "code",
   "execution_count": null,
   "id": "c4c5f511-6795-453b-ad5b-78c078e8a48a",
   "metadata": {},
   "outputs": [],
   "source": [
    "from scipy.sparse import csr_matrix\n",
    "from scipy.sparse.csgraph import min_weight_full_bipartite_matching\n",
    "from torch import nn\n",
    "from torch_scatter import scatter_mean, scatter_add, scatter_min\n",
    "mask = torch.tensor([True]*len(event.pid)).bool()\n",
    "labels = torch.zeros(len(event.pid)).long()\n",
    "labels[mask] = torch.tensor(HDBSCANmodel.labels_+1).long()\n",
    "labels = nn.functional.one_hot(labels, num_classes=labels.max()+1).float()\n",
    "labels = labels[:, 1:]\n",
    "_, pid = event.pid.unique(return_inverse = True)\n",
    "pid_cluster_counts = scatter_add(labels, pid, dim = 0, dim_size = pid.max()+1)\n",
    "original_assignments = labels + 0.001*torch.rand(labels.shape)\n",
    "_, pid = event.pid.unique(return_inverse = True)\n",
    "bipartite_matrix = csr_matrix(scatter_add(original_assignments, pid, dim = 0, dim_size = pid.max()+1).cpu().numpy())\n",
    "row_match, col_match = min_weight_full_bipartite_matching(bipartite_matrix, maximize=True)\n",
    "pt = scatter_min(event.pt, pid, dim=0, dim_size = pid.max()+1)[0]\n",
    "\n",
    "majority_mask = (pid_cluster_counts[row_match, col_match]/pid_cluster_counts[:, col_match].sum(0) > 0.5)\n",
    "pt_mask = (pt[row_match] > 1000.)\n",
    "\n",
    "track_eff = (majority_mask & pt_mask).sum()/(pt > 1000).sum()\n",
    "track_pur = (pid_cluster_counts[row_match, col_match]/pid_cluster_counts[:, col_match].sum(0))[majority_mask].mean()\n",
    "\n",
    "fake_rate = 1 - (majority_mask & pt_mask).sum()/(labels.shape[1] - (majority_mask & (pt[row_match] > 0) & (~pt_mask)).sum())\n",
    "particle_eff = pid_cluster_counts[row_match, col_match][majority_mask & pt_mask].sum()/((event.pt > 1000)&(event.pid != 0)).sum()"
   ]
  },
  {
   "cell_type": "code",
   "execution_count": null,
   "id": "87b68bcb-7341-42c9-94fe-e4aa69c5645f",
   "metadata": {},
   "outputs": [],
   "source": [
    "print(track_eff, track_pur, fake_rate, particle_eff)"
   ]
  },
  {
   "cell_type": "markdown",
   "id": "771ad636-20c0-416c-98f5-5edeef57f7b3",
   "metadata": {},
   "source": [
    "## HGNN model"
   ]
  },
  {
   "cell_type": "code",
   "execution_count": null,
   "id": "70174adc-e2cf-4f19-b655-b5769b4d4edd",
   "metadata": {},
   "outputs": [],
   "source": [
    "import sys\n",
    "import torch\n",
    "import cudf\n",
    "import cupy as cp\n",
    "from cuml.cluster import HDBSCAN, DBSCAN\n",
    "import cuml\n",
    "import matplotlib.pyplot as plt\n",
    "sys.path.append('../..')\n",
    "from LightningModules.GNNEmbeddings.Models.models import SparseHierarchicalGNN\n",
    "from LightningModules.GNNEmbeddings.utils import generate_toys\n",
    "model = SparseHierarchicalGNN.load_from_checkpoint(\"/global/cfs/cdirs/m3443/usr/ryanliu/ITk_barrel_embedding/ITk_barrel_embedding/1fp3lv99/checkpoints/last.ckpt\").to(\"cuda\")"
   ]
  },
  {
   "cell_type": "code",
   "execution_count": null,
   "id": "4b1866a9-3ea5-4f81-a308-e267c73a3b29",
   "metadata": {},
   "outputs": [],
   "source": [
    "model.setup(\"test\")\n",
    "data_loader = model.val_dataloader()"
   ]
  },
  {
   "cell_type": "code",
   "execution_count": null,
   "id": "b3428bbc-4431-4465-ba7e-0767204b1869",
   "metadata": {},
   "outputs": [],
   "source": [
    "event = next(iter(data_loader)).cuda()"
   ]
  },
  {
   "cell_type": "code",
   "execution_count": null,
   "id": "4a2baba3-99fb-419a-90bf-9d35cc184a94",
   "metadata": {},
   "outputs": [],
   "source": [
    "with torch.no_grad():\n",
    "    input_data = model.get_input_data(event)\n",
    "    embeddings = model(input_data, event.graph)"
   ]
  },
  {
   "cell_type": "code",
   "execution_count": null,
   "id": "a3b84412-2df6-42e5-9527-277aa3b5c2cc",
   "metadata": {},
   "outputs": [],
   "source": [
    "for min_cluster_size in range(3, 10):\n",
    "    for min_sample in range(3, 10):\n",
    "        HDBSCANmodel = HDBSCAN(min_cluster_size =min_cluster_size, min_samples = min_sample, metric='euclidean', cluster_selection_method = \"eom\", verbose = cuml.common.logger.level_critical)\n",
    "        clusters = cp.asnumpy(HDBSCANmodel.fit_predict(embeddings))\n",
    "        event = event.cpu()\n",
    "        mask = torch.tensor([True]*len(event.pid)).bool()\n",
    "        labels = torch.zeros(len(event.pid)).long()\n",
    "        labels[mask] = torch.tensor(clusters+1).long()\n",
    "        labels = nn.functional.one_hot(labels, num_classes=labels.max()+1).float()\n",
    "        labels = labels[:, 1:]\n",
    "        _, pid = event.pid.unique(return_inverse = True)\n",
    "        pid_cluster_counts = scatter_add(labels, pid, dim = 0, dim_size = pid.max()+1)\n",
    "        original_assignments = labels + 1e-12*torch.rand(labels.shape)\n",
    "        _, pid = event.pid.unique(return_inverse = True)\n",
    "        bipartite_matrix = csr_matrix(scatter_add(original_assignments, pid, dim = 0, dim_size = pid.max()+1).cpu().numpy())\n",
    "        row_match, col_match = min_weight_full_bipartite_matching(bipartite_matrix, maximize=True)\n",
    "        mask = scatter_add(original_assignments, pid, dim = 0, dim_size = pid.max()+1).cpu().numpy()[row_match, col_match] >= 1\n",
    "        row_match = row_match[mask]\n",
    "        col_match = col_match[mask]\n",
    "        pt = scatter_min(event.pt, pid, dim=0, dim_size = pid.max()+1)[0]\n",
    "\n",
    "        majority_mask = (pid_cluster_counts[row_match, col_match]/pid_cluster_counts[:, col_match].sum(0) > 0.5)\n",
    "        pt_mask = (pt[row_match] > 1000.)\n",
    "\n",
    "        track_eff = (majority_mask & pt_mask).sum()/(pt > 1000).sum()\n",
    "        track_pur = (pid_cluster_counts[row_match, col_match]/pid_cluster_counts[:, col_match].sum(0))[majority_mask].mean()\n",
    "\n",
    "        fake_rate = 1 - (majority_mask & pt_mask).sum()/(labels.shape[1] - (majority_mask & (pt[row_match] > 0) & (~pt_mask)).sum())\n",
    "        particle_eff = pid_cluster_counts[row_match, col_match][majority_mask & pt_mask].sum()/((event.pt > 1000)&(event.pid != 0)).sum()\n",
    "        print(\"min_cluster_size: {}, min_sample: {}, tracking efficiency: {:.2f}, tracking purity: {:.2f}, fake_rate: {:.2f}, particle efficiency: {:.2f}\".format(min_cluster_size, min_sample, track_eff.item(), track_pur.item(), fake_rate.item(), particle_eff.item()))"
   ]
  },
  {
   "cell_type": "code",
   "execution_count": null,
   "id": "51d9f02e-21e7-4a05-9ab0-5f2fd063f448",
   "metadata": {},
   "outputs": [],
   "source": [
    "from scipy.sparse import csr_matrix\n",
    "from scipy.sparse.csgraph import min_weight_full_bipartite_matching\n",
    "from torch import nn\n",
    "from torch_scatter import scatter_mean, scatter_add, scatter_min\n",
    "import numpy as np\n",
    "for eps in np.linspace(0.1, 0.2, 10):\n",
    "    for min_sample in range(3, 7):\n",
    "        DBSCANmodel = DBSCAN(eps=eps, min_samples=min_sample)\n",
    "        clusters = cp.asnumpy(DBSCANmodel.fit_predict(embeddings))\n",
    "        event = event.cpu()\n",
    "        mask = torch.tensor([True]*len(event.pid)).bool()\n",
    "        labels = torch.zeros(len(event.pid)).long()\n",
    "        labels[mask] = torch.tensor(clusters+1).long()\n",
    "        labels = nn.functional.one_hot(labels, num_classes=labels.max()+1).float()\n",
    "        labels = labels[:, 1:]\n",
    "        _, pid = event.pid.unique(return_inverse = True)\n",
    "        pid_cluster_counts = scatter_add(labels, pid, dim = 0, dim_size = pid.max()+1)\n",
    "        original_assignments = labels + 1e-12*torch.rand(labels.shape)\n",
    "        _, pid = event.pid.unique(return_inverse = True)\n",
    "        bipartite_matrix = csr_matrix(scatter_add(original_assignments, pid, dim = 0, dim_size = pid.max()+1).cpu().numpy())\n",
    "        row_match, col_match = min_weight_full_bipartite_matching(bipartite_matrix, maximize=True)\n",
    "        mask = scatter_add(original_assignments, pid, dim = 0, dim_size = pid.max()+1).cpu().numpy()[row_match, col_match] >= 1\n",
    "        row_match = row_match[mask]\n",
    "        col_match = col_match[mask]\n",
    "        pt = scatter_min(event.pt, pid, dim=0, dim_size = pid.max()+1)[0]\n",
    "\n",
    "        majority_mask = (pid_cluster_counts[row_match, col_match]/pid_cluster_counts[:, col_match].sum(0) > 0.5)\n",
    "        pt_mask = (pt[row_match] > 1000.)\n",
    "\n",
    "        track_eff = (majority_mask & pt_mask).sum()/(pt > 1000).sum()\n",
    "        track_pur = (pid_cluster_counts[row_match, col_match]/pid_cluster_counts[:, col_match].sum(0))[majority_mask].mean()\n",
    "\n",
    "        fake_rate = 1 - (majority_mask & pt_mask).sum()/(labels.shape[1] - (majority_mask & (pt[row_match] > 0) & (~pt_mask)).sum())\n",
    "        particle_eff = pid_cluster_counts[row_match, col_match][majority_mask & pt_mask].sum()/((event.pt > 1000)&(event.pid != 0)).sum()\n",
    "        print(\"eps: {:.2f}, min_sample: {}, tracking efficiency: {:.2f}, tracking purity: {:.2f}, fake_rate: {:.2f}, particle efficiency: {:.2f}\".format(eps, min_sample, track_eff.item(), track_pur.item(), fake_rate.item(), particle_eff.item()))"
   ]
  },
  {
   "cell_type": "code",
   "execution_count": null,
   "id": "f894ee75-e92c-4f61-b492-9ccbc3545cf4",
   "metadata": {},
   "outputs": [],
   "source": [
    "print(len(row_match), pt_mask.sum().item(), majority_mask.sum().item(), labels.shape[1] - (majority_mask & (pt[row_match] > 0) & (~pt_mask)).sum())"
   ]
  },
  {
   "cell_type": "code",
   "execution_count": 7,
   "id": "f44a2de3-8913-496d-9aa7-8a6dc7eca0c9",
   "metadata": {},
   "outputs": [],
   "source": [
    "import cuml\n",
    "import torch\n",
    "event = torch.load(\"/global/cfs/cdirs/m3443/data/ITk-upgrade/processed/gnn_processed/0GeV_barrel_v3/test/0008\")"
   ]
  },
  {
   "cell_type": "code",
   "execution_count": 10,
   "id": "3692c768-e684-47d9-b58d-c659968c06d8",
   "metadata": {},
   "outputs": [
    {
     "data": {
      "text/plain": [
       "tensor([0., 1., nan,  ..., nan, nan, nan], device='cuda:0',\n",
       "       dtype=torch.float64)"
      ]
     },
     "execution_count": 10,
     "metadata": {},
     "output_type": "execute_result"
    }
   ],
   "source": [
    "event.primary.unique()"
   ]
  },
  {
   "cell_type": "code",
   "execution_count": null,
   "id": "5195f5a6-36f2-4586-8e13-b58322794062",
   "metadata": {},
   "outputs": [],
   "source": []
  }
 ],
 "metadata": {
  "kernelspec": {
   "display_name": "RAPIDs",
   "language": "python",
   "name": "rapids"
  },
  "language_info": {
   "codemirror_mode": {
    "name": "ipython",
    "version": 3
   },
   "file_extension": ".py",
   "mimetype": "text/x-python",
   "name": "python",
   "nbconvert_exporter": "python",
   "pygments_lexer": "ipython3",
   "version": "3.8.13"
  }
 },
 "nbformat": 4,
 "nbformat_minor": 5
}
