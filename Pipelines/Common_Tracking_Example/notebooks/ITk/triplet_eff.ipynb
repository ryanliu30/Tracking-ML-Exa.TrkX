{
 "cells": [
  {
   "cell_type": "code",
   "execution_count": 1,
   "id": "674fbe30-cd31-476d-81cc-7910aa234399",
   "metadata": {},
   "outputs": [],
   "source": [
    "%load_ext autoreload\n",
    "%autoreload 2"
   ]
  },
  {
   "cell_type": "code",
   "execution_count": 2,
   "id": "93125126-f8de-4e3a-afb7-81a3410e06c1",
   "metadata": {},
   "outputs": [],
   "source": [
    "# System imports\n",
    "import os\n",
    "import sys\n",
    "import yaml\n",
    "\n",
    "# External imports\n",
    "import matplotlib.pyplot as plt\n",
    "import scipy as sp\n",
    "from sklearn.decomposition import PCA\n",
    "from sklearn.manifold import TSNE\n",
    "from sklearn.metrics import auc\n",
    "import numpy as np\n",
    "import pandas as pd\n",
    "import seaborn as sns\n",
    "import torch\n",
    "from pytorch_lightning.loggers import TensorBoardLogger, WandbLogger\n",
    "from pytorch_lightning import Trainer\n",
    "import frnn\n",
    "import wandb\n",
    "import math\n",
    "sys.path.append('../..')\n",
    "\n",
    "from LightningModules.EdgeEmbedding.utils import graph_intersection, build_neighbors_list\n",
    "\n",
    "device = \"cuda\" if torch.cuda.is_available() else \"cpu\"\n",
    "from pytorch_lightning.callbacks import ModelCheckpoint"
   ]
  },
  {
   "cell_type": "code",
   "execution_count": 3,
   "id": "28cad17b-2171-4f29-b55f-23346e20fbfa",
   "metadata": {},
   "outputs": [],
   "source": [
    "input_dir = \"/global/cfs/cdirs/m3443/usr/ryanliu/ITk_filter/filter_processed/test\""
   ]
  },
  {
   "cell_type": "code",
   "execution_count": 4,
   "id": "4a53d0ed-d68d-4433-bc48-8c1a05f40c80",
   "metadata": {},
   "outputs": [],
   "source": [
    "event = torch.load(input_dir + \"/10003\")"
   ]
  },
  {
   "cell_type": "code",
   "execution_count": 5,
   "id": "d4daa0d8-ab44-48e4-8c58-352aab1c8ce5",
   "metadata": {},
   "outputs": [],
   "source": [
    "def get_eff_and_pur(event, scorecut):\n",
    "    positive_neighbors = event.idxs_scores > scorecut\n",
    "    ind = torch.arange(len(event.pid), device = device).unsqueeze(1).expand(event.idxs.shape)\n",
    "    found_edges = torch.stack([ind[positive_neighbors], event.idxs[positive_neighbors]], dim = 0)\n",
    "    e_bidir = torch.cat([event.modulewise_true_edges, event.modulewise_true_edges.flip(0)], dim = 1)\n",
    "    e_bidir_nocut = e_bidir.clone()\n",
    "    e_bidir = e_bidir[:, (event.pt[e_bidir] > 1000.).any(0)]\n",
    "    new_found_edges_nocut, y_nocut = graph_intersection(found_edges, e_bidir_nocut)\n",
    "    true_positive_edges_nocut = new_found_edges_nocut[:,y_nocut == 1]\n",
    "    new_found_edges, y = graph_intersection(found_edges, e_bidir)\n",
    "    true_positive_edges = new_found_edges[:,y == 1]\n",
    "    neighbor_list = build_neighbors_list(event.pid, true_positive_edges)\n",
    "    neighbor_list_nocut = build_neighbors_list(event.pid, true_positive_edges_nocut)\n",
    "    truth_neighbor_list = build_neighbors_list(event.pid, e_bidir)\n",
    "    neighbor_count = (neighbor_list >= 0).sum(-1)\n",
    "    neighbor_count_nocut = (neighbor_list_nocut >= 0).sum(-1)\n",
    "    truth_neighbor_count = (truth_neighbor_list >= 0).sum(-1)\n",
    "    all_neighbor_count = positive_neighbors.sum(-1)\n",
    "    eff = ((neighbor_count - 1)*neighbor_count).sum()/((truth_neighbor_count-1)*truth_neighbor_count).sum()\n",
    "    pur = ((neighbor_count - 1)*neighbor_count).sum()/((all_neighbor_count-1)*all_neighbor_count).sum()\n",
    "    return eff.item(), pur.item(), ((y==1).sum()/e_bidir.shape[1]).item(), ((y_nocut==1).sum()/len(y)).item()"
   ]
  },
  {
   "cell_type": "code",
   "execution_count": 7,
   "id": "1a5d33c4-bb29-48ac-b782-85fbd11a12cd",
   "metadata": {},
   "outputs": [
    {
     "data": {
      "text/plain": [
       "(0.9069286584854126,\n",
       " 9.379954281030223e-05,\n",
       " 0.9479787945747375,\n",
       " 0.019468411803245544)"
      ]
     },
     "execution_count": 7,
     "metadata": {},
     "output_type": "execute_result"
    }
   ],
   "source": [
    "get_eff_and_pur(event, 0.296)"
   ]
  },
  {
   "cell_type": "code",
   "execution_count": 1,
   "id": "75ec01d1-d984-4c8f-ae7d-be1da1284c57",
   "metadata": {},
   "outputs": [],
   "source": [
    "import cupy"
   ]
  },
  {
   "cell_type": "code",
   "execution_count": 2,
   "id": "6727ad02-934b-45d5-be8b-855bc28dd318",
   "metadata": {},
   "outputs": [
    {
     "data": {
      "text/plain": [
       "<module 'cupy' from '/global/homes/r/ryanliu/.conda/envs/gnn/lib/python3.8/site-packages/cupy/__init__.py'>"
      ]
     },
     "execution_count": 2,
     "metadata": {},
     "output_type": "execute_result"
    }
   ],
   "source": []
  },
  {
   "cell_type": "code",
   "execution_count": null,
   "id": "1a047382-85dd-4d3c-a2c2-0bfde6230801",
   "metadata": {},
   "outputs": [],
   "source": []
  }
 ],
 "metadata": {
  "kernelspec": {
   "display_name": "Gnn",
   "language": "python",
   "name": "gnn"
  },
  "language_info": {
   "codemirror_mode": {
    "name": "ipython",
    "version": 3
   },
   "file_extension": ".py",
   "mimetype": "text/x-python",
   "name": "python",
   "nbconvert_exporter": "python",
   "pygments_lexer": "ipython3",
   "version": "3.8.12"
  }
 },
 "nbformat": 4,
 "nbformat_minor": 5
}
