{
 "cells": [
  {
   "cell_type": "code",
   "execution_count": null,
   "metadata": {},
   "outputs": [],
   "source": [
    "%load_ext autoreload\n",
    "%autoreload 2"
   ]
  },
  {
   "cell_type": "markdown",
   "metadata": {},
   "source": [
    "### Imports\n",
    "Import model_selector which takes model **name/ID** as input and annitialize the model according to the default configuration yaml file in **LightningModules/TrackML_ACAT/MODEL_NAME/Configs** and an optional input dictionary which contain the parameters one would like to overwrite. \n",
    "\n",
    "Here's a list of model name/ID:\n",
    "- 1: Edge Classifier Based on Interaction Network (EC-IN)\n",
    "- 2: Node Embeddings Network Based on Interaction Network (Embedding-IN)\n",
    "- 3: Node Embeddings Network Based on Hierarchical GNN with GMM clustering (Embedding-HGNN-GMM)\n",
    "- 4: Node Embeddings Network Based on Hierarchical GNN with HDBSCAN (Ebedding-HGNN-HDBSCAN)\n",
    "- 5: Bipartite Edge Classifier Based on Hierarchical GNN with GMM clustering (BC-HGNN-GMM)\n",
    "- 6: Bipartite Edge Classifier Based on Hierarchical GNN with HDBSCAN (BC-HGNN-HDBSCAN)\n",
    "\n",
    "GMM models are more preferable to HDBSCAN models"
   ]
  },
  {
   "cell_type": "code",
   "execution_count": null,
   "metadata": {},
   "outputs": [],
   "source": [
    "# System imports\n",
    "import os\n",
    "import sys\n",
    "import yaml\n",
    "\n",
    "# External imports\n",
    "import matplotlib.pyplot as plt\n",
    "import scipy as sp\n",
    "from sklearn.metrics import auc\n",
    "import numpy as np\n",
    "import pandas as pd\n",
    "import seaborn as sns\n",
    "import torch\n",
    "from pytorch_lightning.loggers import TensorBoardLogger, WandbLogger\n",
    "from pytorch_lightning.callbacks import GradientAccumulationScheduler\n",
    "from pytorch_lightning import Trainer\n",
    "import wandb\n",
    "import math\n",
    "sys.path.append('../..')\n",
    "\n",
    "from LightningModules.TrackML_ACAT.training_utils import model_selector\n",
    "\n",
    "device = \"cuda\" if torch.cuda.is_available() else \"cpu\"\n",
    "from pytorch_lightning.callbacks import ModelCheckpoint\n",
    "\n",
    "from LightningModules.TrackML_ACAT.tracking_utils import eval_metrics"
   ]
  },
  {
   "cell_type": "code",
   "execution_count": null,
   "metadata": {},
   "outputs": [],
   "source": [
    "def kaiming_init(model):\n",
    "    for name, param in model.named_parameters():\n",
    "        try:\n",
    "            if name.endswith(\".bias\"):\n",
    "                param.data.fill_(0)\n",
    "            elif name.endswith(\"0.weight\"):  # The first layer does not have ReLU applied on its input\n",
    "                param.data.normal_(0, 1 / math.sqrt(param.shape[1]))\n",
    "            else:\n",
    "                param.data.normal_(0, math.sqrt(2) / math.sqrt(param.shape[1]))\n",
    "        except IndexError as E:\n",
    "            continue"
   ]
  },
  {
   "cell_type": "code",
   "execution_count": null,
   "metadata": {},
   "outputs": [],
   "source": [
    "def load_from_pretrained(model, path = None, ckpt = None):\n",
    "    \n",
    "    if ckpt is None:\n",
    "        ckpt = torch.load(path)\n",
    "    else:\n",
    "        pass\n",
    "    state_dict = ckpt[\"state_dict\"]\n",
    "    model.load_state_dict(state_dict, strict=False)\n",
    "    del state_dict\n",
    "    \n",
    "    return model"
   ]
  },
  {
   "cell_type": "code",
   "execution_count": null,
   "metadata": {},
   "outputs": [],
   "source": [
    "from pytorch_lightning.callbacks import ModelCheckpoint\n",
    "\n",
    "checkpoint_callback = ModelCheckpoint(\n",
    "    monitor='val_loss',\n",
    "    mode=\"min\",\n",
    "    save_top_k=2,\n",
    "    save_last=True)"
   ]
  },
  {
   "cell_type": "markdown",
   "metadata": {
    "tags": []
   },
   "source": [
    "### Training A New Model"
   ]
  },
  {
   "cell_type": "code",
   "execution_count": null,
   "metadata": {},
   "outputs": [],
   "source": [
    "print(\"input model ID/name\")\n",
    "model_name = input()\n",
    "model = model_selector(model_name)\n",
    "kaiming_init(model)"
   ]
  },
  {
   "cell_type": "code",
   "execution_count": null,
   "metadata": {
    "scrolled": true,
    "tags": []
   },
   "outputs": [],
   "source": [
    "logger = WandbLogger(project=\"TrackML_1GeV\")\n",
    "accumulator = GradientAccumulationScheduler(scheduling={0: 1, 4: 2, 8: 4})\n",
    "trainer = Trainer(gpus=1, max_epochs=model.hparams[\"max_epochs\"], gradient_clip_val=0.5, logger=logger, num_sanity_val_steps=2, callbacks=[checkpoint_callback], log_every_n_steps = 50, default_root_dir=\"/global/cfs/cdirs/m3443/usr/ryanliu/TrackML/\")\n",
    "trainer.fit(model)"
   ]
  },
  {
   "cell_type": "markdown",
   "metadata": {},
   "source": [
    "### Resume an interupted training"
   ]
  },
  {
   "cell_type": "code",
   "execution_count": null,
   "metadata": {},
   "outputs": [],
   "source": [
    "print(\"input the wandb run ID to resume the run\")\n",
    "training_id = input()\n",
    "model_path = \"/global/cfs/cdirs/m3443/usr/ryanliu/TrackML/TrackML_1GeV/{}/checkpoints/last.ckpt\".format(training_id)\n",
    "ckpt = torch.load(model_path)\n",
    "model = model_selector(ckpt[\"hyper_parameters\"][\"model\"], ckpt[\"hyper_parameters\"])\n",
    "    \n",
    "logger = WandbLogger(project=\"TrackML_1GeV\", id = training_id)\n",
    "accumulator = GradientAccumulationScheduler(scheduling={0: 1, 4: 2, 8: 4})\n",
    "trainer = Trainer(gpus=1, max_epochs=ckpt[\"hyper_parameters\"][\"max_epochs\"], gradient_clip_val=0.5, logger=logger, num_sanity_val_steps=2, callbacks=[checkpoint_callback], log_every_n_steps = 50, default_root_dir=\"/global/cfs/cdirs/m3443/usr/ryanliu/TrackML/\")\n",
    "trainer.fit(model, ckpt_path=\"/global/cfs/cdirs/m3443/usr/ryanliu/TrackML/TrackML_1GeV/{}/checkpoints/last.ckpt\".format(training_id))"
   ]
  },
  {
   "cell_type": "markdown",
   "metadata": {
    "tags": []
   },
   "source": [
    "### Test\n",
    "Running test on test dataset"
   ]
  },
  {
   "cell_type": "code",
   "execution_count": null,
   "metadata": {},
   "outputs": [],
   "source": [
    "print(\"input the majority cut (0.5 for loose matching, 0.9 for strict matching, 1.0 for perfect matching\")\n",
    "inference_config = {\n",
    "    \"majority_cut\": float(input()),\n",
    "    \"score_cut\": 0.7\n",
    "}\n",
    "print(\"input the wandb run ID to load model's state dict\")\n",
    "model_path = \"/global/cfs/cdirs/m3443/usr/ryanliu/TrackML/TrackML_1GeV/{}/checkpoints/\".format(input())\n",
    "model_paths = os.listdir(model_path)\n",
    "model_paths.remove(\"last.ckpt\")\n",
    "ckpt_name = model_paths[0]\n",
    "for i in model_paths:\n",
    "    if int(i.strip(\"epoch=\").split(\"-\")[0]) > int(ckpt_name.strip(\"epoch=\").split(\"-\")[0]):\n",
    "        ckpt_name = i\n",
    "model_path = os.path.join(model_path, ckpt_name)\n",
    "\n",
    "ckpt = torch.load(model_path)\n",
    "sweep_configs = {**(ckpt[\"hyper_parameters\"]), **inference_config}\n",
    "\n",
    "model = model_selector(ckpt[\"hyper_parameters\"][\"model\"], sweep_configs)\n",
    "    \n",
    "model = load_from_pretrained(model, ckpt = ckpt)\n",
    "model.setup(\"test\")\n",
    "trainer = Trainer(gpus=1)\n",
    "test_results = trainer.test(model, model.test_dataloader())[0]"
   ]
  },
  {
   "cell_type": "code",
   "execution_count": null,
   "metadata": {},
   "outputs": [],
   "source": [
    "print(*[test_results[i] for i in test_results], sep = '\\n')"
   ]
  },
  {
   "cell_type": "code",
   "execution_count": null,
   "metadata": {},
   "outputs": [],
   "source": [
    "print(*[i for i in test_results], sep = '\\n')"
   ]
  },
  {
   "cell_type": "code",
   "execution_count": null,
   "metadata": {},
   "outputs": [],
   "source": []
  }
 ],
 "metadata": {
  "kernelspec": {
   "display_name": "RAPIDs",
   "language": "python",
   "name": "rapids"
  },
  "language_info": {
   "codemirror_mode": {
    "name": "ipython",
    "version": 3
   },
   "file_extension": ".py",
   "mimetype": "text/x-python",
   "name": "python",
   "nbconvert_exporter": "python",
   "pygments_lexer": "ipython3",
   "version": "3.8.13"
  }
 },
 "nbformat": 4,
 "nbformat_minor": 4
}
