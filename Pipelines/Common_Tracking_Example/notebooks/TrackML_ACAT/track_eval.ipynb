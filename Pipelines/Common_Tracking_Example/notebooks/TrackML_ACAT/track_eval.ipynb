{
 "cells": [
  {
   "cell_type": "code",
   "execution_count": 1,
   "id": "91292cd8-03c6-4054-9c36-42f20affc337",
   "metadata": {},
   "outputs": [],
   "source": [
    "%load_ext autoreload\n",
    "%autoreload 2"
   ]
  },
  {
   "cell_type": "code",
   "execution_count": 9,
   "id": "81e43af6-3e00-4c6c-bec7-ecadcb1120dd",
   "metadata": {},
   "outputs": [],
   "source": [
    "import sys\n",
    "sys.path.append(\"/global/homes/r/ryanliu/Tracking-ML-Exa.TrkX/Pipelines/Common_Tracking_Example/LightningModules/TrackML_ACAT\")\n",
    "import cuml\n",
    "import torch\n",
    "event = torch.load(\"/global/cfs/cdirs/m3443/data/trackml-codalab/gnn_processed/1GeV_pt_cut_quickstart_example/test/1011\")\n",
    "from tracking_utils import eval_metrics\n",
    "from torch_geometric.data import Data\n",
    "import yaml\n",
    "sys.path.append('../..')\n",
    "from LightningModules.TrackML_ACAT.GNNEmbedding.Models.models import HierarchicalGNN, InteractionGNN\n",
    "\n",
    "event = Data.from_dict(event.__dict__)\n",
    "event.scores = (event.scores[:len(event.scores)//2] + event.scores[len(event.scores)//2:])/2\n",
    "bipartite_graph = torch.stack([torch.arange(len(event.pid), device = \"cuda\"), event.pid], dim = 0).long()"
   ]
  },
  {
   "cell_type": "code",
   "execution_count": 11,
   "id": "3a5aead8-639a-469b-a393-70054aa9e817",
   "metadata": {},
   "outputs": [
    {
     "data": {
      "text/plain": [
       "{'track_eff': 1.0, 'track_pur': 1.0, 'fake_rate': 0.0, 'particle_eff': 1.0}"
      ]
     },
     "execution_count": 11,
     "metadata": {},
     "output_type": "execute_result"
    }
   ],
   "source": [
    "eval_metrics(bipartite_graph, event, pt_cut =1., primary = False)"
   ]
  },
  {
   "cell_type": "code",
   "execution_count": 13,
   "id": "ecb629f1-5a23-4296-aaad-eadad0e5e808",
   "metadata": {},
   "outputs": [],
   "source": [
    "import cudf\n",
    "import cugraph\n",
    "import cupy as cp"
   ]
  },
  {
   "cell_type": "code",
   "execution_count": 42,
   "id": "741af7d5-8487-4019-95e2-81d129358365",
   "metadata": {},
   "outputs": [],
   "source": [
    "def track_candidate_generation(event, score_cut, minimum_spanning_tree, truth = False):\n",
    "    G = cugraph.Graph()\n",
    "    if truth:\n",
    "        df = cudf.DataFrame({\"src\": cp.asarray(event.edge_index[0][event.pid[event.edge_index[0]]==event.pid[event.edge_index[1]]]),\n",
    "                             \"dst\": cp.asarray(event.edge_index[1][event.pid[event.edge_index[0]]==event.pid[event.edge_index[1]]]),\n",
    "                             \"weights\": 1 - cp.asarray(event.scores[event.pid[event.edge_index[0]]==event.pid[event.edge_index[1]]])})\n",
    "    else:\n",
    "        df = cudf.DataFrame({\"src\": cp.asarray(event.edge_index[0]),\n",
    "                             \"dst\": cp.asarray(event.edge_index[1]),\n",
    "                             \"weights\": 1 - cp.asarray(event.scores)})\n",
    "    G.from_cudf_edgelist(\n",
    "        df,\n",
    "        source = \"src\",\n",
    "        destination = \"dst\",\n",
    "        edge_attr = \"weights\"\n",
    "    )\n",
    "    \n",
    "    if minimum_spanning_tree: \n",
    "        df = cugraph.tree.minimum_spanning_tree(G, weight=\"weights\").view_edge_list()\n",
    "    G = cugraph.Graph()\n",
    "    if truth:\n",
    "        pass\n",
    "    else:\n",
    "        df = df[df[\"weights\"] < 1 - score_cut]\n",
    "    G.from_cudf_edgelist(df,source = \"src\", destination = \"dst\", edge_attr = \"weights\")\n",
    "    connected_components = cugraph.components.connected_components(G)\n",
    "    bipartite_graph = torch.stack([torch.as_tensor(connected_components[\"vertex\"]), torch.as_tensor(connected_components[\"labels\"])], dim = 0)\n",
    "    return eval_metrics(bipartite_graph, event, pt_cut =1., primary = False, nhits_cut = 5)"
   ]
  },
  {
   "cell_type": "code",
   "execution_count": 16,
   "id": "467061b1-2d99-4c5b-a1f0-087016128786",
   "metadata": {},
   "outputs": [
    {
     "data": {
      "text/plain": [
       "{'track_eff': 0.8806682577565632,\n",
       " 'track_pur': 0.9598671723267292,\n",
       " 'fake_rate': 0.23018080667593876,\n",
       " 'particle_eff': 0.7897668661027439}"
      ]
     },
     "execution_count": 16,
     "metadata": {},
     "output_type": "execute_result"
    }
   ],
   "source": [
    "track_candidate_generation(event, 0.8, False)"
   ]
  },
  {
   "cell_type": "code",
   "execution_count": 43,
   "id": "b798528a-ccf8-4ea4-873c-82ed63beb462",
   "metadata": {},
   "outputs": [],
   "source": [
    "def get_statistics(truth = False):\n",
    "    with open(\"GNN_embedding_default.yaml\") as f:\n",
    "        hparams = yaml.load(f, Loader=yaml.FullLoader)\n",
    "        \n",
    "    if hparams[\"use_toy\"]:\n",
    "        hparams[\"regime\"] = []\n",
    "        hparams[\"spatial_channels\"] = 2\n",
    "\n",
    "    if hparams[\"model\"] == \"HGNN\":\n",
    "        model = HierarchicalGNN(hparams)\n",
    "    if hparams[\"model\"] == \"IGNN\":\n",
    "        model = InteractionGNN(hparams)\n",
    "\n",
    "    model.setup(\"test\")\n",
    "    results = None\n",
    "    for event in model.test_dataloader():\n",
    "        event.scores = (event.scores[:len(event.scores)//2] + event.scores[len(event.scores)//2:])/2\n",
    "        if results is None:\n",
    "            results = track_candidate_generation(event, 0.8, False, truth)\n",
    "        else:\n",
    "            new_results = track_candidate_generation(event, 0.8, False, truth)\n",
    "            for name in results.keys():\n",
    "                results[name] += new_results[name]\n",
    "    for name in results.keys():\n",
    "        results[name] = results[name]/len(model.test_dataloader())\n",
    "    return results"
   ]
  },
  {
   "cell_type": "code",
   "execution_count": 44,
   "id": "4946b863-6c6c-4fac-b350-4dcd01b1e076",
   "metadata": {},
   "outputs": [],
   "source": [
    "results = get_statistics(truth = True)"
   ]
  },
  {
   "cell_type": "code",
   "execution_count": 45,
   "id": "f59eded7-de38-4a80-94c9-51e4bf6a739e",
   "metadata": {},
   "outputs": [
    {
     "data": {
      "text/plain": [
       "{'track_eff': 0.999080137597702,\n",
       " 'track_pur': 1.0,\n",
       " 'fake_rate': 0.04720080204789033,\n",
       " 'particle_eff': 0.9754255187821436}"
      ]
     },
     "execution_count": 45,
     "metadata": {},
     "output_type": "execute_result"
    }
   ],
   "source": [
    "results"
   ]
  },
  {
   "cell_type": "code",
   "execution_count": null,
   "id": "cc9cbe6c-7c33-4d52-9f9b-75d084ec6fae",
   "metadata": {},
   "outputs": [],
   "source": []
  }
 ],
 "metadata": {
  "kernelspec": {
   "display_name": "RAPIDs",
   "language": "python",
   "name": "rapids"
  },
  "language_info": {
   "codemirror_mode": {
    "name": "ipython",
    "version": 3
   },
   "file_extension": ".py",
   "mimetype": "text/x-python",
   "name": "python",
   "nbconvert_exporter": "python",
   "pygments_lexer": "ipython3",
   "version": "3.8.13"
  }
 },
 "nbformat": 4,
 "nbformat_minor": 5
}
