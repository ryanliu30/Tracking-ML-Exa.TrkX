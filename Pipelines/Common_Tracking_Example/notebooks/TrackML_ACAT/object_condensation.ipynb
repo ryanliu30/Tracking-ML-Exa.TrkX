{
 "cells": [
  {
   "cell_type": "code",
   "execution_count": null,
   "metadata": {},
   "outputs": [],
   "source": [
    "%load_ext autoreload\n",
    "%autoreload 2"
   ]
  },
  {
   "cell_type": "code",
   "execution_count": null,
   "metadata": {},
   "outputs": [],
   "source": [
    "# System imports\n",
    "import os\n",
    "import sys\n",
    "import yaml\n",
    "\n",
    "# External imports\n",
    "import matplotlib.pyplot as plt\n",
    "import scipy as sp\n",
    "from sklearn.metrics import auc\n",
    "import numpy as np\n",
    "import pandas as pd\n",
    "import seaborn as sns\n",
    "import torch\n",
    "from pytorch_lightning.loggers import TensorBoardLogger, WandbLogger\n",
    "from pytorch_lightning.callbacks import GradientAccumulationScheduler\n",
    "from pytorch_lightning import Trainer\n",
    "import wandb\n",
    "import math\n",
    "sys.path.append('../..')\n",
    "\n",
    "from LightningModules.HGNN.Models.pyramid_models import HierarchicalGNN\n",
    "\n",
    "device = \"cuda\" if torch.cuda.is_available() else \"cpu\"\n",
    "from pytorch_lightning.callbacks import ModelCheckpoint"
   ]
  },
  {
   "cell_type": "code",
   "execution_count": null,
   "metadata": {},
   "outputs": [],
   "source": [
    "def kaiming_init(model):\n",
    "    for name, param in model.named_parameters():\n",
    "        try:\n",
    "            if name.endswith(\".bias\"):\n",
    "                param.data.fill_(0)\n",
    "            elif name.endswith(\"0.weight\"):  # The first layer does not have ReLU applied on its input\n",
    "                param.data.normal_(0, 1 / math.sqrt(param.shape[1]))\n",
    "            else:\n",
    "                param.data.normal_(0, math.sqrt(2) / math.sqrt(param.shape[1]))\n",
    "        except IndexError as E:\n",
    "            continue"
   ]
  },
  {
   "cell_type": "code",
   "execution_count": null,
   "metadata": {},
   "outputs": [],
   "source": [
    "def load_from_pretrained(model, path):\n",
    "    \n",
    "    checkpoint = torch.load(path)\n",
    "    state_dict = checkpoint[\"state_dict\"]\n",
    "    model.load_state_dict(state_dict, strict=False)\n",
    "    del state_dict\n",
    "    \n",
    "    return model"
   ]
  },
  {
   "cell_type": "markdown",
   "metadata": {
    "tags": []
   },
   "source": [
    "## Construct PyLightning model"
   ]
  },
  {
   "cell_type": "code",
   "execution_count": null,
   "metadata": {},
   "outputs": [],
   "source": [
    "with open(\"object_condensation_default.yaml\") as f:\n",
    "    hparams = yaml.load(f, Loader=yaml.FullLoader)"
   ]
  },
  {
   "cell_type": "code",
   "execution_count": null,
   "metadata": {},
   "outputs": [],
   "source": [
    "if hparams[\"use_toy\"]:\n",
    "    hparams[\"regime\"] = []\n",
    "    hparams[\"spatial_channels\"] = 2\n",
    "\n",
    "model = HierarchicalGNN(hparams)\n",
    "model_path = \"/global/cfs/cdirs/m3443/usr/ryanliu/ITk_object_condensation/ITk_object_condensation/1org0kz3/checkpoints/last.ckpt\"\n",
    "\n",
    "if hparams[\"use_pretrain\"]:\n",
    "    model = load_from_pretrained(model, model_path)\n",
    "else:\n",
    "    kaiming_init(model)"
   ]
  },
  {
   "cell_type": "markdown",
   "metadata": {
    "tags": []
   },
   "source": [
    "## Metric Learning"
   ]
  },
  {
   "cell_type": "code",
   "execution_count": null,
   "metadata": {},
   "outputs": [],
   "source": [
    "from pytorch_lightning.callbacks import ModelCheckpoint\n",
    "\n",
    "checkpoint_callback = ModelCheckpoint(\n",
    "    monitor='track_eff',\n",
    "    mode=\"max\",\n",
    "    save_top_k=2,\n",
    "    save_last=True)"
   ]
  },
  {
   "cell_type": "code",
   "execution_count": null,
   "metadata": {
    "scrolled": true,
    "tags": []
   },
   "outputs": [],
   "source": [
    "logger = WandbLogger(project=\"ITk_object_condensation\")\n",
    "accumulator = GradientAccumulationScheduler(scheduling={0: 1, 4: 2, 8: 4})\n",
    "trainer = Trainer(gpus=1, max_epochs=hparams[\"max_epochs\"], gradient_clip_val=0.5, logger=logger, num_sanity_val_steps=2, callbacks=[checkpoint_callback], log_every_n_steps = 50, default_root_dir=\"/global/cfs/cdirs/m3443/usr/ryanliu/ITk_object_condensation/\")\n",
    "trainer.fit(model)"
   ]
  },
  {
   "cell_type": "code",
   "execution_count": null,
   "metadata": {},
   "outputs": [],
   "source": [
    "training_id = input()\n",
    "model_path = \"/global/cfs/cdirs/m3443/usr/ryanliu/ITk_object_condensation/ITk_object_condensation/{}/checkpoints/last.ckpt\".format(training_id)\n",
    "model = HierarchicalGNN.load_from_checkpoint(model_path)\n",
    "    \n",
    "logger = WandbLogger(project=\"ITk_object_condensation\", id = training_id)\n",
    "accumulator = GradientAccumulationScheduler(scheduling={0: 1, 4: 2, 8: 4})\n",
    "trainer = Trainer(gpus=1, max_epochs=hparams[\"max_epochs\"], gradient_clip_val=0.5, logger=logger, num_sanity_val_steps=2, callbacks=[checkpoint_callback], log_every_n_steps = 50, default_root_dir=\"/global/cfs/cdirs/m3443/usr/ryanliu/ITk_object_condensation/\")\n",
    "trainer.fit(model, ckpt_path=\"/global/cfs/cdirs/m3443/usr/ryanliu/ITk_object_condensation/ITk_object_condensation/{}/checkpoints/last.ckpt\".format(training_id))"
   ]
  },
  {
   "cell_type": "markdown",
   "metadata": {
    "tags": []
   },
   "source": [
    "## Sweep"
   ]
  },
  {
   "cell_type": "code",
   "execution_count": null,
   "metadata": {},
   "outputs": [],
   "source": [
    "run_name = input()"
   ]
  },
  {
   "cell_type": "code",
   "execution_count": null,
   "metadata": {},
   "outputs": [],
   "source": [
    "with open(\"object_condensation_sweep.yaml\") as f:\n",
    "        sweep_hparams = yaml.load(f, Loader=yaml.FullLoader)\n",
    "with open(\"object_condensation_default.yaml\") as f:\n",
    "        default_hparams = yaml.load(f, Loader=yaml.FullLoader)   "
   ]
  },
  {
   "cell_type": "code",
   "execution_count": null,
   "metadata": {},
   "outputs": [],
   "source": [
    "sweep_configuration = {\n",
    "    \"name\": run_name,\n",
    "    \"project\": \"ITk_object_condensation\",\n",
    "    \"metric\": {\"name\": \"track_eff\", \"goal\": \"maximize\"},\n",
    "    \"method\": \"grid\",\n",
    "    \"parameters\": sweep_hparams\n",
    "}"
   ]
  },
  {
   "cell_type": "code",
   "execution_count": null,
   "metadata": {},
   "outputs": [],
   "source": [
    "def training():\n",
    "    wandb.init()\n",
    "    hparams = {**default_hparams, **wandb.config}\n",
    "    if hparams[\"use_toy\"]:\n",
    "        hparams[\"regime\"] = []\n",
    "        hparams[\"spatial_channels\"] = 2\n",
    "        \n",
    "    model = DualHierarchicalGNN(hparams)\n",
    "    \n",
    "    if hparams[\"use_pretrain\"]:\n",
    "        model = load_from_pretrained(model, model_path)\n",
    "    \n",
    "    checkpoint_callback = ModelCheckpoint(\n",
    "        monitor='track_eff',\n",
    "        mode=\"max\",\n",
    "        save_top_k=2,\n",
    "        save_last=True)\n",
    "    \n",
    "    kaiming_init(model)\n",
    "\n",
    "    logger = WandbLogger()\n",
    "    trainer = Trainer(gpus=1, max_epochs=default_hparams[\"max_epochs\"], log_every_n_steps = 50, logger=logger, callbacks=[checkpoint_callback], default_root_dir=\"/global/cfs/cdirs/m3443/usr/ryanliu/ITk_barrel_embedding/\")\n",
    "    trainer.fit(model)"
   ]
  },
  {
   "cell_type": "code",
   "execution_count": null,
   "metadata": {},
   "outputs": [],
   "source": [
    "sweep_id = wandb.sweep(sweep_configuration, project = \"ITk_object_condensation\")\n",
    "\n",
    "# run the sweep\n",
    "wandb.agent(sweep_id, function=training)"
   ]
  },
  {
   "cell_type": "markdown",
   "metadata": {
    "tags": []
   },
   "source": [
    "## Test"
   ]
  },
  {
   "cell_type": "code",
   "execution_count": null,
   "metadata": {},
   "outputs": [],
   "source": [
    "with open(\"object_condensation_default.yaml\") as f:\n",
    "    hparams = yaml.load(f, Loader=yaml.FullLoader)\n",
    "if hparams[\"use_toy\"]:\n",
    "    hparams[\"regime\"] = []\n",
    "    hparams[\"spatial_channels\"] = 2\n",
    "\n",
    "model = HierarchicalGNN(hparams)\n",
    "model_path = \"/global/cfs/cdirs/m3443/usr/ryanliu/ITk_object_condensation/ITk_object_condensation/1org0kz3/checkpoints/last.ckpt\"\n",
    "model = load_from_pretrained(model, model_path)\n",
    "model.setup(\"test\")\n",
    "trainer = Trainer(gpus=1)\n",
    "test_results = trainer.test(model, model.test_dataloader())"
   ]
  },
  {
   "cell_type": "code",
   "execution_count": null,
   "metadata": {},
   "outputs": [],
   "source": [
    "print(test_results)"
   ]
  },
  {
   "cell_type": "code",
   "execution_count": null,
   "metadata": {},
   "outputs": [],
   "source": []
  }
 ],
 "metadata": {
  "kernelspec": {
   "display_name": "RAPIDs",
   "language": "python",
   "name": "rapids"
  },
  "language_info": {
   "codemirror_mode": {
    "name": "ipython",
    "version": 3
   },
   "file_extension": ".py",
   "mimetype": "text/x-python",
   "name": "python",
   "nbconvert_exporter": "python",
   "pygments_lexer": "ipython3",
   "version": "3.8.13"
  }
 },
 "nbformat": 4,
 "nbformat_minor": 4
}
