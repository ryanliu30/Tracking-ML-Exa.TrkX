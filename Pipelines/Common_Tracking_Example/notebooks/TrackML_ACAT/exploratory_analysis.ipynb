{
 "cells": [
  {
   "cell_type": "code",
   "execution_count": 1,
   "id": "96e5bcbd-36fd-4432-88b9-f6c1af3a4b27",
   "metadata": {},
   "outputs": [],
   "source": [
    "import torch\n",
    "import cuml\n",
    "import cugraph\n",
    "import cudf"
   ]
  },
  {
   "cell_type": "code",
   "execution_count": 2,
   "id": "0cab11f3-7a0e-472d-946c-9d7972015f06",
   "metadata": {},
   "outputs": [],
   "source": [
    "event = torch.load(\"/global/cfs/cdirs/m3443/usr/ryanliu/TrackML_data/filter_processed/train/1000\").cpu()\n",
    "event.nhits = event.pid.unique(return_counts = True)[1][event.pid.unique(return_inverse = True)[1]]\n",
    "event.nhits[event.pid == 0] = 0"
   ]
  },
  {
   "cell_type": "code",
   "execution_count": 3,
   "id": "9635a44c-9ddf-46d5-ae38-c92fb00afe97",
   "metadata": {},
   "outputs": [
    {
     "data": {
      "text/plain": [
       "torch.Size([9829])"
      ]
     },
     "execution_count": 3,
     "metadata": {},
     "output_type": "execute_result"
    }
   ],
   "source": [
    "event.pid[event.edge_index.unique()].unique().shape"
   ]
  },
  {
   "cell_type": "code",
   "execution_count": 9,
   "id": "e5ad29d0-c32e-4708-bdc0-b5e47c05842a",
   "metadata": {},
   "outputs": [],
   "source": [
    "import matplotlib.pyplot as plt"
   ]
  },
  {
   "cell_type": "code",
   "execution_count": 12,
   "id": "57013363-f669-4a52-9a59-fb7374dc7970",
   "metadata": {},
   "outputs": [],
   "source": [
    "connectivity = event.edge_index.unique(return_counts = True)[1]"
   ]
  },
  {
   "cell_type": "code",
   "execution_count": 15,
   "id": "d7b95c32-c952-4e99-8f3b-e6fab4f121e7",
   "metadata": {},
   "outputs": [
    {
     "data": {
      "image/png": "[encoded data removed]",
      "text/plain": [
       "<Figure size 720x360 with 1 Axes>"
      ]
     },
     "metadata": {
      "needs_background": "light"
     },
     "output_type": "display_data"
    }
   ],
   "source": [
    "plt.figure(figsize = (10, 5))\n",
    "plt.hist(connectivity, bins = range(10))\n",
    "plt.show()"
   ]
  },
  {
   "cell_type": "code",
   "execution_count": 44,
   "id": "bf369133-3f5e-4553-9c5e-edc346144791",
   "metadata": {},
   "outputs": [
    {
     "data": {
      "image/png": "[encoded data removed]",
      "text/plain": [
       "<Figure size 720x360 with 1 Axes>"
      ]
     },
     "metadata": {
      "needs_background": "light"
     },
     "output_type": "display_data"
    }
   ],
   "source": [
    "G = cugraph.Graph()\n",
    "G.from_cudf_edgelist(cudf.DataFrame({\"src\": event.edge_index[0].numpy(), \"dst\": event.edge_index[1].numpy()}), source = \"src\", destination = \"dst\")\n",
    "labels = -torch.ones(event.pid.shape).long()\n",
    "labels[torch.as_tensor(cugraph.connected_components(G)[\"vertex\"])] = torch.as_tensor(cugraph.connected_components(G)[\"labels\"]).long()\n",
    "plt.figure(figsize = (10, 5))\n",
    "plt.hist(labels.unique(return_counts = True)[1], bins = range(10))\n",
    "plt.show()"
   ]
  },
  {
   "cell_type": "code",
   "execution_count": 55,
   "id": "bce69b04-adaa-4166-b88a-a7065f60ac55",
   "metadata": {},
   "outputs": [
    {
     "name": "stdout",
     "output_type": "stream",
     "text": [
      "tensor(2032)\n",
      "tensor(78)\n"
     ]
    }
   ],
   "source": [
    "nhits = labels.unique(return_counts = True)[1][labels.unique(return_inverse = True)[1]]\n",
    "print(((event.pt[nhits <=2] > 1) & (event.pid[nhits <=2] != 0) & (event.nhits[nhits <= 2] >= 5)).sum())\n",
    "print(((event.pt[labels == -1] > 1) & (event.pid[labels == -1] != 0) & (event.nhits[labels == -1] >= 5)).sum())"
   ]
  },
  {
   "cell_type": "code",
   "execution_count": null,
   "id": "e6d67b2d-7c4b-47e4-805b-0baed28004cf",
   "metadata": {},
   "outputs": [],
   "source": []
  }
 ],
 "metadata": {
  "kernelspec": {
   "display_name": "RAPIDs",
   "language": "python",
   "name": "rapids"
  },
  "language_info": {
   "codemirror_mode": {
    "name": "ipython",
    "version": 3
   },
   "file_extension": ".py",
   "mimetype": "text/x-python",
   "name": "python",
   "nbconvert_exporter": "python",
   "pygments_lexer": "ipython3",
   "version": "3.8.13"
  }
 },
 "nbformat": 4,
 "nbformat_minor": 5
}
